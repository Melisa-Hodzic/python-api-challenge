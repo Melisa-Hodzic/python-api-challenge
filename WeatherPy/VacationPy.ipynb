{
 "cells": [
  {
   "cell_type": "markdown",
   "metadata": {},
   "source": [
    "# VacationPy\n",
    "---\n",
    "\n",
    "## Starter Code to Import Libraries and Load the Weather and Coordinates Data"
   ]
  },
  {
   "cell_type": "code",
   "execution_count": 25,
   "metadata": {},
   "outputs": [
    {
     "data": {
      "text/html": [
       "<script type=\"esms-options\">{\"shimMode\": true}</script><style>*[data-root-id],\n",
       "*[data-root-id] > * {\n",
       "  box-sizing: border-box;\n",
       "  font-family: var(--jp-ui-font-family);\n",
       "  font-size: var(--jp-ui-font-size1);\n",
       "  color: var(--vscode-editor-foreground, var(--jp-ui-font-color1));\n",
       "}\n",
       "\n",
       "/* Override VSCode background color */\n",
       ".cell-output-ipywidget-background:has(\n",
       "    > .cell-output-ipywidget-background > .lm-Widget > *[data-root-id]\n",
       "  ),\n",
       ".cell-output-ipywidget-background:has(> .lm-Widget > *[data-root-id]) {\n",
       "  background-color: transparent !important;\n",
       "}\n",
       "</style>"
      ]
     },
     "metadata": {},
     "output_type": "display_data"
    },
    {
     "data": {
      "application/javascript": [
       "(function(root) {\n",
       "  function now() {\n",
       "    return new Date();\n",
       "  }\n",
       "\n",
       "  const force = true;\n",
       "  const py_version = '3.6.0'.replace('rc', '-rc.').replace('.dev', '-dev.');\n",
       "  const reloading = false;\n",
       "  const Bokeh = root.Bokeh;\n",
       "\n",
       "  // Set a timeout for this load but only if we are not already initializing\n",
       "  if (typeof (root._bokeh_timeout) === \"undefined\" || (force || !root._bokeh_is_initializing)) {\n",
       "    root._bokeh_timeout = Date.now() + 5000;\n",
       "    root._bokeh_failed_load = false;\n",
       "  }\n",
       "\n",
       "  function run_callbacks() {\n",
       "    try {\n",
       "      root._bokeh_onload_callbacks.forEach(function(callback) {\n",
       "        if (callback != null)\n",
       "          callback();\n",
       "      });\n",
       "    } finally {\n",
       "      delete root._bokeh_onload_callbacks;\n",
       "    }\n",
       "    console.debug(\"Bokeh: all callbacks have finished\");\n",
       "  }\n",
       "\n",
       "  function load_libs(css_urls, js_urls, js_modules, js_exports, callback) {\n",
       "    if (css_urls == null) css_urls = [];\n",
       "    if (js_urls == null) js_urls = [];\n",
       "    if (js_modules == null) js_modules = [];\n",
       "    if (js_exports == null) js_exports = {};\n",
       "\n",
       "    root._bokeh_onload_callbacks.push(callback);\n",
       "\n",
       "    if (root._bokeh_is_loading > 0) {\n",
       "      // Don't load bokeh if it is still initializing\n",
       "      console.debug(\"Bokeh: BokehJS is being loaded, scheduling callback at\", now());\n",
       "      return null;\n",
       "    } else if (js_urls.length === 0 && js_modules.length === 0 && Object.keys(js_exports).length === 0) {\n",
       "      // There is nothing to load\n",
       "      run_callbacks();\n",
       "      return null;\n",
       "    }\n",
       "\n",
       "    function on_load() {\n",
       "      root._bokeh_is_loading--;\n",
       "      if (root._bokeh_is_loading === 0) {\n",
       "        console.debug(\"Bokeh: all BokehJS libraries/stylesheets loaded\");\n",
       "        run_callbacks()\n",
       "      }\n",
       "    }\n",
       "    window._bokeh_on_load = on_load\n",
       "\n",
       "    function on_error(e) {\n",
       "      const src_el = e.srcElement\n",
       "      console.error(\"failed to load \" + (src_el.href || src_el.src));\n",
       "    }\n",
       "\n",
       "    const skip = [];\n",
       "    if (window.requirejs) {\n",
       "      window.requirejs.config({'packages': {}, 'paths': {}, 'shim': {}});\n",
       "      root._bokeh_is_loading = css_urls.length + 0;\n",
       "    } else {\n",
       "      root._bokeh_is_loading = css_urls.length + js_urls.length + js_modules.length + Object.keys(js_exports).length;\n",
       "    }\n",
       "\n",
       "    const existing_stylesheets = []\n",
       "    const links = document.getElementsByTagName('link')\n",
       "    for (let i = 0; i < links.length; i++) {\n",
       "      const link = links[i]\n",
       "      if (link.href != null) {\n",
       "        existing_stylesheets.push(link.href)\n",
       "      }\n",
       "    }\n",
       "    for (let i = 0; i < css_urls.length; i++) {\n",
       "      const url = css_urls[i];\n",
       "      const escaped = encodeURI(url)\n",
       "      if (existing_stylesheets.indexOf(escaped) !== -1) {\n",
       "        on_load()\n",
       "        continue;\n",
       "      }\n",
       "      const element = document.createElement(\"link\");\n",
       "      element.onload = on_load;\n",
       "      element.onerror = on_error;\n",
       "      element.rel = \"stylesheet\";\n",
       "      element.type = \"text/css\";\n",
       "      element.href = url;\n",
       "      console.debug(\"Bokeh: injecting link tag for BokehJS stylesheet: \", url);\n",
       "      document.body.appendChild(element);\n",
       "    }    var existing_scripts = []\n",
       "    const scripts = document.getElementsByTagName('script')\n",
       "    for (let i = 0; i < scripts.length; i++) {\n",
       "      var script = scripts[i]\n",
       "      if (script.src != null) {\n",
       "        existing_scripts.push(script.src)\n",
       "      }\n",
       "    }\n",
       "    for (let i = 0; i < js_urls.length; i++) {\n",
       "      const url = js_urls[i];\n",
       "      const escaped = encodeURI(url)\n",
       "      if (skip.indexOf(escaped) !== -1 || existing_scripts.indexOf(escaped) !== -1) {\n",
       "        if (!window.requirejs) {\n",
       "          on_load();\n",
       "        }\n",
       "        continue;\n",
       "      }\n",
       "      const element = document.createElement('script');\n",
       "      element.onload = on_load;\n",
       "      element.onerror = on_error;\n",
       "      element.async = false;\n",
       "      element.src = url;\n",
       "      console.debug(\"Bokeh: injecting script tag for BokehJS library: \", url);\n",
       "      document.head.appendChild(element);\n",
       "    }\n",
       "    for (let i = 0; i < js_modules.length; i++) {\n",
       "      const url = js_modules[i];\n",
       "      const escaped = encodeURI(url)\n",
       "      if (skip.indexOf(escaped) !== -1 || existing_scripts.indexOf(escaped) !== -1) {\n",
       "        if (!window.requirejs) {\n",
       "          on_load();\n",
       "        }\n",
       "        continue;\n",
       "      }\n",
       "      var element = document.createElement('script');\n",
       "      element.onload = on_load;\n",
       "      element.onerror = on_error;\n",
       "      element.async = false;\n",
       "      element.src = url;\n",
       "      element.type = \"module\";\n",
       "      console.debug(\"Bokeh: injecting script tag for BokehJS library: \", url);\n",
       "      document.head.appendChild(element);\n",
       "    }\n",
       "    for (const name in js_exports) {\n",
       "      const url = js_exports[name];\n",
       "      const escaped = encodeURI(url)\n",
       "      if (skip.indexOf(escaped) >= 0 || root[name] != null) {\n",
       "        if (!window.requirejs) {\n",
       "          on_load();\n",
       "        }\n",
       "        continue;\n",
       "      }\n",
       "      var element = document.createElement('script');\n",
       "      element.onerror = on_error;\n",
       "      element.async = false;\n",
       "      element.type = \"module\";\n",
       "      console.debug(\"Bokeh: injecting script tag for BokehJS library: \", url);\n",
       "      element.textContent = `\n",
       "      import ${name} from \"${url}\"\n",
       "      window.${name} = ${name}\n",
       "      window._bokeh_on_load()\n",
       "      `\n",
       "      document.head.appendChild(element);\n",
       "    }\n",
       "    if (!js_urls.length && !js_modules.length) {\n",
       "      on_load()\n",
       "    }\n",
       "  };\n",
       "\n",
       "  function inject_raw_css(css) {\n",
       "    const element = document.createElement(\"style\");\n",
       "    element.appendChild(document.createTextNode(css));\n",
       "    document.body.appendChild(element);\n",
       "  }\n",
       "\n",
       "  const js_urls = [\"https://cdn.holoviz.org/panel/1.5.2/dist/bundled/reactiveesm/es-module-shims@^1.10.0/dist/es-module-shims.min.js\", \"https://cdn.bokeh.org/bokeh/release/bokeh-3.6.0.min.js\", \"https://cdn.bokeh.org/bokeh/release/bokeh-gl-3.6.0.min.js\", \"https://cdn.bokeh.org/bokeh/release/bokeh-widgets-3.6.0.min.js\", \"https://cdn.bokeh.org/bokeh/release/bokeh-tables-3.6.0.min.js\", \"https://cdn.holoviz.org/panel/1.5.2/dist/panel.min.js\"];\n",
       "  const js_modules = [];\n",
       "  const js_exports = {};\n",
       "  const css_urls = [];\n",
       "  const inline_js = [    function(Bokeh) {\n",
       "      Bokeh.set_log_level(\"info\");\n",
       "    },\n",
       "function(Bokeh) {} // ensure no trailing comma for IE\n",
       "  ];\n",
       "\n",
       "  function run_inline_js() {\n",
       "    if ((root.Bokeh !== undefined) || (force === true)) {\n",
       "      for (let i = 0; i < inline_js.length; i++) {\n",
       "        try {\n",
       "          inline_js[i].call(root, root.Bokeh);\n",
       "        } catch(e) {\n",
       "          if (!reloading) {\n",
       "            throw e;\n",
       "          }\n",
       "        }\n",
       "      }\n",
       "      // Cache old bokeh versions\n",
       "      if (Bokeh != undefined && !reloading) {\n",
       "        var NewBokeh = root.Bokeh;\n",
       "        if (Bokeh.versions === undefined) {\n",
       "          Bokeh.versions = new Map();\n",
       "        }\n",
       "        if (NewBokeh.version !== Bokeh.version) {\n",
       "          Bokeh.versions.set(NewBokeh.version, NewBokeh)\n",
       "        }\n",
       "        root.Bokeh = Bokeh;\n",
       "      }\n",
       "    } else if (Date.now() < root._bokeh_timeout) {\n",
       "      setTimeout(run_inline_js, 100);\n",
       "    } else if (!root._bokeh_failed_load) {\n",
       "      console.log(\"Bokeh: BokehJS failed to load within specified timeout.\");\n",
       "      root._bokeh_failed_load = true;\n",
       "    }\n",
       "    root._bokeh_is_initializing = false\n",
       "  }\n",
       "\n",
       "  function load_or_wait() {\n",
       "    // Implement a backoff loop that tries to ensure we do not load multiple\n",
       "    // versions of Bokeh and its dependencies at the same time.\n",
       "    // In recent versions we use the root._bokeh_is_initializing flag\n",
       "    // to determine whether there is an ongoing attempt to initialize\n",
       "    // bokeh, however for backward compatibility we also try to ensure\n",
       "    // that we do not start loading a newer (Panel>=1.0 and Bokeh>3) version\n",
       "    // before older versions are fully initialized.\n",
       "    if (root._bokeh_is_initializing && Date.now() > root._bokeh_timeout) {\n",
       "      // If the timeout and bokeh was not successfully loaded we reset\n",
       "      // everything and try loading again\n",
       "      root._bokeh_timeout = Date.now() + 5000;\n",
       "      root._bokeh_is_initializing = false;\n",
       "      root._bokeh_onload_callbacks = undefined;\n",
       "      root._bokeh_is_loading = 0\n",
       "      console.log(\"Bokeh: BokehJS was loaded multiple times but one version failed to initialize.\");\n",
       "      load_or_wait();\n",
       "    } else if (root._bokeh_is_initializing || (typeof root._bokeh_is_initializing === \"undefined\" && root._bokeh_onload_callbacks !== undefined)) {\n",
       "      setTimeout(load_or_wait, 100);\n",
       "    } else {\n",
       "      root._bokeh_is_initializing = true\n",
       "      root._bokeh_onload_callbacks = []\n",
       "      const bokeh_loaded = root.Bokeh != null && (root.Bokeh.version === py_version || (root.Bokeh.versions !== undefined && root.Bokeh.versions.has(py_version)));\n",
       "      if (!reloading && !bokeh_loaded) {\n",
       "        if (root.Bokeh) {\n",
       "          root.Bokeh = undefined;\n",
       "        }\n",
       "        console.debug(\"Bokeh: BokehJS not loaded, scheduling load and callback at\", now());\n",
       "      }\n",
       "      load_libs(css_urls, js_urls, js_modules, js_exports, function() {\n",
       "        console.debug(\"Bokeh: BokehJS plotting callback run at\", now());\n",
       "        run_inline_js();\n",
       "      });\n",
       "    }\n",
       "  }\n",
       "  // Give older versions of the autoload script a head-start to ensure\n",
       "  // they initialize before we start loading newer version.\n",
       "  setTimeout(load_or_wait, 100)\n",
       "}(window));"
      ],
      "application/vnd.holoviews_load.v0+json": "(function(root) {\n  function now() {\n    return new Date();\n  }\n\n  const force = true;\n  const py_version = '3.6.0'.replace('rc', '-rc.').replace('.dev', '-dev.');\n  const reloading = false;\n  const Bokeh = root.Bokeh;\n\n  // Set a timeout for this load but only if we are not already initializing\n  if (typeof (root._bokeh_timeout) === \"undefined\" || (force || !root._bokeh_is_initializing)) {\n    root._bokeh_timeout = Date.now() + 5000;\n    root._bokeh_failed_load = false;\n  }\n\n  function run_callbacks() {\n    try {\n      root._bokeh_onload_callbacks.forEach(function(callback) {\n        if (callback != null)\n          callback();\n      });\n    } finally {\n      delete root._bokeh_onload_callbacks;\n    }\n    console.debug(\"Bokeh: all callbacks have finished\");\n  }\n\n  function load_libs(css_urls, js_urls, js_modules, js_exports, callback) {\n    if (css_urls == null) css_urls = [];\n    if (js_urls == null) js_urls = [];\n    if (js_modules == null) js_modules = [];\n    if (js_exports == null) js_exports = {};\n\n    root._bokeh_onload_callbacks.push(callback);\n\n    if (root._bokeh_is_loading > 0) {\n      // Don't load bokeh if it is still initializing\n      console.debug(\"Bokeh: BokehJS is being loaded, scheduling callback at\", now());\n      return null;\n    } else if (js_urls.length === 0 && js_modules.length === 0 && Object.keys(js_exports).length === 0) {\n      // There is nothing to load\n      run_callbacks();\n      return null;\n    }\n\n    function on_load() {\n      root._bokeh_is_loading--;\n      if (root._bokeh_is_loading === 0) {\n        console.debug(\"Bokeh: all BokehJS libraries/stylesheets loaded\");\n        run_callbacks()\n      }\n    }\n    window._bokeh_on_load = on_load\n\n    function on_error(e) {\n      const src_el = e.srcElement\n      console.error(\"failed to load \" + (src_el.href || src_el.src));\n    }\n\n    const skip = [];\n    if (window.requirejs) {\n      window.requirejs.config({'packages': {}, 'paths': {}, 'shim': {}});\n      root._bokeh_is_loading = css_urls.length + 0;\n    } else {\n      root._bokeh_is_loading = css_urls.length + js_urls.length + js_modules.length + Object.keys(js_exports).length;\n    }\n\n    const existing_stylesheets = []\n    const links = document.getElementsByTagName('link')\n    for (let i = 0; i < links.length; i++) {\n      const link = links[i]\n      if (link.href != null) {\n        existing_stylesheets.push(link.href)\n      }\n    }\n    for (let i = 0; i < css_urls.length; i++) {\n      const url = css_urls[i];\n      const escaped = encodeURI(url)\n      if (existing_stylesheets.indexOf(escaped) !== -1) {\n        on_load()\n        continue;\n      }\n      const element = document.createElement(\"link\");\n      element.onload = on_load;\n      element.onerror = on_error;\n      element.rel = \"stylesheet\";\n      element.type = \"text/css\";\n      element.href = url;\n      console.debug(\"Bokeh: injecting link tag for BokehJS stylesheet: \", url);\n      document.body.appendChild(element);\n    }    var existing_scripts = []\n    const scripts = document.getElementsByTagName('script')\n    for (let i = 0; i < scripts.length; i++) {\n      var script = scripts[i]\n      if (script.src != null) {\n        existing_scripts.push(script.src)\n      }\n    }\n    for (let i = 0; i < js_urls.length; i++) {\n      const url = js_urls[i];\n      const escaped = encodeURI(url)\n      if (skip.indexOf(escaped) !== -1 || existing_scripts.indexOf(escaped) !== -1) {\n        if (!window.requirejs) {\n          on_load();\n        }\n        continue;\n      }\n      const element = document.createElement('script');\n      element.onload = on_load;\n      element.onerror = on_error;\n      element.async = false;\n      element.src = url;\n      console.debug(\"Bokeh: injecting script tag for BokehJS library: \", url);\n      document.head.appendChild(element);\n    }\n    for (let i = 0; i < js_modules.length; i++) {\n      const url = js_modules[i];\n      const escaped = encodeURI(url)\n      if (skip.indexOf(escaped) !== -1 || existing_scripts.indexOf(escaped) !== -1) {\n        if (!window.requirejs) {\n          on_load();\n        }\n        continue;\n      }\n      var element = document.createElement('script');\n      element.onload = on_load;\n      element.onerror = on_error;\n      element.async = false;\n      element.src = url;\n      element.type = \"module\";\n      console.debug(\"Bokeh: injecting script tag for BokehJS library: \", url);\n      document.head.appendChild(element);\n    }\n    for (const name in js_exports) {\n      const url = js_exports[name];\n      const escaped = encodeURI(url)\n      if (skip.indexOf(escaped) >= 0 || root[name] != null) {\n        if (!window.requirejs) {\n          on_load();\n        }\n        continue;\n      }\n      var element = document.createElement('script');\n      element.onerror = on_error;\n      element.async = false;\n      element.type = \"module\";\n      console.debug(\"Bokeh: injecting script tag for BokehJS library: \", url);\n      element.textContent = `\n      import ${name} from \"${url}\"\n      window.${name} = ${name}\n      window._bokeh_on_load()\n      `\n      document.head.appendChild(element);\n    }\n    if (!js_urls.length && !js_modules.length) {\n      on_load()\n    }\n  };\n\n  function inject_raw_css(css) {\n    const element = document.createElement(\"style\");\n    element.appendChild(document.createTextNode(css));\n    document.body.appendChild(element);\n  }\n\n  const js_urls = [\"https://cdn.holoviz.org/panel/1.5.2/dist/bundled/reactiveesm/es-module-shims@^1.10.0/dist/es-module-shims.min.js\", \"https://cdn.bokeh.org/bokeh/release/bokeh-3.6.0.min.js\", \"https://cdn.bokeh.org/bokeh/release/bokeh-gl-3.6.0.min.js\", \"https://cdn.bokeh.org/bokeh/release/bokeh-widgets-3.6.0.min.js\", \"https://cdn.bokeh.org/bokeh/release/bokeh-tables-3.6.0.min.js\", \"https://cdn.holoviz.org/panel/1.5.2/dist/panel.min.js\"];\n  const js_modules = [];\n  const js_exports = {};\n  const css_urls = [];\n  const inline_js = [    function(Bokeh) {\n      Bokeh.set_log_level(\"info\");\n    },\nfunction(Bokeh) {} // ensure no trailing comma for IE\n  ];\n\n  function run_inline_js() {\n    if ((root.Bokeh !== undefined) || (force === true)) {\n      for (let i = 0; i < inline_js.length; i++) {\n        try {\n          inline_js[i].call(root, root.Bokeh);\n        } catch(e) {\n          if (!reloading) {\n            throw e;\n          }\n        }\n      }\n      // Cache old bokeh versions\n      if (Bokeh != undefined && !reloading) {\n        var NewBokeh = root.Bokeh;\n        if (Bokeh.versions === undefined) {\n          Bokeh.versions = new Map();\n        }\n        if (NewBokeh.version !== Bokeh.version) {\n          Bokeh.versions.set(NewBokeh.version, NewBokeh)\n        }\n        root.Bokeh = Bokeh;\n      }\n    } else if (Date.now() < root._bokeh_timeout) {\n      setTimeout(run_inline_js, 100);\n    } else if (!root._bokeh_failed_load) {\n      console.log(\"Bokeh: BokehJS failed to load within specified timeout.\");\n      root._bokeh_failed_load = true;\n    }\n    root._bokeh_is_initializing = false\n  }\n\n  function load_or_wait() {\n    // Implement a backoff loop that tries to ensure we do not load multiple\n    // versions of Bokeh and its dependencies at the same time.\n    // In recent versions we use the root._bokeh_is_initializing flag\n    // to determine whether there is an ongoing attempt to initialize\n    // bokeh, however for backward compatibility we also try to ensure\n    // that we do not start loading a newer (Panel>=1.0 and Bokeh>3) version\n    // before older versions are fully initialized.\n    if (root._bokeh_is_initializing && Date.now() > root._bokeh_timeout) {\n      // If the timeout and bokeh was not successfully loaded we reset\n      // everything and try loading again\n      root._bokeh_timeout = Date.now() + 5000;\n      root._bokeh_is_initializing = false;\n      root._bokeh_onload_callbacks = undefined;\n      root._bokeh_is_loading = 0\n      console.log(\"Bokeh: BokehJS was loaded multiple times but one version failed to initialize.\");\n      load_or_wait();\n    } else if (root._bokeh_is_initializing || (typeof root._bokeh_is_initializing === \"undefined\" && root._bokeh_onload_callbacks !== undefined)) {\n      setTimeout(load_or_wait, 100);\n    } else {\n      root._bokeh_is_initializing = true\n      root._bokeh_onload_callbacks = []\n      const bokeh_loaded = root.Bokeh != null && (root.Bokeh.version === py_version || (root.Bokeh.versions !== undefined && root.Bokeh.versions.has(py_version)));\n      if (!reloading && !bokeh_loaded) {\n        if (root.Bokeh) {\n          root.Bokeh = undefined;\n        }\n        console.debug(\"Bokeh: BokehJS not loaded, scheduling load and callback at\", now());\n      }\n      load_libs(css_urls, js_urls, js_modules, js_exports, function() {\n        console.debug(\"Bokeh: BokehJS plotting callback run at\", now());\n        run_inline_js();\n      });\n    }\n  }\n  // Give older versions of the autoload script a head-start to ensure\n  // they initialize before we start loading newer version.\n  setTimeout(load_or_wait, 100)\n}(window));"
     },
     "metadata": {},
     "output_type": "display_data"
    },
    {
     "data": {
      "application/javascript": [
       "\n",
       "if ((window.PyViz === undefined) || (window.PyViz instanceof HTMLElement)) {\n",
       "  window.PyViz = {comms: {}, comm_status:{}, kernels:{}, receivers: {}, plot_index: []}\n",
       "}\n",
       "\n",
       "\n",
       "    function JupyterCommManager() {\n",
       "    }\n",
       "\n",
       "    JupyterCommManager.prototype.register_target = function(plot_id, comm_id, msg_handler) {\n",
       "      if (window.comm_manager || ((window.Jupyter !== undefined) && (Jupyter.notebook.kernel != null))) {\n",
       "        var comm_manager = window.comm_manager || Jupyter.notebook.kernel.comm_manager;\n",
       "        comm_manager.register_target(comm_id, function(comm) {\n",
       "          comm.on_msg(msg_handler);\n",
       "        });\n",
       "      } else if ((plot_id in window.PyViz.kernels) && (window.PyViz.kernels[plot_id])) {\n",
       "        window.PyViz.kernels[plot_id].registerCommTarget(comm_id, function(comm) {\n",
       "          comm.onMsg = msg_handler;\n",
       "        });\n",
       "      } else if (typeof google != 'undefined' && google.colab.kernel != null) {\n",
       "        google.colab.kernel.comms.registerTarget(comm_id, (comm) => {\n",
       "          var messages = comm.messages[Symbol.asyncIterator]();\n",
       "          function processIteratorResult(result) {\n",
       "            var message = result.value;\n",
       "            console.log(message)\n",
       "            var content = {data: message.data, comm_id};\n",
       "            var buffers = []\n",
       "            for (var buffer of message.buffers || []) {\n",
       "              buffers.push(new DataView(buffer))\n",
       "            }\n",
       "            var metadata = message.metadata || {};\n",
       "            var msg = {content, buffers, metadata}\n",
       "            msg_handler(msg);\n",
       "            return messages.next().then(processIteratorResult);\n",
       "          }\n",
       "          return messages.next().then(processIteratorResult);\n",
       "        })\n",
       "      }\n",
       "    }\n",
       "\n",
       "    JupyterCommManager.prototype.get_client_comm = function(plot_id, comm_id, msg_handler) {\n",
       "      if (comm_id in window.PyViz.comms) {\n",
       "        return window.PyViz.comms[comm_id];\n",
       "      } else if (window.comm_manager || ((window.Jupyter !== undefined) && (Jupyter.notebook.kernel != null))) {\n",
       "        var comm_manager = window.comm_manager || Jupyter.notebook.kernel.comm_manager;\n",
       "        var comm = comm_manager.new_comm(comm_id, {}, {}, {}, comm_id);\n",
       "        if (msg_handler) {\n",
       "          comm.on_msg(msg_handler);\n",
       "        }\n",
       "      } else if ((plot_id in window.PyViz.kernels) && (window.PyViz.kernels[plot_id])) {\n",
       "        var comm = window.PyViz.kernels[plot_id].connectToComm(comm_id);\n",
       "        comm.open();\n",
       "        if (msg_handler) {\n",
       "          comm.onMsg = msg_handler;\n",
       "        }\n",
       "      } else if (typeof google != 'undefined' && google.colab.kernel != null) {\n",
       "        var comm_promise = google.colab.kernel.comms.open(comm_id)\n",
       "        comm_promise.then((comm) => {\n",
       "          window.PyViz.comms[comm_id] = comm;\n",
       "          if (msg_handler) {\n",
       "            var messages = comm.messages[Symbol.asyncIterator]();\n",
       "            function processIteratorResult(result) {\n",
       "              var message = result.value;\n",
       "              var content = {data: message.data};\n",
       "              var metadata = message.metadata || {comm_id};\n",
       "              var msg = {content, metadata}\n",
       "              msg_handler(msg);\n",
       "              return messages.next().then(processIteratorResult);\n",
       "            }\n",
       "            return messages.next().then(processIteratorResult);\n",
       "          }\n",
       "        }) \n",
       "        var sendClosure = (data, metadata, buffers, disposeOnDone) => {\n",
       "          return comm_promise.then((comm) => {\n",
       "            comm.send(data, metadata, buffers, disposeOnDone);\n",
       "          });\n",
       "        };\n",
       "        var comm = {\n",
       "          send: sendClosure\n",
       "        };\n",
       "      }\n",
       "      window.PyViz.comms[comm_id] = comm;\n",
       "      return comm;\n",
       "    }\n",
       "    window.PyViz.comm_manager = new JupyterCommManager();\n",
       "    \n",
       "\n",
       "\n",
       "var JS_MIME_TYPE = 'application/javascript';\n",
       "var HTML_MIME_TYPE = 'text/html';\n",
       "var EXEC_MIME_TYPE = 'application/vnd.holoviews_exec.v0+json';\n",
       "var CLASS_NAME = 'output';\n",
       "\n",
       "/**\n",
       " * Render data to the DOM node\n",
       " */\n",
       "function render(props, node) {\n",
       "  var div = document.createElement(\"div\");\n",
       "  var script = document.createElement(\"script\");\n",
       "  node.appendChild(div);\n",
       "  node.appendChild(script);\n",
       "}\n",
       "\n",
       "/**\n",
       " * Handle when a new output is added\n",
       " */\n",
       "function handle_add_output(event, handle) {\n",
       "  var output_area = handle.output_area;\n",
       "  var output = handle.output;\n",
       "  if ((output.data == undefined) || (!output.data.hasOwnProperty(EXEC_MIME_TYPE))) {\n",
       "    return\n",
       "  }\n",
       "  var id = output.metadata[EXEC_MIME_TYPE][\"id\"];\n",
       "  var toinsert = output_area.element.find(\".\" + CLASS_NAME.split(' ')[0]);\n",
       "  if (id !== undefined) {\n",
       "    var nchildren = toinsert.length;\n",
       "    var html_node = toinsert[nchildren-1].children[0];\n",
       "    html_node.innerHTML = output.data[HTML_MIME_TYPE];\n",
       "    var scripts = [];\n",
       "    var nodelist = html_node.querySelectorAll(\"script\");\n",
       "    for (var i in nodelist) {\n",
       "      if (nodelist.hasOwnProperty(i)) {\n",
       "        scripts.push(nodelist[i])\n",
       "      }\n",
       "    }\n",
       "\n",
       "    scripts.forEach( function (oldScript) {\n",
       "      var newScript = document.createElement(\"script\");\n",
       "      var attrs = [];\n",
       "      var nodemap = oldScript.attributes;\n",
       "      for (var j in nodemap) {\n",
       "        if (nodemap.hasOwnProperty(j)) {\n",
       "          attrs.push(nodemap[j])\n",
       "        }\n",
       "      }\n",
       "      attrs.forEach(function(attr) { newScript.setAttribute(attr.name, attr.value) });\n",
       "      newScript.appendChild(document.createTextNode(oldScript.innerHTML));\n",
       "      oldScript.parentNode.replaceChild(newScript, oldScript);\n",
       "    });\n",
       "    if (JS_MIME_TYPE in output.data) {\n",
       "      toinsert[nchildren-1].children[1].textContent = output.data[JS_MIME_TYPE];\n",
       "    }\n",
       "    output_area._hv_plot_id = id;\n",
       "    if ((window.Bokeh !== undefined) && (id in Bokeh.index)) {\n",
       "      window.PyViz.plot_index[id] = Bokeh.index[id];\n",
       "    } else {\n",
       "      window.PyViz.plot_index[id] = null;\n",
       "    }\n",
       "  } else if (output.metadata[EXEC_MIME_TYPE][\"server_id\"] !== undefined) {\n",
       "    var bk_div = document.createElement(\"div\");\n",
       "    bk_div.innerHTML = output.data[HTML_MIME_TYPE];\n",
       "    var script_attrs = bk_div.children[0].attributes;\n",
       "    for (var i = 0; i < script_attrs.length; i++) {\n",
       "      toinsert[toinsert.length - 1].childNodes[1].setAttribute(script_attrs[i].name, script_attrs[i].value);\n",
       "    }\n",
       "    // store reference to server id on output_area\n",
       "    output_area._bokeh_server_id = output.metadata[EXEC_MIME_TYPE][\"server_id\"];\n",
       "  }\n",
       "}\n",
       "\n",
       "/**\n",
       " * Handle when an output is cleared or removed\n",
       " */\n",
       "function handle_clear_output(event, handle) {\n",
       "  var id = handle.cell.output_area._hv_plot_id;\n",
       "  var server_id = handle.cell.output_area._bokeh_server_id;\n",
       "  if (((id === undefined) || !(id in PyViz.plot_index)) && (server_id !== undefined)) { return; }\n",
       "  var comm = window.PyViz.comm_manager.get_client_comm(\"hv-extension-comm\", \"hv-extension-comm\", function () {});\n",
       "  if (server_id !== null) {\n",
       "    comm.send({event_type: 'server_delete', 'id': server_id});\n",
       "    return;\n",
       "  } else if (comm !== null) {\n",
       "    comm.send({event_type: 'delete', 'id': id});\n",
       "  }\n",
       "  delete PyViz.plot_index[id];\n",
       "  if ((window.Bokeh !== undefined) & (id in window.Bokeh.index)) {\n",
       "    var doc = window.Bokeh.index[id].model.document\n",
       "    doc.clear();\n",
       "    const i = window.Bokeh.documents.indexOf(doc);\n",
       "    if (i > -1) {\n",
       "      window.Bokeh.documents.splice(i, 1);\n",
       "    }\n",
       "  }\n",
       "}\n",
       "\n",
       "/**\n",
       " * Handle kernel restart event\n",
       " */\n",
       "function handle_kernel_cleanup(event, handle) {\n",
       "  delete PyViz.comms[\"hv-extension-comm\"];\n",
       "  window.PyViz.plot_index = {}\n",
       "}\n",
       "\n",
       "/**\n",
       " * Handle update_display_data messages\n",
       " */\n",
       "function handle_update_output(event, handle) {\n",
       "  handle_clear_output(event, {cell: {output_area: handle.output_area}})\n",
       "  handle_add_output(event, handle)\n",
       "}\n",
       "\n",
       "function register_renderer(events, OutputArea) {\n",
       "  function append_mime(data, metadata, element) {\n",
       "    // create a DOM node to render to\n",
       "    var toinsert = this.create_output_subarea(\n",
       "    metadata,\n",
       "    CLASS_NAME,\n",
       "    EXEC_MIME_TYPE\n",
       "    );\n",
       "    this.keyboard_manager.register_events(toinsert);\n",
       "    // Render to node\n",
       "    var props = {data: data, metadata: metadata[EXEC_MIME_TYPE]};\n",
       "    render(props, toinsert[0]);\n",
       "    element.append(toinsert);\n",
       "    return toinsert\n",
       "  }\n",
       "\n",
       "  events.on('output_added.OutputArea', handle_add_output);\n",
       "  events.on('output_updated.OutputArea', handle_update_output);\n",
       "  events.on('clear_output.CodeCell', handle_clear_output);\n",
       "  events.on('delete.Cell', handle_clear_output);\n",
       "  events.on('kernel_ready.Kernel', handle_kernel_cleanup);\n",
       "\n",
       "  OutputArea.prototype.register_mime_type(EXEC_MIME_TYPE, append_mime, {\n",
       "    safe: true,\n",
       "    index: 0\n",
       "  });\n",
       "}\n",
       "\n",
       "if (window.Jupyter !== undefined) {\n",
       "  try {\n",
       "    var events = require('base/js/events');\n",
       "    var OutputArea = require('notebook/js/outputarea').OutputArea;\n",
       "    if (OutputArea.prototype.mime_types().indexOf(EXEC_MIME_TYPE) == -1) {\n",
       "      register_renderer(events, OutputArea);\n",
       "    }\n",
       "  } catch(err) {\n",
       "  }\n",
       "}\n"
      ],
      "application/vnd.holoviews_load.v0+json": "\nif ((window.PyViz === undefined) || (window.PyViz instanceof HTMLElement)) {\n  window.PyViz = {comms: {}, comm_status:{}, kernels:{}, receivers: {}, plot_index: []}\n}\n\n\n    function JupyterCommManager() {\n    }\n\n    JupyterCommManager.prototype.register_target = function(plot_id, comm_id, msg_handler) {\n      if (window.comm_manager || ((window.Jupyter !== undefined) && (Jupyter.notebook.kernel != null))) {\n        var comm_manager = window.comm_manager || Jupyter.notebook.kernel.comm_manager;\n        comm_manager.register_target(comm_id, function(comm) {\n          comm.on_msg(msg_handler);\n        });\n      } else if ((plot_id in window.PyViz.kernels) && (window.PyViz.kernels[plot_id])) {\n        window.PyViz.kernels[plot_id].registerCommTarget(comm_id, function(comm) {\n          comm.onMsg = msg_handler;\n        });\n      } else if (typeof google != 'undefined' && google.colab.kernel != null) {\n        google.colab.kernel.comms.registerTarget(comm_id, (comm) => {\n          var messages = comm.messages[Symbol.asyncIterator]();\n          function processIteratorResult(result) {\n            var message = result.value;\n            console.log(message)\n            var content = {data: message.data, comm_id};\n            var buffers = []\n            for (var buffer of message.buffers || []) {\n              buffers.push(new DataView(buffer))\n            }\n            var metadata = message.metadata || {};\n            var msg = {content, buffers, metadata}\n            msg_handler(msg);\n            return messages.next().then(processIteratorResult);\n          }\n          return messages.next().then(processIteratorResult);\n        })\n      }\n    }\n\n    JupyterCommManager.prototype.get_client_comm = function(plot_id, comm_id, msg_handler) {\n      if (comm_id in window.PyViz.comms) {\n        return window.PyViz.comms[comm_id];\n      } else if (window.comm_manager || ((window.Jupyter !== undefined) && (Jupyter.notebook.kernel != null))) {\n        var comm_manager = window.comm_manager || Jupyter.notebook.kernel.comm_manager;\n        var comm = comm_manager.new_comm(comm_id, {}, {}, {}, comm_id);\n        if (msg_handler) {\n          comm.on_msg(msg_handler);\n        }\n      } else if ((plot_id in window.PyViz.kernels) && (window.PyViz.kernels[plot_id])) {\n        var comm = window.PyViz.kernels[plot_id].connectToComm(comm_id);\n        comm.open();\n        if (msg_handler) {\n          comm.onMsg = msg_handler;\n        }\n      } else if (typeof google != 'undefined' && google.colab.kernel != null) {\n        var comm_promise = google.colab.kernel.comms.open(comm_id)\n        comm_promise.then((comm) => {\n          window.PyViz.comms[comm_id] = comm;\n          if (msg_handler) {\n            var messages = comm.messages[Symbol.asyncIterator]();\n            function processIteratorResult(result) {\n              var message = result.value;\n              var content = {data: message.data};\n              var metadata = message.metadata || {comm_id};\n              var msg = {content, metadata}\n              msg_handler(msg);\n              return messages.next().then(processIteratorResult);\n            }\n            return messages.next().then(processIteratorResult);\n          }\n        }) \n        var sendClosure = (data, metadata, buffers, disposeOnDone) => {\n          return comm_promise.then((comm) => {\n            comm.send(data, metadata, buffers, disposeOnDone);\n          });\n        };\n        var comm = {\n          send: sendClosure\n        };\n      }\n      window.PyViz.comms[comm_id] = comm;\n      return comm;\n    }\n    window.PyViz.comm_manager = new JupyterCommManager();\n    \n\n\nvar JS_MIME_TYPE = 'application/javascript';\nvar HTML_MIME_TYPE = 'text/html';\nvar EXEC_MIME_TYPE = 'application/vnd.holoviews_exec.v0+json';\nvar CLASS_NAME = 'output';\n\n/**\n * Render data to the DOM node\n */\nfunction render(props, node) {\n  var div = document.createElement(\"div\");\n  var script = document.createElement(\"script\");\n  node.appendChild(div);\n  node.appendChild(script);\n}\n\n/**\n * Handle when a new output is added\n */\nfunction handle_add_output(event, handle) {\n  var output_area = handle.output_area;\n  var output = handle.output;\n  if ((output.data == undefined) || (!output.data.hasOwnProperty(EXEC_MIME_TYPE))) {\n    return\n  }\n  var id = output.metadata[EXEC_MIME_TYPE][\"id\"];\n  var toinsert = output_area.element.find(\".\" + CLASS_NAME.split(' ')[0]);\n  if (id !== undefined) {\n    var nchildren = toinsert.length;\n    var html_node = toinsert[nchildren-1].children[0];\n    html_node.innerHTML = output.data[HTML_MIME_TYPE];\n    var scripts = [];\n    var nodelist = html_node.querySelectorAll(\"script\");\n    for (var i in nodelist) {\n      if (nodelist.hasOwnProperty(i)) {\n        scripts.push(nodelist[i])\n      }\n    }\n\n    scripts.forEach( function (oldScript) {\n      var newScript = document.createElement(\"script\");\n      var attrs = [];\n      var nodemap = oldScript.attributes;\n      for (var j in nodemap) {\n        if (nodemap.hasOwnProperty(j)) {\n          attrs.push(nodemap[j])\n        }\n      }\n      attrs.forEach(function(attr) { newScript.setAttribute(attr.name, attr.value) });\n      newScript.appendChild(document.createTextNode(oldScript.innerHTML));\n      oldScript.parentNode.replaceChild(newScript, oldScript);\n    });\n    if (JS_MIME_TYPE in output.data) {\n      toinsert[nchildren-1].children[1].textContent = output.data[JS_MIME_TYPE];\n    }\n    output_area._hv_plot_id = id;\n    if ((window.Bokeh !== undefined) && (id in Bokeh.index)) {\n      window.PyViz.plot_index[id] = Bokeh.index[id];\n    } else {\n      window.PyViz.plot_index[id] = null;\n    }\n  } else if (output.metadata[EXEC_MIME_TYPE][\"server_id\"] !== undefined) {\n    var bk_div = document.createElement(\"div\");\n    bk_div.innerHTML = output.data[HTML_MIME_TYPE];\n    var script_attrs = bk_div.children[0].attributes;\n    for (var i = 0; i < script_attrs.length; i++) {\n      toinsert[toinsert.length - 1].childNodes[1].setAttribute(script_attrs[i].name, script_attrs[i].value);\n    }\n    // store reference to server id on output_area\n    output_area._bokeh_server_id = output.metadata[EXEC_MIME_TYPE][\"server_id\"];\n  }\n}\n\n/**\n * Handle when an output is cleared or removed\n */\nfunction handle_clear_output(event, handle) {\n  var id = handle.cell.output_area._hv_plot_id;\n  var server_id = handle.cell.output_area._bokeh_server_id;\n  if (((id === undefined) || !(id in PyViz.plot_index)) && (server_id !== undefined)) { return; }\n  var comm = window.PyViz.comm_manager.get_client_comm(\"hv-extension-comm\", \"hv-extension-comm\", function () {});\n  if (server_id !== null) {\n    comm.send({event_type: 'server_delete', 'id': server_id});\n    return;\n  } else if (comm !== null) {\n    comm.send({event_type: 'delete', 'id': id});\n  }\n  delete PyViz.plot_index[id];\n  if ((window.Bokeh !== undefined) & (id in window.Bokeh.index)) {\n    var doc = window.Bokeh.index[id].model.document\n    doc.clear();\n    const i = window.Bokeh.documents.indexOf(doc);\n    if (i > -1) {\n      window.Bokeh.documents.splice(i, 1);\n    }\n  }\n}\n\n/**\n * Handle kernel restart event\n */\nfunction handle_kernel_cleanup(event, handle) {\n  delete PyViz.comms[\"hv-extension-comm\"];\n  window.PyViz.plot_index = {}\n}\n\n/**\n * Handle update_display_data messages\n */\nfunction handle_update_output(event, handle) {\n  handle_clear_output(event, {cell: {output_area: handle.output_area}})\n  handle_add_output(event, handle)\n}\n\nfunction register_renderer(events, OutputArea) {\n  function append_mime(data, metadata, element) {\n    // create a DOM node to render to\n    var toinsert = this.create_output_subarea(\n    metadata,\n    CLASS_NAME,\n    EXEC_MIME_TYPE\n    );\n    this.keyboard_manager.register_events(toinsert);\n    // Render to node\n    var props = {data: data, metadata: metadata[EXEC_MIME_TYPE]};\n    render(props, toinsert[0]);\n    element.append(toinsert);\n    return toinsert\n  }\n\n  events.on('output_added.OutputArea', handle_add_output);\n  events.on('output_updated.OutputArea', handle_update_output);\n  events.on('clear_output.CodeCell', handle_clear_output);\n  events.on('delete.Cell', handle_clear_output);\n  events.on('kernel_ready.Kernel', handle_kernel_cleanup);\n\n  OutputArea.prototype.register_mime_type(EXEC_MIME_TYPE, append_mime, {\n    safe: true,\n    index: 0\n  });\n}\n\nif (window.Jupyter !== undefined) {\n  try {\n    var events = require('base/js/events');\n    var OutputArea = require('notebook/js/outputarea').OutputArea;\n    if (OutputArea.prototype.mime_types().indexOf(EXEC_MIME_TYPE) == -1) {\n      register_renderer(events, OutputArea);\n    }\n  } catch(err) {\n  }\n}\n"
     },
     "metadata": {},
     "output_type": "display_data"
    },
    {
     "data": {
      "application/vnd.holoviews_exec.v0+json": "",
      "text/html": [
       "<div id='p1072'>\n",
       "  <div id=\"d4df9e68-d69a-4bff-9e46-229cfd0367f6\" data-root-id=\"p1072\" style=\"display: contents;\"></div>\n",
       "</div>\n",
       "<script type=\"application/javascript\">(function(root) {\n",
       "  var docs_json = {\"bab886a4-f4e5-495a-b4f5-dbe6cd2f90b3\":{\"version\":\"3.6.0\",\"title\":\"Bokeh Application\",\"roots\":[{\"type\":\"object\",\"name\":\"panel.models.browser.BrowserInfo\",\"id\":\"p1072\"},{\"type\":\"object\",\"name\":\"panel.models.comm_manager.CommManager\",\"id\":\"p1073\",\"attributes\":{\"plot_id\":\"p1072\",\"comm_id\":\"4b69a28f6f82452ca41bb7610bfc2ce9\",\"client_comm_id\":\"add8548e482b48748288fdead6a702f9\"}}],\"defs\":[{\"type\":\"model\",\"name\":\"ReactiveHTML1\"},{\"type\":\"model\",\"name\":\"FlexBox1\",\"properties\":[{\"name\":\"align_content\",\"kind\":\"Any\",\"default\":\"flex-start\"},{\"name\":\"align_items\",\"kind\":\"Any\",\"default\":\"flex-start\"},{\"name\":\"flex_direction\",\"kind\":\"Any\",\"default\":\"row\"},{\"name\":\"flex_wrap\",\"kind\":\"Any\",\"default\":\"wrap\"},{\"name\":\"gap\",\"kind\":\"Any\",\"default\":\"\"},{\"name\":\"justify_content\",\"kind\":\"Any\",\"default\":\"flex-start\"}]},{\"type\":\"model\",\"name\":\"FloatPanel1\",\"properties\":[{\"name\":\"config\",\"kind\":\"Any\",\"default\":{\"type\":\"map\"}},{\"name\":\"contained\",\"kind\":\"Any\",\"default\":true},{\"name\":\"position\",\"kind\":\"Any\",\"default\":\"right-top\"},{\"name\":\"offsetx\",\"kind\":\"Any\",\"default\":null},{\"name\":\"offsety\",\"kind\":\"Any\",\"default\":null},{\"name\":\"theme\",\"kind\":\"Any\",\"default\":\"primary\"},{\"name\":\"status\",\"kind\":\"Any\",\"default\":\"normalized\"}]},{\"type\":\"model\",\"name\":\"GridStack1\",\"properties\":[{\"name\":\"mode\",\"kind\":\"Any\",\"default\":\"warn\"},{\"name\":\"ncols\",\"kind\":\"Any\",\"default\":null},{\"name\":\"nrows\",\"kind\":\"Any\",\"default\":null},{\"name\":\"allow_resize\",\"kind\":\"Any\",\"default\":true},{\"name\":\"allow_drag\",\"kind\":\"Any\",\"default\":true},{\"name\":\"state\",\"kind\":\"Any\",\"default\":[]}]},{\"type\":\"model\",\"name\":\"drag1\",\"properties\":[{\"name\":\"slider_width\",\"kind\":\"Any\",\"default\":5},{\"name\":\"slider_color\",\"kind\":\"Any\",\"default\":\"black\"},{\"name\":\"value\",\"kind\":\"Any\",\"default\":50}]},{\"type\":\"model\",\"name\":\"click1\",\"properties\":[{\"name\":\"terminal_output\",\"kind\":\"Any\",\"default\":\"\"},{\"name\":\"debug_name\",\"kind\":\"Any\",\"default\":\"\"},{\"name\":\"clears\",\"kind\":\"Any\",\"default\":0}]},{\"type\":\"model\",\"name\":\"FastWrapper1\",\"properties\":[{\"name\":\"object\",\"kind\":\"Any\",\"default\":null},{\"name\":\"style\",\"kind\":\"Any\",\"default\":null}]},{\"type\":\"model\",\"name\":\"NotificationAreaBase1\",\"properties\":[{\"name\":\"js_events\",\"kind\":\"Any\",\"default\":{\"type\":\"map\"}},{\"name\":\"position\",\"kind\":\"Any\",\"default\":\"bottom-right\"},{\"name\":\"_clear\",\"kind\":\"Any\",\"default\":0}]},{\"type\":\"model\",\"name\":\"NotificationArea1\",\"properties\":[{\"name\":\"js_events\",\"kind\":\"Any\",\"default\":{\"type\":\"map\"}},{\"name\":\"notifications\",\"kind\":\"Any\",\"default\":[]},{\"name\":\"position\",\"kind\":\"Any\",\"default\":\"bottom-right\"},{\"name\":\"_clear\",\"kind\":\"Any\",\"default\":0},{\"name\":\"types\",\"kind\":\"Any\",\"default\":[{\"type\":\"map\",\"entries\":[[\"type\",\"warning\"],[\"background\",\"#ffc107\"],[\"icon\",{\"type\":\"map\",\"entries\":[[\"className\",\"fas fa-exclamation-triangle\"],[\"tagName\",\"i\"],[\"color\",\"white\"]]}]]},{\"type\":\"map\",\"entries\":[[\"type\",\"info\"],[\"background\",\"#007bff\"],[\"icon\",{\"type\":\"map\",\"entries\":[[\"className\",\"fas fa-info-circle\"],[\"tagName\",\"i\"],[\"color\",\"white\"]]}]]}]}]},{\"type\":\"model\",\"name\":\"Notification\",\"properties\":[{\"name\":\"background\",\"kind\":\"Any\",\"default\":null},{\"name\":\"duration\",\"kind\":\"Any\",\"default\":3000},{\"name\":\"icon\",\"kind\":\"Any\",\"default\":null},{\"name\":\"message\",\"kind\":\"Any\",\"default\":\"\"},{\"name\":\"notification_type\",\"kind\":\"Any\",\"default\":null},{\"name\":\"_destroyed\",\"kind\":\"Any\",\"default\":false}]},{\"type\":\"model\",\"name\":\"TemplateActions1\",\"properties\":[{\"name\":\"open_modal\",\"kind\":\"Any\",\"default\":0},{\"name\":\"close_modal\",\"kind\":\"Any\",\"default\":0}]},{\"type\":\"model\",\"name\":\"BootstrapTemplateActions1\",\"properties\":[{\"name\":\"open_modal\",\"kind\":\"Any\",\"default\":0},{\"name\":\"close_modal\",\"kind\":\"Any\",\"default\":0}]},{\"type\":\"model\",\"name\":\"TemplateEditor1\",\"properties\":[{\"name\":\"layout\",\"kind\":\"Any\",\"default\":[]}]},{\"type\":\"model\",\"name\":\"MaterialTemplateActions1\",\"properties\":[{\"name\":\"open_modal\",\"kind\":\"Any\",\"default\":0},{\"name\":\"close_modal\",\"kind\":\"Any\",\"default\":0}]},{\"type\":\"model\",\"name\":\"ReactiveESM1\"},{\"type\":\"model\",\"name\":\"JSComponent1\"},{\"type\":\"model\",\"name\":\"ReactComponent1\"},{\"type\":\"model\",\"name\":\"AnyWidgetComponent1\"},{\"type\":\"model\",\"name\":\"request_value1\",\"properties\":[{\"name\":\"fill\",\"kind\":\"Any\",\"default\":\"none\"},{\"name\":\"_synced\",\"kind\":\"Any\",\"default\":null},{\"name\":\"_request_sync\",\"kind\":\"Any\",\"default\":0}]}]}};\n",
       "  var render_items = [{\"docid\":\"bab886a4-f4e5-495a-b4f5-dbe6cd2f90b3\",\"roots\":{\"p1072\":\"d4df9e68-d69a-4bff-9e46-229cfd0367f6\"},\"root_ids\":[\"p1072\"]}];\n",
       "  var docs = Object.values(docs_json)\n",
       "  if (!docs) {\n",
       "    return\n",
       "  }\n",
       "  const py_version = docs[0].version.replace('rc', '-rc.').replace('.dev', '-dev.')\n",
       "  async function embed_document(root) {\n",
       "    var Bokeh = get_bokeh(root)\n",
       "    await Bokeh.embed.embed_items_notebook(docs_json, render_items);\n",
       "    for (const render_item of render_items) {\n",
       "      for (const root_id of render_item.root_ids) {\n",
       "\tconst id_el = document.getElementById(root_id)\n",
       "\tif (id_el.children.length && id_el.children[0].hasAttribute('data-root-id')) {\n",
       "\t  const root_el = id_el.children[0]\n",
       "\t  root_el.id = root_el.id + '-rendered'\n",
       "\t  for (const child of root_el.children) {\n",
       "            // Ensure JupyterLab does not capture keyboard shortcuts\n",
       "            // see: https://jupyterlab.readthedocs.io/en/4.1.x/extension/notebook.html#keyboard-interaction-model\n",
       "\t    child.setAttribute('data-lm-suppress-shortcuts', 'true')\n",
       "\t  }\n",
       "\t}\n",
       "      }\n",
       "    }\n",
       "  }\n",
       "  function get_bokeh(root) {\n",
       "    if (root.Bokeh === undefined) {\n",
       "      return null\n",
       "    } else if (root.Bokeh.version !== py_version) {\n",
       "      if (root.Bokeh.versions === undefined || !root.Bokeh.versions.has(py_version)) {\n",
       "\treturn null\n",
       "      }\n",
       "      return root.Bokeh.versions.get(py_version);\n",
       "    } else if (root.Bokeh.version === py_version) {\n",
       "      return root.Bokeh\n",
       "    }\n",
       "    return null\n",
       "  }\n",
       "  function is_loaded(root) {\n",
       "    var Bokeh = get_bokeh(root)\n",
       "    return (Bokeh != null && Bokeh.Panel !== undefined)\n",
       "  }\n",
       "  if (is_loaded(root)) {\n",
       "    embed_document(root);\n",
       "  } else {\n",
       "    var attempts = 0;\n",
       "    var timer = setInterval(function(root) {\n",
       "      if (is_loaded(root)) {\n",
       "        clearInterval(timer);\n",
       "        embed_document(root);\n",
       "      } else if (document.readyState == \"complete\") {\n",
       "        attempts++;\n",
       "        if (attempts > 200) {\n",
       "          clearInterval(timer);\n",
       "\t  var Bokeh = get_bokeh(root)\n",
       "\t  if (Bokeh == null || Bokeh.Panel == null) {\n",
       "            console.warn(\"Panel: ERROR: Unable to run Panel code because Bokeh or Panel library is missing\");\n",
       "\t  } else {\n",
       "\t    console.warn(\"Panel: WARNING: Attempting to render but not all required libraries could be resolved.\")\n",
       "\t    embed_document(root)\n",
       "\t  }\n",
       "        }\n",
       "      }\n",
       "    }, 25, root)\n",
       "  }\n",
       "})(window);</script>"
      ]
     },
     "metadata": {
      "application/vnd.holoviews_exec.v0+json": {
       "id": "p1072"
      }
     },
     "output_type": "display_data"
    }
   ],
   "source": [
    "# Dependencies and Setup\n",
    "import hvplot.pandas\n",
    "import pandas as pd\n",
    "import requests\n",
    "import numpy as np\n",
    "import matplotlib.pyplot as plt\n",
    "from matplotlib import colors as mcolors  \n",
    "import plotly.express as px\n",
    "\n",
    "# Import API key\n",
    "from api_keys import geoapify_key"
   ]
  },
  {
   "cell_type": "code",
   "execution_count": 27,
   "metadata": {},
   "outputs": [
    {
     "data": {
      "text/html": [
       "<div>\n",
       "<style scoped>\n",
       "    .dataframe tbody tr th:only-of-type {\n",
       "        vertical-align: middle;\n",
       "    }\n",
       "\n",
       "    .dataframe tbody tr th {\n",
       "        vertical-align: top;\n",
       "    }\n",
       "\n",
       "    .dataframe thead th {\n",
       "        text-align: right;\n",
       "    }\n",
       "</style>\n",
       "<table border=\"1\" class=\"dataframe\">\n",
       "  <thead>\n",
       "    <tr style=\"text-align: right;\">\n",
       "      <th></th>\n",
       "      <th>City_ID</th>\n",
       "      <th>City</th>\n",
       "      <th>Lat</th>\n",
       "      <th>Lng</th>\n",
       "      <th>Max Temp</th>\n",
       "      <th>Humidity</th>\n",
       "      <th>Cloudiness</th>\n",
       "      <th>Wind Speed</th>\n",
       "      <th>Country</th>\n",
       "      <th>Date</th>\n",
       "    </tr>\n",
       "  </thead>\n",
       "  <tbody>\n",
       "    <tr>\n",
       "      <th>0</th>\n",
       "      <td>0</td>\n",
       "      <td>constantia</td>\n",
       "      <td>44.1833</td>\n",
       "      <td>28.6500</td>\n",
       "      <td>11.50</td>\n",
       "      <td>88</td>\n",
       "      <td>92</td>\n",
       "      <td>6.38</td>\n",
       "      <td>RO</td>\n",
       "      <td>1733598634</td>\n",
       "    </tr>\n",
       "    <tr>\n",
       "      <th>1</th>\n",
       "      <td>1</td>\n",
       "      <td>hithadhoo</td>\n",
       "      <td>-0.6000</td>\n",
       "      <td>73.0833</td>\n",
       "      <td>27.79</td>\n",
       "      <td>73</td>\n",
       "      <td>18</td>\n",
       "      <td>5.63</td>\n",
       "      <td>MV</td>\n",
       "      <td>1733598823</td>\n",
       "    </tr>\n",
       "    <tr>\n",
       "      <th>2</th>\n",
       "      <td>2</td>\n",
       "      <td>carbonear</td>\n",
       "      <td>47.7332</td>\n",
       "      <td>-53.2148</td>\n",
       "      <td>1.00</td>\n",
       "      <td>79</td>\n",
       "      <td>100</td>\n",
       "      <td>6.22</td>\n",
       "      <td>CA</td>\n",
       "      <td>1733598824</td>\n",
       "    </tr>\n",
       "    <tr>\n",
       "      <th>3</th>\n",
       "      <td>3</td>\n",
       "      <td>waitangi</td>\n",
       "      <td>-43.9535</td>\n",
       "      <td>-176.5597</td>\n",
       "      <td>14.34</td>\n",
       "      <td>81</td>\n",
       "      <td>92</td>\n",
       "      <td>1.34</td>\n",
       "      <td>NZ</td>\n",
       "      <td>1733598507</td>\n",
       "    </tr>\n",
       "    <tr>\n",
       "      <th>4</th>\n",
       "      <td>4</td>\n",
       "      <td>yeppoon</td>\n",
       "      <td>-23.1333</td>\n",
       "      <td>150.7333</td>\n",
       "      <td>23.20</td>\n",
       "      <td>82</td>\n",
       "      <td>8</td>\n",
       "      <td>1.69</td>\n",
       "      <td>AU</td>\n",
       "      <td>1733598827</td>\n",
       "    </tr>\n",
       "  </tbody>\n",
       "</table>\n",
       "</div>"
      ],
      "text/plain": [
       "   City_ID        City      Lat       Lng  Max Temp  Humidity  Cloudiness  \\\n",
       "0        0  constantia  44.1833   28.6500     11.50        88          92   \n",
       "1        1   hithadhoo  -0.6000   73.0833     27.79        73          18   \n",
       "2        2   carbonear  47.7332  -53.2148      1.00        79         100   \n",
       "3        3    waitangi -43.9535 -176.5597     14.34        81          92   \n",
       "4        4     yeppoon -23.1333  150.7333     23.20        82           8   \n",
       "\n",
       "   Wind Speed Country        Date  \n",
       "0        6.38      RO  1733598634  \n",
       "1        5.63      MV  1733598823  \n",
       "2        6.22      CA  1733598824  \n",
       "3        1.34      NZ  1733598507  \n",
       "4        1.69      AU  1733598827  "
      ]
     },
     "execution_count": 27,
     "metadata": {},
     "output_type": "execute_result"
    }
   ],
   "source": [
    "# Load the CSV file created in Part 1 into a Pandas DataFrame\n",
    "city_data_df = pd.read_csv(\"output_data/cities.csv\")\n",
    "\n",
    "# Display sample data\n",
    "city_data_df.head(5)"
   ]
  },
  {
   "cell_type": "markdown",
   "metadata": {},
   "source": [
    "---\n",
    "\n",
    "### Step 1: Create a map that displays a point for every city in the `city_data_df` DataFrame. The size of the point should be the humidity in each city."
   ]
  },
  {
   "cell_type": "code",
   "execution_count": 30,
   "metadata": {
    "scrolled": true
   },
   "outputs": [
    {
     "data": {},
     "metadata": {},
     "output_type": "display_data"
    },
    {
     "data": {
      "application/vnd.holoviews_exec.v0+json": "",
      "text/html": [
       "<div id='p1074'>\n",
       "  <div id=\"f1b08d5b-82da-4e6d-9683-f9608754bc71\" data-root-id=\"p1074\" style=\"display: contents;\"></div>\n",
       "</div>\n",
       "<script type=\"application/javascript\">(function(root) {\n",
       "  var docs_json = {\"e72673ba-5698-4ea9-9253-6742b68faa67\":{\"version\":\"3.6.0\",\"title\":\"Bokeh Application\",\"roots\":[{\"type\":\"object\",\"name\":\"Row\",\"id\":\"p1074\",\"attributes\":{\"name\":\"Row01036\",\"tags\":[\"embedded\"],\"stylesheets\":[\"\\n:host(.pn-loading):before, .pn-loading:before {\\n  background-color: #c3c3c3;\\n  mask-size: auto calc(min(50%, 400px));\\n  -webkit-mask-size: auto calc(min(50%, 400px));\\n}\",{\"type\":\"object\",\"name\":\"ImportedStyleSheet\",\"id\":\"p1077\",\"attributes\":{\"url\":\"https://cdn.holoviz.org/panel/1.5.2/dist/css/loading.css\"}},{\"type\":\"object\",\"name\":\"ImportedStyleSheet\",\"id\":\"p1136\",\"attributes\":{\"url\":\"https://cdn.holoviz.org/panel/1.5.2/dist/css/listpanel.css\"}},{\"type\":\"object\",\"name\":\"ImportedStyleSheet\",\"id\":\"p1075\",\"attributes\":{\"url\":\"https://cdn.holoviz.org/panel/1.5.2/dist/bundled/theme/default.css\"}},{\"type\":\"object\",\"name\":\"ImportedStyleSheet\",\"id\":\"p1076\",\"attributes\":{\"url\":\"https://cdn.holoviz.org/panel/1.5.2/dist/bundled/theme/native.css\"}}],\"min_width\":700,\"margin\":0,\"sizing_mode\":\"stretch_width\",\"align\":\"start\",\"children\":[{\"type\":\"object\",\"name\":\"Spacer\",\"id\":\"p1078\",\"attributes\":{\"name\":\"HSpacer01043\",\"stylesheets\":[\"\\n:host(.pn-loading):before, .pn-loading:before {\\n  background-color: #c3c3c3;\\n  mask-size: auto calc(min(50%, 400px));\\n  -webkit-mask-size: auto calc(min(50%, 400px));\\n}\",{\"id\":\"p1077\"},{\"id\":\"p1075\"},{\"id\":\"p1076\"}],\"margin\":0,\"sizing_mode\":\"stretch_width\",\"align\":\"start\"}},{\"type\":\"object\",\"name\":\"Figure\",\"id\":\"p1086\",\"attributes\":{\"width\":700,\"height\":300,\"margin\":[5,10],\"sizing_mode\":\"fixed\",\"align\":\"start\",\"x_range\":{\"type\":\"object\",\"name\":\"Range1d\",\"id\":\"p1079\",\"attributes\":{\"tags\":[[[\"Lng\",null]],[]],\"start\":-193.49027142857142,\"end\":194.70687142857142,\"reset_start\":-193.49027142857142,\"reset_end\":194.70687142857142}},\"y_range\":{\"type\":\"object\",\"name\":\"Range1d\",\"id\":\"p1080\",\"attributes\":{\"tags\":[[[\"Lat\",null]],{\"type\":\"map\",\"entries\":[[\"invert_yaxis\",false],[\"autorange\",false]]}],\"start\":-68.10186,\"end\":91.52046,\"reset_start\":-68.10186,\"reset_end\":91.52046}},\"x_scale\":{\"type\":\"object\",\"name\":\"LinearScale\",\"id\":\"p1096\"},\"y_scale\":{\"type\":\"object\",\"name\":\"LinearScale\",\"id\":\"p1097\"},\"title\":{\"type\":\"object\",\"name\":\"Title\",\"id\":\"p1089\",\"attributes\":{\"text\":\"City Humidity Map\",\"text_color\":\"black\",\"text_font_size\":\"12pt\"}},\"renderers\":[{\"type\":\"object\",\"name\":\"GlyphRenderer\",\"id\":\"p1130\",\"attributes\":{\"data_source\":{\"type\":\"object\",\"name\":\"ColumnDataSource\",\"id\":\"p1119\",\"attributes\":{\"selected\":{\"type\":\"object\",\"name\":\"Selection\",\"id\":\"p1120\",\"attributes\":{\"indices\":[],\"line_indices\":[]}},\"selection_policy\":{\"type\":\"object\",\"name\":\"UnionRenderers\",\"id\":\"p1121\"},\"data\":{\"type\":\"map\",\"entries\":[[\"Lng\",{\"type\":\"ndarray\",\"array\":{\"type\":\"bytes\",\"data\":\"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\"},\"shape\":[573],\"dtype\":\"float64\",\"order\":\"little\"}],[\"Lat\",{\"type\":\"ndarray\",\"array\":{\"type\":\"bytes\",\"data\":\"rK3YX3YXRkAzMzMzMzPjv662Yn/Z3UdANV66SQz6RcCKjuTyHyI3wJXUCWgi7A5AEOm3rwO7UUDoaiv2lzVBwAAAAAAAgD9AAAAAAAAwUEDA7J48LGRFwO7rwDkjQkNAjgbwFkhQKMCrz9VW7EdHwO7rwDkjgkXAmpmZmZnZNUCAt0CC4pczQM3MzMzMrEjA63O1FfsjS8C+MJkqGBUGQJT2Bl+YTBVACfmgZ7OqFsA5tMh2vp8bQDeJQWDlEDnAUPwYc9c2UECDwMqhRY5PQMx/SL99/S1AbcX+snsST0CbVZ+rreBPQKyL22gA70NAvAUSFD8GHsDu68A5IyJKQFuxv+ye3EnAqFfKMsR5QkArhxbZztctQCo6kst/iBdA2ht8YTI1NcCoV8oyxLFEQEVHcvkPkUFAMzMzMzMzUECCc0aU9upQQNSa5h2niELAXkvIBz3rPkBm9+RhodYgwKmkTkATUTTAI9v5fmoMRUBGtvP91IRQQDcawFsgeUpAZmZmZmZmS8A6I0p7g69EQAdfmEwVLExAorQ3+ML8TEDEQq1p3rEmQPW52or9jVNAuycPC7UGS0Aofoy5a6lFQO58PzVeOk9ArBxaZDsPM8DJdr6fGm9LQDMzMzMzM0fAzczMzMxMKUCKjuTyH2I6wDMzMzMzM0pAPL1SliFiUEBQ/Bhz13pEwKCJsOHppTrA54wo7Q1GQ8Dc14FzRkQ3QLn8h/TbJ0ZAwOyePCwUG0DV52or9hcxwNqs+lxtLVFAMnctIR9EQcDnHafoSC4AwIEExY8xxzxAVcGopE7IR0BXW7G/7K4zwDxO0ZFcLj7A4C2QoPhZUUAB3gIJirdEQH/ZPXlYqOe/3+ALk6nqQsCamZmZmflAwFUwKqkT4E9AQYLix5jLQMDr4jYawLsgQO7rwDkjihjAZmZmZma2O0CjAbwFEuQ2QDC7Jw8LbUxAukkMAivfS0DHKTqSy18+QJqZmZmZmSzArBxaZDv/MUC+wRcmU/UxQNzXgXNGRDZAveMUHcmFSkCb5h2n6MBOQGaIY13cVjXA63O1FfvrUUC+wRcmUxUzQAWjkjoBHTPAu7iNBvBuSkC+nxov3eQ+QBlz1xLy4SzAGeJYF7fBO0Cad5yiI9FIQOjZrPpctUhAdEaU9gbHRkCFfNCzWVUnQL1SliGOFSHAJCh+jLn7O8Crz9VW7B86QDAqqRPQTEVAppvEILCKRkA/NV66SaREQPtcbcX+wkZAqmBUUidgNkC7uI0G8I5FwDEIrBxaBDxAfoy5awkhSUDc14FzRsQ8wFJJnYAmIijAQj7o2awqP0B3LSEf9GwkwJkqGJXUKSZAu7iNBvDOQsBCYOXQIl9RQJF++zpwTkXAiIVa07w7RcAyVTAqqVtOQOOlm8QgvFBA+MJkqmCkT0Av3SQGgfVAwLivA+eMCC5AVFInoInITUC7uI0G8E5CQCQofoy5uzDAzczMzMysQcBj7lpCPjhEQD0K16NwTTfAzczMzMyMP8CppE5AE5E2QMpUwaikJk1AaLPqc7UVB8AkKH6MuXs6wN/gC5Op6kdAR3L5D+nXJMDtDb4wmfo1QGHD0ytlmRVA/Knx0k3iHECKjuTyH8JHQHuDL0ymqi3AJCh+jLl7MMDT3uALk2lRQHGsi9to+EJAMzMzMzPzT0Dr4jYawLstQAAAAAAAgFBAZ0Rpb/B1NEDr4jYawDsowMSxLm6jgU9A6SYxCKxcSUCitDf4woRRQEw3iUFgRS5AZapgVFLvRMDufD81XgpMQET67evA+SVA7lpCPui5L8BIUPwYc3crwP2H9NvXwTjAEce6uI32N8BAE2HD03NFQAyTqYJRqUVAiIVa07zbQkBn1edqK3YtQLTIdr6fVlFAguLHmLt2P0AqOpLLf0g+QJayDHGsyxTAQBNhw9PrH0C1FfvL7lk7QHL5D+m3B0xAak3zjlNQUUDSAN4CCYpGwO0NvjCZajTAguLHmLsWJ0AzMzMzMzNGwCSX/5B+A1FAE/JBz2ZdRUDSb18HznkwwNzXgXNGxD9AdLUV+8v2QkD3deCcEaUVQEcDeAskSD3ANxrAWyARNkBL6gQ0EVZGQDMzMzMzszfAgSbChqfXA0B9rrZif2FEwIbJVMGojEBA0LNZ9bkaEcDKw0KtaYZJQBKDwMqhWVFAAAAAAAAAHkCsrdhfdp8/wNiBc0aU1k5A3+ALk6nqSUCyLm6jAew0QMGopE5AEzZAhJ7Nqs+lNUCh1jTvOMUiwMRCrWne3VBAUrgehetROMCF61G4HuVMQCqpE9BEJFBAAAAAAACAPUASFD/G3N1BQEhQ/Bhzdy9ArIvbaADvCsAdOGdEaU8qQG/whclUhVBA/tR46SaxEUASFD/G3F1DQA8LtaZ59zpAvAUSFD9WOkBUUiegiYhDwHh6pSxDpEBAnKIjufwfTEC0WfW52vpGQHS1FfvLhkxA5fIf0m+fM0BVMCqpE/A7QG+BBMWPsQ7A9wZfmExVHcB4CyQofmwuwPmgZ7PqA0ZAEHo2qz4fSUDkFB3J5e9GwL7BFyZTVTLAIEHxY8zNS0Bv8IXJVOVQQGZmZmZmZixAnDOitDc4NcBFR3L5D7FNQDMzMzMzk0rA0gDeAgl6TUD3deCcEYU5QIQNT6+UJRhAzTtO0ZFMRED129eBc+Y9wKyt2F92d0lA4QuTqYIRLsAAb4EExZNQQFK4HoXr0VBAzczMzMzM7L9LyAc9m4U7QH3Qs1n1gUDAnMQgsHLIPMDByqFFtlMmQIEExY8xFyxASOF6FK5HC8AwKqkT0IxLQLgehetRuNo/Qs9m1eeqLkDc14FzRoQ8QNxGA3gL9D3AJzEIrBwSSkC6awn5oJ9MQEI+6Nms6jtAEhQ/xtw9QcD99nXgnOlKQNDVVuwv+yHAxEKtad5NUUAPC7WmeZdDQOzAOSNKs1BAqaROQBMpQkCmm8QgsPpCwDMzMzMzMzJAtaZ5xyl6IcBvEoPAypFBQNXnaiv21zPA7uvAOSMiQ8C+wRcmUxU2QAwCK4cWMUZA1CtlGeKoR0BFR3L5DzFIQHctIR/0jCRAmpmZmZmZGUDNzMzMzLxHQHuDL0ymqiNAkQ96NquaUEA6kst/SI9HQGZmZmZmVktAoImw4enVH8CIhVrTvFtOQJAxdy0hnx1A3+ALk6nKTUC+MJkqGG1IQHh6pSxDZE9AdnEbDeDdPMCamZmZmeFGQDMzMzMz8z/AEhQ/xtxdQcDi6ZWyDJEtQCUGgZVDCy5AmpmZmZm5SkDl8h/Sb/dPQNobfGEyTU1AuK8D54yIL8DtDb4wmaoOwLpJDAIr5yJAat5xio4EIMABTYQNT683QDQRNjy9ykNAAAAAAACAEUAAAAAAAMAxwMl2vp8aZ0NAKcsQx7pMUUAN4C2QoPBMQFtCPujZvDTAzqrP1VaUQ0AnMQisHJJEQD7o2az6UFBAZmZmZmbmO0BXW7G/7J4UQHh6pSxDREdAsp3vp8ZbNcBYyjLEsY4owNzXgXNGFEVARUdy+Q+RRMB2cRsN4F01wM3MzMzMDDJA9UpZhjj2PUBpAG+BBAVDQACRfvs6QDhAqaROQBMBNkBuNIC3QCIlQI/C9ShcvzzA+u3rwDmTSUAAAAAAAABKQCV1ApoIGx5APQrXo3C9CcCGyVTBqGQTQHZxGw3gXTxAzczMzMzMDMC7uI0G8K5CQAAAAAAAQEhAiIVa07xbQMBR2ht8YepBQFMFo5I6oUJAeekmMQi0RUDy0k1iEOg3QM3MzMzMTDnAJCh+jLm7NMCmCkYldapRQBgmUwWjQk9A0m9fB85RQUAm5IOezbozQGZmZmZmZu6/sp3vp8YTTkD99nXgnNlEQD0K16Nw3TfAB/AWSFAcJsC30QDeAokhwNlfdk8eTkRAldQJaCJs9r9mZmZmZmYrwLivA+eMqEpAio7k8h9SFUDaG3xhMiVDQH9qvHST8ENAw2SqYFRiS0CpE9BE2OhGQH/7OnDOsElAVp+rrdh/JkAJ+aBns6oTQL99HThnZC7AAJF++zqoTkDNzMzMzAwwwM3MzMzMzDhAJLn8h/SLR0DyQc9m1TdDQPKwUGuadyzADk+vlGWYT0DT3uALk6kQwDMzMzMzsy9A2PD0SlkmS0Di6ZWyDJEtwHh6pSxD5EhAcT0K16Nwvb8OvjCZKgg5wDMzMzMzU0BAXCBB8WMMKUDr4jYawG9QQNzXgXNGzEBAvHSTGATGMEAAAAAAAIBBQNCzWfW5SjlAZmZmZmZmM0Bpb/CFyZQlQO7rwDkjKiBA5fIf0m8XQcDufD81Xuo5QFr1udqKrUNAxf6ye/L4TkD3Bl+YTM1KQKmkTkATETBAMlUwKqlbT0DGbTSAtwBIQPKwUGuaJzpALv8h/fa9R0Dc14FzRoQxQJqZmZmZmSZALNSa5h13SkCyLm6jAbzrv3L5D+m3B01AsAPnjChtRkBCPujZrGowwEI+6NmsKjLArK3YX3YfP0BRa5p3nCJKQCNKe4MvzB5AWvW52opVQkDNzMzMzMw4QKHWNO84NTBAfPKwUGt6TUAwKqkT0MQawCBB8WPM3QvAEhQ/xtzdQkAzMzMzM7NGwD7o2az6BEFAIGPuWkKuTkAVjErqBIQ/QOY/pN++BkHAImx4eqXsG8CamZmZmVkzQEaU9gZfmATA1QloImwAQcBtxf6ye3JMQJ/Nqs/VljZAdLUV+8uGREBI4XoUrkf0v2ZmZmZmZjnAv30dOGdUNMAkKH6MuXs1wFtCPujZFERAzO7Jw0IFREAv3SQGgQUwQKRwPQrXs0FACRueXim7McDrc7UV+/NFQMWPMXctiUNA7uvAOSNiRkBmZmZmZqY3wPCFyVTBqBFA5WGh1jTvqD/T3uALk6klQLx0kxgEpj5ARIts5/tJL0DMXUvIB51BwHuDL0ymqiJAwOyePCxUREBB8WPMXTNHQE9AE2HDsyBARUdy+Q+RQMAfhetRuNZCQOLplbIMkSZAAAAAAAAA4L+ppE5AE5FIQJtVn6utGDvAkst/SL/9HsCRfvs6cEZDQNv5fmq8NCDA24r9ZffEREB2cRsN4N04wIj029eBc+6/V1uxv+wuMEAs1JrmHYckwIqO5PIfIjXAzczMzMzM/L+hZ7Pqc21PQGZmZmZm5iVA+aBns+qjNcB4eqUsQ4RJQEjhehSuL05A9ihcj8IVLUCbVZ+rrbgjwBkEVg4toj7A1sVtNIC3K0B88rBQa8pCQIqw4emV+kRA7nw/NV669T/x9EpZhkg1QE7RkVz+Q+y/W0I+6NnsKkBN845TdDQ4QB4Wak3z7ilAwOyePCzMREDmP6Tfvo4GQFdbsb/sbkVAFmpN847TOkAAAAAAAABJQGZmZmZmZidAAAAAAAAAJEDvOEVHcsk3wI4G8BZIOE9APSzUmubdGcAOT6+UZZBMQLivA+eMiCtAvsEXJlP1MUAbL90kBklIQLraiv1ldwFA3+ALk6mC4b9wXwfOGRETQBe30QDecjRA+zpwzoiyJkDpSC7/IQ0+QF5LyAc9q0HA3+ALk6nKSEDo2az6XEVHwAHeAgmK61BA5BQdyeU//L+qYFRSJ2hLQM3MzMzMjDXA3NeBc0ZkSkAhH/RsVhVAwN5xio7kojdAuK8D54woSkCfPCzUmpZNQL3jFB3J5T/AuY0G8BaIKkCHp1fKMoQ2wA8LtaZ5B0JA0m9fB85xSEDQ1VbsL3spwJXUCWgi3E5AAAAAAABAQUALtaZ5xyFHQF8pyxDHehNAqaROQBNRNEBmZmZmZmZFQLRZ9bnakkFAiIVa07yLR0Dx9EpZhsgwwL3jFB3JZQrAFR3J5T8kMsB4eqUsQwRCwNuK/WX3hCHAB/AWSFAAUEDc14FzRqRLQJSHhVrTfBjASFD8GHN3KkB1kxgEVu40QMSxLm6jrVBAQBNhw9NTSkBgdk8eFtpJQM3MzMzMTDnAveMUHcllFkAAkX77OqAxQP7UeOkmPVBADwu1pnk3NcCIhVrTvLtDQMuhRbbznURA7Q2+MJmqAMCz6nO1FTsWQP5D+u3rcDJACmgibHh6I0CqYFRSJyAUQERpb/CFSUhAGy/dJAahPECHp1fKMkQVwJXUCWgivETA\"},\"shape\":[573],\"dtype\":\"float64\",\"order\":\"little\"}],[\"Color\",[\"#1f77b4\",\"#1f77b4\",\"#1f77b4\",\"#1f77b4\",\"#1f77b4\",\"#1f77b4\",\"#1f77b4\",\"#1f77b4\",\"#1f77b4\",\"#1f77b4\",\"#1f77b4\",\"#1f77b4\",\"#1f77b4\",\"#1f77b4\",\"#1f77b4\",\"#1f77b4\",\"#1f77b4\",\"#1f77b4\",\"#1f77b4\",\"#1f77b4\",\"#1f77b4\",\"#1f77b4\",\"#1f77b4\",\"#1f77b4\",\"#1f77b4\",\"#1f77b4\",\"#1f77b4\",\"#1f77b4\",\"#1f77b4\",\"#1f77b4\",\"#1f77b4\",\"#1f77b4\",\"#1f77b4\",\"#1f77b4\",\"#1f77b4\",\"#1f77b4\",\"#1f77b4\",\"#1f77b4\",\"#1f77b4\",\"#1f77b4\",\"#1f77b4\",\"#1f77b4\",\"#1f77b4\",\"#1f77b4\",\"#1f77b4\",\"#1f77b4\",\"#1f77b4\",\"#1f77b4\",\"#1f77b4\",\"#1f77b4\",\"#1f77b4\",\"#1f77b4\",\"#1f77b4\",\"#1f77b4\",\"#1f77b4\",\"#1f77b4\",\"#1f77b4\",\"#1f77b4\",\"#ff7f0e\",\"#ff7f0e\",\"#ff7f0e\",\"#ff7f0e\",\"#ff7f0e\",\"#ff7f0e\",\"#ff7f0e\",\"#ff7f0e\",\"#ff7f0e\",\"#ff7f0e\",\"#ff7f0e\",\"#ff7f0e\",\"#ff7f0e\",\"#ff7f0e\",\"#ff7f0e\",\"#ff7f0e\",\"#ff7f0e\",\"#ff7f0e\",\"#ff7f0e\",\"#ff7f0e\",\"#ff7f0e\",\"#ff7f0e\",\"#ff7f0e\",\"#ff7f0e\",\"#ff7f0e\",\"#ff7f0e\",\"#ff7f0e\",\"#ff7f0e\",\"#ff7f0e\",\"#ff7f0e\",\"#ff7f0e\",\"#ff7f0e\",\"#ff7f0e\",\"#ff7f0e\",\"#ff7f0e\",\"#ff7f0e\",\"#ff7f0e\",\"#ff7f0e\",\"#ff7f0e\",\"#ff7f0e\",\"#ff7f0e\",\"#ff7f0e\",\"#ff7f0e\",\"#ff7f0e\",\"#ff7f0e\",\"#ff7f0e\",\"#ff7f0e\",\"#ff7f0e\",\"#ff7f0e\",\"#ff7f0e\",\"#ff7f0e\",\"#ff7f0e\",\"#ff7f0e\",\"#ff7f0e\",\"#ff7f0e\",\"#ff7f0e\",\"#ff7f0e\",\"#2ca02c\",\"#2ca02c\",\"#2ca02c\",\"#2ca02c\",\"#2ca02c\",\"#2ca02c\",\"#2ca02c\",\"#2ca02c\",\"#2ca02c\",\"#2ca02c\",\"#2ca02c\",\"#2ca02c\",\"#2ca02c\",\"#2ca02c\",\"#2ca02c\",\"#2ca02c\",\"#2ca02c\",\"#2ca02c\",\"#2ca02c\",\"#2ca02c\",\"#2ca02c\",\"#2ca02c\",\"#2ca02c\",\"#2ca02c\",\"#2ca02c\",\"#2ca02c\",\"#2ca02c\",\"#2ca02c\",\"#2ca02c\",\"#2ca02c\",\"#2ca02c\",\"#2ca02c\",\"#2ca02c\",\"#2ca02c\",\"#2ca02c\",\"#2ca02c\",\"#2ca02c\",\"#2ca02c\",\"#2ca02c\",\"#2ca02c\",\"#2ca02c\",\"#2ca02c\",\"#2ca02c\",\"#2ca02c\",\"#2ca02c\",\"#2ca02c\",\"#2ca02c\",\"#2ca02c\",\"#2ca02c\",\"#2ca02c\",\"#2ca02c\",\"#2ca02c\",\"#2ca02c\",\"#2ca02c\",\"#2ca02c\",\"#2ca02c\",\"#2ca02c\",\"#d62728\",\"#d62728\",\"#d62728\",\"#d62728\",\"#d62728\",\"#d62728\",\"#d62728\",\"#d62728\",\"#d62728\",\"#d62728\",\"#d62728\",\"#d62728\",\"#d62728\",\"#d62728\",\"#d62728\",\"#d62728\",\"#d62728\",\"#d62728\",\"#d62728\",\"#d62728\",\"#d62728\",\"#d62728\",\"#d62728\",\"#d62728\",\"#d62728\",\"#d62728\",\"#d62728\",\"#d62728\",\"#d62728\",\"#d62728\",\"#d62728\",\"#d62728\",\"#d62728\",\"#d62728\",\"#d62728\",\"#d62728\",\"#d62728\",\"#d62728\",\"#d62728\",\"#d62728\",\"#d62728\",\"#d62728\",\"#d62728\",\"#d62728\",\"#d62728\",\"#d62728\",\"#d62728\",\"#d62728\",\"#d62728\",\"#d62728\",\"#d62728\",\"#d62728\",\"#d62728\",\"#d62728\",\"#d62728\",\"#d62728\",\"#d62728\",\"#9467bd\",\"#9467bd\",\"#9467bd\",\"#9467bd\",\"#9467bd\",\"#9467bd\",\"#9467bd\",\"#9467bd\",\"#9467bd\",\"#9467bd\",\"#9467bd\",\"#9467bd\",\"#9467bd\",\"#9467bd\",\"#9467bd\",\"#9467bd\",\"#9467bd\",\"#9467bd\",\"#9467bd\",\"#9467bd\",\"#9467bd\",\"#9467bd\",\"#9467bd\",\"#9467bd\",\"#9467bd\",\"#9467bd\",\"#9467bd\",\"#9467bd\",\"#9467bd\",\"#9467bd\",\"#9467bd\",\"#9467bd\",\"#9467bd\",\"#9467bd\",\"#9467bd\",\"#9467bd\",\"#9467bd\",\"#9467bd\",\"#9467bd\",\"#9467bd\",\"#9467bd\",\"#9467bd\",\"#9467bd\",\"#9467bd\",\"#9467bd\",\"#9467bd\",\"#9467bd\",\"#9467bd\",\"#9467bd\",\"#9467bd\",\"#9467bd\",\"#9467bd\",\"#9467bd\",\"#9467bd\",\"#9467bd\",\"#9467bd\",\"#9467bd\",\"#8c564b\",\"#8c564b\",\"#8c564b\",\"#8c564b\",\"#8c564b\",\"#8c564b\",\"#8c564b\",\"#8c564b\",\"#8c564b\",\"#8c564b\",\"#8c564b\",\"#8c564b\",\"#8c564b\",\"#8c564b\",\"#8c564b\",\"#8c564b\",\"#8c564b\",\"#8c564b\",\"#8c564b\",\"#8c564b\",\"#8c564b\",\"#8c564b\",\"#8c564b\",\"#8c564b\",\"#8c564b\",\"#8c564b\",\"#8c564b\",\"#8c564b\",\"#8c564b\",\"#8c564b\",\"#8c564b\",\"#8c564b\",\"#8c564b\",\"#8c564b\",\"#8c564b\",\"#8c564b\",\"#8c564b\",\"#8c564b\",\"#8c564b\",\"#8c564b\",\"#8c564b\",\"#8c564b\",\"#8c564b\",\"#8c564b\",\"#8c564b\",\"#8c564b\",\"#8c564b\",\"#8c564b\",\"#8c564b\",\"#8c564b\",\"#8c564b\",\"#8c564b\",\"#8c564b\",\"#8c564b\",\"#8c564b\",\"#8c564b\",\"#8c564b\",\"#8c564b\",\"#e377c2\",\"#e377c2\",\"#e377c2\",\"#e377c2\",\"#e377c2\",\"#e377c2\",\"#e377c2\",\"#e377c2\",\"#e377c2\",\"#e377c2\",\"#e377c2\",\"#e377c2\",\"#e377c2\",\"#e377c2\",\"#e377c2\",\"#e377c2\",\"#e377c2\",\"#e377c2\",\"#e377c2\",\"#e377c2\",\"#e377c2\",\"#e377c2\",\"#e377c2\",\"#e377c2\",\"#e377c2\",\"#e377c2\",\"#e377c2\",\"#e377c2\",\"#e377c2\",\"#e377c2\",\"#e377c2\",\"#e377c2\",\"#e377c2\",\"#e377c2\",\"#e377c2\",\"#e377c2\",\"#e377c2\",\"#e377c2\",\"#e377c2\",\"#e377c2\",\"#e377c2\",\"#e377c2\",\"#e377c2\",\"#e377c2\",\"#e377c2\",\"#e377c2\",\"#e377c2\",\"#e377c2\",\"#e377c2\",\"#e377c2\",\"#e377c2\",\"#e377c2\",\"#e377c2\",\"#e377c2\",\"#e377c2\",\"#e377c2\",\"#e377c2\",\"#7f7f7f\",\"#7f7f7f\",\"#7f7f7f\",\"#7f7f7f\",\"#7f7f7f\",\"#7f7f7f\",\"#7f7f7f\",\"#7f7f7f\",\"#7f7f7f\",\"#7f7f7f\",\"#7f7f7f\",\"#7f7f7f\",\"#7f7f7f\",\"#7f7f7f\",\"#7f7f7f\",\"#7f7f7f\",\"#7f7f7f\",\"#7f7f7f\",\"#7f7f7f\",\"#7f7f7f\",\"#7f7f7f\",\"#7f7f7f\",\"#7f7f7f\",\"#7f7f7f\",\"#7f7f7f\",\"#7f7f7f\",\"#7f7f7f\",\"#7f7f7f\",\"#7f7f7f\",\"#7f7f7f\",\"#7f7f7f\",\"#7f7f7f\",\"#7f7f7f\",\"#7f7f7f\",\"#7f7f7f\",\"#7f7f7f\",\"#7f7f7f\",\"#7f7f7f\",\"#7f7f7f\",\"#7f7f7f\",\"#7f7f7f\",\"#7f7f7f\",\"#7f7f7f\",\"#7f7f7f\",\"#7f7f7f\",\"#7f7f7f\",\"#7f7f7f\",\"#7f7f7f\",\"#7f7f7f\",\"#7f7f7f\",\"#7f7f7f\",\"#7f7f7f\",\"#7f7f7f\",\"#7f7f7f\",\"#7f7f7f\",\"#7f7f7f\",\"#7f7f7f\",\"#bcbd22\",\"#bcbd22\",\"#bcbd22\",\"#bcbd22\",\"#bcbd22\",\"#bcbd22\",\"#bcbd22\",\"#bcbd22\",\"#bcbd22\",\"#bcbd22\",\"#bcbd22\",\"#bcbd22\",\"#bcbd22\",\"#bcbd22\",\"#bcbd22\",\"#bcbd22\",\"#bcbd22\",\"#bcbd22\",\"#bcbd22\",\"#bcbd22\",\"#bcbd22\",\"#bcbd22\",\"#bcbd22\",\"#bcbd22\",\"#bcbd22\",\"#bcbd22\",\"#bcbd22\",\"#bcbd22\",\"#bcbd22\",\"#bcbd22\",\"#bcbd22\",\"#bcbd22\",\"#bcbd22\",\"#bcbd22\",\"#bcbd22\",\"#bcbd22\",\"#bcbd22\",\"#bcbd22\",\"#bcbd22\",\"#bcbd22\",\"#bcbd22\",\"#bcbd22\",\"#bcbd22\",\"#bcbd22\",\"#bcbd22\",\"#bcbd22\",\"#bcbd22\",\"#bcbd22\",\"#bcbd22\",\"#bcbd22\",\"#bcbd22\",\"#bcbd22\",\"#bcbd22\",\"#bcbd22\",\"#bcbd22\",\"#bcbd22\",\"#bcbd22\",\"#17becf\",\"#17becf\",\"#17becf\",\"#17becf\",\"#17becf\",\"#17becf\",\"#17becf\",\"#17becf\",\"#17becf\",\"#17becf\",\"#17becf\",\"#17becf\",\"#17becf\",\"#17becf\",\"#17becf\",\"#17becf\",\"#17becf\",\"#17becf\",\"#17becf\",\"#17becf\",\"#17becf\",\"#17becf\",\"#17becf\",\"#17becf\",\"#17becf\",\"#17becf\",\"#17becf\",\"#17becf\",\"#17becf\",\"#17becf\",\"#17becf\",\"#17becf\",\"#17becf\",\"#17becf\",\"#17becf\",\"#17becf\",\"#17becf\",\"#17becf\",\"#17becf\",\"#17becf\",\"#17becf\",\"#17becf\",\"#17becf\",\"#17becf\",\"#17becf\",\"#17becf\",\"#17becf\",\"#17becf\",\"#17becf\",\"#17becf\",\"#17becf\",\"#17becf\",\"#17becf\",\"#17becf\",\"#17becf\",\"#17becf\",\"#17becf\",\"#17becf\"]],[\"Humidity\",{\"type\":\"ndarray\",\"array\":{\"type\":\"bytes\",\"data\":\"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\"},\"shape\":[573],\"dtype\":\"int32\",\"order\":\"little\"}],[\"City\",[\"constantia\",\"hithadhoo\",\"carbonear\",\"waitangi\",\"yeppoon\",\"inirida\",\"olonkinbyen\",\"hermanus\",\"nagqu\",\"anadyr\",\"new norfolk\",\"ribeira grande\",\"west island\",\"papatowai\",\"blackmans bay\",\"yangjiang\",\"hawaiian paradise park\",\"port-aux-francais\",\"grytviken\",\"cadale\",\"tofol\",\"tual\",\"angaur state\",\"adamstown\",\"college\",\"kristiansund\",\"douentza\",\"suntar\",\"vilyuysk\",\"kujang-up\",\"humaita\",\"klyuchi\",\"puerto natales\",\"khandud\",\"praya\",\"skeldon\",\"avarua\",\"barcelona\",\"katsuura\",\"badger\",\"nar'yan-mar\",\"edinburgh of the seven seas\",\"ouarzazat\",\"lucapa\",\"port hedland\",\"jamestown\",\"isafjordur\",\"labrador city\",\"ushuaia\",\"bethel\",\"taksimo\",\"valday\",\"enewetak\",\"longyearbyen\",\"kitimat\",\"nemuro\",\"yellowknife\",\"alofi\",\"stanley\",\"invercargill\",\"hadibu\",\"noosa heads\",\"genthin\",\"nadym\",\"masterton\",\"luderitz\",\"necochea\",\"naliya\",\"brookings\",\"gaalkacyo\",\"gordonvale\",\"aasiaat\",\"bredasdorp\",\"lorengau\",\"garachico\",\"st. john's\",\"port mathurin\",\"cidreira\",\"dudinka\",\"hoemul-li\",\"puerto ayora\",\"mount gambier\",\"margaret river\",\"iqaluit\",\"port alfred\",\"dabakala\",\"soio\",\"wimauma\",\"cabo san lucas\",\"selizharovo\",\"thompson\",\"nacozari de garcia\",\"leava\",\"kingston\",\"lazaro cardenas\",\"ciudad madero\",\"petropavlovsk-kamchatsky\",\"kargopol'\",\"saint-pierre\",\"tiksi\",\"gunupur\",\"cassilandia\",\"melfort\",\"fort stockton\",\"rurrenabaque\",\"playa del ingles\",\"torghay\",\"kapuskasing\",\"la passe\",\"siguiri\",\"atafu village\",\"beaudesert\",\"itoman\",\"albany\",\"kentville\",\"nantucket\",\"portland\",\"adam\",\"quellon\",\"san patricio\",\"vernon\",\"geraldton\",\"callao\",\"qamdo\",\"palmas\",\"juan griego\",\"lebu\",\"talnakh\",\"chonchi\",\"greymouth\",\"whitehorse\",\"sisimiut\",\"nyurba\",\"port elizabeth\",\"huehuetan\",\"magadan\",\"xining\",\"uturoa\",\"ulladulla\",\"beichengqu\",\"giyani\",\"yanchep\",\"sur\",\"juneau\",\"acarau\",\"bethanie\",\"weilheim\",\"flying fish cove\",\"lihue\",\"obo\",\"cove\",\"mount pearl\",\"trinidad\",\"port douglas\",\"tromso\",\"corinto\",\"sievi\",\"nova sintra\",\"aykhal\",\"as sulayyil\",\"pangoa\",\"chernyshevskiy\",\"island harbour\",\"vadso\",\"saipan\",\"ancud\",\"anzhero-sudzhensk\",\"puerto colombia\",\"belmonte\",\"caconda\",\"pitanga\",\"sao vicente\",\"fisterra\",\"malpica\",\"vila franca do campo\",\"ayorou\",\"norilsk\",\"san angelo\",\"kerman\",\"touros\",\"eyl\",\"duba\",\"vorotynets\",\"gadzhiyevo\",\"oamaru\",\"ponte nova\",\"riohacha\",\"timaru\",\"bilibino\",\"vrangel'\",\"francisco sa\",\"jiangyou\",\"wuwei\",\"georgetown\",\"recreo\",\"wailua homesteads\",\"cole harbour\",\"alice springs\",\"sinabang\",\"villa la angostura\",\"brezina\",\"itaituba\",\"strathmore\",\"zaozersk\",\"san mariano\",\"port saint john's\",\"syktyvkar\",\"nogliki\",\"haiku-pauwela\",\"kapa'a\",\"la'ie\",\"fale old settlement\",\"tazovsky\",\"peruibe\",\"kodiak\",\"ust-nera\",\"al jawf\",\"hasaki\",\"san pedro pochutla\",\"nabire\",\"kumagunnam\",\"novyy urengoy\",\"tabou\",\"praia da vitoria\",\"aoulef\",\"katsuren-haebaru\",\"new plymouth\",\"muroto-misakicho\",\"fort st. john\",\"ambazac\",\"sitka\",\"holualoa\",\"brandon\",\"codajas\",\"contamana\",\"minas de marcona\",\"yuzhno-kurilsk\",\"heihe\",\"dunedin\",\"robore\",\"mil'kovo\",\"vorgashor\",\"kutum\",\"piton saint-leu\",\"okhotsk\",\"punta arenas\",\"ugleural'skiy\",\"tura\",\"galle\",\"fortuna\",\"santa terezinha\",\"colonia\",\"ilha de mocambique\",\"ylitornio\",\"bodo\",\"puerto baquerizo moreno\",\"ha'il\",\"east london\",\"richards bay\",\"rongelap\",\"pandan\",\"paracuru\",\"la ronge\",\"mityana\",\"ndibene dahra\",\"tegueste\",\"coquimbo\",\"williams lake\",\"shalya\",\"tezu\",\"rocha\",\"the pas\",\"puerto santa\",\"ilulissat\",\"hamilton\",\"kharp\",\"sinjar\",\"whakatane\",\"les cayes\",\"kamina\",\"fort bragg\",\"beira\",\"codrington\",\"seoni\",\"bridgewater\",\"undurkhaan\",\"plouzane\",\"mejit\",\"bartica\",\"tsetserleg\",\"chinnamanur\",\"udachny\",\"zavetnoye\",\"svetlyy\",\"santiago de cao\",\"qaqortoq\",\"kantang\",\"ola\",\"dzuunharaa\",\"susuman\",\"ballina\",\"mandalgovi\",\"broken hill\",\"port lincoln\",\"patnanungan\",\"diawara\",\"magdagachi\",\"selfoss\",\"aldan\",\"kununurra\",\"kahama\",\"kyabe\",\"olinda\",\"dakhla\",\"ivrindi\",\"harper\",\"afaahiti\",\"cloverdale\",\"polyarnyy\",\"bologoye\",\"karratha\",\"fruita\",\"westport\",\"egilsstadir\",\"kheri\",\"kourou\",\"marquette\",\"saint-philippe\",\"antsiranana\",\"palmer\",\"motueka\",\"saint-joseph\",\"ad dabbah\",\"deqen\",\"andujar\",\"al buraymi\",\"hengchun\",\"kavaratti\",\"forquilhinha\",\"bilopillya\",\"shimanovsk\",\"bonthe\",\"malindi\",\"matoury\",\"naze\",\"kampene\",\"binzhou\",\"shevchenko\",\"nelson bay\",\"zurrieq\",\"astaneh-ye ashrafiyeh\",\"north bend\",\"afif\",\"urangan\",\"mount isa\",\"hammerfest\",\"priob'ye\",\"lompoc\",\"hilo\",\"manta\",\"lerwick\",\"warwick\",\"inhambane\",\"taulaga\",\"auki\",\"zhangjiakou shi xuanhua qu\",\"san antonio de pale\",\"pisco\",\"happy valley-goose bay\",\"kuala terengganu\",\"yulinshi\",\"es castell\",\"flin flon\",\"lockwood\",\"margate\",\"pama\",\"remire-montjoly\",\"namibe\",\"koryazhma\",\"achacachi\",\"simaria\",\"veselyy\",\"baharly\",\"ta`u\",\"igrim\",\"miguel alves\",\"puerto escondido\",\"uchaly\",\"kaoma\",\"dryden\",\"mazagao\",\"tolanaro\",\"ribeira brava\",\"mandya\",\"saudarkrokur\",\"tabas\",\"timbuktu\",\"gotsucho\",\"chabahar\",\"ahiri\",\"tucacas\",\"kayangel\",\"mossel bay\",\"murzuq\",\"peniche\",\"novoagansk\",\"belyy yar\",\"malvan\",\"namtsy\",\"khovd\",\"shuangjiang\",\"quiberon\",\"palenque\",\"dinguiraye\",\"vilyuchinsk\",\"manokwari\",\"polva\",\"kyzylorda\",\"labasa\",\"toamasina\",\"minyat an nasr\",\"tralee\",\"kabo\",\"jinan\",\"hirara\",\"al ghayzah\",\"tommot\",\"lasem\",\"lodja\",\"ponta delgada\",\"puerto aysen\",\"sale\",\"sovetskiy\",\"tinghir\",\"plettenberg bay\",\"cabedelo\",\"champoton\",\"kavieng\",\"kruisfontein\",\"tara\",\"howrah\",\"willard\",\"balikpapan\",\"taltal\",\"vila velha\",\"tonota\",\"lata\",\"crawfordsville\",\"avanigadda\",\"jining\",\"morrinhos\",\"lazarevskoye\",\"ofunato\",\"chaihe\",\"antofagasta\",\"miri\",\"mbandaka\",\"ukata\",\"zachary\",\"omdurman\",\"kerikeri\",\"bocas del toro\",\"freeport\",\"volodarskiy\",\"pak phanang\",\"parkes\",\"cedar city\",\"bubaque\",\"samarinda\",\"estevan\",\"chapeco\",\"itamaraca\",\"khowy\",\"gizo\",\"barcelos\",\"carnarvon\",\"luwuk\",\"sal rei\",\"jaguarari\",\"nuku'alofa\",\"prainha\",\"bereznik\",\"bien hoa\",\"sao joao da barra\",\"northam\",\"severo-yeniseyskiy\",\"mukalla\",\"soe\",\"san agustin de valle fertil\",\"lubang\",\"ulysses\",\"bozkurt\",\"betio village\",\"panaba\",\"sorong\",\"piti village\",\"at taj\",\"magadi\",\"cromwell\",\"boa vista\",\"casper\",\"pipraich\",\"kosh-agach\",\"bamboo flat\",\"limon\",\"eldorado\",\"nizhnesortymskiy\",\"kasongo-lunda\",\"znamenskoye\",\"qui nhon\",\"ciudad lazaro cardenas\",\"pordic\",\"bumba\",\"yaren\",\"ndikinimeki\",\"basco\",\"samamiya\",\"kangding\",\"swan hill\",\"havre\",\"las heras\",\"iskateley\",\"oriximina\",\"aktyubinskiy\",\"tadine\",\"north battleford\",\"forster\",\"jianshui\",\"warman\",\"sos'va\",\"queenstown\",\"merizo village\",\"tartagal\",\"paragould\",\"dunaivtsi\",\"vilhena\",\"pokachi\",\"herat\",\"arvayheer\",\"axim\",\"paradip garh\",\"hami\",\"grants\",\"vadul lui voda\",\"tsaratanana\",\"manacapuru\",\"suva\",\"corowa\",\"tamandare\",\"keflavik\",\"slave lake\",\"kiunga\",\"barrouallie\",\"nouadhibou\",\"kemijarvi\",\"kirsanov\",\"chipping ongar\",\"tsiombe\",\"namdrik\",\"the bottom\",\"kem'\",\"mananjary\",\"yamada\",\"caspe\",\"sungai penuh\",\"banda aceh\",\"kidal\",\"puerto princesa\",\"zemio\",\"zvolen\",\"tazacorte\",\"galesong\",\"puerto montt\"]],[\"Country\",[\"RO\",\"MV\",\"CA\",\"NZ\",\"AU\",\"CO\",\"SJ\",\"ZA\",\"CN\",\"RU\",\"AU\",\"PT\",\"CC\",\"NZ\",\"AU\",\"CN\",\"US\",\"TF\",\"GS\",\"SO\",\"FM\",\"ID\",\"PW\",\"PN\",\"US\",\"NO\",\"ML\",\"RU\",\"RU\",\"KP\",\"BR\",\"RU\",\"CL\",\"AF\",\"CV\",\"GY\",\"CK\",\"ES\",\"JP\",\"US\",\"RU\",\"SH\",\"MA\",\"AO\",\"AU\",\"US\",\"IS\",\"CA\",\"AR\",\"US\",\"RU\",\"RU\",\"MH\",\"SJ\",\"CA\",\"JP\",\"CA\",\"NU\",\"GB\",\"NZ\",\"YE\",\"AU\",\"DE\",\"RU\",\"NZ\",\"nan\",\"AR\",\"IN\",\"US\",\"SO\",\"AU\",\"GL\",\"ZA\",\"PG\",\"ES\",\"CA\",\"MU\",\"BR\",\"RU\",\"KP\",\"EC\",\"AU\",\"AU\",\"CA\",\"ZA\",\"CI\",\"AO\",\"US\",\"MX\",\"RU\",\"CA\",\"MX\",\"WF\",\"JM\",\"MX\",\"MX\",\"RU\",\"RU\",\"RE\",\"RU\",\"IN\",\"BR\",\"CA\",\"US\",\"BO\",\"ES\",\"KZ\",\"CA\",\"FR\",\"GN\",\"TK\",\"AU\",\"JP\",\"US\",\"CA\",\"US\",\"US\",\"OM\",\"CL\",\"US\",\"CA\",\"AU\",\"PE\",\"CN\",\"BR\",\"VE\",\"CL\",\"RU\",\"CL\",\"NZ\",\"CA\",\"GL\",\"RU\",\"ZA\",\"MX\",\"RU\",\"CN\",\"PF\",\"AU\",\"CN\",\"ZA\",\"AU\",\"OM\",\"US\",\"BR\",\"nan\",\"DE\",\"CX\",\"US\",\"CF\",\"BJ\",\"CA\",\"BO\",\"AU\",\"NO\",\"GR\",\"FI\",\"CV\",\"RU\",\"SA\",\"PE\",\"RU\",\"GB\",\"NO\",\"MP\",\"CL\",\"RU\",\"CO\",\"BR\",\"AO\",\"BR\",\"BR\",\"ES\",\"ES\",\"PT\",\"NE\",\"RU\",\"US\",\"IR\",\"BR\",\"SO\",\"SA\",\"RU\",\"RU\",\"NZ\",\"BR\",\"CO\",\"NZ\",\"RU\",\"RU\",\"BR\",\"CN\",\"CN\",\"MY\",\"AR\",\"US\",\"CA\",\"AU\",\"ID\",\"AR\",\"DZ\",\"BR\",\"CA\",\"RU\",\"PH\",\"ZA\",\"RU\",\"RU\",\"US\",\"US\",\"US\",\"TK\",\"RU\",\"BR\",\"US\",\"RU\",\"SA\",\"JP\",\"MX\",\"ID\",\"NG\",\"RU\",\"CI\",\"PT\",\"DZ\",\"JP\",\"NZ\",\"JP\",\"CA\",\"FR\",\"US\",\"US\",\"US\",\"BR\",\"PE\",\"PE\",\"RU\",\"CN\",\"NZ\",\"BO\",\"RU\",\"RU\",\"SD\",\"RE\",\"RU\",\"CL\",\"RU\",\"IN\",\"LK\",\"US\",\"BR\",\"DE\",\"MZ\",\"FI\",\"NO\",\"EC\",\"SA\",\"ZA\",\"ZA\",\"MH\",\"PH\",\"BR\",\"CA\",\"UG\",\"SN\",\"ES\",\"CL\",\"CA\",\"RU\",\"IN\",\"UY\",\"CA\",\"PE\",\"GL\",\"US\",\"RU\",\"IQ\",\"NZ\",\"HT\",\"CD\",\"US\",\"MZ\",\"AU\",\"IN\",\"CA\",\"MN\",\"FR\",\"MH\",\"GY\",\"MN\",\"IN\",\"RU\",\"RU\",\"RU\",\"PE\",\"GL\",\"TH\",\"RU\",\"MN\",\"RU\",\"AU\",\"MN\",\"AU\",\"AU\",\"PH\",\"SN\",\"RU\",\"IS\",\"RU\",\"AU\",\"TZ\",\"TD\",\"BR\",\"EH\",\"TR\",\"LR\",\"PF\",\"US\",\"RU\",\"RU\",\"AU\",\"US\",\"US\",\"IS\",\"IN\",\"GF\",\"US\",\"RE\",\"MG\",\"US\",\"NZ\",\"RE\",\"SD\",\"CN\",\"ES\",\"OM\",\"TW\",\"IN\",\"BR\",\"UA\",\"RU\",\"SL\",\"KE\",\"GF\",\"JP\",\"CD\",\"CN\",\"UA\",\"AU\",\"MT\",\"IR\",\"US\",\"SA\",\"AU\",\"AU\",\"NO\",\"RU\",\"US\",\"US\",\"EC\",\"GB\",\"US\",\"MZ\",\"AS\",\"SB\",\"CN\",\"GQ\",\"PE\",\"CA\",\"MY\",\"CN\",\"ES\",\"CA\",\"US\",\"GB\",\"BF\",\"GF\",\"AO\",\"RU\",\"BO\",\"IN\",\"RU\",\"TM\",\"AS\",\"RU\",\"BR\",\"MX\",\"RU\",\"ZM\",\"CA\",\"BR\",\"MG\",\"PT\",\"IN\",\"IS\",\"IR\",\"ML\",\"JP\",\"IR\",\"IN\",\"VE\",\"PW\",\"ZA\",\"LY\",\"PT\",\"RU\",\"RU\",\"IN\",\"RU\",\"MN\",\"CN\",\"FR\",\"MX\",\"GN\",\"RU\",\"ID\",\"EE\",\"KZ\",\"FJ\",\"MG\",\"EG\",\"IE\",\"CF\",\"CN\",\"JP\",\"YE\",\"RU\",\"ID\",\"CD\",\"PT\",\"CL\",\"MA\",\"RU\",\"MA\",\"ZA\",\"BR\",\"MX\",\"PG\",\"ZA\",\"RU\",\"IN\",\"US\",\"ID\",\"CL\",\"BR\",\"BW\",\"PT\",\"US\",\"IN\",\"CN\",\"BR\",\"RU\",\"JP\",\"CN\",\"CL\",\"MY\",\"CD\",\"NG\",\"US\",\"SD\",\"NZ\",\"PA\",\"US\",\"RU\",\"TH\",\"AU\",\"US\",\"GW\",\"ID\",\"CA\",\"BR\",\"BR\",\"IR\",\"SB\",\"PT\",\"AU\",\"ID\",\"CV\",\"BR\",\"TO\",\"BR\",\"RU\",\"VN\",\"BR\",\"GB\",\"RU\",\"YE\",\"ID\",\"AR\",\"PH\",\"US\",\"TR\",\"KI\",\"MX\",\"ID\",\"GU\",\"LY\",\"IN\",\"US\",\"BR\",\"US\",\"IN\",\"RU\",\"IN\",\"CR\",\"BR\",\"RU\",\"CD\",\"RU\",\"VN\",\"MX\",\"FR\",\"CD\",\"NR\",\"CM\",\"PH\",\"NG\",\"CN\",\"AU\",\"FR\",\"AR\",\"RU\",\"BR\",\"RU\",\"NC\",\"CA\",\"AU\",\"CN\",\"CA\",\"RU\",\"ZA\",\"GU\",\"AR\",\"US\",\"UA\",\"BR\",\"RU\",\"AF\",\"MN\",\"GH\",\"IN\",\"CN\",\"US\",\"MD\",\"MG\",\"BR\",\"FJ\",\"AU\",\"BR\",\"IS\",\"CA\",\"PG\",\"VC\",\"MR\",\"FI\",\"RU\",\"GB\",\"MG\",\"MH\",\"BQ\",\"RU\",\"MG\",\"JP\",\"ES\",\"ID\",\"ID\",\"ML\",\"PH\",\"CF\",\"SK\",\"ES\",\"ID\",\"CL\"]],[\"color\",[\"#1f77b4\",\"#1f77b4\",\"#1f77b4\",\"#1f77b4\",\"#1f77b4\",\"#1f77b4\",\"#1f77b4\",\"#1f77b4\",\"#1f77b4\",\"#1f77b4\",\"#1f77b4\",\"#1f77b4\",\"#1f77b4\",\"#1f77b4\",\"#1f77b4\",\"#1f77b4\",\"#1f77b4\",\"#1f77b4\",\"#1f77b4\",\"#1f77b4\",\"#1f77b4\",\"#1f77b4\",\"#1f77b4\",\"#1f77b4\",\"#1f77b4\",\"#1f77b4\",\"#1f77b4\",\"#1f77b4\",\"#1f77b4\",\"#1f77b4\",\"#1f77b4\",\"#1f77b4\",\"#1f77b4\",\"#1f77b4\",\"#1f77b4\",\"#1f77b4\",\"#1f77b4\",\"#1f77b4\",\"#1f77b4\",\"#1f77b4\",\"#1f77b4\",\"#1f77b4\",\"#1f77b4\",\"#1f77b4\",\"#1f77b4\",\"#1f77b4\",\"#1f77b4\",\"#1f77b4\",\"#1f77b4\",\"#1f77b4\",\"#1f77b4\",\"#1f77b4\",\"#1f77b4\",\"#1f77b4\",\"#1f77b4\",\"#1f77b4\",\"#1f77b4\",\"#1f77b4\",\"#ff7f0e\",\"#ff7f0e\",\"#ff7f0e\",\"#ff7f0e\",\"#ff7f0e\",\"#ff7f0e\",\"#ff7f0e\",\"#ff7f0e\",\"#ff7f0e\",\"#ff7f0e\",\"#ff7f0e\",\"#ff7f0e\",\"#ff7f0e\",\"#ff7f0e\",\"#ff7f0e\",\"#ff7f0e\",\"#ff7f0e\",\"#ff7f0e\",\"#ff7f0e\",\"#ff7f0e\",\"#ff7f0e\",\"#ff7f0e\",\"#ff7f0e\",\"#ff7f0e\",\"#ff7f0e\",\"#ff7f0e\",\"#ff7f0e\",\"#ff7f0e\",\"#ff7f0e\",\"#ff7f0e\",\"#ff7f0e\",\"#ff7f0e\",\"#ff7f0e\",\"#ff7f0e\",\"#ff7f0e\",\"#ff7f0e\",\"#ff7f0e\",\"#ff7f0e\",\"#ff7f0e\",\"#ff7f0e\",\"#ff7f0e\",\"#ff7f0e\",\"#ff7f0e\",\"#ff7f0e\",\"#ff7f0e\",\"#ff7f0e\",\"#ff7f0e\",\"#ff7f0e\",\"#ff7f0e\",\"#ff7f0e\",\"#ff7f0e\",\"#ff7f0e\",\"#ff7f0e\",\"#ff7f0e\",\"#ff7f0e\",\"#ff7f0e\",\"#ff7f0e\",\"#2ca02c\",\"#2ca02c\",\"#2ca02c\",\"#2ca02c\",\"#2ca02c\",\"#2ca02c\",\"#2ca02c\",\"#2ca02c\",\"#2ca02c\",\"#2ca02c\",\"#2ca02c\",\"#2ca02c\",\"#2ca02c\",\"#2ca02c\",\"#2ca02c\",\"#2ca02c\",\"#2ca02c\",\"#2ca02c\",\"#2ca02c\",\"#2ca02c\",\"#2ca02c\",\"#2ca02c\",\"#2ca02c\",\"#2ca02c\",\"#2ca02c\",\"#2ca02c\",\"#2ca02c\",\"#2ca02c\",\"#2ca02c\",\"#2ca02c\",\"#2ca02c\",\"#2ca02c\",\"#2ca02c\",\"#2ca02c\",\"#2ca02c\",\"#2ca02c\",\"#2ca02c\",\"#2ca02c\",\"#2ca02c\",\"#2ca02c\",\"#2ca02c\",\"#2ca02c\",\"#2ca02c\",\"#2ca02c\",\"#2ca02c\",\"#2ca02c\",\"#2ca02c\",\"#2ca02c\",\"#2ca02c\",\"#2ca02c\",\"#2ca02c\",\"#2ca02c\",\"#2ca02c\",\"#2ca02c\",\"#2ca02c\",\"#2ca02c\",\"#2ca02c\",\"#d62728\",\"#d62728\",\"#d62728\",\"#d62728\",\"#d62728\",\"#d62728\",\"#d62728\",\"#d62728\",\"#d62728\",\"#d62728\",\"#d62728\",\"#d62728\",\"#d62728\",\"#d62728\",\"#d62728\",\"#d62728\",\"#d62728\",\"#d62728\",\"#d62728\",\"#d62728\",\"#d62728\",\"#d62728\",\"#d62728\",\"#d62728\",\"#d62728\",\"#d62728\",\"#d62728\",\"#d62728\",\"#d62728\",\"#d62728\",\"#d62728\",\"#d62728\",\"#d62728\",\"#d62728\",\"#d62728\",\"#d62728\",\"#d62728\",\"#d62728\",\"#d62728\",\"#d62728\",\"#d62728\",\"#d62728\",\"#d62728\",\"#d62728\",\"#d62728\",\"#d62728\",\"#d62728\",\"#d62728\",\"#d62728\",\"#d62728\",\"#d62728\",\"#d62728\",\"#d62728\",\"#d62728\",\"#d62728\",\"#d62728\",\"#d62728\",\"#9467bd\",\"#9467bd\",\"#9467bd\",\"#9467bd\",\"#9467bd\",\"#9467bd\",\"#9467bd\",\"#9467bd\",\"#9467bd\",\"#9467bd\",\"#9467bd\",\"#9467bd\",\"#9467bd\",\"#9467bd\",\"#9467bd\",\"#9467bd\",\"#9467bd\",\"#9467bd\",\"#9467bd\",\"#9467bd\",\"#9467bd\",\"#9467bd\",\"#9467bd\",\"#9467bd\",\"#9467bd\",\"#9467bd\",\"#9467bd\",\"#9467bd\",\"#9467bd\",\"#9467bd\",\"#9467bd\",\"#9467bd\",\"#9467bd\",\"#9467bd\",\"#9467bd\",\"#9467bd\",\"#9467bd\",\"#9467bd\",\"#9467bd\",\"#9467bd\",\"#9467bd\",\"#9467bd\",\"#9467bd\",\"#9467bd\",\"#9467bd\",\"#9467bd\",\"#9467bd\",\"#9467bd\",\"#9467bd\",\"#9467bd\",\"#9467bd\",\"#9467bd\",\"#9467bd\",\"#9467bd\",\"#9467bd\",\"#9467bd\",\"#9467bd\",\"#8c564b\",\"#8c564b\",\"#8c564b\",\"#8c564b\",\"#8c564b\",\"#8c564b\",\"#8c564b\",\"#8c564b\",\"#8c564b\",\"#8c564b\",\"#8c564b\",\"#8c564b\",\"#8c564b\",\"#8c564b\",\"#8c564b\",\"#8c564b\",\"#8c564b\",\"#8c564b\",\"#8c564b\",\"#8c564b\",\"#8c564b\",\"#8c564b\",\"#8c564b\",\"#8c564b\",\"#8c564b\",\"#8c564b\",\"#8c564b\",\"#8c564b\",\"#8c564b\",\"#8c564b\",\"#8c564b\",\"#8c564b\",\"#8c564b\",\"#8c564b\",\"#8c564b\",\"#8c564b\",\"#8c564b\",\"#8c564b\",\"#8c564b\",\"#8c564b\",\"#8c564b\",\"#8c564b\",\"#8c564b\",\"#8c564b\",\"#8c564b\",\"#8c564b\",\"#8c564b\",\"#8c564b\",\"#8c564b\",\"#8c564b\",\"#8c564b\",\"#8c564b\",\"#8c564b\",\"#8c564b\",\"#8c564b\",\"#8c564b\",\"#8c564b\",\"#8c564b\",\"#e377c2\",\"#e377c2\",\"#e377c2\",\"#e377c2\",\"#e377c2\",\"#e377c2\",\"#e377c2\",\"#e377c2\",\"#e377c2\",\"#e377c2\",\"#e377c2\",\"#e377c2\",\"#e377c2\",\"#e377c2\",\"#e377c2\",\"#e377c2\",\"#e377c2\",\"#e377c2\",\"#e377c2\",\"#e377c2\",\"#e377c2\",\"#e377c2\",\"#e377c2\",\"#e377c2\",\"#e377c2\",\"#e377c2\",\"#e377c2\",\"#e377c2\",\"#e377c2\",\"#e377c2\",\"#e377c2\",\"#e377c2\",\"#e377c2\",\"#e377c2\",\"#e377c2\",\"#e377c2\",\"#e377c2\",\"#e377c2\",\"#e377c2\",\"#e377c2\",\"#e377c2\",\"#e377c2\",\"#e377c2\",\"#e377c2\",\"#e377c2\",\"#e377c2\",\"#e377c2\",\"#e377c2\",\"#e377c2\",\"#e377c2\",\"#e377c2\",\"#e377c2\",\"#e377c2\",\"#e377c2\",\"#e377c2\",\"#e377c2\",\"#e377c2\",\"#7f7f7f\",\"#7f7f7f\",\"#7f7f7f\",\"#7f7f7f\",\"#7f7f7f\",\"#7f7f7f\",\"#7f7f7f\",\"#7f7f7f\",\"#7f7f7f\",\"#7f7f7f\",\"#7f7f7f\",\"#7f7f7f\",\"#7f7f7f\",\"#7f7f7f\",\"#7f7f7f\",\"#7f7f7f\",\"#7f7f7f\",\"#7f7f7f\",\"#7f7f7f\",\"#7f7f7f\",\"#7f7f7f\",\"#7f7f7f\",\"#7f7f7f\",\"#7f7f7f\",\"#7f7f7f\",\"#7f7f7f\",\"#7f7f7f\",\"#7f7f7f\",\"#7f7f7f\",\"#7f7f7f\",\"#7f7f7f\",\"#7f7f7f\",\"#7f7f7f\",\"#7f7f7f\",\"#7f7f7f\",\"#7f7f7f\",\"#7f7f7f\",\"#7f7f7f\",\"#7f7f7f\",\"#7f7f7f\",\"#7f7f7f\",\"#7f7f7f\",\"#7f7f7f\",\"#7f7f7f\",\"#7f7f7f\",\"#7f7f7f\",\"#7f7f7f\",\"#7f7f7f\",\"#7f7f7f\",\"#7f7f7f\",\"#7f7f7f\",\"#7f7f7f\",\"#7f7f7f\",\"#7f7f7f\",\"#7f7f7f\",\"#7f7f7f\",\"#7f7f7f\",\"#bcbd22\",\"#bcbd22\",\"#bcbd22\",\"#bcbd22\",\"#bcbd22\",\"#bcbd22\",\"#bcbd22\",\"#bcbd22\",\"#bcbd22\",\"#bcbd22\",\"#bcbd22\",\"#bcbd22\",\"#bcbd22\",\"#bcbd22\",\"#bcbd22\",\"#bcbd22\",\"#bcbd22\",\"#bcbd22\",\"#bcbd22\",\"#bcbd22\",\"#bcbd22\",\"#bcbd22\",\"#bcbd22\",\"#bcbd22\",\"#bcbd22\",\"#bcbd22\",\"#bcbd22\",\"#bcbd22\",\"#bcbd22\",\"#bcbd22\",\"#bcbd22\",\"#bcbd22\",\"#bcbd22\",\"#bcbd22\",\"#bcbd22\",\"#bcbd22\",\"#bcbd22\",\"#bcbd22\",\"#bcbd22\",\"#bcbd22\",\"#bcbd22\",\"#bcbd22\",\"#bcbd22\",\"#bcbd22\",\"#bcbd22\",\"#bcbd22\",\"#bcbd22\",\"#bcbd22\",\"#bcbd22\",\"#bcbd22\",\"#bcbd22\",\"#bcbd22\",\"#bcbd22\",\"#bcbd22\",\"#bcbd22\",\"#bcbd22\",\"#bcbd22\",\"#17becf\",\"#17becf\",\"#17becf\",\"#17becf\",\"#17becf\",\"#17becf\",\"#17becf\",\"#17becf\",\"#17becf\",\"#17becf\",\"#17becf\",\"#17becf\",\"#17becf\",\"#17becf\",\"#17becf\",\"#17becf\",\"#17becf\",\"#17becf\",\"#17becf\",\"#17becf\",\"#17becf\",\"#17becf\",\"#17becf\",\"#17becf\",\"#17becf\",\"#17becf\",\"#17becf\",\"#17becf\",\"#17becf\",\"#17becf\",\"#17becf\",\"#17becf\",\"#17becf\",\"#17becf\",\"#17becf\",\"#17becf\",\"#17becf\",\"#17becf\",\"#17becf\",\"#17becf\",\"#17becf\",\"#17becf\",\"#17becf\",\"#17becf\",\"#17becf\",\"#17becf\",\"#17becf\",\"#17becf\",\"#17becf\",\"#17becf\",\"#17becf\",\"#17becf\",\"#17becf\",\"#17becf\",\"#17becf\",\"#17becf\",\"#17becf\",\"#17becf\"]],[\"size\",{\"type\":\"ndarray\",\"array\":{\"type\":\"bytes\",\"data\":\"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\"},\"shape\":[573],\"dtype\":\"float64\",\"order\":\"little\"}]]}}},\"view\":{\"type\":\"object\",\"name\":\"CDSView\",\"id\":\"p1131\",\"attributes\":{\"filter\":{\"type\":\"object\",\"name\":\"AllIndices\",\"id\":\"p1132\"}}},\"glyph\":{\"type\":\"object\",\"name\":\"Scatter\",\"id\":\"p1125\",\"attributes\":{\"tags\":[\"apply_ranges\"],\"x\":{\"type\":\"field\",\"field\":\"Lng\"},\"y\":{\"type\":\"field\",\"field\":\"Lat\"},\"size\":{\"type\":\"field\",\"field\":\"size\"},\"line_color\":{\"type\":\"field\",\"field\":\"color\"},\"fill_color\":{\"type\":\"field\",\"field\":\"color\"},\"hatch_color\":{\"type\":\"field\",\"field\":\"color\"}}},\"selection_glyph\":{\"type\":\"object\",\"name\":\"Scatter\",\"id\":\"p1127\",\"attributes\":{\"tags\":[\"apply_ranges\"],\"x\":{\"type\":\"field\",\"field\":\"Lng\"},\"y\":{\"type\":\"field\",\"field\":\"Lat\"},\"size\":{\"type\":\"field\",\"field\":\"size\"},\"line_color\":{\"type\":\"field\",\"field\":\"color\"},\"fill_color\":{\"type\":\"field\",\"field\":\"color\"},\"hatch_color\":{\"type\":\"field\",\"field\":\"color\"}}},\"nonselection_glyph\":{\"type\":\"object\",\"name\":\"Scatter\",\"id\":\"p1126\",\"attributes\":{\"tags\":[\"apply_ranges\"],\"x\":{\"type\":\"field\",\"field\":\"Lng\"},\"y\":{\"type\":\"field\",\"field\":\"Lat\"},\"size\":{\"type\":\"field\",\"field\":\"size\"},\"line_color\":{\"type\":\"field\",\"field\":\"color\"},\"line_alpha\":{\"type\":\"value\",\"value\":0.1},\"fill_color\":{\"type\":\"field\",\"field\":\"color\"},\"fill_alpha\":{\"type\":\"value\",\"value\":0.1},\"hatch_color\":{\"type\":\"field\",\"field\":\"color\"},\"hatch_alpha\":{\"type\":\"value\",\"value\":0.1}}},\"hover_glyph\":{\"type\":\"object\",\"name\":\"Scatter\",\"id\":\"p1128\",\"attributes\":{\"tags\":[\"apply_ranges\"],\"x\":{\"type\":\"field\",\"field\":\"Lng\"},\"y\":{\"type\":\"field\",\"field\":\"Lat\"},\"size\":{\"type\":\"field\",\"field\":\"size\"},\"line_color\":{\"type\":\"field\",\"field\":\"color\"},\"fill_color\":{\"type\":\"field\",\"field\":\"color\"},\"hatch_color\":{\"type\":\"field\",\"field\":\"color\"}}},\"muted_glyph\":{\"type\":\"object\",\"name\":\"Scatter\",\"id\":\"p1129\",\"attributes\":{\"tags\":[\"apply_ranges\"],\"x\":{\"type\":\"field\",\"field\":\"Lng\"},\"y\":{\"type\":\"field\",\"field\":\"Lat\"},\"size\":{\"type\":\"field\",\"field\":\"size\"},\"line_color\":{\"type\":\"field\",\"field\":\"color\"},\"line_alpha\":{\"type\":\"value\",\"value\":0.2},\"fill_color\":{\"type\":\"field\",\"field\":\"color\"},\"fill_alpha\":{\"type\":\"value\",\"value\":0.2},\"hatch_color\":{\"type\":\"field\",\"field\":\"color\"},\"hatch_alpha\":{\"type\":\"value\",\"value\":0.2}}}}}],\"toolbar\":{\"type\":\"object\",\"name\":\"Toolbar\",\"id\":\"p1095\",\"attributes\":{\"tools\":[{\"type\":\"object\",\"name\":\"WheelZoomTool\",\"id\":\"p1084\",\"attributes\":{\"tags\":[\"hv_created\"],\"renderers\":\"auto\",\"zoom_together\":\"none\"}},{\"type\":\"object\",\"name\":\"HoverTool\",\"id\":\"p1085\",\"attributes\":{\"tags\":[\"hv_created\"],\"renderers\":[{\"id\":\"p1130\"}],\"tooltips\":[[\"Lng\",\"@{Lng}\"],[\"Lat\",\"@{Lat}\"],[\"Color\",\"@{Color}\"],[\"Humidity\",\"@{Humidity}\"],[\"City\",\"@{City}\"],[\"Country\",\"@{Country}\"]]}},{\"type\":\"object\",\"name\":\"SaveTool\",\"id\":\"p1108\"},{\"type\":\"object\",\"name\":\"PanTool\",\"id\":\"p1109\"},{\"type\":\"object\",\"name\":\"BoxZoomTool\",\"id\":\"p1110\",\"attributes\":{\"overlay\":{\"type\":\"object\",\"name\":\"BoxAnnotation\",\"id\":\"p1111\",\"attributes\":{\"syncable\":false,\"line_color\":\"black\",\"line_alpha\":1.0,\"line_width\":2,\"line_dash\":[4,4],\"fill_color\":\"lightgrey\",\"fill_alpha\":0.5,\"level\":\"overlay\",\"visible\":false,\"left\":{\"type\":\"number\",\"value\":\"nan\"},\"right\":{\"type\":\"number\",\"value\":\"nan\"},\"top\":{\"type\":\"number\",\"value\":\"nan\"},\"bottom\":{\"type\":\"number\",\"value\":\"nan\"},\"left_units\":\"canvas\",\"right_units\":\"canvas\",\"top_units\":\"canvas\",\"bottom_units\":\"canvas\",\"handles\":{\"type\":\"object\",\"name\":\"BoxInteractionHandles\",\"id\":\"p1117\",\"attributes\":{\"all\":{\"type\":\"object\",\"name\":\"AreaVisuals\",\"id\":\"p1116\",\"attributes\":{\"fill_color\":\"white\",\"hover_fill_color\":\"lightgray\"}}}}}}}},{\"type\":\"object\",\"name\":\"ResetTool\",\"id\":\"p1118\"}],\"active_drag\":{\"id\":\"p1109\"},\"active_scroll\":{\"id\":\"p1084\"}}},\"left\":[{\"type\":\"object\",\"name\":\"LinearAxis\",\"id\":\"p1103\",\"attributes\":{\"ticker\":{\"type\":\"object\",\"name\":\"BasicTicker\",\"id\":\"p1104\",\"attributes\":{\"mantissas\":[1,2,5]}},\"formatter\":{\"type\":\"object\",\"name\":\"BasicTickFormatter\",\"id\":\"p1105\"},\"axis_label\":\"Latitude\",\"major_label_policy\":{\"type\":\"object\",\"name\":\"AllLabels\",\"id\":\"p1106\"}}}],\"below\":[{\"type\":\"object\",\"name\":\"LinearAxis\",\"id\":\"p1098\",\"attributes\":{\"ticker\":{\"type\":\"object\",\"name\":\"BasicTicker\",\"id\":\"p1099\",\"attributes\":{\"mantissas\":[1,2,5]}},\"formatter\":{\"type\":\"object\",\"name\":\"BasicTickFormatter\",\"id\":\"p1100\"},\"axis_label\":\"Longitude\",\"major_label_policy\":{\"type\":\"object\",\"name\":\"AllLabels\",\"id\":\"p1101\"}}}],\"center\":[{\"type\":\"object\",\"name\":\"Grid\",\"id\":\"p1102\",\"attributes\":{\"axis\":{\"id\":\"p1098\"},\"grid_line_color\":null}},{\"type\":\"object\",\"name\":\"Grid\",\"id\":\"p1107\",\"attributes\":{\"dimension\":1,\"axis\":{\"id\":\"p1103\"},\"grid_line_color\":null}}],\"min_border_top\":10,\"min_border_bottom\":10,\"min_border_left\":10,\"min_border_right\":10,\"output_backend\":\"webgl\"}},{\"type\":\"object\",\"name\":\"Spacer\",\"id\":\"p1134\",\"attributes\":{\"name\":\"HSpacer01044\",\"stylesheets\":[\"\\n:host(.pn-loading):before, .pn-loading:before {\\n  background-color: #c3c3c3;\\n  mask-size: auto calc(min(50%, 400px));\\n  -webkit-mask-size: auto calc(min(50%, 400px));\\n}\",{\"id\":\"p1077\"},{\"id\":\"p1075\"},{\"id\":\"p1076\"}],\"margin\":0,\"sizing_mode\":\"stretch_width\",\"align\":\"start\"}}]}}],\"defs\":[{\"type\":\"model\",\"name\":\"ReactiveHTML1\"},{\"type\":\"model\",\"name\":\"FlexBox1\",\"properties\":[{\"name\":\"align_content\",\"kind\":\"Any\",\"default\":\"flex-start\"},{\"name\":\"align_items\",\"kind\":\"Any\",\"default\":\"flex-start\"},{\"name\":\"flex_direction\",\"kind\":\"Any\",\"default\":\"row\"},{\"name\":\"flex_wrap\",\"kind\":\"Any\",\"default\":\"wrap\"},{\"name\":\"gap\",\"kind\":\"Any\",\"default\":\"\"},{\"name\":\"justify_content\",\"kind\":\"Any\",\"default\":\"flex-start\"}]},{\"type\":\"model\",\"name\":\"FloatPanel1\",\"properties\":[{\"name\":\"config\",\"kind\":\"Any\",\"default\":{\"type\":\"map\"}},{\"name\":\"contained\",\"kind\":\"Any\",\"default\":true},{\"name\":\"position\",\"kind\":\"Any\",\"default\":\"right-top\"},{\"name\":\"offsetx\",\"kind\":\"Any\",\"default\":null},{\"name\":\"offsety\",\"kind\":\"Any\",\"default\":null},{\"name\":\"theme\",\"kind\":\"Any\",\"default\":\"primary\"},{\"name\":\"status\",\"kind\":\"Any\",\"default\":\"normalized\"}]},{\"type\":\"model\",\"name\":\"GridStack1\",\"properties\":[{\"name\":\"mode\",\"kind\":\"Any\",\"default\":\"warn\"},{\"name\":\"ncols\",\"kind\":\"Any\",\"default\":null},{\"name\":\"nrows\",\"kind\":\"Any\",\"default\":null},{\"name\":\"allow_resize\",\"kind\":\"Any\",\"default\":true},{\"name\":\"allow_drag\",\"kind\":\"Any\",\"default\":true},{\"name\":\"state\",\"kind\":\"Any\",\"default\":[]}]},{\"type\":\"model\",\"name\":\"drag1\",\"properties\":[{\"name\":\"slider_width\",\"kind\":\"Any\",\"default\":5},{\"name\":\"slider_color\",\"kind\":\"Any\",\"default\":\"black\"},{\"name\":\"value\",\"kind\":\"Any\",\"default\":50}]},{\"type\":\"model\",\"name\":\"click1\",\"properties\":[{\"name\":\"terminal_output\",\"kind\":\"Any\",\"default\":\"\"},{\"name\":\"debug_name\",\"kind\":\"Any\",\"default\":\"\"},{\"name\":\"clears\",\"kind\":\"Any\",\"default\":0}]},{\"type\":\"model\",\"name\":\"FastWrapper1\",\"properties\":[{\"name\":\"object\",\"kind\":\"Any\",\"default\":null},{\"name\":\"style\",\"kind\":\"Any\",\"default\":null}]},{\"type\":\"model\",\"name\":\"NotificationAreaBase1\",\"properties\":[{\"name\":\"js_events\",\"kind\":\"Any\",\"default\":{\"type\":\"map\"}},{\"name\":\"position\",\"kind\":\"Any\",\"default\":\"bottom-right\"},{\"name\":\"_clear\",\"kind\":\"Any\",\"default\":0}]},{\"type\":\"model\",\"name\":\"NotificationArea1\",\"properties\":[{\"name\":\"js_events\",\"kind\":\"Any\",\"default\":{\"type\":\"map\"}},{\"name\":\"notifications\",\"kind\":\"Any\",\"default\":[]},{\"name\":\"position\",\"kind\":\"Any\",\"default\":\"bottom-right\"},{\"name\":\"_clear\",\"kind\":\"Any\",\"default\":0},{\"name\":\"types\",\"kind\":\"Any\",\"default\":[{\"type\":\"map\",\"entries\":[[\"type\",\"warning\"],[\"background\",\"#ffc107\"],[\"icon\",{\"type\":\"map\",\"entries\":[[\"className\",\"fas fa-exclamation-triangle\"],[\"tagName\",\"i\"],[\"color\",\"white\"]]}]]},{\"type\":\"map\",\"entries\":[[\"type\",\"info\"],[\"background\",\"#007bff\"],[\"icon\",{\"type\":\"map\",\"entries\":[[\"className\",\"fas fa-info-circle\"],[\"tagName\",\"i\"],[\"color\",\"white\"]]}]]}]}]},{\"type\":\"model\",\"name\":\"Notification\",\"properties\":[{\"name\":\"background\",\"kind\":\"Any\",\"default\":null},{\"name\":\"duration\",\"kind\":\"Any\",\"default\":3000},{\"name\":\"icon\",\"kind\":\"Any\",\"default\":null},{\"name\":\"message\",\"kind\":\"Any\",\"default\":\"\"},{\"name\":\"notification_type\",\"kind\":\"Any\",\"default\":null},{\"name\":\"_destroyed\",\"kind\":\"Any\",\"default\":false}]},{\"type\":\"model\",\"name\":\"TemplateActions1\",\"properties\":[{\"name\":\"open_modal\",\"kind\":\"Any\",\"default\":0},{\"name\":\"close_modal\",\"kind\":\"Any\",\"default\":0}]},{\"type\":\"model\",\"name\":\"BootstrapTemplateActions1\",\"properties\":[{\"name\":\"open_modal\",\"kind\":\"Any\",\"default\":0},{\"name\":\"close_modal\",\"kind\":\"Any\",\"default\":0}]},{\"type\":\"model\",\"name\":\"TemplateEditor1\",\"properties\":[{\"name\":\"layout\",\"kind\":\"Any\",\"default\":[]}]},{\"type\":\"model\",\"name\":\"MaterialTemplateActions1\",\"properties\":[{\"name\":\"open_modal\",\"kind\":\"Any\",\"default\":0},{\"name\":\"close_modal\",\"kind\":\"Any\",\"default\":0}]},{\"type\":\"model\",\"name\":\"ReactiveESM1\"},{\"type\":\"model\",\"name\":\"JSComponent1\"},{\"type\":\"model\",\"name\":\"ReactComponent1\"},{\"type\":\"model\",\"name\":\"AnyWidgetComponent1\"},{\"type\":\"model\",\"name\":\"request_value1\",\"properties\":[{\"name\":\"fill\",\"kind\":\"Any\",\"default\":\"none\"},{\"name\":\"_synced\",\"kind\":\"Any\",\"default\":null},{\"name\":\"_request_sync\",\"kind\":\"Any\",\"default\":0}]}]}};\n",
       "  var render_items = [{\"docid\":\"e72673ba-5698-4ea9-9253-6742b68faa67\",\"roots\":{\"p1074\":\"f1b08d5b-82da-4e6d-9683-f9608754bc71\"},\"root_ids\":[\"p1074\"]}];\n",
       "  var docs = Object.values(docs_json)\n",
       "  if (!docs) {\n",
       "    return\n",
       "  }\n",
       "  const py_version = docs[0].version.replace('rc', '-rc.').replace('.dev', '-dev.')\n",
       "  async function embed_document(root) {\n",
       "    var Bokeh = get_bokeh(root)\n",
       "    await Bokeh.embed.embed_items_notebook(docs_json, render_items);\n",
       "    for (const render_item of render_items) {\n",
       "      for (const root_id of render_item.root_ids) {\n",
       "\tconst id_el = document.getElementById(root_id)\n",
       "\tif (id_el.children.length && id_el.children[0].hasAttribute('data-root-id')) {\n",
       "\t  const root_el = id_el.children[0]\n",
       "\t  root_el.id = root_el.id + '-rendered'\n",
       "\t  for (const child of root_el.children) {\n",
       "            // Ensure JupyterLab does not capture keyboard shortcuts\n",
       "            // see: https://jupyterlab.readthedocs.io/en/4.1.x/extension/notebook.html#keyboard-interaction-model\n",
       "\t    child.setAttribute('data-lm-suppress-shortcuts', 'true')\n",
       "\t  }\n",
       "\t}\n",
       "      }\n",
       "    }\n",
       "  }\n",
       "  function get_bokeh(root) {\n",
       "    if (root.Bokeh === undefined) {\n",
       "      return null\n",
       "    } else if (root.Bokeh.version !== py_version) {\n",
       "      if (root.Bokeh.versions === undefined || !root.Bokeh.versions.has(py_version)) {\n",
       "\treturn null\n",
       "      }\n",
       "      return root.Bokeh.versions.get(py_version);\n",
       "    } else if (root.Bokeh.version === py_version) {\n",
       "      return root.Bokeh\n",
       "    }\n",
       "    return null\n",
       "  }\n",
       "  function is_loaded(root) {\n",
       "    var Bokeh = get_bokeh(root)\n",
       "    return (Bokeh != null && Bokeh.Panel !== undefined)\n",
       "  }\n",
       "  if (is_loaded(root)) {\n",
       "    embed_document(root);\n",
       "  } else {\n",
       "    var attempts = 0;\n",
       "    var timer = setInterval(function(root) {\n",
       "      if (is_loaded(root)) {\n",
       "        clearInterval(timer);\n",
       "        embed_document(root);\n",
       "      } else if (document.readyState == \"complete\") {\n",
       "        attempts++;\n",
       "        if (attempts > 200) {\n",
       "          clearInterval(timer);\n",
       "\t  var Bokeh = get_bokeh(root)\n",
       "\t  if (Bokeh == null || Bokeh.Panel == null) {\n",
       "            console.warn(\"Panel: ERROR: Unable to run Panel code because Bokeh or Panel library is missing\");\n",
       "\t  } else {\n",
       "\t    console.warn(\"Panel: WARNING: Attempting to render but not all required libraries could be resolved.\")\n",
       "\t    embed_document(root)\n",
       "\t  }\n",
       "        }\n",
       "      }\n",
       "    }, 25, root)\n",
       "  }\n",
       "})(window);</script>"
      ],
      "text/plain": [
       ":Points   [Lng,Lat]   (Color,Humidity,City,Country)"
      ]
     },
     "execution_count": 30,
     "metadata": {
      "application/vnd.holoviews_exec.v0+json": {
       "id": "p1074"
      }
     },
     "output_type": "execute_result"
    }
   ],
   "source": [
    "%%capture --no-display\n",
    "# Create a color mapping for each city\n",
    "unique_cities = city_data_df['City'].unique()\n",
    "colors = plt.cm.get_cmap('tab10', len(unique_cities))  \n",
    "\n",
    "# Create a color mapping dictionary\n",
    "color_mapping = {city: colors(i) for i, city in enumerate(unique_cities)}\n",
    "\n",
    "# Convert RGBA colors to hex format for hvplot\n",
    "color_mapping = {city: mcolors.rgb2hex(colors(i)[:3]) for i, city in enumerate(unique_cities)}\n",
    "\n",
    "# Step 2: Add a new column to the DataFrame for colors\n",
    "city_data_df['Color'] = city_data_df['City'].map(color_mapping)\n",
    "\n",
    "#Configure the map plot with unique colors for each city\n",
    "map_plot = city_data_df.hvplot.points(\n",
    "    'Lng', 'Lat', \n",
    "    size='Humidity', \n",
    "    color='Color',  \n",
    "    title='City Humidity Map',\n",
    "    hover_cols=['City', 'Country'],\n",
    "    legend='top_right',  \n",
    "    xlabel='Longitude',  \n",
    "    ylabel='Latitude'    \n",
    ")\n",
    "\n",
    "\n",
    "# Display the map\n",
    "map_plot"
   ]
  },
  {
   "cell_type": "markdown",
   "metadata": {},
   "source": [
    "### Step 2: Narrow down the `city_data_df` DataFrame to find your ideal weather condition"
   ]
  },
  {
   "cell_type": "code",
   "execution_count": 33,
   "metadata": {},
   "outputs": [
    {
     "data": {
      "text/html": [
       "<div>\n",
       "<style scoped>\n",
       "    .dataframe tbody tr th:only-of-type {\n",
       "        vertical-align: middle;\n",
       "    }\n",
       "\n",
       "    .dataframe tbody tr th {\n",
       "        vertical-align: top;\n",
       "    }\n",
       "\n",
       "    .dataframe thead th {\n",
       "        text-align: right;\n",
       "    }\n",
       "</style>\n",
       "<table border=\"1\" class=\"dataframe\">\n",
       "  <thead>\n",
       "    <tr style=\"text-align: right;\">\n",
       "      <th></th>\n",
       "      <th>City_ID</th>\n",
       "      <th>City_ID</th>\n",
       "      <th>City</th>\n",
       "      <th>Lat</th>\n",
       "      <th>Lng</th>\n",
       "      <th>Max Temp</th>\n",
       "      <th>Humidity</th>\n",
       "      <th>Cloudiness</th>\n",
       "      <th>Wind Speed</th>\n",
       "      <th>Country</th>\n",
       "      <th>Date</th>\n",
       "    </tr>\n",
       "  </thead>\n",
       "  <tbody>\n",
       "    <tr>\n",
       "      <th>16</th>\n",
       "      <td>16</td>\n",
       "      <td>16</td>\n",
       "      <td>hawaiian paradise park</td>\n",
       "      <td>19.5933</td>\n",
       "      <td>-154.9731</td>\n",
       "      <td>25.50</td>\n",
       "      <td>77</td>\n",
       "      <td>0</td>\n",
       "      <td>2.06</td>\n",
       "      <td>US</td>\n",
       "      <td>1733598517</td>\n",
       "    </tr>\n",
       "    <tr>\n",
       "      <th>87</th>\n",
       "      <td>87</td>\n",
       "      <td>87</td>\n",
       "      <td>wimauma</td>\n",
       "      <td>27.7125</td>\n",
       "      <td>-82.2990</td>\n",
       "      <td>21.03</td>\n",
       "      <td>63</td>\n",
       "      <td>0</td>\n",
       "      <td>1.34</td>\n",
       "      <td>US</td>\n",
       "      <td>1733598928</td>\n",
       "    </tr>\n",
       "    <tr>\n",
       "      <th>98</th>\n",
       "      <td>98</td>\n",
       "      <td>98</td>\n",
       "      <td>saint-pierre</td>\n",
       "      <td>-21.3393</td>\n",
       "      <td>55.4781</td>\n",
       "      <td>25.82</td>\n",
       "      <td>65</td>\n",
       "      <td>0</td>\n",
       "      <td>1.54</td>\n",
       "      <td>RE</td>\n",
       "      <td>1733598319</td>\n",
       "    </tr>\n",
       "    <tr>\n",
       "      <th>111</th>\n",
       "      <td>111</td>\n",
       "      <td>111</td>\n",
       "      <td>beaudesert</td>\n",
       "      <td>-27.9833</td>\n",
       "      <td>152.9833</td>\n",
       "      <td>22.08</td>\n",
       "      <td>23</td>\n",
       "      <td>0</td>\n",
       "      <td>0.23</td>\n",
       "      <td>AU</td>\n",
       "      <td>1733598955</td>\n",
       "    </tr>\n",
       "    <tr>\n",
       "      <th>122</th>\n",
       "      <td>122</td>\n",
       "      <td>122</td>\n",
       "      <td>callao</td>\n",
       "      <td>-12.0667</td>\n",
       "      <td>-77.1500</td>\n",
       "      <td>22.16</td>\n",
       "      <td>68</td>\n",
       "      <td>0</td>\n",
       "      <td>3.09</td>\n",
       "      <td>PE</td>\n",
       "      <td>1733598968</td>\n",
       "    </tr>\n",
       "    <tr>\n",
       "      <th>231</th>\n",
       "      <td>231</td>\n",
       "      <td>231</td>\n",
       "      <td>holualoa</td>\n",
       "      <td>19.6228</td>\n",
       "      <td>-155.9522</td>\n",
       "      <td>24.37</td>\n",
       "      <td>64</td>\n",
       "      <td>0</td>\n",
       "      <td>2.57</td>\n",
       "      <td>US</td>\n",
       "      <td>1733598511</td>\n",
       "    </tr>\n",
       "    <tr>\n",
       "      <th>232</th>\n",
       "      <td>232</td>\n",
       "      <td>232</td>\n",
       "      <td>brandon</td>\n",
       "      <td>27.9378</td>\n",
       "      <td>-82.2859</td>\n",
       "      <td>21.15</td>\n",
       "      <td>54</td>\n",
       "      <td>0</td>\n",
       "      <td>1.79</td>\n",
       "      <td>US</td>\n",
       "      <td>1733599046</td>\n",
       "    </tr>\n",
       "    <tr>\n",
       "      <th>243</th>\n",
       "      <td>243</td>\n",
       "      <td>243</td>\n",
       "      <td>piton saint-leu</td>\n",
       "      <td>-21.2196</td>\n",
       "      <td>55.3151</td>\n",
       "      <td>23.06</td>\n",
       "      <td>65</td>\n",
       "      <td>0</td>\n",
       "      <td>1.54</td>\n",
       "      <td>RE</td>\n",
       "      <td>1733599102</td>\n",
       "    </tr>\n",
       "    <tr>\n",
       "      <th>353</th>\n",
       "      <td>353</td>\n",
       "      <td>353</td>\n",
       "      <td>urangan</td>\n",
       "      <td>-25.3000</td>\n",
       "      <td>152.9000</td>\n",
       "      <td>25.09</td>\n",
       "      <td>72</td>\n",
       "      <td>0</td>\n",
       "      <td>4.35</td>\n",
       "      <td>AU</td>\n",
       "      <td>1733599240</td>\n",
       "    </tr>\n",
       "    <tr>\n",
       "      <th>357</th>\n",
       "      <td>357</td>\n",
       "      <td>357</td>\n",
       "      <td>lompoc</td>\n",
       "      <td>34.6391</td>\n",
       "      <td>-120.4579</td>\n",
       "      <td>25.01</td>\n",
       "      <td>29</td>\n",
       "      <td>0</td>\n",
       "      <td>1.54</td>\n",
       "      <td>US</td>\n",
       "      <td>1733599246</td>\n",
       "    </tr>\n",
       "    <tr>\n",
       "      <th>358</th>\n",
       "      <td>358</td>\n",
       "      <td>358</td>\n",
       "      <td>hilo</td>\n",
       "      <td>19.7297</td>\n",
       "      <td>-155.0900</td>\n",
       "      <td>26.72</td>\n",
       "      <td>76</td>\n",
       "      <td>0</td>\n",
       "      <td>2.24</td>\n",
       "      <td>US</td>\n",
       "      <td>1733599249</td>\n",
       "    </tr>\n",
       "    <tr>\n",
       "      <th>391</th>\n",
       "      <td>391</td>\n",
       "      <td>391</td>\n",
       "      <td>tolanaro</td>\n",
       "      <td>-25.0319</td>\n",
       "      <td>46.9987</td>\n",
       "      <td>26.04</td>\n",
       "      <td>73</td>\n",
       "      <td>0</td>\n",
       "      <td>3.09</td>\n",
       "      <td>MG</td>\n",
       "      <td>1733599056</td>\n",
       "    </tr>\n",
       "    <tr>\n",
       "      <th>465</th>\n",
       "      <td>465</td>\n",
       "      <td>465</td>\n",
       "      <td>parkes</td>\n",
       "      <td>-33.1333</td>\n",
       "      <td>148.1833</td>\n",
       "      <td>21.31</td>\n",
       "      <td>99</td>\n",
       "      <td>0</td>\n",
       "      <td>0.95</td>\n",
       "      <td>AU</td>\n",
       "      <td>1733599382</td>\n",
       "    </tr>\n",
       "    <tr>\n",
       "      <th>544</th>\n",
       "      <td>544</td>\n",
       "      <td>544</td>\n",
       "      <td>tsaratanana</td>\n",
       "      <td>-16.7833</td>\n",
       "      <td>47.6500</td>\n",
       "      <td>26.43</td>\n",
       "      <td>64</td>\n",
       "      <td>0</td>\n",
       "      <td>0.98</td>\n",
       "      <td>MG</td>\n",
       "      <td>1733599476</td>\n",
       "    </tr>\n",
       "    <tr>\n",
       "      <th>557</th>\n",
       "      <td>557</td>\n",
       "      <td>557</td>\n",
       "      <td>tsiombe</td>\n",
       "      <td>-25.3000</td>\n",
       "      <td>45.4833</td>\n",
       "      <td>24.30</td>\n",
       "      <td>85</td>\n",
       "      <td>0</td>\n",
       "      <td>1.48</td>\n",
       "      <td>MG</td>\n",
       "      <td>1733599491</td>\n",
       "    </tr>\n",
       "  </tbody>\n",
       "</table>\n",
       "</div>"
      ],
      "text/plain": [
       "     City_ID  City_ID                    City      Lat       Lng  Max Temp  \\\n",
       "16        16       16  hawaiian paradise park  19.5933 -154.9731     25.50   \n",
       "87        87       87                 wimauma  27.7125  -82.2990     21.03   \n",
       "98        98       98            saint-pierre -21.3393   55.4781     25.82   \n",
       "111      111      111              beaudesert -27.9833  152.9833     22.08   \n",
       "122      122      122                  callao -12.0667  -77.1500     22.16   \n",
       "231      231      231                holualoa  19.6228 -155.9522     24.37   \n",
       "232      232      232                 brandon  27.9378  -82.2859     21.15   \n",
       "243      243      243         piton saint-leu -21.2196   55.3151     23.06   \n",
       "353      353      353                 urangan -25.3000  152.9000     25.09   \n",
       "357      357      357                  lompoc  34.6391 -120.4579     25.01   \n",
       "358      358      358                    hilo  19.7297 -155.0900     26.72   \n",
       "391      391      391                tolanaro -25.0319   46.9987     26.04   \n",
       "465      465      465                  parkes -33.1333  148.1833     21.31   \n",
       "544      544      544             tsaratanana -16.7833   47.6500     26.43   \n",
       "557      557      557                 tsiombe -25.3000   45.4833     24.30   \n",
       "\n",
       "     Humidity  Cloudiness  Wind Speed Country        Date  \n",
       "16         77           0        2.06      US  1733598517  \n",
       "87         63           0        1.34      US  1733598928  \n",
       "98         65           0        1.54      RE  1733598319  \n",
       "111        23           0        0.23      AU  1733598955  \n",
       "122        68           0        3.09      PE  1733598968  \n",
       "231        64           0        2.57      US  1733598511  \n",
       "232        54           0        1.79      US  1733599046  \n",
       "243        65           0        1.54      RE  1733599102  \n",
       "353        72           0        4.35      AU  1733599240  \n",
       "357        29           0        1.54      US  1733599246  \n",
       "358        76           0        2.24      US  1733599249  \n",
       "391        73           0        3.09      MG  1733599056  \n",
       "465        99           0        0.95      AU  1733599382  \n",
       "544        64           0        0.98      MG  1733599476  \n",
       "557        85           0        1.48      MG  1733599491  "
      ]
     },
     "execution_count": 33,
     "metadata": {},
     "output_type": "execute_result"
    }
   ],
   "source": [
    "# Narrow down cities that fit criteria and drop any results with null values\n",
    "# Ideal weather conditions\n",
    "ideal_temp_min = 21  \n",
    "ideal_temp_max = 27  \n",
    "ideal_wind_speed = 4.5  \n",
    "ideal_cloudiness = 0  \n",
    "\n",
    "filtered_city_data_df = city_data_df[\n",
    "    (city_data_df['Max Temp'] > ideal_temp_min) &\n",
    "    (city_data_df['Max Temp'] < ideal_temp_max) &\n",
    "    (city_data_df['Wind Speed'] < ideal_wind_speed) &\n",
    "    (city_data_df['Cloudiness'] == ideal_cloudiness)  \n",
    "]\n",
    "\n",
    "filtered_city_data_df.insert(0, 'Order Number', range(1, len(filtered_city_data_df) + 1))\n",
    "\n",
    "# Drop any rows with null values and column with color \n",
    "filtered_city_data_df = filtered_city_data_df.dropna()\n",
    "filtered_city_data_df = filtered_city_data_df[['City_ID', 'City_ID', 'City', 'Lat', 'Lng', 'Max Temp', 'Humidity', 'Cloudiness', 'Wind Speed', 'Country', 'Date']]\n",
    "\n",
    "# Display sample data\n",
    "filtered_city_data_df"
   ]
  },
  {
   "cell_type": "markdown",
   "metadata": {},
   "source": [
    "### Step 3: Create a new DataFrame called `hotel_df`."
   ]
  },
  {
   "cell_type": "code",
   "execution_count": 36,
   "metadata": {},
   "outputs": [
    {
     "data": {
      "text/html": [
       "<div>\n",
       "<style scoped>\n",
       "    .dataframe tbody tr th:only-of-type {\n",
       "        vertical-align: middle;\n",
       "    }\n",
       "\n",
       "    .dataframe tbody tr th {\n",
       "        vertical-align: top;\n",
       "    }\n",
       "\n",
       "    .dataframe thead th {\n",
       "        text-align: right;\n",
       "    }\n",
       "</style>\n",
       "<table border=\"1\" class=\"dataframe\">\n",
       "  <thead>\n",
       "    <tr style=\"text-align: right;\">\n",
       "      <th></th>\n",
       "      <th>City</th>\n",
       "      <th>Country</th>\n",
       "      <th>Lat</th>\n",
       "      <th>Lng</th>\n",
       "      <th>Humidity</th>\n",
       "      <th>Hotel Name</th>\n",
       "    </tr>\n",
       "  </thead>\n",
       "  <tbody>\n",
       "    <tr>\n",
       "      <th>16</th>\n",
       "      <td>hawaiian paradise park</td>\n",
       "      <td>US</td>\n",
       "      <td>19.5933</td>\n",
       "      <td>-154.9731</td>\n",
       "      <td>77</td>\n",
       "      <td></td>\n",
       "    </tr>\n",
       "    <tr>\n",
       "      <th>87</th>\n",
       "      <td>wimauma</td>\n",
       "      <td>US</td>\n",
       "      <td>27.7125</td>\n",
       "      <td>-82.2990</td>\n",
       "      <td>63</td>\n",
       "      <td></td>\n",
       "    </tr>\n",
       "    <tr>\n",
       "      <th>98</th>\n",
       "      <td>saint-pierre</td>\n",
       "      <td>RE</td>\n",
       "      <td>-21.3393</td>\n",
       "      <td>55.4781</td>\n",
       "      <td>65</td>\n",
       "      <td></td>\n",
       "    </tr>\n",
       "    <tr>\n",
       "      <th>111</th>\n",
       "      <td>beaudesert</td>\n",
       "      <td>AU</td>\n",
       "      <td>-27.9833</td>\n",
       "      <td>152.9833</td>\n",
       "      <td>23</td>\n",
       "      <td></td>\n",
       "    </tr>\n",
       "    <tr>\n",
       "      <th>122</th>\n",
       "      <td>callao</td>\n",
       "      <td>PE</td>\n",
       "      <td>-12.0667</td>\n",
       "      <td>-77.1500</td>\n",
       "      <td>68</td>\n",
       "      <td></td>\n",
       "    </tr>\n",
       "    <tr>\n",
       "      <th>231</th>\n",
       "      <td>holualoa</td>\n",
       "      <td>US</td>\n",
       "      <td>19.6228</td>\n",
       "      <td>-155.9522</td>\n",
       "      <td>64</td>\n",
       "      <td></td>\n",
       "    </tr>\n",
       "    <tr>\n",
       "      <th>232</th>\n",
       "      <td>brandon</td>\n",
       "      <td>US</td>\n",
       "      <td>27.9378</td>\n",
       "      <td>-82.2859</td>\n",
       "      <td>54</td>\n",
       "      <td></td>\n",
       "    </tr>\n",
       "    <tr>\n",
       "      <th>243</th>\n",
       "      <td>piton saint-leu</td>\n",
       "      <td>RE</td>\n",
       "      <td>-21.2196</td>\n",
       "      <td>55.3151</td>\n",
       "      <td>65</td>\n",
       "      <td></td>\n",
       "    </tr>\n",
       "    <tr>\n",
       "      <th>353</th>\n",
       "      <td>urangan</td>\n",
       "      <td>AU</td>\n",
       "      <td>-25.3000</td>\n",
       "      <td>152.9000</td>\n",
       "      <td>72</td>\n",
       "      <td></td>\n",
       "    </tr>\n",
       "    <tr>\n",
       "      <th>357</th>\n",
       "      <td>lompoc</td>\n",
       "      <td>US</td>\n",
       "      <td>34.6391</td>\n",
       "      <td>-120.4579</td>\n",
       "      <td>29</td>\n",
       "      <td></td>\n",
       "    </tr>\n",
       "    <tr>\n",
       "      <th>358</th>\n",
       "      <td>hilo</td>\n",
       "      <td>US</td>\n",
       "      <td>19.7297</td>\n",
       "      <td>-155.0900</td>\n",
       "      <td>76</td>\n",
       "      <td></td>\n",
       "    </tr>\n",
       "    <tr>\n",
       "      <th>391</th>\n",
       "      <td>tolanaro</td>\n",
       "      <td>MG</td>\n",
       "      <td>-25.0319</td>\n",
       "      <td>46.9987</td>\n",
       "      <td>73</td>\n",
       "      <td></td>\n",
       "    </tr>\n",
       "    <tr>\n",
       "      <th>465</th>\n",
       "      <td>parkes</td>\n",
       "      <td>AU</td>\n",
       "      <td>-33.1333</td>\n",
       "      <td>148.1833</td>\n",
       "      <td>99</td>\n",
       "      <td></td>\n",
       "    </tr>\n",
       "    <tr>\n",
       "      <th>544</th>\n",
       "      <td>tsaratanana</td>\n",
       "      <td>MG</td>\n",
       "      <td>-16.7833</td>\n",
       "      <td>47.6500</td>\n",
       "      <td>64</td>\n",
       "      <td></td>\n",
       "    </tr>\n",
       "    <tr>\n",
       "      <th>557</th>\n",
       "      <td>tsiombe</td>\n",
       "      <td>MG</td>\n",
       "      <td>-25.3000</td>\n",
       "      <td>45.4833</td>\n",
       "      <td>85</td>\n",
       "      <td></td>\n",
       "    </tr>\n",
       "  </tbody>\n",
       "</table>\n",
       "</div>"
      ],
      "text/plain": [
       "                       City Country      Lat       Lng  Humidity Hotel Name\n",
       "16   hawaiian paradise park      US  19.5933 -154.9731        77           \n",
       "87                  wimauma      US  27.7125  -82.2990        63           \n",
       "98             saint-pierre      RE -21.3393   55.4781        65           \n",
       "111              beaudesert      AU -27.9833  152.9833        23           \n",
       "122                  callao      PE -12.0667  -77.1500        68           \n",
       "231                holualoa      US  19.6228 -155.9522        64           \n",
       "232                 brandon      US  27.9378  -82.2859        54           \n",
       "243         piton saint-leu      RE -21.2196   55.3151        65           \n",
       "353                 urangan      AU -25.3000  152.9000        72           \n",
       "357                  lompoc      US  34.6391 -120.4579        29           \n",
       "358                    hilo      US  19.7297 -155.0900        76           \n",
       "391                tolanaro      MG -25.0319   46.9987        73           \n",
       "465                  parkes      AU -33.1333  148.1833        99           \n",
       "544             tsaratanana      MG -16.7833   47.6500        64           \n",
       "557                 tsiombe      MG -25.3000   45.4833        85           "
      ]
     },
     "execution_count": 36,
     "metadata": {},
     "output_type": "execute_result"
    }
   ],
   "source": [
    "# Use the Pandas copy function to create DataFrame called hotel_df to store the city, country, coordinates, and humidity\n",
    "hotel_df = filtered_city_data_df[['City', 'Country', 'Lat', 'Lng', 'Humidity']].copy()\n",
    "\n",
    "# Add an empty column, \"Hotel Name,\" to the DataFrame so you can store the hotel found using the Geoapify API\n",
    "hotel_df['Hotel Name'] = ''\n",
    "\n",
    "# Display sample data\n",
    "hotel_df"
   ]
  },
  {
   "cell_type": "markdown",
   "metadata": {},
   "source": [
    "### Step 4: For each city, use the Geoapify API to find the first hotel located within 10,000 metres of your coordinates."
   ]
  },
  {
   "cell_type": "code",
   "execution_count": 39,
   "metadata": {
    "scrolled": true
   },
   "outputs": [
    {
     "name": "stdout",
     "output_type": "stream",
     "text": [
      "Starting hotel search using the Geoapify API...\n",
      "hawaiian paradise park - nearest hotel: No hotel found\n",
      "wimauma - nearest hotel: No hotel found\n",
      "saint-pierre - nearest hotel: No hotel found\n",
      "beaudesert - nearest hotel: No hotel found\n",
      "callao - nearest hotel: No hotel found\n",
      "holualoa - nearest hotel: No hotel found\n",
      "brandon - nearest hotel: No hotel found\n",
      "piton saint-leu - nearest hotel: No hotel found\n",
      "urangan - nearest hotel: No hotel found\n",
      "lompoc - nearest hotel: No hotel found\n",
      "hilo - nearest hotel: No hotel found\n",
      "tolanaro - nearest hotel: No hotel found\n",
      "parkes - nearest hotel: No hotel found\n",
      "tsaratanana - nearest hotel: No hotel found\n",
      "tsiombe - nearest hotel: No hotel found\n"
     ]
    },
    {
     "data": {
      "text/html": [
       "<div>\n",
       "<style scoped>\n",
       "    .dataframe tbody tr th:only-of-type {\n",
       "        vertical-align: middle;\n",
       "    }\n",
       "\n",
       "    .dataframe tbody tr th {\n",
       "        vertical-align: top;\n",
       "    }\n",
       "\n",
       "    .dataframe thead th {\n",
       "        text-align: right;\n",
       "    }\n",
       "</style>\n",
       "<table border=\"1\" class=\"dataframe\">\n",
       "  <thead>\n",
       "    <tr style=\"text-align: right;\">\n",
       "      <th></th>\n",
       "      <th>City</th>\n",
       "      <th>Country</th>\n",
       "      <th>Lat</th>\n",
       "      <th>Lng</th>\n",
       "      <th>Humidity</th>\n",
       "      <th>Hotel Name</th>\n",
       "    </tr>\n",
       "  </thead>\n",
       "  <tbody>\n",
       "    <tr>\n",
       "      <th>16</th>\n",
       "      <td>hawaiian paradise park</td>\n",
       "      <td>US</td>\n",
       "      <td>19.5933</td>\n",
       "      <td>-154.9731</td>\n",
       "      <td>77</td>\n",
       "      <td>No hotel found</td>\n",
       "    </tr>\n",
       "    <tr>\n",
       "      <th>87</th>\n",
       "      <td>wimauma</td>\n",
       "      <td>US</td>\n",
       "      <td>27.7125</td>\n",
       "      <td>-82.2990</td>\n",
       "      <td>63</td>\n",
       "      <td>No hotel found</td>\n",
       "    </tr>\n",
       "    <tr>\n",
       "      <th>98</th>\n",
       "      <td>saint-pierre</td>\n",
       "      <td>RE</td>\n",
       "      <td>-21.3393</td>\n",
       "      <td>55.4781</td>\n",
       "      <td>65</td>\n",
       "      <td>No hotel found</td>\n",
       "    </tr>\n",
       "    <tr>\n",
       "      <th>111</th>\n",
       "      <td>beaudesert</td>\n",
       "      <td>AU</td>\n",
       "      <td>-27.9833</td>\n",
       "      <td>152.9833</td>\n",
       "      <td>23</td>\n",
       "      <td>No hotel found</td>\n",
       "    </tr>\n",
       "    <tr>\n",
       "      <th>122</th>\n",
       "      <td>callao</td>\n",
       "      <td>PE</td>\n",
       "      <td>-12.0667</td>\n",
       "      <td>-77.1500</td>\n",
       "      <td>68</td>\n",
       "      <td>No hotel found</td>\n",
       "    </tr>\n",
       "    <tr>\n",
       "      <th>231</th>\n",
       "      <td>holualoa</td>\n",
       "      <td>US</td>\n",
       "      <td>19.6228</td>\n",
       "      <td>-155.9522</td>\n",
       "      <td>64</td>\n",
       "      <td>No hotel found</td>\n",
       "    </tr>\n",
       "    <tr>\n",
       "      <th>232</th>\n",
       "      <td>brandon</td>\n",
       "      <td>US</td>\n",
       "      <td>27.9378</td>\n",
       "      <td>-82.2859</td>\n",
       "      <td>54</td>\n",
       "      <td>No hotel found</td>\n",
       "    </tr>\n",
       "    <tr>\n",
       "      <th>243</th>\n",
       "      <td>piton saint-leu</td>\n",
       "      <td>RE</td>\n",
       "      <td>-21.2196</td>\n",
       "      <td>55.3151</td>\n",
       "      <td>65</td>\n",
       "      <td>No hotel found</td>\n",
       "    </tr>\n",
       "    <tr>\n",
       "      <th>353</th>\n",
       "      <td>urangan</td>\n",
       "      <td>AU</td>\n",
       "      <td>-25.3000</td>\n",
       "      <td>152.9000</td>\n",
       "      <td>72</td>\n",
       "      <td>No hotel found</td>\n",
       "    </tr>\n",
       "    <tr>\n",
       "      <th>357</th>\n",
       "      <td>lompoc</td>\n",
       "      <td>US</td>\n",
       "      <td>34.6391</td>\n",
       "      <td>-120.4579</td>\n",
       "      <td>29</td>\n",
       "      <td>No hotel found</td>\n",
       "    </tr>\n",
       "    <tr>\n",
       "      <th>358</th>\n",
       "      <td>hilo</td>\n",
       "      <td>US</td>\n",
       "      <td>19.7297</td>\n",
       "      <td>-155.0900</td>\n",
       "      <td>76</td>\n",
       "      <td>No hotel found</td>\n",
       "    </tr>\n",
       "    <tr>\n",
       "      <th>391</th>\n",
       "      <td>tolanaro</td>\n",
       "      <td>MG</td>\n",
       "      <td>-25.0319</td>\n",
       "      <td>46.9987</td>\n",
       "      <td>73</td>\n",
       "      <td>No hotel found</td>\n",
       "    </tr>\n",
       "    <tr>\n",
       "      <th>465</th>\n",
       "      <td>parkes</td>\n",
       "      <td>AU</td>\n",
       "      <td>-33.1333</td>\n",
       "      <td>148.1833</td>\n",
       "      <td>99</td>\n",
       "      <td>No hotel found</td>\n",
       "    </tr>\n",
       "    <tr>\n",
       "      <th>544</th>\n",
       "      <td>tsaratanana</td>\n",
       "      <td>MG</td>\n",
       "      <td>-16.7833</td>\n",
       "      <td>47.6500</td>\n",
       "      <td>64</td>\n",
       "      <td>No hotel found</td>\n",
       "    </tr>\n",
       "    <tr>\n",
       "      <th>557</th>\n",
       "      <td>tsiombe</td>\n",
       "      <td>MG</td>\n",
       "      <td>-25.3000</td>\n",
       "      <td>45.4833</td>\n",
       "      <td>85</td>\n",
       "      <td>No hotel found</td>\n",
       "    </tr>\n",
       "  </tbody>\n",
       "</table>\n",
       "</div>"
      ],
      "text/plain": [
       "                       City Country      Lat       Lng  Humidity  \\\n",
       "16   hawaiian paradise park      US  19.5933 -154.9731        77   \n",
       "87                  wimauma      US  27.7125  -82.2990        63   \n",
       "98             saint-pierre      RE -21.3393   55.4781        65   \n",
       "111              beaudesert      AU -27.9833  152.9833        23   \n",
       "122                  callao      PE -12.0667  -77.1500        68   \n",
       "231                holualoa      US  19.6228 -155.9522        64   \n",
       "232                 brandon      US  27.9378  -82.2859        54   \n",
       "243         piton saint-leu      RE -21.2196   55.3151        65   \n",
       "353                 urangan      AU -25.3000  152.9000        72   \n",
       "357                  lompoc      US  34.6391 -120.4579        29   \n",
       "358                    hilo      US  19.7297 -155.0900        76   \n",
       "391                tolanaro      MG -25.0319   46.9987        73   \n",
       "465                  parkes      AU -33.1333  148.1833        99   \n",
       "544             tsaratanana      MG -16.7833   47.6500        64   \n",
       "557                 tsiombe      MG -25.3000   45.4833        85   \n",
       "\n",
       "         Hotel Name  \n",
       "16   No hotel found  \n",
       "87   No hotel found  \n",
       "98   No hotel found  \n",
       "111  No hotel found  \n",
       "122  No hotel found  \n",
       "231  No hotel found  \n",
       "232  No hotel found  \n",
       "243  No hotel found  \n",
       "353  No hotel found  \n",
       "357  No hotel found  \n",
       "358  No hotel found  \n",
       "391  No hotel found  \n",
       "465  No hotel found  \n",
       "544  No hotel found  \n",
       "557  No hotel found  "
      ]
     },
     "execution_count": 39,
     "metadata": {},
     "output_type": "execute_result"
    }
   ],
   "source": [
    "# Set parameters to search for a hotel\n",
    "radius = 10000\n",
    "params = {\n",
    "    \"categories\": \"hotel,motel,inn\",\n",
    "    \"apiKey\": geoapify_key,  \n",
    "    \"limit\": 1, \n",
    "}\n",
    "\n",
    "#  Print a message to follow up the hotel search\n",
    "print(\"Starting hotel search using the Geoapify API...\")\n",
    "\n",
    "# Iterate through the hotel_df DataFrame\n",
    "for index, row in hotel_df.iterrows():\n",
    "    # Get latitude and longitude from the DataFrame\n",
    "    latitude = row['Lat']\n",
    "    longitude = row['Lng']\n",
    "    \n",
    "    # Add the current city's latitude and longitude to the params dictionary\n",
    "    params[\"filter\"] = f\"circle:{longitude},{latitude},{radius}\"  \n",
    "    params[\"bias\"] = f\"proximity:{longitude},{latitude}\"\n",
    "\n",
    "    # Set base URL\n",
    "    base_url = \"https://maps.geoapify.com/v1/tile/carto/{z}/{x}/{y}.png?&apiKey=8d01bd6a9acd4b36ad6cdb254587d94d\"\n",
    "\n",
    "    # Make and API request using the params dictionary\n",
    "    name_address_response = requests.get(base_url, params=params)\n",
    "\n",
    "    # Convert the API response to JSON format\n",
    "    name_address = name_address_response.json()\n",
    "\n",
    "    # Grab the first hotel from the results and store the name in the hotel_df DataFrame\n",
    "    try:\n",
    "        hotel_df.loc[index, \"Hotel Name\"] = name_address[\"features\"][0][\"properties\"][\"name\"]\n",
    "    except (KeyError, IndexError):\n",
    "        # If no hotel is found, set the hotel name as \"No hotel found\".\n",
    "        hotel_df.loc[index, \"Hotel Name\"] = \"No hotel found\"\n",
    "    \n",
    "    # Log the search results\n",
    "    print(f\"{hotel_df.loc[index, 'City']} - nearest hotel: {hotel_df.loc[index, 'Hotel Name']}\")\n",
    "\n",
    "# Display sample data\n",
    "hotel_df\n"
   ]
  },
  {
   "cell_type": "markdown",
   "metadata": {},
   "source": [
    "### Step 5: Add the hotel name and the country as additional information in the hover message for each city in the map."
   ]
  },
  {
   "cell_type": "code",
   "execution_count": 41,
   "metadata": {},
   "outputs": [
    {
     "data": {
      "application/vnd.plotly.v1+json": {
       "config": {
        "plotlyServerURL": "https://plot.ly"
       },
       "data": [
        {
         "customdata": [
          [
           "US",
           "No hotel found",
           25.5,
           77
          ],
          [
           "US",
           "No hotel found",
           21.03,
           63
          ],
          [
           "RE",
           "No hotel found",
           25.82,
           65
          ],
          [
           "AU",
           "No hotel found",
           22.08,
           23
          ],
          [
           "PE",
           "No hotel found",
           22.16,
           68
          ],
          [
           "US",
           "No hotel found",
           24.37,
           64
          ],
          [
           "US",
           "No hotel found",
           21.15,
           54
          ],
          [
           "RE",
           "No hotel found",
           23.06,
           65
          ],
          [
           "AU",
           "No hotel found",
           25.09,
           72
          ],
          [
           "US",
           "No hotel found",
           25.01,
           29
          ],
          [
           "US",
           "No hotel found",
           26.72,
           76
          ],
          [
           "MG",
           "No hotel found",
           26.04,
           73
          ],
          [
           "AU",
           "No hotel found",
           21.31,
           99
          ],
          [
           "MG",
           "No hotel found",
           26.43,
           64
          ],
          [
           "MG",
           "No hotel found",
           24.3,
           85
          ]
         ],
         "geo": "geo",
         "hovertemplate": "<b>%{hovertext}</b><br><br>Lat=%{lat}<br>Lng=%{lon}<br>Country=%{customdata[0]}<br>Hotel Name=%{customdata[1]}<br>Max Temp=%{customdata[2]}<br>Humidity=%{customdata[3]}<extra></extra>",
         "hovertext": [
          "hawaiian paradise park",
          "wimauma",
          "saint-pierre",
          "beaudesert",
          "callao",
          "holualoa",
          "brandon",
          "piton saint-leu",
          "urangan",
          "lompoc",
          "hilo",
          "tolanaro",
          "parkes",
          "tsaratanana",
          "tsiombe"
         ],
         "lat": [
          19.5933,
          27.7125,
          -21.3393,
          -27.9833,
          -12.0667,
          19.6228,
          27.9378,
          -21.2196,
          -25.3,
          34.6391,
          19.7297,
          -25.0319,
          -33.1333,
          -16.7833,
          -25.3
         ],
         "legendgroup": "",
         "lon": [
          -154.9731,
          -82.299,
          55.4781,
          152.9833,
          -77.15,
          -155.9522,
          -82.2859,
          55.3151,
          152.9,
          -120.4579,
          -155.09,
          46.9987,
          148.1833,
          47.65,
          45.4833
         ],
         "marker": {
          "color": "#636efa",
          "symbol": "circle"
         },
         "mode": "markers",
         "name": "",
         "showlegend": false,
         "type": "scattergeo"
        }
       ],
       "layout": {
        "autosize": true,
        "geo": {
         "center": {},
         "domain": {
          "x": [
           0,
           1
          ],
          "y": [
           0,
           1
          ]
         }
        },
        "legend": {
         "tracegroupgap": 0
        },
        "template": {
         "data": {
          "bar": [
           {
            "error_x": {
             "color": "#2a3f5f"
            },
            "error_y": {
             "color": "#2a3f5f"
            },
            "marker": {
             "line": {
              "color": "#E5ECF6",
              "width": 0.5
             },
             "pattern": {
              "fillmode": "overlay",
              "size": 10,
              "solidity": 0.2
             }
            },
            "type": "bar"
           }
          ],
          "barpolar": [
           {
            "marker": {
             "line": {
              "color": "#E5ECF6",
              "width": 0.5
             },
             "pattern": {
              "fillmode": "overlay",
              "size": 10,
              "solidity": 0.2
             }
            },
            "type": "barpolar"
           }
          ],
          "carpet": [
           {
            "aaxis": {
             "endlinecolor": "#2a3f5f",
             "gridcolor": "white",
             "linecolor": "white",
             "minorgridcolor": "white",
             "startlinecolor": "#2a3f5f"
            },
            "baxis": {
             "endlinecolor": "#2a3f5f",
             "gridcolor": "white",
             "linecolor": "white",
             "minorgridcolor": "white",
             "startlinecolor": "#2a3f5f"
            },
            "type": "carpet"
           }
          ],
          "choropleth": [
           {
            "colorbar": {
             "outlinewidth": 0,
             "ticks": ""
            },
            "type": "choropleth"
           }
          ],
          "contour": [
           {
            "colorbar": {
             "outlinewidth": 0,
             "ticks": ""
            },
            "colorscale": [
             [
              0,
              "#0d0887"
             ],
             [
              0.1111111111111111,
              "#46039f"
             ],
             [
              0.2222222222222222,
              "#7201a8"
             ],
             [
              0.3333333333333333,
              "#9c179e"
             ],
             [
              0.4444444444444444,
              "#bd3786"
             ],
             [
              0.5555555555555556,
              "#d8576b"
             ],
             [
              0.6666666666666666,
              "#ed7953"
             ],
             [
              0.7777777777777778,
              "#fb9f3a"
             ],
             [
              0.8888888888888888,
              "#fdca26"
             ],
             [
              1,
              "#f0f921"
             ]
            ],
            "type": "contour"
           }
          ],
          "contourcarpet": [
           {
            "colorbar": {
             "outlinewidth": 0,
             "ticks": ""
            },
            "type": "contourcarpet"
           }
          ],
          "heatmap": [
           {
            "colorbar": {
             "outlinewidth": 0,
             "ticks": ""
            },
            "colorscale": [
             [
              0,
              "#0d0887"
             ],
             [
              0.1111111111111111,
              "#46039f"
             ],
             [
              0.2222222222222222,
              "#7201a8"
             ],
             [
              0.3333333333333333,
              "#9c179e"
             ],
             [
              0.4444444444444444,
              "#bd3786"
             ],
             [
              0.5555555555555556,
              "#d8576b"
             ],
             [
              0.6666666666666666,
              "#ed7953"
             ],
             [
              0.7777777777777778,
              "#fb9f3a"
             ],
             [
              0.8888888888888888,
              "#fdca26"
             ],
             [
              1,
              "#f0f921"
             ]
            ],
            "type": "heatmap"
           }
          ],
          "heatmapgl": [
           {
            "colorbar": {
             "outlinewidth": 0,
             "ticks": ""
            },
            "colorscale": [
             [
              0,
              "#0d0887"
             ],
             [
              0.1111111111111111,
              "#46039f"
             ],
             [
              0.2222222222222222,
              "#7201a8"
             ],
             [
              0.3333333333333333,
              "#9c179e"
             ],
             [
              0.4444444444444444,
              "#bd3786"
             ],
             [
              0.5555555555555556,
              "#d8576b"
             ],
             [
              0.6666666666666666,
              "#ed7953"
             ],
             [
              0.7777777777777778,
              "#fb9f3a"
             ],
             [
              0.8888888888888888,
              "#fdca26"
             ],
             [
              1,
              "#f0f921"
             ]
            ],
            "type": "heatmapgl"
           }
          ],
          "histogram": [
           {
            "marker": {
             "pattern": {
              "fillmode": "overlay",
              "size": 10,
              "solidity": 0.2
             }
            },
            "type": "histogram"
           }
          ],
          "histogram2d": [
           {
            "colorbar": {
             "outlinewidth": 0,
             "ticks": ""
            },
            "colorscale": [
             [
              0,
              "#0d0887"
             ],
             [
              0.1111111111111111,
              "#46039f"
             ],
             [
              0.2222222222222222,
              "#7201a8"
             ],
             [
              0.3333333333333333,
              "#9c179e"
             ],
             [
              0.4444444444444444,
              "#bd3786"
             ],
             [
              0.5555555555555556,
              "#d8576b"
             ],
             [
              0.6666666666666666,
              "#ed7953"
             ],
             [
              0.7777777777777778,
              "#fb9f3a"
             ],
             [
              0.8888888888888888,
              "#fdca26"
             ],
             [
              1,
              "#f0f921"
             ]
            ],
            "type": "histogram2d"
           }
          ],
          "histogram2dcontour": [
           {
            "colorbar": {
             "outlinewidth": 0,
             "ticks": ""
            },
            "colorscale": [
             [
              0,
              "#0d0887"
             ],
             [
              0.1111111111111111,
              "#46039f"
             ],
             [
              0.2222222222222222,
              "#7201a8"
             ],
             [
              0.3333333333333333,
              "#9c179e"
             ],
             [
              0.4444444444444444,
              "#bd3786"
             ],
             [
              0.5555555555555556,
              "#d8576b"
             ],
             [
              0.6666666666666666,
              "#ed7953"
             ],
             [
              0.7777777777777778,
              "#fb9f3a"
             ],
             [
              0.8888888888888888,
              "#fdca26"
             ],
             [
              1,
              "#f0f921"
             ]
            ],
            "type": "histogram2dcontour"
           }
          ],
          "mesh3d": [
           {
            "colorbar": {
             "outlinewidth": 0,
             "ticks": ""
            },
            "type": "mesh3d"
           }
          ],
          "parcoords": [
           {
            "line": {
             "colorbar": {
              "outlinewidth": 0,
              "ticks": ""
             }
            },
            "type": "parcoords"
           }
          ],
          "pie": [
           {
            "automargin": true,
            "type": "pie"
           }
          ],
          "scatter": [
           {
            "fillpattern": {
             "fillmode": "overlay",
             "size": 10,
             "solidity": 0.2
            },
            "type": "scatter"
           }
          ],
          "scatter3d": [
           {
            "line": {
             "colorbar": {
              "outlinewidth": 0,
              "ticks": ""
             }
            },
            "marker": {
             "colorbar": {
              "outlinewidth": 0,
              "ticks": ""
             }
            },
            "type": "scatter3d"
           }
          ],
          "scattercarpet": [
           {
            "marker": {
             "colorbar": {
              "outlinewidth": 0,
              "ticks": ""
             }
            },
            "type": "scattercarpet"
           }
          ],
          "scattergeo": [
           {
            "marker": {
             "colorbar": {
              "outlinewidth": 0,
              "ticks": ""
             }
            },
            "type": "scattergeo"
           }
          ],
          "scattergl": [
           {
            "marker": {
             "colorbar": {
              "outlinewidth": 0,
              "ticks": ""
             }
            },
            "type": "scattergl"
           }
          ],
          "scattermapbox": [
           {
            "marker": {
             "colorbar": {
              "outlinewidth": 0,
              "ticks": ""
             }
            },
            "type": "scattermapbox"
           }
          ],
          "scatterpolar": [
           {
            "marker": {
             "colorbar": {
              "outlinewidth": 0,
              "ticks": ""
             }
            },
            "type": "scatterpolar"
           }
          ],
          "scatterpolargl": [
           {
            "marker": {
             "colorbar": {
              "outlinewidth": 0,
              "ticks": ""
             }
            },
            "type": "scatterpolargl"
           }
          ],
          "scatterternary": [
           {
            "marker": {
             "colorbar": {
              "outlinewidth": 0,
              "ticks": ""
             }
            },
            "type": "scatterternary"
           }
          ],
          "surface": [
           {
            "colorbar": {
             "outlinewidth": 0,
             "ticks": ""
            },
            "colorscale": [
             [
              0,
              "#0d0887"
             ],
             [
              0.1111111111111111,
              "#46039f"
             ],
             [
              0.2222222222222222,
              "#7201a8"
             ],
             [
              0.3333333333333333,
              "#9c179e"
             ],
             [
              0.4444444444444444,
              "#bd3786"
             ],
             [
              0.5555555555555556,
              "#d8576b"
             ],
             [
              0.6666666666666666,
              "#ed7953"
             ],
             [
              0.7777777777777778,
              "#fb9f3a"
             ],
             [
              0.8888888888888888,
              "#fdca26"
             ],
             [
              1,
              "#f0f921"
             ]
            ],
            "type": "surface"
           }
          ],
          "table": [
           {
            "cells": {
             "fill": {
              "color": "#EBF0F8"
             },
             "line": {
              "color": "white"
             }
            },
            "header": {
             "fill": {
              "color": "#C8D4E3"
             },
             "line": {
              "color": "white"
             }
            },
            "type": "table"
           }
          ]
         },
         "layout": {
          "annotationdefaults": {
           "arrowcolor": "#2a3f5f",
           "arrowhead": 0,
           "arrowwidth": 1
          },
          "autotypenumbers": "strict",
          "coloraxis": {
           "colorbar": {
            "outlinewidth": 0,
            "ticks": ""
           }
          },
          "colorscale": {
           "diverging": [
            [
             0,
             "#8e0152"
            ],
            [
             0.1,
             "#c51b7d"
            ],
            [
             0.2,
             "#de77ae"
            ],
            [
             0.3,
             "#f1b6da"
            ],
            [
             0.4,
             "#fde0ef"
            ],
            [
             0.5,
             "#f7f7f7"
            ],
            [
             0.6,
             "#e6f5d0"
            ],
            [
             0.7,
             "#b8e186"
            ],
            [
             0.8,
             "#7fbc41"
            ],
            [
             0.9,
             "#4d9221"
            ],
            [
             1,
             "#276419"
            ]
           ],
           "sequential": [
            [
             0,
             "#0d0887"
            ],
            [
             0.1111111111111111,
             "#46039f"
            ],
            [
             0.2222222222222222,
             "#7201a8"
            ],
            [
             0.3333333333333333,
             "#9c179e"
            ],
            [
             0.4444444444444444,
             "#bd3786"
            ],
            [
             0.5555555555555556,
             "#d8576b"
            ],
            [
             0.6666666666666666,
             "#ed7953"
            ],
            [
             0.7777777777777778,
             "#fb9f3a"
            ],
            [
             0.8888888888888888,
             "#fdca26"
            ],
            [
             1,
             "#f0f921"
            ]
           ],
           "sequentialminus": [
            [
             0,
             "#0d0887"
            ],
            [
             0.1111111111111111,
             "#46039f"
            ],
            [
             0.2222222222222222,
             "#7201a8"
            ],
            [
             0.3333333333333333,
             "#9c179e"
            ],
            [
             0.4444444444444444,
             "#bd3786"
            ],
            [
             0.5555555555555556,
             "#d8576b"
            ],
            [
             0.6666666666666666,
             "#ed7953"
            ],
            [
             0.7777777777777778,
             "#fb9f3a"
            ],
            [
             0.8888888888888888,
             "#fdca26"
            ],
            [
             1,
             "#f0f921"
            ]
           ]
          },
          "colorway": [
           "#636efa",
           "#EF553B",
           "#00cc96",
           "#ab63fa",
           "#FFA15A",
           "#19d3f3",
           "#FF6692",
           "#B6E880",
           "#FF97FF",
           "#FECB52"
          ],
          "font": {
           "color": "#2a3f5f"
          },
          "geo": {
           "bgcolor": "white",
           "lakecolor": "white",
           "landcolor": "#E5ECF6",
           "showlakes": true,
           "showland": true,
           "subunitcolor": "white"
          },
          "hoverlabel": {
           "align": "left"
          },
          "hovermode": "closest",
          "mapbox": {
           "style": "light"
          },
          "paper_bgcolor": "white",
          "plot_bgcolor": "#E5ECF6",
          "polar": {
           "angularaxis": {
            "gridcolor": "white",
            "linecolor": "white",
            "ticks": ""
           },
           "bgcolor": "#E5ECF6",
           "radialaxis": {
            "gridcolor": "white",
            "linecolor": "white",
            "ticks": ""
           }
          },
          "scene": {
           "xaxis": {
            "backgroundcolor": "#E5ECF6",
            "gridcolor": "white",
            "gridwidth": 2,
            "linecolor": "white",
            "showbackground": true,
            "ticks": "",
            "zerolinecolor": "white"
           },
           "yaxis": {
            "backgroundcolor": "#E5ECF6",
            "gridcolor": "white",
            "gridwidth": 2,
            "linecolor": "white",
            "showbackground": true,
            "ticks": "",
            "zerolinecolor": "white"
           },
           "zaxis": {
            "backgroundcolor": "#E5ECF6",
            "gridcolor": "white",
            "gridwidth": 2,
            "linecolor": "white",
            "showbackground": true,
            "ticks": "",
            "zerolinecolor": "white"
           }
          },
          "shapedefaults": {
           "line": {
            "color": "#2a3f5f"
           }
          },
          "ternary": {
           "aaxis": {
            "gridcolor": "white",
            "linecolor": "white",
            "ticks": ""
           },
           "baxis": {
            "gridcolor": "white",
            "linecolor": "white",
            "ticks": ""
           },
           "bgcolor": "#E5ECF6",
           "caxis": {
            "gridcolor": "white",
            "linecolor": "white",
            "ticks": ""
           }
          },
          "title": {
           "x": 0.05
          },
          "xaxis": {
           "automargin": true,
           "gridcolor": "white",
           "linecolor": "white",
           "ticks": "",
           "title": {
            "standoff": 15
           },
           "zerolinecolor": "white",
           "zerolinewidth": 2
          },
          "yaxis": {
           "automargin": true,
           "gridcolor": "white",
           "linecolor": "white",
           "ticks": "",
           "title": {
            "standoff": 15
           },
           "zerolinecolor": "white",
           "zerolinewidth": 2
          }
         }
        },
        "title": {
         "text": "City Locations with Nearest Hotels"
        }
       }
      },
      "image/png": "[encoded data removed]",
      "text/html": [
       "<div>                            <div id=\"842ef24a-e74f-42c3-9594-f2433b790e72\" class=\"plotly-graph-div\" style=\"height:525px; width:100%;\"></div>            <script type=\"text/javascript\">                require([\"plotly\"], function(Plotly) {                    window.PLOTLYENV=window.PLOTLYENV || {};                                    if (document.getElementById(\"842ef24a-e74f-42c3-9594-f2433b790e72\")) {                    Plotly.newPlot(                        \"842ef24a-e74f-42c3-9594-f2433b790e72\",                        [{\"customdata\":[[\"US\",\"No hotel found\",25.5,77],[\"US\",\"No hotel found\",21.03,63],[\"RE\",\"No hotel found\",25.82,65],[\"AU\",\"No hotel found\",22.08,23],[\"PE\",\"No hotel found\",22.16,68],[\"US\",\"No hotel found\",24.37,64],[\"US\",\"No hotel found\",21.15,54],[\"RE\",\"No hotel found\",23.06,65],[\"AU\",\"No hotel found\",25.09,72],[\"US\",\"No hotel found\",25.01,29],[\"US\",\"No hotel found\",26.72,76],[\"MG\",\"No hotel found\",26.04,73],[\"AU\",\"No hotel found\",21.31,99],[\"MG\",\"No hotel found\",26.43,64],[\"MG\",\"No hotel found\",24.3,85]],\"geo\":\"geo\",\"hovertemplate\":\"\\u003cb\\u003e%{hovertext}\\u003c\\u002fb\\u003e\\u003cbr\\u003e\\u003cbr\\u003eLat=%{lat}\\u003cbr\\u003eLng=%{lon}\\u003cbr\\u003eCountry=%{customdata[0]}\\u003cbr\\u003eHotel Name=%{customdata[1]}\\u003cbr\\u003eMax Temp=%{customdata[2]}\\u003cbr\\u003eHumidity=%{customdata[3]}\\u003cextra\\u003e\\u003c\\u002fextra\\u003e\",\"hovertext\":[\"hawaiian paradise park\",\"wimauma\",\"saint-pierre\",\"beaudesert\",\"callao\",\"holualoa\",\"brandon\",\"piton saint-leu\",\"urangan\",\"lompoc\",\"hilo\",\"tolanaro\",\"parkes\",\"tsaratanana\",\"tsiombe\"],\"lat\":[19.5933,27.7125,-21.3393,-27.9833,-12.0667,19.6228,27.9378,-21.2196,-25.3,34.6391,19.7297,-25.0319,-33.1333,-16.7833,-25.3],\"legendgroup\":\"\",\"lon\":[-154.9731,-82.299,55.4781,152.9833,-77.15,-155.9522,-82.2859,55.3151,152.9,-120.4579,-155.09,46.9987,148.1833,47.65,45.4833],\"marker\":{\"color\":\"#636efa\",\"symbol\":\"circle\"},\"mode\":\"markers\",\"name\":\"\",\"showlegend\":false,\"type\":\"scattergeo\"}],                        {\"template\":{\"data\":{\"histogram2dcontour\":[{\"type\":\"histogram2dcontour\",\"colorbar\":{\"outlinewidth\":0,\"ticks\":\"\"},\"colorscale\":[[0.0,\"#0d0887\"],[0.1111111111111111,\"#46039f\"],[0.2222222222222222,\"#7201a8\"],[0.3333333333333333,\"#9c179e\"],[0.4444444444444444,\"#bd3786\"],[0.5555555555555556,\"#d8576b\"],[0.6666666666666666,\"#ed7953\"],[0.7777777777777778,\"#fb9f3a\"],[0.8888888888888888,\"#fdca26\"],[1.0,\"#f0f921\"]]}],\"choropleth\":[{\"type\":\"choropleth\",\"colorbar\":{\"outlinewidth\":0,\"ticks\":\"\"}}],\"histogram2d\":[{\"type\":\"histogram2d\",\"colorbar\":{\"outlinewidth\":0,\"ticks\":\"\"},\"colorscale\":[[0.0,\"#0d0887\"],[0.1111111111111111,\"#46039f\"],[0.2222222222222222,\"#7201a8\"],[0.3333333333333333,\"#9c179e\"],[0.4444444444444444,\"#bd3786\"],[0.5555555555555556,\"#d8576b\"],[0.6666666666666666,\"#ed7953\"],[0.7777777777777778,\"#fb9f3a\"],[0.8888888888888888,\"#fdca26\"],[1.0,\"#f0f921\"]]}],\"heatmap\":[{\"type\":\"heatmap\",\"colorbar\":{\"outlinewidth\":0,\"ticks\":\"\"},\"colorscale\":[[0.0,\"#0d0887\"],[0.1111111111111111,\"#46039f\"],[0.2222222222222222,\"#7201a8\"],[0.3333333333333333,\"#9c179e\"],[0.4444444444444444,\"#bd3786\"],[0.5555555555555556,\"#d8576b\"],[0.6666666666666666,\"#ed7953\"],[0.7777777777777778,\"#fb9f3a\"],[0.8888888888888888,\"#fdca26\"],[1.0,\"#f0f921\"]]}],\"heatmapgl\":[{\"type\":\"heatmapgl\",\"colorbar\":{\"outlinewidth\":0,\"ticks\":\"\"},\"colorscale\":[[0.0,\"#0d0887\"],[0.1111111111111111,\"#46039f\"],[0.2222222222222222,\"#7201a8\"],[0.3333333333333333,\"#9c179e\"],[0.4444444444444444,\"#bd3786\"],[0.5555555555555556,\"#d8576b\"],[0.6666666666666666,\"#ed7953\"],[0.7777777777777778,\"#fb9f3a\"],[0.8888888888888888,\"#fdca26\"],[1.0,\"#f0f921\"]]}],\"contourcarpet\":[{\"type\":\"contourcarpet\",\"colorbar\":{\"outlinewidth\":0,\"ticks\":\"\"}}],\"contour\":[{\"type\":\"contour\",\"colorbar\":{\"outlinewidth\":0,\"ticks\":\"\"},\"colorscale\":[[0.0,\"#0d0887\"],[0.1111111111111111,\"#46039f\"],[0.2222222222222222,\"#7201a8\"],[0.3333333333333333,\"#9c179e\"],[0.4444444444444444,\"#bd3786\"],[0.5555555555555556,\"#d8576b\"],[0.6666666666666666,\"#ed7953\"],[0.7777777777777778,\"#fb9f3a\"],[0.8888888888888888,\"#fdca26\"],[1.0,\"#f0f921\"]]}],\"surface\":[{\"type\":\"surface\",\"colorbar\":{\"outlinewidth\":0,\"ticks\":\"\"},\"colorscale\":[[0.0,\"#0d0887\"],[0.1111111111111111,\"#46039f\"],[0.2222222222222222,\"#7201a8\"],[0.3333333333333333,\"#9c179e\"],[0.4444444444444444,\"#bd3786\"],[0.5555555555555556,\"#d8576b\"],[0.6666666666666666,\"#ed7953\"],[0.7777777777777778,\"#fb9f3a\"],[0.8888888888888888,\"#fdca26\"],[1.0,\"#f0f921\"]]}],\"mesh3d\":[{\"type\":\"mesh3d\",\"colorbar\":{\"outlinewidth\":0,\"ticks\":\"\"}}],\"scatter\":[{\"fillpattern\":{\"fillmode\":\"overlay\",\"size\":10,\"solidity\":0.2},\"type\":\"scatter\"}],\"parcoords\":[{\"type\":\"parcoords\",\"line\":{\"colorbar\":{\"outlinewidth\":0,\"ticks\":\"\"}}}],\"scatterpolargl\":[{\"type\":\"scatterpolargl\",\"marker\":{\"colorbar\":{\"outlinewidth\":0,\"ticks\":\"\"}}}],\"bar\":[{\"error_x\":{\"color\":\"#2a3f5f\"},\"error_y\":{\"color\":\"#2a3f5f\"},\"marker\":{\"line\":{\"color\":\"#E5ECF6\",\"width\":0.5},\"pattern\":{\"fillmode\":\"overlay\",\"size\":10,\"solidity\":0.2}},\"type\":\"bar\"}],\"scattergeo\":[{\"type\":\"scattergeo\",\"marker\":{\"colorbar\":{\"outlinewidth\":0,\"ticks\":\"\"}}}],\"scatterpolar\":[{\"type\":\"scatterpolar\",\"marker\":{\"colorbar\":{\"outlinewidth\":0,\"ticks\":\"\"}}}],\"histogram\":[{\"marker\":{\"pattern\":{\"fillmode\":\"overlay\",\"size\":10,\"solidity\":0.2}},\"type\":\"histogram\"}],\"scattergl\":[{\"type\":\"scattergl\",\"marker\":{\"colorbar\":{\"outlinewidth\":0,\"ticks\":\"\"}}}],\"scatter3d\":[{\"type\":\"scatter3d\",\"line\":{\"colorbar\":{\"outlinewidth\":0,\"ticks\":\"\"}},\"marker\":{\"colorbar\":{\"outlinewidth\":0,\"ticks\":\"\"}}}],\"scattermapbox\":[{\"type\":\"scattermapbox\",\"marker\":{\"colorbar\":{\"outlinewidth\":0,\"ticks\":\"\"}}}],\"scatterternary\":[{\"type\":\"scatterternary\",\"marker\":{\"colorbar\":{\"outlinewidth\":0,\"ticks\":\"\"}}}],\"scattercarpet\":[{\"type\":\"scattercarpet\",\"marker\":{\"colorbar\":{\"outlinewidth\":0,\"ticks\":\"\"}}}],\"carpet\":[{\"aaxis\":{\"endlinecolor\":\"#2a3f5f\",\"gridcolor\":\"white\",\"linecolor\":\"white\",\"minorgridcolor\":\"white\",\"startlinecolor\":\"#2a3f5f\"},\"baxis\":{\"endlinecolor\":\"#2a3f5f\",\"gridcolor\":\"white\",\"linecolor\":\"white\",\"minorgridcolor\":\"white\",\"startlinecolor\":\"#2a3f5f\"},\"type\":\"carpet\"}],\"table\":[{\"cells\":{\"fill\":{\"color\":\"#EBF0F8\"},\"line\":{\"color\":\"white\"}},\"header\":{\"fill\":{\"color\":\"#C8D4E3\"},\"line\":{\"color\":\"white\"}},\"type\":\"table\"}],\"barpolar\":[{\"marker\":{\"line\":{\"color\":\"#E5ECF6\",\"width\":0.5},\"pattern\":{\"fillmode\":\"overlay\",\"size\":10,\"solidity\":0.2}},\"type\":\"barpolar\"}],\"pie\":[{\"automargin\":true,\"type\":\"pie\"}]},\"layout\":{\"autotypenumbers\":\"strict\",\"colorway\":[\"#636efa\",\"#EF553B\",\"#00cc96\",\"#ab63fa\",\"#FFA15A\",\"#19d3f3\",\"#FF6692\",\"#B6E880\",\"#FF97FF\",\"#FECB52\"],\"font\":{\"color\":\"#2a3f5f\"},\"hovermode\":\"closest\",\"hoverlabel\":{\"align\":\"left\"},\"paper_bgcolor\":\"white\",\"plot_bgcolor\":\"#E5ECF6\",\"polar\":{\"bgcolor\":\"#E5ECF6\",\"angularaxis\":{\"gridcolor\":\"white\",\"linecolor\":\"white\",\"ticks\":\"\"},\"radialaxis\":{\"gridcolor\":\"white\",\"linecolor\":\"white\",\"ticks\":\"\"}},\"ternary\":{\"bgcolor\":\"#E5ECF6\",\"aaxis\":{\"gridcolor\":\"white\",\"linecolor\":\"white\",\"ticks\":\"\"},\"baxis\":{\"gridcolor\":\"white\",\"linecolor\":\"white\",\"ticks\":\"\"},\"caxis\":{\"gridcolor\":\"white\",\"linecolor\":\"white\",\"ticks\":\"\"}},\"coloraxis\":{\"colorbar\":{\"outlinewidth\":0,\"ticks\":\"\"}},\"colorscale\":{\"sequential\":[[0.0,\"#0d0887\"],[0.1111111111111111,\"#46039f\"],[0.2222222222222222,\"#7201a8\"],[0.3333333333333333,\"#9c179e\"],[0.4444444444444444,\"#bd3786\"],[0.5555555555555556,\"#d8576b\"],[0.6666666666666666,\"#ed7953\"],[0.7777777777777778,\"#fb9f3a\"],[0.8888888888888888,\"#fdca26\"],[1.0,\"#f0f921\"]],\"sequentialminus\":[[0.0,\"#0d0887\"],[0.1111111111111111,\"#46039f\"],[0.2222222222222222,\"#7201a8\"],[0.3333333333333333,\"#9c179e\"],[0.4444444444444444,\"#bd3786\"],[0.5555555555555556,\"#d8576b\"],[0.6666666666666666,\"#ed7953\"],[0.7777777777777778,\"#fb9f3a\"],[0.8888888888888888,\"#fdca26\"],[1.0,\"#f0f921\"]],\"diverging\":[[0,\"#8e0152\"],[0.1,\"#c51b7d\"],[0.2,\"#de77ae\"],[0.3,\"#f1b6da\"],[0.4,\"#fde0ef\"],[0.5,\"#f7f7f7\"],[0.6,\"#e6f5d0\"],[0.7,\"#b8e186\"],[0.8,\"#7fbc41\"],[0.9,\"#4d9221\"],[1,\"#276419\"]]},\"xaxis\":{\"gridcolor\":\"white\",\"linecolor\":\"white\",\"ticks\":\"\",\"title\":{\"standoff\":15},\"zerolinecolor\":\"white\",\"automargin\":true,\"zerolinewidth\":2},\"yaxis\":{\"gridcolor\":\"white\",\"linecolor\":\"white\",\"ticks\":\"\",\"title\":{\"standoff\":15},\"zerolinecolor\":\"white\",\"automargin\":true,\"zerolinewidth\":2},\"scene\":{\"xaxis\":{\"backgroundcolor\":\"#E5ECF6\",\"gridcolor\":\"white\",\"linecolor\":\"white\",\"showbackground\":true,\"ticks\":\"\",\"zerolinecolor\":\"white\",\"gridwidth\":2},\"yaxis\":{\"backgroundcolor\":\"#E5ECF6\",\"gridcolor\":\"white\",\"linecolor\":\"white\",\"showbackground\":true,\"ticks\":\"\",\"zerolinecolor\":\"white\",\"gridwidth\":2},\"zaxis\":{\"backgroundcolor\":\"#E5ECF6\",\"gridcolor\":\"white\",\"linecolor\":\"white\",\"showbackground\":true,\"ticks\":\"\",\"zerolinecolor\":\"white\",\"gridwidth\":2}},\"shapedefaults\":{\"line\":{\"color\":\"#2a3f5f\"}},\"annotationdefaults\":{\"arrowcolor\":\"#2a3f5f\",\"arrowhead\":0,\"arrowwidth\":1},\"geo\":{\"bgcolor\":\"white\",\"landcolor\":\"#E5ECF6\",\"subunitcolor\":\"white\",\"showland\":true,\"showlakes\":true,\"lakecolor\":\"white\"},\"title\":{\"x\":0.05},\"mapbox\":{\"style\":\"light\"}}},\"geo\":{\"domain\":{\"x\":[0.0,1.0],\"y\":[0.0,1.0]},\"center\":{}},\"legend\":{\"tracegroupgap\":0},\"title\":{\"text\":\"City Locations with Nearest Hotels\"}},                        {\"responsive\": true}                    ).then(function(){\n",
       "                            \n",
       "var gd = document.getElementById('842ef24a-e74f-42c3-9594-f2433b790e72');\n",
       "var x = new MutationObserver(function (mutations, observer) {{\n",
       "        var display = window.getComputedStyle(gd).display;\n",
       "        if (!display || display === 'none') {{\n",
       "            console.log([gd, 'removed!']);\n",
       "            Plotly.purge(gd);\n",
       "            observer.disconnect();\n",
       "        }}\n",
       "}});\n",
       "\n",
       "// Listen for the removal of the full notebook cells\n",
       "var notebookContainer = gd.closest('#notebook-container');\n",
       "if (notebookContainer) {{\n",
       "    x.observe(notebookContainer, {childList: true});\n",
       "}}\n",
       "\n",
       "// Listen for the clearing of the current output cell\n",
       "var outputEl = gd.closest('.output');\n",
       "if (outputEl) {{\n",
       "    x.observe(outputEl, {childList: true});\n",
       "}}\n",
       "\n",
       "                        })                };                });            </script>        </div>"
      ]
     },
     "metadata": {},
     "output_type": "display_data"
    }
   ],
   "source": [
    "%%capture --no-display\n",
    "\n",
    "# Configure the map plot\n",
    "fig = px.scatter_geo(\n",
    "    filtered_city_data_df,\n",
    "    lat='Lat',\n",
    "    lon='Lng',\n",
    "    hover_name='City',\n",
    "    hover_data={\n",
    "        'Country': True,  \n",
    "        'Hotel Name': hotel_df['Hotel Name'], \n",
    "        'Max Temp': True,  \n",
    "        'Humidity': True,   \n",
    "    },\n",
    "    title='City Locations with Nearest Hotels',\n",
    "    template='plotly',\n",
    ")\n",
    "\n",
    "\n",
    "# Display the map\n",
    "fig.show()"
   ]
  },
  {
   "cell_type": "code",
   "execution_count": null,
   "metadata": {},
   "outputs": [],
   "source": []
  },
  {
   "cell_type": "code",
   "execution_count": null,
   "metadata": {},
   "outputs": [],
   "source": []
  },
  {
   "cell_type": "code",
   "execution_count": null,
   "metadata": {},
   "outputs": [],
   "source": []
  },
  {
   "cell_type": "code",
   "execution_count": null,
   "metadata": {},
   "outputs": [],
   "source": []
  }
 ],
 "metadata": {
  "kernelspec": {
   "display_name": "Python 3 (ipykernel)",
   "language": "python",
   "name": "python3"
  },
  "language_info": {
   "codemirror_mode": {
    "name": "ipython",
    "version": 3
   },
   "file_extension": ".py",
   "mimetype": "text/x-python",
   "name": "python",
   "nbconvert_exporter": "python",
   "pygments_lexer": "ipython3",
   "version": "3.12.2"
  },
  "latex_envs": {
   "LaTeX_envs_menu_present": true,
   "autoclose": false,
   "autocomplete": true,
   "bibliofile": "biblio.bib",
   "cite_by": "apalike",
   "current_citInitial": 1,
   "eqLabelWithNumbers": true,
   "eqNumInitial": 1,
   "hotkeys": {
    "equation": "Ctrl-E",
    "itemize": "Ctrl-I"
   },
   "labels_anchors": false,
   "latex_user_defs": false,
   "report_style_numbering": false,
   "user_envs_cfg": false
  }
 },
 "nbformat": 4,
 "nbformat_minor": 4
}
