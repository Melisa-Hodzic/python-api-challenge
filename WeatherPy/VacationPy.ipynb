{
 "cells": [
  {
   "cell_type": "markdown",
   "metadata": {},
   "source": [
    "# VacationPy\n",
    "---\n",
    "\n",
    "## Starter Code to Import Libraries and Load the Weather and Coordinates Data"
   ]
  },
  {
   "cell_type": "code",
   "execution_count": 2,
   "metadata": {},
   "outputs": [
    {
     "data": {
      "text/html": [
       "<script type=\"esms-options\">{\"shimMode\": true}</script><style>*[data-root-id],\n",
       "*[data-root-id] > * {\n",
       "  box-sizing: border-box;\n",
       "  font-family: var(--jp-ui-font-family);\n",
       "  font-size: var(--jp-ui-font-size1);\n",
       "  color: var(--vscode-editor-foreground, var(--jp-ui-font-color1));\n",
       "}\n",
       "\n",
       "/* Override VSCode background color */\n",
       ".cell-output-ipywidget-background:has(\n",
       "    > .cell-output-ipywidget-background > .lm-Widget > *[data-root-id]\n",
       "  ),\n",
       ".cell-output-ipywidget-background:has(> .lm-Widget > *[data-root-id]) {\n",
       "  background-color: transparent !important;\n",
       "}\n",
       "</style>"
      ]
     },
     "metadata": {},
     "output_type": "display_data"
    },
    {
     "data": {
      "application/javascript": [
       "(function(root) {\n",
       "  function now() {\n",
       "    return new Date();\n",
       "  }\n",
       "\n",
       "  const force = true;\n",
       "  const py_version = '3.6.0'.replace('rc', '-rc.').replace('.dev', '-dev.');\n",
       "  const reloading = false;\n",
       "  const Bokeh = root.Bokeh;\n",
       "\n",
       "  // Set a timeout for this load but only if we are not already initializing\n",
       "  if (typeof (root._bokeh_timeout) === \"undefined\" || (force || !root._bokeh_is_initializing)) {\n",
       "    root._bokeh_timeout = Date.now() + 5000;\n",
       "    root._bokeh_failed_load = false;\n",
       "  }\n",
       "\n",
       "  function run_callbacks() {\n",
       "    try {\n",
       "      root._bokeh_onload_callbacks.forEach(function(callback) {\n",
       "        if (callback != null)\n",
       "          callback();\n",
       "      });\n",
       "    } finally {\n",
       "      delete root._bokeh_onload_callbacks;\n",
       "    }\n",
       "    console.debug(\"Bokeh: all callbacks have finished\");\n",
       "  }\n",
       "\n",
       "  function load_libs(css_urls, js_urls, js_modules, js_exports, callback) {\n",
       "    if (css_urls == null) css_urls = [];\n",
       "    if (js_urls == null) js_urls = [];\n",
       "    if (js_modules == null) js_modules = [];\n",
       "    if (js_exports == null) js_exports = {};\n",
       "\n",
       "    root._bokeh_onload_callbacks.push(callback);\n",
       "\n",
       "    if (root._bokeh_is_loading > 0) {\n",
       "      // Don't load bokeh if it is still initializing\n",
       "      console.debug(\"Bokeh: BokehJS is being loaded, scheduling callback at\", now());\n",
       "      return null;\n",
       "    } else if (js_urls.length === 0 && js_modules.length === 0 && Object.keys(js_exports).length === 0) {\n",
       "      // There is nothing to load\n",
       "      run_callbacks();\n",
       "      return null;\n",
       "    }\n",
       "\n",
       "    function on_load() {\n",
       "      root._bokeh_is_loading--;\n",
       "      if (root._bokeh_is_loading === 0) {\n",
       "        console.debug(\"Bokeh: all BokehJS libraries/stylesheets loaded\");\n",
       "        run_callbacks()\n",
       "      }\n",
       "    }\n",
       "    window._bokeh_on_load = on_load\n",
       "\n",
       "    function on_error(e) {\n",
       "      const src_el = e.srcElement\n",
       "      console.error(\"failed to load \" + (src_el.href || src_el.src));\n",
       "    }\n",
       "\n",
       "    const skip = [];\n",
       "    if (window.requirejs) {\n",
       "      window.requirejs.config({'packages': {}, 'paths': {}, 'shim': {}});\n",
       "      root._bokeh_is_loading = css_urls.length + 0;\n",
       "    } else {\n",
       "      root._bokeh_is_loading = css_urls.length + js_urls.length + js_modules.length + Object.keys(js_exports).length;\n",
       "    }\n",
       "\n",
       "    const existing_stylesheets = []\n",
       "    const links = document.getElementsByTagName('link')\n",
       "    for (let i = 0; i < links.length; i++) {\n",
       "      const link = links[i]\n",
       "      if (link.href != null) {\n",
       "        existing_stylesheets.push(link.href)\n",
       "      }\n",
       "    }\n",
       "    for (let i = 0; i < css_urls.length; i++) {\n",
       "      const url = css_urls[i];\n",
       "      const escaped = encodeURI(url)\n",
       "      if (existing_stylesheets.indexOf(escaped) !== -1) {\n",
       "        on_load()\n",
       "        continue;\n",
       "      }\n",
       "      const element = document.createElement(\"link\");\n",
       "      element.onload = on_load;\n",
       "      element.onerror = on_error;\n",
       "      element.rel = \"stylesheet\";\n",
       "      element.type = \"text/css\";\n",
       "      element.href = url;\n",
       "      console.debug(\"Bokeh: injecting link tag for BokehJS stylesheet: \", url);\n",
       "      document.body.appendChild(element);\n",
       "    }    var existing_scripts = []\n",
       "    const scripts = document.getElementsByTagName('script')\n",
       "    for (let i = 0; i < scripts.length; i++) {\n",
       "      var script = scripts[i]\n",
       "      if (script.src != null) {\n",
       "        existing_scripts.push(script.src)\n",
       "      }\n",
       "    }\n",
       "    for (let i = 0; i < js_urls.length; i++) {\n",
       "      const url = js_urls[i];\n",
       "      const escaped = encodeURI(url)\n",
       "      if (skip.indexOf(escaped) !== -1 || existing_scripts.indexOf(escaped) !== -1) {\n",
       "        if (!window.requirejs) {\n",
       "          on_load();\n",
       "        }\n",
       "        continue;\n",
       "      }\n",
       "      const element = document.createElement('script');\n",
       "      element.onload = on_load;\n",
       "      element.onerror = on_error;\n",
       "      element.async = false;\n",
       "      element.src = url;\n",
       "      console.debug(\"Bokeh: injecting script tag for BokehJS library: \", url);\n",
       "      document.head.appendChild(element);\n",
       "    }\n",
       "    for (let i = 0; i < js_modules.length; i++) {\n",
       "      const url = js_modules[i];\n",
       "      const escaped = encodeURI(url)\n",
       "      if (skip.indexOf(escaped) !== -1 || existing_scripts.indexOf(escaped) !== -1) {\n",
       "        if (!window.requirejs) {\n",
       "          on_load();\n",
       "        }\n",
       "        continue;\n",
       "      }\n",
       "      var element = document.createElement('script');\n",
       "      element.onload = on_load;\n",
       "      element.onerror = on_error;\n",
       "      element.async = false;\n",
       "      element.src = url;\n",
       "      element.type = \"module\";\n",
       "      console.debug(\"Bokeh: injecting script tag for BokehJS library: \", url);\n",
       "      document.head.appendChild(element);\n",
       "    }\n",
       "    for (const name in js_exports) {\n",
       "      const url = js_exports[name];\n",
       "      const escaped = encodeURI(url)\n",
       "      if (skip.indexOf(escaped) >= 0 || root[name] != null) {\n",
       "        if (!window.requirejs) {\n",
       "          on_load();\n",
       "        }\n",
       "        continue;\n",
       "      }\n",
       "      var element = document.createElement('script');\n",
       "      element.onerror = on_error;\n",
       "      element.async = false;\n",
       "      element.type = \"module\";\n",
       "      console.debug(\"Bokeh: injecting script tag for BokehJS library: \", url);\n",
       "      element.textContent = `\n",
       "      import ${name} from \"${url}\"\n",
       "      window.${name} = ${name}\n",
       "      window._bokeh_on_load()\n",
       "      `\n",
       "      document.head.appendChild(element);\n",
       "    }\n",
       "    if (!js_urls.length && !js_modules.length) {\n",
       "      on_load()\n",
       "    }\n",
       "  };\n",
       "\n",
       "  function inject_raw_css(css) {\n",
       "    const element = document.createElement(\"style\");\n",
       "    element.appendChild(document.createTextNode(css));\n",
       "    document.body.appendChild(element);\n",
       "  }\n",
       "\n",
       "  const js_urls = [\"https://cdn.holoviz.org/panel/1.5.2/dist/bundled/reactiveesm/es-module-shims@^1.10.0/dist/es-module-shims.min.js\", \"https://cdn.bokeh.org/bokeh/release/bokeh-3.6.0.min.js\", \"https://cdn.bokeh.org/bokeh/release/bokeh-gl-3.6.0.min.js\", \"https://cdn.bokeh.org/bokeh/release/bokeh-widgets-3.6.0.min.js\", \"https://cdn.bokeh.org/bokeh/release/bokeh-tables-3.6.0.min.js\", \"https://cdn.holoviz.org/panel/1.5.2/dist/panel.min.js\"];\n",
       "  const js_modules = [];\n",
       "  const js_exports = {};\n",
       "  const css_urls = [];\n",
       "  const inline_js = [    function(Bokeh) {\n",
       "      Bokeh.set_log_level(\"info\");\n",
       "    },\n",
       "function(Bokeh) {} // ensure no trailing comma for IE\n",
       "  ];\n",
       "\n",
       "  function run_inline_js() {\n",
       "    if ((root.Bokeh !== undefined) || (force === true)) {\n",
       "      for (let i = 0; i < inline_js.length; i++) {\n",
       "        try {\n",
       "          inline_js[i].call(root, root.Bokeh);\n",
       "        } catch(e) {\n",
       "          if (!reloading) {\n",
       "            throw e;\n",
       "          }\n",
       "        }\n",
       "      }\n",
       "      // Cache old bokeh versions\n",
       "      if (Bokeh != undefined && !reloading) {\n",
       "        var NewBokeh = root.Bokeh;\n",
       "        if (Bokeh.versions === undefined) {\n",
       "          Bokeh.versions = new Map();\n",
       "        }\n",
       "        if (NewBokeh.version !== Bokeh.version) {\n",
       "          Bokeh.versions.set(NewBokeh.version, NewBokeh)\n",
       "        }\n",
       "        root.Bokeh = Bokeh;\n",
       "      }\n",
       "    } else if (Date.now() < root._bokeh_timeout) {\n",
       "      setTimeout(run_inline_js, 100);\n",
       "    } else if (!root._bokeh_failed_load) {\n",
       "      console.log(\"Bokeh: BokehJS failed to load within specified timeout.\");\n",
       "      root._bokeh_failed_load = true;\n",
       "    }\n",
       "    root._bokeh_is_initializing = false\n",
       "  }\n",
       "\n",
       "  function load_or_wait() {\n",
       "    // Implement a backoff loop that tries to ensure we do not load multiple\n",
       "    // versions of Bokeh and its dependencies at the same time.\n",
       "    // In recent versions we use the root._bokeh_is_initializing flag\n",
       "    // to determine whether there is an ongoing attempt to initialize\n",
       "    // bokeh, however for backward compatibility we also try to ensure\n",
       "    // that we do not start loading a newer (Panel>=1.0 and Bokeh>3) version\n",
       "    // before older versions are fully initialized.\n",
       "    if (root._bokeh_is_initializing && Date.now() > root._bokeh_timeout) {\n",
       "      // If the timeout and bokeh was not successfully loaded we reset\n",
       "      // everything and try loading again\n",
       "      root._bokeh_timeout = Date.now() + 5000;\n",
       "      root._bokeh_is_initializing = false;\n",
       "      root._bokeh_onload_callbacks = undefined;\n",
       "      root._bokeh_is_loading = 0\n",
       "      console.log(\"Bokeh: BokehJS was loaded multiple times but one version failed to initialize.\");\n",
       "      load_or_wait();\n",
       "    } else if (root._bokeh_is_initializing || (typeof root._bokeh_is_initializing === \"undefined\" && root._bokeh_onload_callbacks !== undefined)) {\n",
       "      setTimeout(load_or_wait, 100);\n",
       "    } else {\n",
       "      root._bokeh_is_initializing = true\n",
       "      root._bokeh_onload_callbacks = []\n",
       "      const bokeh_loaded = root.Bokeh != null && (root.Bokeh.version === py_version || (root.Bokeh.versions !== undefined && root.Bokeh.versions.has(py_version)));\n",
       "      if (!reloading && !bokeh_loaded) {\n",
       "        if (root.Bokeh) {\n",
       "          root.Bokeh = undefined;\n",
       "        }\n",
       "        console.debug(\"Bokeh: BokehJS not loaded, scheduling load and callback at\", now());\n",
       "      }\n",
       "      load_libs(css_urls, js_urls, js_modules, js_exports, function() {\n",
       "        console.debug(\"Bokeh: BokehJS plotting callback run at\", now());\n",
       "        run_inline_js();\n",
       "      });\n",
       "    }\n",
       "  }\n",
       "  // Give older versions of the autoload script a head-start to ensure\n",
       "  // they initialize before we start loading newer version.\n",
       "  setTimeout(load_or_wait, 100)\n",
       "}(window));"
      ],
      "application/vnd.holoviews_load.v0+json": "(function(root) {\n  function now() {\n    return new Date();\n  }\n\n  const force = true;\n  const py_version = '3.6.0'.replace('rc', '-rc.').replace('.dev', '-dev.');\n  const reloading = false;\n  const Bokeh = root.Bokeh;\n\n  // Set a timeout for this load but only if we are not already initializing\n  if (typeof (root._bokeh_timeout) === \"undefined\" || (force || !root._bokeh_is_initializing)) {\n    root._bokeh_timeout = Date.now() + 5000;\n    root._bokeh_failed_load = false;\n  }\n\n  function run_callbacks() {\n    try {\n      root._bokeh_onload_callbacks.forEach(function(callback) {\n        if (callback != null)\n          callback();\n      });\n    } finally {\n      delete root._bokeh_onload_callbacks;\n    }\n    console.debug(\"Bokeh: all callbacks have finished\");\n  }\n\n  function load_libs(css_urls, js_urls, js_modules, js_exports, callback) {\n    if (css_urls == null) css_urls = [];\n    if (js_urls == null) js_urls = [];\n    if (js_modules == null) js_modules = [];\n    if (js_exports == null) js_exports = {};\n\n    root._bokeh_onload_callbacks.push(callback);\n\n    if (root._bokeh_is_loading > 0) {\n      // Don't load bokeh if it is still initializing\n      console.debug(\"Bokeh: BokehJS is being loaded, scheduling callback at\", now());\n      return null;\n    } else if (js_urls.length === 0 && js_modules.length === 0 && Object.keys(js_exports).length === 0) {\n      // There is nothing to load\n      run_callbacks();\n      return null;\n    }\n\n    function on_load() {\n      root._bokeh_is_loading--;\n      if (root._bokeh_is_loading === 0) {\n        console.debug(\"Bokeh: all BokehJS libraries/stylesheets loaded\");\n        run_callbacks()\n      }\n    }\n    window._bokeh_on_load = on_load\n\n    function on_error(e) {\n      const src_el = e.srcElement\n      console.error(\"failed to load \" + (src_el.href || src_el.src));\n    }\n\n    const skip = [];\n    if (window.requirejs) {\n      window.requirejs.config({'packages': {}, 'paths': {}, 'shim': {}});\n      root._bokeh_is_loading = css_urls.length + 0;\n    } else {\n      root._bokeh_is_loading = css_urls.length + js_urls.length + js_modules.length + Object.keys(js_exports).length;\n    }\n\n    const existing_stylesheets = []\n    const links = document.getElementsByTagName('link')\n    for (let i = 0; i < links.length; i++) {\n      const link = links[i]\n      if (link.href != null) {\n        existing_stylesheets.push(link.href)\n      }\n    }\n    for (let i = 0; i < css_urls.length; i++) {\n      const url = css_urls[i];\n      const escaped = encodeURI(url)\n      if (existing_stylesheets.indexOf(escaped) !== -1) {\n        on_load()\n        continue;\n      }\n      const element = document.createElement(\"link\");\n      element.onload = on_load;\n      element.onerror = on_error;\n      element.rel = \"stylesheet\";\n      element.type = \"text/css\";\n      element.href = url;\n      console.debug(\"Bokeh: injecting link tag for BokehJS stylesheet: \", url);\n      document.body.appendChild(element);\n    }    var existing_scripts = []\n    const scripts = document.getElementsByTagName('script')\n    for (let i = 0; i < scripts.length; i++) {\n      var script = scripts[i]\n      if (script.src != null) {\n        existing_scripts.push(script.src)\n      }\n    }\n    for (let i = 0; i < js_urls.length; i++) {\n      const url = js_urls[i];\n      const escaped = encodeURI(url)\n      if (skip.indexOf(escaped) !== -1 || existing_scripts.indexOf(escaped) !== -1) {\n        if (!window.requirejs) {\n          on_load();\n        }\n        continue;\n      }\n      const element = document.createElement('script');\n      element.onload = on_load;\n      element.onerror = on_error;\n      element.async = false;\n      element.src = url;\n      console.debug(\"Bokeh: injecting script tag for BokehJS library: \", url);\n      document.head.appendChild(element);\n    }\n    for (let i = 0; i < js_modules.length; i++) {\n      const url = js_modules[i];\n      const escaped = encodeURI(url)\n      if (skip.indexOf(escaped) !== -1 || existing_scripts.indexOf(escaped) !== -1) {\n        if (!window.requirejs) {\n          on_load();\n        }\n        continue;\n      }\n      var element = document.createElement('script');\n      element.onload = on_load;\n      element.onerror = on_error;\n      element.async = false;\n      element.src = url;\n      element.type = \"module\";\n      console.debug(\"Bokeh: injecting script tag for BokehJS library: \", url);\n      document.head.appendChild(element);\n    }\n    for (const name in js_exports) {\n      const url = js_exports[name];\n      const escaped = encodeURI(url)\n      if (skip.indexOf(escaped) >= 0 || root[name] != null) {\n        if (!window.requirejs) {\n          on_load();\n        }\n        continue;\n      }\n      var element = document.createElement('script');\n      element.onerror = on_error;\n      element.async = false;\n      element.type = \"module\";\n      console.debug(\"Bokeh: injecting script tag for BokehJS library: \", url);\n      element.textContent = `\n      import ${name} from \"${url}\"\n      window.${name} = ${name}\n      window._bokeh_on_load()\n      `\n      document.head.appendChild(element);\n    }\n    if (!js_urls.length && !js_modules.length) {\n      on_load()\n    }\n  };\n\n  function inject_raw_css(css) {\n    const element = document.createElement(\"style\");\n    element.appendChild(document.createTextNode(css));\n    document.body.appendChild(element);\n  }\n\n  const js_urls = [\"https://cdn.holoviz.org/panel/1.5.2/dist/bundled/reactiveesm/es-module-shims@^1.10.0/dist/es-module-shims.min.js\", \"https://cdn.bokeh.org/bokeh/release/bokeh-3.6.0.min.js\", \"https://cdn.bokeh.org/bokeh/release/bokeh-gl-3.6.0.min.js\", \"https://cdn.bokeh.org/bokeh/release/bokeh-widgets-3.6.0.min.js\", \"https://cdn.bokeh.org/bokeh/release/bokeh-tables-3.6.0.min.js\", \"https://cdn.holoviz.org/panel/1.5.2/dist/panel.min.js\"];\n  const js_modules = [];\n  const js_exports = {};\n  const css_urls = [];\n  const inline_js = [    function(Bokeh) {\n      Bokeh.set_log_level(\"info\");\n    },\nfunction(Bokeh) {} // ensure no trailing comma for IE\n  ];\n\n  function run_inline_js() {\n    if ((root.Bokeh !== undefined) || (force === true)) {\n      for (let i = 0; i < inline_js.length; i++) {\n        try {\n          inline_js[i].call(root, root.Bokeh);\n        } catch(e) {\n          if (!reloading) {\n            throw e;\n          }\n        }\n      }\n      // Cache old bokeh versions\n      if (Bokeh != undefined && !reloading) {\n        var NewBokeh = root.Bokeh;\n        if (Bokeh.versions === undefined) {\n          Bokeh.versions = new Map();\n        }\n        if (NewBokeh.version !== Bokeh.version) {\n          Bokeh.versions.set(NewBokeh.version, NewBokeh)\n        }\n        root.Bokeh = Bokeh;\n      }\n    } else if (Date.now() < root._bokeh_timeout) {\n      setTimeout(run_inline_js, 100);\n    } else if (!root._bokeh_failed_load) {\n      console.log(\"Bokeh: BokehJS failed to load within specified timeout.\");\n      root._bokeh_failed_load = true;\n    }\n    root._bokeh_is_initializing = false\n  }\n\n  function load_or_wait() {\n    // Implement a backoff loop that tries to ensure we do not load multiple\n    // versions of Bokeh and its dependencies at the same time.\n    // In recent versions we use the root._bokeh_is_initializing flag\n    // to determine whether there is an ongoing attempt to initialize\n    // bokeh, however for backward compatibility we also try to ensure\n    // that we do not start loading a newer (Panel>=1.0 and Bokeh>3) version\n    // before older versions are fully initialized.\n    if (root._bokeh_is_initializing && Date.now() > root._bokeh_timeout) {\n      // If the timeout and bokeh was not successfully loaded we reset\n      // everything and try loading again\n      root._bokeh_timeout = Date.now() + 5000;\n      root._bokeh_is_initializing = false;\n      root._bokeh_onload_callbacks = undefined;\n      root._bokeh_is_loading = 0\n      console.log(\"Bokeh: BokehJS was loaded multiple times but one version failed to initialize.\");\n      load_or_wait();\n    } else if (root._bokeh_is_initializing || (typeof root._bokeh_is_initializing === \"undefined\" && root._bokeh_onload_callbacks !== undefined)) {\n      setTimeout(load_or_wait, 100);\n    } else {\n      root._bokeh_is_initializing = true\n      root._bokeh_onload_callbacks = []\n      const bokeh_loaded = root.Bokeh != null && (root.Bokeh.version === py_version || (root.Bokeh.versions !== undefined && root.Bokeh.versions.has(py_version)));\n      if (!reloading && !bokeh_loaded) {\n        if (root.Bokeh) {\n          root.Bokeh = undefined;\n        }\n        console.debug(\"Bokeh: BokehJS not loaded, scheduling load and callback at\", now());\n      }\n      load_libs(css_urls, js_urls, js_modules, js_exports, function() {\n        console.debug(\"Bokeh: BokehJS plotting callback run at\", now());\n        run_inline_js();\n      });\n    }\n  }\n  // Give older versions of the autoload script a head-start to ensure\n  // they initialize before we start loading newer version.\n  setTimeout(load_or_wait, 100)\n}(window));"
     },
     "metadata": {},
     "output_type": "display_data"
    },
    {
     "data": {
      "application/javascript": [
       "\n",
       "if ((window.PyViz === undefined) || (window.PyViz instanceof HTMLElement)) {\n",
       "  window.PyViz = {comms: {}, comm_status:{}, kernels:{}, receivers: {}, plot_index: []}\n",
       "}\n",
       "\n",
       "\n",
       "    function JupyterCommManager() {\n",
       "    }\n",
       "\n",
       "    JupyterCommManager.prototype.register_target = function(plot_id, comm_id, msg_handler) {\n",
       "      if (window.comm_manager || ((window.Jupyter !== undefined) && (Jupyter.notebook.kernel != null))) {\n",
       "        var comm_manager = window.comm_manager || Jupyter.notebook.kernel.comm_manager;\n",
       "        comm_manager.register_target(comm_id, function(comm) {\n",
       "          comm.on_msg(msg_handler);\n",
       "        });\n",
       "      } else if ((plot_id in window.PyViz.kernels) && (window.PyViz.kernels[plot_id])) {\n",
       "        window.PyViz.kernels[plot_id].registerCommTarget(comm_id, function(comm) {\n",
       "          comm.onMsg = msg_handler;\n",
       "        });\n",
       "      } else if (typeof google != 'undefined' && google.colab.kernel != null) {\n",
       "        google.colab.kernel.comms.registerTarget(comm_id, (comm) => {\n",
       "          var messages = comm.messages[Symbol.asyncIterator]();\n",
       "          function processIteratorResult(result) {\n",
       "            var message = result.value;\n",
       "            console.log(message)\n",
       "            var content = {data: message.data, comm_id};\n",
       "            var buffers = []\n",
       "            for (var buffer of message.buffers || []) {\n",
       "              buffers.push(new DataView(buffer))\n",
       "            }\n",
       "            var metadata = message.metadata || {};\n",
       "            var msg = {content, buffers, metadata}\n",
       "            msg_handler(msg);\n",
       "            return messages.next().then(processIteratorResult);\n",
       "          }\n",
       "          return messages.next().then(processIteratorResult);\n",
       "        })\n",
       "      }\n",
       "    }\n",
       "\n",
       "    JupyterCommManager.prototype.get_client_comm = function(plot_id, comm_id, msg_handler) {\n",
       "      if (comm_id in window.PyViz.comms) {\n",
       "        return window.PyViz.comms[comm_id];\n",
       "      } else if (window.comm_manager || ((window.Jupyter !== undefined) && (Jupyter.notebook.kernel != null))) {\n",
       "        var comm_manager = window.comm_manager || Jupyter.notebook.kernel.comm_manager;\n",
       "        var comm = comm_manager.new_comm(comm_id, {}, {}, {}, comm_id);\n",
       "        if (msg_handler) {\n",
       "          comm.on_msg(msg_handler);\n",
       "        }\n",
       "      } else if ((plot_id in window.PyViz.kernels) && (window.PyViz.kernels[plot_id])) {\n",
       "        var comm = window.PyViz.kernels[plot_id].connectToComm(comm_id);\n",
       "        comm.open();\n",
       "        if (msg_handler) {\n",
       "          comm.onMsg = msg_handler;\n",
       "        }\n",
       "      } else if (typeof google != 'undefined' && google.colab.kernel != null) {\n",
       "        var comm_promise = google.colab.kernel.comms.open(comm_id)\n",
       "        comm_promise.then((comm) => {\n",
       "          window.PyViz.comms[comm_id] = comm;\n",
       "          if (msg_handler) {\n",
       "            var messages = comm.messages[Symbol.asyncIterator]();\n",
       "            function processIteratorResult(result) {\n",
       "              var message = result.value;\n",
       "              var content = {data: message.data};\n",
       "              var metadata = message.metadata || {comm_id};\n",
       "              var msg = {content, metadata}\n",
       "              msg_handler(msg);\n",
       "              return messages.next().then(processIteratorResult);\n",
       "            }\n",
       "            return messages.next().then(processIteratorResult);\n",
       "          }\n",
       "        }) \n",
       "        var sendClosure = (data, metadata, buffers, disposeOnDone) => {\n",
       "          return comm_promise.then((comm) => {\n",
       "            comm.send(data, metadata, buffers, disposeOnDone);\n",
       "          });\n",
       "        };\n",
       "        var comm = {\n",
       "          send: sendClosure\n",
       "        };\n",
       "      }\n",
       "      window.PyViz.comms[comm_id] = comm;\n",
       "      return comm;\n",
       "    }\n",
       "    window.PyViz.comm_manager = new JupyterCommManager();\n",
       "    \n",
       "\n",
       "\n",
       "var JS_MIME_TYPE = 'application/javascript';\n",
       "var HTML_MIME_TYPE = 'text/html';\n",
       "var EXEC_MIME_TYPE = 'application/vnd.holoviews_exec.v0+json';\n",
       "var CLASS_NAME = 'output';\n",
       "\n",
       "/**\n",
       " * Render data to the DOM node\n",
       " */\n",
       "function render(props, node) {\n",
       "  var div = document.createElement(\"div\");\n",
       "  var script = document.createElement(\"script\");\n",
       "  node.appendChild(div);\n",
       "  node.appendChild(script);\n",
       "}\n",
       "\n",
       "/**\n",
       " * Handle when a new output is added\n",
       " */\n",
       "function handle_add_output(event, handle) {\n",
       "  var output_area = handle.output_area;\n",
       "  var output = handle.output;\n",
       "  if ((output.data == undefined) || (!output.data.hasOwnProperty(EXEC_MIME_TYPE))) {\n",
       "    return\n",
       "  }\n",
       "  var id = output.metadata[EXEC_MIME_TYPE][\"id\"];\n",
       "  var toinsert = output_area.element.find(\".\" + CLASS_NAME.split(' ')[0]);\n",
       "  if (id !== undefined) {\n",
       "    var nchildren = toinsert.length;\n",
       "    var html_node = toinsert[nchildren-1].children[0];\n",
       "    html_node.innerHTML = output.data[HTML_MIME_TYPE];\n",
       "    var scripts = [];\n",
       "    var nodelist = html_node.querySelectorAll(\"script\");\n",
       "    for (var i in nodelist) {\n",
       "      if (nodelist.hasOwnProperty(i)) {\n",
       "        scripts.push(nodelist[i])\n",
       "      }\n",
       "    }\n",
       "\n",
       "    scripts.forEach( function (oldScript) {\n",
       "      var newScript = document.createElement(\"script\");\n",
       "      var attrs = [];\n",
       "      var nodemap = oldScript.attributes;\n",
       "      for (var j in nodemap) {\n",
       "        if (nodemap.hasOwnProperty(j)) {\n",
       "          attrs.push(nodemap[j])\n",
       "        }\n",
       "      }\n",
       "      attrs.forEach(function(attr) { newScript.setAttribute(attr.name, attr.value) });\n",
       "      newScript.appendChild(document.createTextNode(oldScript.innerHTML));\n",
       "      oldScript.parentNode.replaceChild(newScript, oldScript);\n",
       "    });\n",
       "    if (JS_MIME_TYPE in output.data) {\n",
       "      toinsert[nchildren-1].children[1].textContent = output.data[JS_MIME_TYPE];\n",
       "    }\n",
       "    output_area._hv_plot_id = id;\n",
       "    if ((window.Bokeh !== undefined) && (id in Bokeh.index)) {\n",
       "      window.PyViz.plot_index[id] = Bokeh.index[id];\n",
       "    } else {\n",
       "      window.PyViz.plot_index[id] = null;\n",
       "    }\n",
       "  } else if (output.metadata[EXEC_MIME_TYPE][\"server_id\"] !== undefined) {\n",
       "    var bk_div = document.createElement(\"div\");\n",
       "    bk_div.innerHTML = output.data[HTML_MIME_TYPE];\n",
       "    var script_attrs = bk_div.children[0].attributes;\n",
       "    for (var i = 0; i < script_attrs.length; i++) {\n",
       "      toinsert[toinsert.length - 1].childNodes[1].setAttribute(script_attrs[i].name, script_attrs[i].value);\n",
       "    }\n",
       "    // store reference to server id on output_area\n",
       "    output_area._bokeh_server_id = output.metadata[EXEC_MIME_TYPE][\"server_id\"];\n",
       "  }\n",
       "}\n",
       "\n",
       "/**\n",
       " * Handle when an output is cleared or removed\n",
       " */\n",
       "function handle_clear_output(event, handle) {\n",
       "  var id = handle.cell.output_area._hv_plot_id;\n",
       "  var server_id = handle.cell.output_area._bokeh_server_id;\n",
       "  if (((id === undefined) || !(id in PyViz.plot_index)) && (server_id !== undefined)) { return; }\n",
       "  var comm = window.PyViz.comm_manager.get_client_comm(\"hv-extension-comm\", \"hv-extension-comm\", function () {});\n",
       "  if (server_id !== null) {\n",
       "    comm.send({event_type: 'server_delete', 'id': server_id});\n",
       "    return;\n",
       "  } else if (comm !== null) {\n",
       "    comm.send({event_type: 'delete', 'id': id});\n",
       "  }\n",
       "  delete PyViz.plot_index[id];\n",
       "  if ((window.Bokeh !== undefined) & (id in window.Bokeh.index)) {\n",
       "    var doc = window.Bokeh.index[id].model.document\n",
       "    doc.clear();\n",
       "    const i = window.Bokeh.documents.indexOf(doc);\n",
       "    if (i > -1) {\n",
       "      window.Bokeh.documents.splice(i, 1);\n",
       "    }\n",
       "  }\n",
       "}\n",
       "\n",
       "/**\n",
       " * Handle kernel restart event\n",
       " */\n",
       "function handle_kernel_cleanup(event, handle) {\n",
       "  delete PyViz.comms[\"hv-extension-comm\"];\n",
       "  window.PyViz.plot_index = {}\n",
       "}\n",
       "\n",
       "/**\n",
       " * Handle update_display_data messages\n",
       " */\n",
       "function handle_update_output(event, handle) {\n",
       "  handle_clear_output(event, {cell: {output_area: handle.output_area}})\n",
       "  handle_add_output(event, handle)\n",
       "}\n",
       "\n",
       "function register_renderer(events, OutputArea) {\n",
       "  function append_mime(data, metadata, element) {\n",
       "    // create a DOM node to render to\n",
       "    var toinsert = this.create_output_subarea(\n",
       "    metadata,\n",
       "    CLASS_NAME,\n",
       "    EXEC_MIME_TYPE\n",
       "    );\n",
       "    this.keyboard_manager.register_events(toinsert);\n",
       "    // Render to node\n",
       "    var props = {data: data, metadata: metadata[EXEC_MIME_TYPE]};\n",
       "    render(props, toinsert[0]);\n",
       "    element.append(toinsert);\n",
       "    return toinsert\n",
       "  }\n",
       "\n",
       "  events.on('output_added.OutputArea', handle_add_output);\n",
       "  events.on('output_updated.OutputArea', handle_update_output);\n",
       "  events.on('clear_output.CodeCell', handle_clear_output);\n",
       "  events.on('delete.Cell', handle_clear_output);\n",
       "  events.on('kernel_ready.Kernel', handle_kernel_cleanup);\n",
       "\n",
       "  OutputArea.prototype.register_mime_type(EXEC_MIME_TYPE, append_mime, {\n",
       "    safe: true,\n",
       "    index: 0\n",
       "  });\n",
       "}\n",
       "\n",
       "if (window.Jupyter !== undefined) {\n",
       "  try {\n",
       "    var events = require('base/js/events');\n",
       "    var OutputArea = require('notebook/js/outputarea').OutputArea;\n",
       "    if (OutputArea.prototype.mime_types().indexOf(EXEC_MIME_TYPE) == -1) {\n",
       "      register_renderer(events, OutputArea);\n",
       "    }\n",
       "  } catch(err) {\n",
       "  }\n",
       "}\n"
      ],
      "application/vnd.holoviews_load.v0+json": "\nif ((window.PyViz === undefined) || (window.PyViz instanceof HTMLElement)) {\n  window.PyViz = {comms: {}, comm_status:{}, kernels:{}, receivers: {}, plot_index: []}\n}\n\n\n    function JupyterCommManager() {\n    }\n\n    JupyterCommManager.prototype.register_target = function(plot_id, comm_id, msg_handler) {\n      if (window.comm_manager || ((window.Jupyter !== undefined) && (Jupyter.notebook.kernel != null))) {\n        var comm_manager = window.comm_manager || Jupyter.notebook.kernel.comm_manager;\n        comm_manager.register_target(comm_id, function(comm) {\n          comm.on_msg(msg_handler);\n        });\n      } else if ((plot_id in window.PyViz.kernels) && (window.PyViz.kernels[plot_id])) {\n        window.PyViz.kernels[plot_id].registerCommTarget(comm_id, function(comm) {\n          comm.onMsg = msg_handler;\n        });\n      } else if (typeof google != 'undefined' && google.colab.kernel != null) {\n        google.colab.kernel.comms.registerTarget(comm_id, (comm) => {\n          var messages = comm.messages[Symbol.asyncIterator]();\n          function processIteratorResult(result) {\n            var message = result.value;\n            console.log(message)\n            var content = {data: message.data, comm_id};\n            var buffers = []\n            for (var buffer of message.buffers || []) {\n              buffers.push(new DataView(buffer))\n            }\n            var metadata = message.metadata || {};\n            var msg = {content, buffers, metadata}\n            msg_handler(msg);\n            return messages.next().then(processIteratorResult);\n          }\n          return messages.next().then(processIteratorResult);\n        })\n      }\n    }\n\n    JupyterCommManager.prototype.get_client_comm = function(plot_id, comm_id, msg_handler) {\n      if (comm_id in window.PyViz.comms) {\n        return window.PyViz.comms[comm_id];\n      } else if (window.comm_manager || ((window.Jupyter !== undefined) && (Jupyter.notebook.kernel != null))) {\n        var comm_manager = window.comm_manager || Jupyter.notebook.kernel.comm_manager;\n        var comm = comm_manager.new_comm(comm_id, {}, {}, {}, comm_id);\n        if (msg_handler) {\n          comm.on_msg(msg_handler);\n        }\n      } else if ((plot_id in window.PyViz.kernels) && (window.PyViz.kernels[plot_id])) {\n        var comm = window.PyViz.kernels[plot_id].connectToComm(comm_id);\n        comm.open();\n        if (msg_handler) {\n          comm.onMsg = msg_handler;\n        }\n      } else if (typeof google != 'undefined' && google.colab.kernel != null) {\n        var comm_promise = google.colab.kernel.comms.open(comm_id)\n        comm_promise.then((comm) => {\n          window.PyViz.comms[comm_id] = comm;\n          if (msg_handler) {\n            var messages = comm.messages[Symbol.asyncIterator]();\n            function processIteratorResult(result) {\n              var message = result.value;\n              var content = {data: message.data};\n              var metadata = message.metadata || {comm_id};\n              var msg = {content, metadata}\n              msg_handler(msg);\n              return messages.next().then(processIteratorResult);\n            }\n            return messages.next().then(processIteratorResult);\n          }\n        }) \n        var sendClosure = (data, metadata, buffers, disposeOnDone) => {\n          return comm_promise.then((comm) => {\n            comm.send(data, metadata, buffers, disposeOnDone);\n          });\n        };\n        var comm = {\n          send: sendClosure\n        };\n      }\n      window.PyViz.comms[comm_id] = comm;\n      return comm;\n    }\n    window.PyViz.comm_manager = new JupyterCommManager();\n    \n\n\nvar JS_MIME_TYPE = 'application/javascript';\nvar HTML_MIME_TYPE = 'text/html';\nvar EXEC_MIME_TYPE = 'application/vnd.holoviews_exec.v0+json';\nvar CLASS_NAME = 'output';\n\n/**\n * Render data to the DOM node\n */\nfunction render(props, node) {\n  var div = document.createElement(\"div\");\n  var script = document.createElement(\"script\");\n  node.appendChild(div);\n  node.appendChild(script);\n}\n\n/**\n * Handle when a new output is added\n */\nfunction handle_add_output(event, handle) {\n  var output_area = handle.output_area;\n  var output = handle.output;\n  if ((output.data == undefined) || (!output.data.hasOwnProperty(EXEC_MIME_TYPE))) {\n    return\n  }\n  var id = output.metadata[EXEC_MIME_TYPE][\"id\"];\n  var toinsert = output_area.element.find(\".\" + CLASS_NAME.split(' ')[0]);\n  if (id !== undefined) {\n    var nchildren = toinsert.length;\n    var html_node = toinsert[nchildren-1].children[0];\n    html_node.innerHTML = output.data[HTML_MIME_TYPE];\n    var scripts = [];\n    var nodelist = html_node.querySelectorAll(\"script\");\n    for (var i in nodelist) {\n      if (nodelist.hasOwnProperty(i)) {\n        scripts.push(nodelist[i])\n      }\n    }\n\n    scripts.forEach( function (oldScript) {\n      var newScript = document.createElement(\"script\");\n      var attrs = [];\n      var nodemap = oldScript.attributes;\n      for (var j in nodemap) {\n        if (nodemap.hasOwnProperty(j)) {\n          attrs.push(nodemap[j])\n        }\n      }\n      attrs.forEach(function(attr) { newScript.setAttribute(attr.name, attr.value) });\n      newScript.appendChild(document.createTextNode(oldScript.innerHTML));\n      oldScript.parentNode.replaceChild(newScript, oldScript);\n    });\n    if (JS_MIME_TYPE in output.data) {\n      toinsert[nchildren-1].children[1].textContent = output.data[JS_MIME_TYPE];\n    }\n    output_area._hv_plot_id = id;\n    if ((window.Bokeh !== undefined) && (id in Bokeh.index)) {\n      window.PyViz.plot_index[id] = Bokeh.index[id];\n    } else {\n      window.PyViz.plot_index[id] = null;\n    }\n  } else if (output.metadata[EXEC_MIME_TYPE][\"server_id\"] !== undefined) {\n    var bk_div = document.createElement(\"div\");\n    bk_div.innerHTML = output.data[HTML_MIME_TYPE];\n    var script_attrs = bk_div.children[0].attributes;\n    for (var i = 0; i < script_attrs.length; i++) {\n      toinsert[toinsert.length - 1].childNodes[1].setAttribute(script_attrs[i].name, script_attrs[i].value);\n    }\n    // store reference to server id on output_area\n    output_area._bokeh_server_id = output.metadata[EXEC_MIME_TYPE][\"server_id\"];\n  }\n}\n\n/**\n * Handle when an output is cleared or removed\n */\nfunction handle_clear_output(event, handle) {\n  var id = handle.cell.output_area._hv_plot_id;\n  var server_id = handle.cell.output_area._bokeh_server_id;\n  if (((id === undefined) || !(id in PyViz.plot_index)) && (server_id !== undefined)) { return; }\n  var comm = window.PyViz.comm_manager.get_client_comm(\"hv-extension-comm\", \"hv-extension-comm\", function () {});\n  if (server_id !== null) {\n    comm.send({event_type: 'server_delete', 'id': server_id});\n    return;\n  } else if (comm !== null) {\n    comm.send({event_type: 'delete', 'id': id});\n  }\n  delete PyViz.plot_index[id];\n  if ((window.Bokeh !== undefined) & (id in window.Bokeh.index)) {\n    var doc = window.Bokeh.index[id].model.document\n    doc.clear();\n    const i = window.Bokeh.documents.indexOf(doc);\n    if (i > -1) {\n      window.Bokeh.documents.splice(i, 1);\n    }\n  }\n}\n\n/**\n * Handle kernel restart event\n */\nfunction handle_kernel_cleanup(event, handle) {\n  delete PyViz.comms[\"hv-extension-comm\"];\n  window.PyViz.plot_index = {}\n}\n\n/**\n * Handle update_display_data messages\n */\nfunction handle_update_output(event, handle) {\n  handle_clear_output(event, {cell: {output_area: handle.output_area}})\n  handle_add_output(event, handle)\n}\n\nfunction register_renderer(events, OutputArea) {\n  function append_mime(data, metadata, element) {\n    // create a DOM node to render to\n    var toinsert = this.create_output_subarea(\n    metadata,\n    CLASS_NAME,\n    EXEC_MIME_TYPE\n    );\n    this.keyboard_manager.register_events(toinsert);\n    // Render to node\n    var props = {data: data, metadata: metadata[EXEC_MIME_TYPE]};\n    render(props, toinsert[0]);\n    element.append(toinsert);\n    return toinsert\n  }\n\n  events.on('output_added.OutputArea', handle_add_output);\n  events.on('output_updated.OutputArea', handle_update_output);\n  events.on('clear_output.CodeCell', handle_clear_output);\n  events.on('delete.Cell', handle_clear_output);\n  events.on('kernel_ready.Kernel', handle_kernel_cleanup);\n\n  OutputArea.prototype.register_mime_type(EXEC_MIME_TYPE, append_mime, {\n    safe: true,\n    index: 0\n  });\n}\n\nif (window.Jupyter !== undefined) {\n  try {\n    var events = require('base/js/events');\n    var OutputArea = require('notebook/js/outputarea').OutputArea;\n    if (OutputArea.prototype.mime_types().indexOf(EXEC_MIME_TYPE) == -1) {\n      register_renderer(events, OutputArea);\n    }\n  } catch(err) {\n  }\n}\n"
     },
     "metadata": {},
     "output_type": "display_data"
    },
    {
     "data": {
      "application/vnd.holoviews_exec.v0+json": "",
      "text/html": [
       "<div id='p1002'>\n",
       "  <div id=\"fd02860a-43f8-4611-a524-cb72e6ec925d\" data-root-id=\"p1002\" style=\"display: contents;\"></div>\n",
       "</div>\n",
       "<script type=\"application/javascript\">(function(root) {\n",
       "  var docs_json = {\"f46b9e83-abf3-4eb2-82ed-228332ac2935\":{\"version\":\"3.6.0\",\"title\":\"Bokeh Application\",\"roots\":[{\"type\":\"object\",\"name\":\"panel.models.browser.BrowserInfo\",\"id\":\"p1002\"},{\"type\":\"object\",\"name\":\"panel.models.comm_manager.CommManager\",\"id\":\"p1003\",\"attributes\":{\"plot_id\":\"p1002\",\"comm_id\":\"268f0e178da048d2bc993f9615342f27\",\"client_comm_id\":\"2508b01fb445464bb635859b0b1ce7d5\"}}],\"defs\":[{\"type\":\"model\",\"name\":\"ReactiveHTML1\"},{\"type\":\"model\",\"name\":\"FlexBox1\",\"properties\":[{\"name\":\"align_content\",\"kind\":\"Any\",\"default\":\"flex-start\"},{\"name\":\"align_items\",\"kind\":\"Any\",\"default\":\"flex-start\"},{\"name\":\"flex_direction\",\"kind\":\"Any\",\"default\":\"row\"},{\"name\":\"flex_wrap\",\"kind\":\"Any\",\"default\":\"wrap\"},{\"name\":\"gap\",\"kind\":\"Any\",\"default\":\"\"},{\"name\":\"justify_content\",\"kind\":\"Any\",\"default\":\"flex-start\"}]},{\"type\":\"model\",\"name\":\"FloatPanel1\",\"properties\":[{\"name\":\"config\",\"kind\":\"Any\",\"default\":{\"type\":\"map\"}},{\"name\":\"contained\",\"kind\":\"Any\",\"default\":true},{\"name\":\"position\",\"kind\":\"Any\",\"default\":\"right-top\"},{\"name\":\"offsetx\",\"kind\":\"Any\",\"default\":null},{\"name\":\"offsety\",\"kind\":\"Any\",\"default\":null},{\"name\":\"theme\",\"kind\":\"Any\",\"default\":\"primary\"},{\"name\":\"status\",\"kind\":\"Any\",\"default\":\"normalized\"}]},{\"type\":\"model\",\"name\":\"GridStack1\",\"properties\":[{\"name\":\"mode\",\"kind\":\"Any\",\"default\":\"warn\"},{\"name\":\"ncols\",\"kind\":\"Any\",\"default\":null},{\"name\":\"nrows\",\"kind\":\"Any\",\"default\":null},{\"name\":\"allow_resize\",\"kind\":\"Any\",\"default\":true},{\"name\":\"allow_drag\",\"kind\":\"Any\",\"default\":true},{\"name\":\"state\",\"kind\":\"Any\",\"default\":[]}]},{\"type\":\"model\",\"name\":\"drag1\",\"properties\":[{\"name\":\"slider_width\",\"kind\":\"Any\",\"default\":5},{\"name\":\"slider_color\",\"kind\":\"Any\",\"default\":\"black\"},{\"name\":\"value\",\"kind\":\"Any\",\"default\":50}]},{\"type\":\"model\",\"name\":\"click1\",\"properties\":[{\"name\":\"terminal_output\",\"kind\":\"Any\",\"default\":\"\"},{\"name\":\"debug_name\",\"kind\":\"Any\",\"default\":\"\"},{\"name\":\"clears\",\"kind\":\"Any\",\"default\":0}]},{\"type\":\"model\",\"name\":\"FastWrapper1\",\"properties\":[{\"name\":\"object\",\"kind\":\"Any\",\"default\":null},{\"name\":\"style\",\"kind\":\"Any\",\"default\":null}]},{\"type\":\"model\",\"name\":\"NotificationAreaBase1\",\"properties\":[{\"name\":\"js_events\",\"kind\":\"Any\",\"default\":{\"type\":\"map\"}},{\"name\":\"position\",\"kind\":\"Any\",\"default\":\"bottom-right\"},{\"name\":\"_clear\",\"kind\":\"Any\",\"default\":0}]},{\"type\":\"model\",\"name\":\"NotificationArea1\",\"properties\":[{\"name\":\"js_events\",\"kind\":\"Any\",\"default\":{\"type\":\"map\"}},{\"name\":\"notifications\",\"kind\":\"Any\",\"default\":[]},{\"name\":\"position\",\"kind\":\"Any\",\"default\":\"bottom-right\"},{\"name\":\"_clear\",\"kind\":\"Any\",\"default\":0},{\"name\":\"types\",\"kind\":\"Any\",\"default\":[{\"type\":\"map\",\"entries\":[[\"type\",\"warning\"],[\"background\",\"#ffc107\"],[\"icon\",{\"type\":\"map\",\"entries\":[[\"className\",\"fas fa-exclamation-triangle\"],[\"tagName\",\"i\"],[\"color\",\"white\"]]}]]},{\"type\":\"map\",\"entries\":[[\"type\",\"info\"],[\"background\",\"#007bff\"],[\"icon\",{\"type\":\"map\",\"entries\":[[\"className\",\"fas fa-info-circle\"],[\"tagName\",\"i\"],[\"color\",\"white\"]]}]]}]}]},{\"type\":\"model\",\"name\":\"Notification\",\"properties\":[{\"name\":\"background\",\"kind\":\"Any\",\"default\":null},{\"name\":\"duration\",\"kind\":\"Any\",\"default\":3000},{\"name\":\"icon\",\"kind\":\"Any\",\"default\":null},{\"name\":\"message\",\"kind\":\"Any\",\"default\":\"\"},{\"name\":\"notification_type\",\"kind\":\"Any\",\"default\":null},{\"name\":\"_destroyed\",\"kind\":\"Any\",\"default\":false}]},{\"type\":\"model\",\"name\":\"TemplateActions1\",\"properties\":[{\"name\":\"open_modal\",\"kind\":\"Any\",\"default\":0},{\"name\":\"close_modal\",\"kind\":\"Any\",\"default\":0}]},{\"type\":\"model\",\"name\":\"BootstrapTemplateActions1\",\"properties\":[{\"name\":\"open_modal\",\"kind\":\"Any\",\"default\":0},{\"name\":\"close_modal\",\"kind\":\"Any\",\"default\":0}]},{\"type\":\"model\",\"name\":\"TemplateEditor1\",\"properties\":[{\"name\":\"layout\",\"kind\":\"Any\",\"default\":[]}]},{\"type\":\"model\",\"name\":\"MaterialTemplateActions1\",\"properties\":[{\"name\":\"open_modal\",\"kind\":\"Any\",\"default\":0},{\"name\":\"close_modal\",\"kind\":\"Any\",\"default\":0}]},{\"type\":\"model\",\"name\":\"ReactiveESM1\"},{\"type\":\"model\",\"name\":\"JSComponent1\"},{\"type\":\"model\",\"name\":\"ReactComponent1\"},{\"type\":\"model\",\"name\":\"AnyWidgetComponent1\"},{\"type\":\"model\",\"name\":\"request_value1\",\"properties\":[{\"name\":\"fill\",\"kind\":\"Any\",\"default\":\"none\"},{\"name\":\"_synced\",\"kind\":\"Any\",\"default\":null},{\"name\":\"_request_sync\",\"kind\":\"Any\",\"default\":0}]}]}};\n",
       "  var render_items = [{\"docid\":\"f46b9e83-abf3-4eb2-82ed-228332ac2935\",\"roots\":{\"p1002\":\"fd02860a-43f8-4611-a524-cb72e6ec925d\"},\"root_ids\":[\"p1002\"]}];\n",
       "  var docs = Object.values(docs_json)\n",
       "  if (!docs) {\n",
       "    return\n",
       "  }\n",
       "  const py_version = docs[0].version.replace('rc', '-rc.').replace('.dev', '-dev.')\n",
       "  async function embed_document(root) {\n",
       "    var Bokeh = get_bokeh(root)\n",
       "    await Bokeh.embed.embed_items_notebook(docs_json, render_items);\n",
       "    for (const render_item of render_items) {\n",
       "      for (const root_id of render_item.root_ids) {\n",
       "\tconst id_el = document.getElementById(root_id)\n",
       "\tif (id_el.children.length && id_el.children[0].hasAttribute('data-root-id')) {\n",
       "\t  const root_el = id_el.children[0]\n",
       "\t  root_el.id = root_el.id + '-rendered'\n",
       "\t  for (const child of root_el.children) {\n",
       "            // Ensure JupyterLab does not capture keyboard shortcuts\n",
       "            // see: https://jupyterlab.readthedocs.io/en/4.1.x/extension/notebook.html#keyboard-interaction-model\n",
       "\t    child.setAttribute('data-lm-suppress-shortcuts', 'true')\n",
       "\t  }\n",
       "\t}\n",
       "      }\n",
       "    }\n",
       "  }\n",
       "  function get_bokeh(root) {\n",
       "    if (root.Bokeh === undefined) {\n",
       "      return null\n",
       "    } else if (root.Bokeh.version !== py_version) {\n",
       "      if (root.Bokeh.versions === undefined || !root.Bokeh.versions.has(py_version)) {\n",
       "\treturn null\n",
       "      }\n",
       "      return root.Bokeh.versions.get(py_version);\n",
       "    } else if (root.Bokeh.version === py_version) {\n",
       "      return root.Bokeh\n",
       "    }\n",
       "    return null\n",
       "  }\n",
       "  function is_loaded(root) {\n",
       "    var Bokeh = get_bokeh(root)\n",
       "    return (Bokeh != null && Bokeh.Panel !== undefined)\n",
       "  }\n",
       "  if (is_loaded(root)) {\n",
       "    embed_document(root);\n",
       "  } else {\n",
       "    var attempts = 0;\n",
       "    var timer = setInterval(function(root) {\n",
       "      if (is_loaded(root)) {\n",
       "        clearInterval(timer);\n",
       "        embed_document(root);\n",
       "      } else if (document.readyState == \"complete\") {\n",
       "        attempts++;\n",
       "        if (attempts > 200) {\n",
       "          clearInterval(timer);\n",
       "\t  var Bokeh = get_bokeh(root)\n",
       "\t  if (Bokeh == null || Bokeh.Panel == null) {\n",
       "            console.warn(\"Panel: ERROR: Unable to run Panel code because Bokeh or Panel library is missing\");\n",
       "\t  } else {\n",
       "\t    console.warn(\"Panel: WARNING: Attempting to render but not all required libraries could be resolved.\")\n",
       "\t    embed_document(root)\n",
       "\t  }\n",
       "        }\n",
       "      }\n",
       "    }, 25, root)\n",
       "  }\n",
       "})(window);</script>"
      ]
     },
     "metadata": {
      "application/vnd.holoviews_exec.v0+json": {
       "id": "p1002"
      }
     },
     "output_type": "display_data"
    }
   ],
   "source": [
    "# Dependencies and Setup\n",
    "import hvplot.pandas\n",
    "import pandas as pd\n",
    "import requests\n",
    "import numpy as np\n",
    "import matplotlib.pyplot as plt\n",
    "from matplotlib import colors as mcolors  \n",
    "import plotly.express as px\n",
    "\n",
    "# Import API key\n",
    "from api_keys import geoapify_key"
   ]
  },
  {
   "cell_type": "code",
   "execution_count": 3,
   "metadata": {},
   "outputs": [
    {
     "data": {
      "text/html": [
       "<div>\n",
       "<style scoped>\n",
       "    .dataframe tbody tr th:only-of-type {\n",
       "        vertical-align: middle;\n",
       "    }\n",
       "\n",
       "    .dataframe tbody tr th {\n",
       "        vertical-align: top;\n",
       "    }\n",
       "\n",
       "    .dataframe thead th {\n",
       "        text-align: right;\n",
       "    }\n",
       "</style>\n",
       "<table border=\"1\" class=\"dataframe\">\n",
       "  <thead>\n",
       "    <tr style=\"text-align: right;\">\n",
       "      <th></th>\n",
       "      <th>City_ID</th>\n",
       "      <th>City</th>\n",
       "      <th>Lat</th>\n",
       "      <th>Lng</th>\n",
       "      <th>Max Temp</th>\n",
       "      <th>Humidity</th>\n",
       "      <th>Cloudiness</th>\n",
       "      <th>Wind Speed</th>\n",
       "      <th>Country</th>\n",
       "      <th>Date</th>\n",
       "    </tr>\n",
       "  </thead>\n",
       "  <tbody>\n",
       "    <tr>\n",
       "      <th>0</th>\n",
       "      <td>0</td>\n",
       "      <td>iqaluit</td>\n",
       "      <td>63.7506</td>\n",
       "      <td>-68.5145</td>\n",
       "      <td>-29.06</td>\n",
       "      <td>61</td>\n",
       "      <td>75</td>\n",
       "      <td>9.77</td>\n",
       "      <td>CA</td>\n",
       "      <td>1734642125</td>\n",
       "    </tr>\n",
       "    <tr>\n",
       "      <th>1</th>\n",
       "      <td>1</td>\n",
       "      <td>udachny</td>\n",
       "      <td>66.4167</td>\n",
       "      <td>112.4000</td>\n",
       "      <td>-19.33</td>\n",
       "      <td>92</td>\n",
       "      <td>99</td>\n",
       "      <td>2.28</td>\n",
       "      <td>RU</td>\n",
       "      <td>1734642126</td>\n",
       "    </tr>\n",
       "    <tr>\n",
       "      <th>2</th>\n",
       "      <td>2</td>\n",
       "      <td>port-aux-francais</td>\n",
       "      <td>-49.3500</td>\n",
       "      <td>70.2167</td>\n",
       "      <td>4.83</td>\n",
       "      <td>88</td>\n",
       "      <td>100</td>\n",
       "      <td>7.20</td>\n",
       "      <td>TF</td>\n",
       "      <td>1734642127</td>\n",
       "    </tr>\n",
       "    <tr>\n",
       "      <th>3</th>\n",
       "      <td>3</td>\n",
       "      <td>progreso</td>\n",
       "      <td>21.2833</td>\n",
       "      <td>-89.6667</td>\n",
       "      <td>25.80</td>\n",
       "      <td>73</td>\n",
       "      <td>93</td>\n",
       "      <td>4.97</td>\n",
       "      <td>MX</td>\n",
       "      <td>1734642128</td>\n",
       "    </tr>\n",
       "    <tr>\n",
       "      <th>4</th>\n",
       "      <td>4</td>\n",
       "      <td>port elizabeth</td>\n",
       "      <td>-33.9180</td>\n",
       "      <td>25.5701</td>\n",
       "      <td>20.17</td>\n",
       "      <td>96</td>\n",
       "      <td>100</td>\n",
       "      <td>6.69</td>\n",
       "      <td>ZA</td>\n",
       "      <td>1734642129</td>\n",
       "    </tr>\n",
       "  </tbody>\n",
       "</table>\n",
       "</div>"
      ],
      "text/plain": [
       "   City_ID               City      Lat       Lng  Max Temp  Humidity  \\\n",
       "0        0            iqaluit  63.7506  -68.5145    -29.06        61   \n",
       "1        1            udachny  66.4167  112.4000    -19.33        92   \n",
       "2        2  port-aux-francais -49.3500   70.2167      4.83        88   \n",
       "3        3           progreso  21.2833  -89.6667     25.80        73   \n",
       "4        4     port elizabeth -33.9180   25.5701     20.17        96   \n",
       "\n",
       "   Cloudiness  Wind Speed Country        Date  \n",
       "0          75        9.77      CA  1734642125  \n",
       "1          99        2.28      RU  1734642126  \n",
       "2         100        7.20      TF  1734642127  \n",
       "3          93        4.97      MX  1734642128  \n",
       "4         100        6.69      ZA  1734642129  "
      ]
     },
     "execution_count": 3,
     "metadata": {},
     "output_type": "execute_result"
    }
   ],
   "source": [
    "# Load the CSV file created in Part 1 into a Pandas DataFrame\n",
    "city_data_df = pd.read_csv(\"output_data/cities.csv\")\n",
    "\n",
    "# Display sample data\n",
    "city_data_df.head(5)"
   ]
  },
  {
   "cell_type": "markdown",
   "metadata": {},
   "source": [
    "---\n",
    "\n",
    "### Step 1: Create a map that displays a point for every city in the `city_data_df` DataFrame. The size of the point should be the humidity in each city."
   ]
  },
  {
   "cell_type": "code",
   "execution_count": 29,
   "metadata": {
    "scrolled": true
   },
   "outputs": [
    {
     "data": {},
     "metadata": {},
     "output_type": "display_data"
    },
    {
     "data": {
      "application/vnd.holoviews_exec.v0+json": "",
      "text/html": [
       "<div id='p1072'>\n",
       "  <div id=\"edede230-9a8c-48cd-aca4-f21159b4a782\" data-root-id=\"p1072\" style=\"display: contents;\"></div>\n",
       "</div>\n",
       "<script type=\"application/javascript\">(function(root) {\n",
       "  var docs_json = {\"a7a0fdaa-9b94-4230-bc79-0f35ee102ba6\":{\"version\":\"3.6.0\",\"title\":\"Bokeh Application\",\"roots\":[{\"type\":\"object\",\"name\":\"Row\",\"id\":\"p1072\",\"attributes\":{\"name\":\"Row01033\",\"tags\":[\"embedded\"],\"stylesheets\":[\"\\n:host(.pn-loading):before, .pn-loading:before {\\n  background-color: #c3c3c3;\\n  mask-size: auto calc(min(50%, 400px));\\n  -webkit-mask-size: auto calc(min(50%, 400px));\\n}\",{\"type\":\"object\",\"name\":\"ImportedStyleSheet\",\"id\":\"p1075\",\"attributes\":{\"url\":\"https://cdn.holoviz.org/panel/1.5.2/dist/css/loading.css\"}},{\"type\":\"object\",\"name\":\"ImportedStyleSheet\",\"id\":\"p1134\",\"attributes\":{\"url\":\"https://cdn.holoviz.org/panel/1.5.2/dist/css/listpanel.css\"}},{\"type\":\"object\",\"name\":\"ImportedStyleSheet\",\"id\":\"p1073\",\"attributes\":{\"url\":\"https://cdn.holoviz.org/panel/1.5.2/dist/bundled/theme/default.css\"}},{\"type\":\"object\",\"name\":\"ImportedStyleSheet\",\"id\":\"p1074\",\"attributes\":{\"url\":\"https://cdn.holoviz.org/panel/1.5.2/dist/bundled/theme/native.css\"}}],\"min_width\":700,\"margin\":0,\"sizing_mode\":\"stretch_width\",\"align\":\"start\",\"children\":[{\"type\":\"object\",\"name\":\"Spacer\",\"id\":\"p1076\",\"attributes\":{\"name\":\"HSpacer01040\",\"stylesheets\":[\"\\n:host(.pn-loading):before, .pn-loading:before {\\n  background-color: #c3c3c3;\\n  mask-size: auto calc(min(50%, 400px));\\n  -webkit-mask-size: auto calc(min(50%, 400px));\\n}\",{\"id\":\"p1075\"},{\"id\":\"p1073\"},{\"id\":\"p1074\"}],\"margin\":0,\"sizing_mode\":\"stretch_width\",\"align\":\"start\"}},{\"type\":\"object\",\"name\":\"Figure\",\"id\":\"p1084\",\"attributes\":{\"width\":700,\"height\":300,\"margin\":[5,10],\"sizing_mode\":\"fixed\",\"align\":\"start\",\"x_range\":{\"type\":\"object\",\"name\":\"Range1d\",\"id\":\"p1077\",\"attributes\":{\"tags\":[[[\"Lng\",null]],[]],\"start\":-193.40884285714284,\"end\":192.72544285714287,\"reset_start\":-193.40884285714284,\"reset_end\":192.72544285714287}},\"y_range\":{\"type\":\"object\",\"name\":\"Range1d\",\"id\":\"p1078\",\"attributes\":{\"tags\":[[[\"Lat\",null]],{\"type\":\"map\",\"entries\":[[\"invert_yaxis\",false],[\"autorange\",false]]}],\"start\":-68.10186,\"end\":91.52046,\"reset_start\":-68.10186,\"reset_end\":91.52046}},\"x_scale\":{\"type\":\"object\",\"name\":\"LinearScale\",\"id\":\"p1094\"},\"y_scale\":{\"type\":\"object\",\"name\":\"LinearScale\",\"id\":\"p1095\"},\"title\":{\"type\":\"object\",\"name\":\"Title\",\"id\":\"p1087\",\"attributes\":{\"text\":\"City Humidity Map\",\"text_color\":\"black\",\"text_font_size\":\"12pt\"}},\"renderers\":[{\"type\":\"object\",\"name\":\"GlyphRenderer\",\"id\":\"p1128\",\"attributes\":{\"data_source\":{\"type\":\"object\",\"name\":\"ColumnDataSource\",\"id\":\"p1117\",\"attributes\":{\"selected\":{\"type\":\"object\",\"name\":\"Selection\",\"id\":\"p1118\",\"attributes\":{\"indices\":[],\"line_indices\":[]}},\"selection_policy\":{\"type\":\"object\",\"name\":\"UnionRenderers\",\"id\":\"p1119\"},\"data\":{\"type\":\"map\",\"entries\":[[\"Lng\",{\"type\":\"ndarray\",\"array\":{\"type\":\"bytes\",\"data\":\"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\"},\"shape\":[587],\"dtype\":\"float64\",\"order\":\"little\"}],[\"Lat\",{\"type\":\"ndarray\",\"array\":{\"type\":\"bytes\",\"data\":\"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\"},\"shape\":[587],\"dtype\":\"float64\",\"order\":\"little\"}],[\"Color\",[\"#1f77b4\",\"#1f77b4\",\"#1f77b4\",\"#1f77b4\",\"#1f77b4\",\"#1f77b4\",\"#1f77b4\",\"#1f77b4\",\"#1f77b4\",\"#1f77b4\",\"#1f77b4\",\"#1f77b4\",\"#1f77b4\",\"#1f77b4\",\"#1f77b4\",\"#1f77b4\",\"#1f77b4\",\"#1f77b4\",\"#1f77b4\",\"#1f77b4\",\"#1f77b4\",\"#1f77b4\",\"#1f77b4\",\"#1f77b4\",\"#1f77b4\",\"#1f77b4\",\"#1f77b4\",\"#1f77b4\",\"#1f77b4\",\"#1f77b4\",\"#1f77b4\",\"#1f77b4\",\"#1f77b4\",\"#1f77b4\",\"#1f77b4\",\"#1f77b4\",\"#1f77b4\",\"#1f77b4\",\"#1f77b4\",\"#1f77b4\",\"#1f77b4\",\"#1f77b4\",\"#1f77b4\",\"#1f77b4\",\"#1f77b4\",\"#1f77b4\",\"#1f77b4\",\"#1f77b4\",\"#1f77b4\",\"#1f77b4\",\"#1f77b4\",\"#1f77b4\",\"#1f77b4\",\"#1f77b4\",\"#1f77b4\",\"#1f77b4\",\"#1f77b4\",\"#1f77b4\",\"#1f77b4\",\"#ff7f0e\",\"#ff7f0e\",\"#ff7f0e\",\"#ff7f0e\",\"#ff7f0e\",\"#ff7f0e\",\"#ff7f0e\",\"#ff7f0e\",\"#ff7f0e\",\"#ff7f0e\",\"#ff7f0e\",\"#ff7f0e\",\"#ff7f0e\",\"#ff7f0e\",\"#ff7f0e\",\"#ff7f0e\",\"#ff7f0e\",\"#ff7f0e\",\"#ff7f0e\",\"#ff7f0e\",\"#ff7f0e\",\"#ff7f0e\",\"#ff7f0e\",\"#ff7f0e\",\"#ff7f0e\",\"#ff7f0e\",\"#ff7f0e\",\"#ff7f0e\",\"#ff7f0e\",\"#ff7f0e\",\"#ff7f0e\",\"#ff7f0e\",\"#ff7f0e\",\"#ff7f0e\",\"#ff7f0e\",\"#ff7f0e\",\"#ff7f0e\",\"#ff7f0e\",\"#ff7f0e\",\"#ff7f0e\",\"#ff7f0e\",\"#ff7f0e\",\"#ff7f0e\",\"#ff7f0e\",\"#ff7f0e\",\"#ff7f0e\",\"#ff7f0e\",\"#ff7f0e\",\"#ff7f0e\",\"#ff7f0e\",\"#ff7f0e\",\"#ff7f0e\",\"#ff7f0e\",\"#ff7f0e\",\"#ff7f0e\",\"#ff7f0e\",\"#ff7f0e\",\"#ff7f0e\",\"#ff7f0e\",\"#2ca02c\",\"#2ca02c\",\"#2ca02c\",\"#2ca02c\",\"#2ca02c\",\"#2ca02c\",\"#2ca02c\",\"#2ca02c\",\"#2ca02c\",\"#2ca02c\",\"#2ca02c\",\"#2ca02c\",\"#2ca02c\",\"#2ca02c\",\"#2ca02c\",\"#2ca02c\",\"#2ca02c\",\"#2ca02c\",\"#2ca02c\",\"#2ca02c\",\"#2ca02c\",\"#2ca02c\",\"#2ca02c\",\"#2ca02c\",\"#2ca02c\",\"#2ca02c\",\"#2ca02c\",\"#2ca02c\",\"#2ca02c\",\"#2ca02c\",\"#2ca02c\",\"#2ca02c\",\"#2ca02c\",\"#2ca02c\",\"#2ca02c\",\"#2ca02c\",\"#2ca02c\",\"#2ca02c\",\"#2ca02c\",\"#2ca02c\",\"#2ca02c\",\"#2ca02c\",\"#2ca02c\",\"#2ca02c\",\"#2ca02c\",\"#2ca02c\",\"#2ca02c\",\"#2ca02c\",\"#2ca02c\",\"#2ca02c\",\"#2ca02c\",\"#2ca02c\",\"#2ca02c\",\"#2ca02c\",\"#2ca02c\",\"#2ca02c\",\"#2ca02c\",\"#2ca02c\",\"#d62728\",\"#d62728\",\"#d62728\",\"#d62728\",\"#d62728\",\"#d62728\",\"#d62728\",\"#d62728\",\"#d62728\",\"#d62728\",\"#d62728\",\"#d62728\",\"#d62728\",\"#d62728\",\"#d62728\",\"#d62728\",\"#d62728\",\"#d62728\",\"#d62728\",\"#d62728\",\"#d62728\",\"#d62728\",\"#d62728\",\"#d62728\",\"#d62728\",\"#d62728\",\"#d62728\",\"#d62728\",\"#d62728\",\"#d62728\",\"#d62728\",\"#d62728\",\"#d62728\",\"#d62728\",\"#d62728\",\"#d62728\",\"#d62728\",\"#d62728\",\"#d62728\",\"#d62728\",\"#d62728\",\"#d62728\",\"#d62728\",\"#d62728\",\"#d62728\",\"#d62728\",\"#d62728\",\"#d62728\",\"#d62728\",\"#d62728\",\"#d62728\",\"#d62728\",\"#d62728\",\"#d62728\",\"#d62728\",\"#d62728\",\"#d62728\",\"#d62728\",\"#d62728\",\"#9467bd\",\"#9467bd\",\"#9467bd\",\"#9467bd\",\"#9467bd\",\"#9467bd\",\"#9467bd\",\"#9467bd\",\"#9467bd\",\"#9467bd\",\"#9467bd\",\"#9467bd\",\"#9467bd\",\"#9467bd\",\"#9467bd\",\"#9467bd\",\"#9467bd\",\"#9467bd\",\"#9467bd\",\"#9467bd\",\"#9467bd\",\"#9467bd\",\"#9467bd\",\"#9467bd\",\"#9467bd\",\"#9467bd\",\"#9467bd\",\"#9467bd\",\"#9467bd\",\"#9467bd\",\"#9467bd\",\"#9467bd\",\"#9467bd\",\"#9467bd\",\"#9467bd\",\"#9467bd\",\"#9467bd\",\"#9467bd\",\"#9467bd\",\"#9467bd\",\"#9467bd\",\"#9467bd\",\"#9467bd\",\"#9467bd\",\"#9467bd\",\"#9467bd\",\"#9467bd\",\"#9467bd\",\"#9467bd\",\"#9467bd\",\"#9467bd\",\"#9467bd\",\"#9467bd\",\"#9467bd\",\"#9467bd\",\"#9467bd\",\"#9467bd\",\"#9467bd\",\"#8c564b\",\"#8c564b\",\"#8c564b\",\"#8c564b\",\"#8c564b\",\"#8c564b\",\"#8c564b\",\"#8c564b\",\"#8c564b\",\"#8c564b\",\"#8c564b\",\"#8c564b\",\"#8c564b\",\"#8c564b\",\"#8c564b\",\"#8c564b\",\"#8c564b\",\"#8c564b\",\"#8c564b\",\"#8c564b\",\"#8c564b\",\"#8c564b\",\"#8c564b\",\"#8c564b\",\"#8c564b\",\"#8c564b\",\"#8c564b\",\"#8c564b\",\"#8c564b\",\"#8c564b\",\"#8c564b\",\"#8c564b\",\"#8c564b\",\"#8c564b\",\"#8c564b\",\"#8c564b\",\"#8c564b\",\"#8c564b\",\"#8c564b\",\"#8c564b\",\"#8c564b\",\"#8c564b\",\"#8c564b\",\"#8c564b\",\"#8c564b\",\"#8c564b\",\"#8c564b\",\"#8c564b\",\"#8c564b\",\"#8c564b\",\"#8c564b\",\"#8c564b\",\"#8c564b\",\"#8c564b\",\"#8c564b\",\"#8c564b\",\"#8c564b\",\"#8c564b\",\"#8c564b\",\"#e377c2\",\"#e377c2\",\"#e377c2\",\"#e377c2\",\"#e377c2\",\"#e377c2\",\"#e377c2\",\"#e377c2\",\"#e377c2\",\"#e377c2\",\"#e377c2\",\"#e377c2\",\"#e377c2\",\"#e377c2\",\"#e377c2\",\"#e377c2\",\"#e377c2\",\"#e377c2\",\"#e377c2\",\"#e377c2\",\"#e377c2\",\"#e377c2\",\"#e377c2\",\"#e377c2\",\"#e377c2\",\"#e377c2\",\"#e377c2\",\"#e377c2\",\"#e377c2\",\"#e377c2\",\"#e377c2\",\"#e377c2\",\"#e377c2\",\"#e377c2\",\"#e377c2\",\"#e377c2\",\"#e377c2\",\"#e377c2\",\"#e377c2\",\"#e377c2\",\"#e377c2\",\"#e377c2\",\"#e377c2\",\"#e377c2\",\"#e377c2\",\"#e377c2\",\"#e377c2\",\"#e377c2\",\"#e377c2\",\"#e377c2\",\"#e377c2\",\"#e377c2\",\"#e377c2\",\"#e377c2\",\"#e377c2\",\"#e377c2\",\"#e377c2\",\"#e377c2\",\"#e377c2\",\"#7f7f7f\",\"#7f7f7f\",\"#7f7f7f\",\"#7f7f7f\",\"#7f7f7f\",\"#7f7f7f\",\"#7f7f7f\",\"#7f7f7f\",\"#7f7f7f\",\"#7f7f7f\",\"#7f7f7f\",\"#7f7f7f\",\"#7f7f7f\",\"#7f7f7f\",\"#7f7f7f\",\"#7f7f7f\",\"#7f7f7f\",\"#7f7f7f\",\"#7f7f7f\",\"#7f7f7f\",\"#7f7f7f\",\"#7f7f7f\",\"#7f7f7f\",\"#7f7f7f\",\"#7f7f7f\",\"#7f7f7f\",\"#7f7f7f\",\"#7f7f7f\",\"#7f7f7f\",\"#7f7f7f\",\"#7f7f7f\",\"#7f7f7f\",\"#7f7f7f\",\"#7f7f7f\",\"#7f7f7f\",\"#7f7f7f\",\"#7f7f7f\",\"#7f7f7f\",\"#7f7f7f\",\"#7f7f7f\",\"#7f7f7f\",\"#7f7f7f\",\"#7f7f7f\",\"#7f7f7f\",\"#7f7f7f\",\"#7f7f7f\",\"#7f7f7f\",\"#7f7f7f\",\"#7f7f7f\",\"#7f7f7f\",\"#7f7f7f\",\"#7f7f7f\",\"#7f7f7f\",\"#7f7f7f\",\"#7f7f7f\",\"#7f7f7f\",\"#7f7f7f\",\"#7f7f7f\",\"#bcbd22\",\"#bcbd22\",\"#bcbd22\",\"#bcbd22\",\"#bcbd22\",\"#bcbd22\",\"#bcbd22\",\"#bcbd22\",\"#bcbd22\",\"#bcbd22\",\"#bcbd22\",\"#bcbd22\",\"#bcbd22\",\"#bcbd22\",\"#bcbd22\",\"#bcbd22\",\"#bcbd22\",\"#bcbd22\",\"#bcbd22\",\"#bcbd22\",\"#bcbd22\",\"#bcbd22\",\"#bcbd22\",\"#bcbd22\",\"#bcbd22\",\"#bcbd22\",\"#bcbd22\",\"#bcbd22\",\"#bcbd22\",\"#bcbd22\",\"#bcbd22\",\"#bcbd22\",\"#bcbd22\",\"#bcbd22\",\"#bcbd22\",\"#bcbd22\",\"#bcbd22\",\"#bcbd22\",\"#bcbd22\",\"#bcbd22\",\"#bcbd22\",\"#bcbd22\",\"#bcbd22\",\"#bcbd22\",\"#bcbd22\",\"#bcbd22\",\"#bcbd22\",\"#bcbd22\",\"#bcbd22\",\"#bcbd22\",\"#bcbd22\",\"#bcbd22\",\"#bcbd22\",\"#bcbd22\",\"#bcbd22\",\"#bcbd22\",\"#bcbd22\",\"#bcbd22\",\"#bcbd22\",\"#17becf\",\"#17becf\",\"#17becf\",\"#17becf\",\"#17becf\",\"#17becf\",\"#17becf\",\"#17becf\",\"#17becf\",\"#17becf\",\"#17becf\",\"#17becf\",\"#17becf\",\"#17becf\",\"#17becf\",\"#17becf\",\"#17becf\",\"#17becf\",\"#17becf\",\"#17becf\",\"#17becf\",\"#17becf\",\"#17becf\",\"#17becf\",\"#17becf\",\"#17becf\",\"#17becf\",\"#17becf\",\"#17becf\",\"#17becf\",\"#17becf\",\"#17becf\",\"#17becf\",\"#17becf\",\"#17becf\",\"#17becf\",\"#17becf\",\"#17becf\",\"#17becf\",\"#17becf\",\"#17becf\",\"#17becf\",\"#17becf\",\"#17becf\",\"#17becf\",\"#17becf\",\"#17becf\",\"#17becf\",\"#17becf\",\"#17becf\",\"#17becf\",\"#17becf\",\"#17becf\",\"#17becf\",\"#17becf\",\"#17becf\",\"#17becf\",\"#17becf\",\"#17becf\"]],[\"Humidity\",{\"type\":\"ndarray\",\"array\":{\"type\":\"bytes\",\"data\":\"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\"},\"shape\":[587],\"dtype\":\"int32\",\"order\":\"little\"}],[\"City\",[\"iqaluit\",\"udachny\",\"port-aux-francais\",\"progreso\",\"port elizabeth\",\"brad\",\"quellon\",\"loa janan\",\"lugus\",\"thai binh\",\"kutum\",\"lorengau\",\"grytviken\",\"blackmans bay\",\"papatowai\",\"medina\",\"mudanya\",\"pamandzi\",\"waitangi\",\"nili\",\"hamilton\",\"posto da mata\",\"egilsstadir\",\"praia da vitoria\",\"coquimbo\",\"turpan\",\"mildura\",\"agadez\",\"hawaiian paradise park\",\"puerto natales\",\"atafu village\",\"puerto ayora\",\"georgetown\",\"bredasdorp\",\"albany\",\"nagqu\",\"invercargill\",\"mastic beach\",\"puerto baquerizo moreno\",\"laojunmiao\",\"edinburgh of the seven seas\",\"vorkuta\",\"nova sintra\",\"bakanas\",\"wailua homesteads\",\"port mathurin\",\"tiksi\",\"isafjordur\",\"colonia\",\"pemangkat\",\"port blair\",\"bethel\",\"sangmelima\",\"stanley\",\"ushuaia\",\"thunder bay\",\"adamstown\",\"anadyr\",\"chakari\",\"palikir - national government center\",\"tamale\",\"kodiak\",\"ancud\",\"callao\",\"waat\",\"margaret river\",\"amos\",\"yellowknife\",\"west island\",\"hammerfest\",\"lagunas\",\"leava\",\"kapa'a\",\"carutapera\",\"mata-utu\",\"laascaanood\",\"polyarnyy\",\"kingston\",\"hithadhoo\",\"queenstown\",\"alofi\",\"tateyama\",\"kulhudhuffushi\",\"patterson\",\"zhizdra\",\"new norfolk\",\"uvira\",\"okhotsk\",\"camana\",\"jamestown\",\"santa cruz del sur\",\"ornskoldsvik\",\"punta arenas\",\"hermanus\",\"longyearbyen\",\"olinda\",\"vorgashor\",\"bondo\",\"calvinia\",\"sheksna\",\"bilibino\",\"vidyayevo\",\"wotho\",\"qaqortoq\",\"buchanan\",\"whitehorse\",\"banda aceh\",\"broome\",\"petropavlovsk-kamchatsky\",\"altai\",\"greymouth\",\"talnakh\",\"davlekanovo\",\"dunedin\",\"zaozersk\",\"kailua-kona\",\"acarau\",\"shibirghan\",\"magadan\",\"ishinomaki\",\"sitka\",\"labuan bajo\",\"bonthe\",\"nemuro\",\"kasongo\",\"ribeira grande\",\"ometepec\",\"avarua\",\"klyuchi\",\"cooper's town\",\"svetlyy\",\"gandajika\",\"freetown\",\"hilo\",\"quang ngai\",\"veraval\",\"saint croix\",\"kerikeri\",\"alice springs\",\"san rafael\",\"st. john's\",\"kargasok\",\"pangody\",\"arteche\",\"arraial do cabo\",\"tegueste\",\"shalqar\",\"wanning\",\"yopal\",\"balnearia\",\"constantia\",\"yebaishou\",\"eureka\",\"bintulu\",\"chonchi\",\"tura\",\"sarkand\",\"weno\",\"cabo san lucas\",\"zhangye\",\"katsuura\",\"rongelap\",\"vilyuchinsk\",\"argo\",\"corner brook\",\"saranac lake\",\"tera\",\"utrik\",\"nabire\",\"horta\",\"island harbour\",\"tabou\",\"luderitz\",\"ilulissat\",\"alta sierra\",\"fuling\",\"uglegorsk\",\"sao vicente\",\"touros\",\"paka\",\"east london\",\"clacton-on-sea\",\"idri\",\"port lincoln\",\"houghton\",\"walvis bay\",\"okha\",\"basco\",\"badger\",\"port alfred\",\"fale old settlement\",\"mizdah\",\"yangambi\",\"enewetak\",\"palapag\",\"trinidad\",\"tenno\",\"zeya\",\"dryden\",\"saint-philippe\",\"uchiza\",\"sinmak\",\"ola\",\"cochrane\",\"contai\",\"ambatolampy\",\"suez\",\"prince rupert\",\"santo domingo\",\"brookings\",\"bodo\",\"chita\",\"al qadarif\",\"nelson bay\",\"vuktyl\",\"lihue\",\"iskateley\",\"kununurra\",\"as sulayyil\",\"crane\",\"sona\",\"betio village\",\"minas de marcona\",\"cestos city\",\"juneau\",\"mount pearl\",\"hadibu\",\"broken hill\",\"cockburn town\",\"kuruman\",\"vadso\",\"marsh harbour\",\"al miqdadiyah\",\"mount gambier\",\"colares\",\"flying fish cove\",\"urengoy\",\"sievi\",\"karratha\",\"yeppoon\",\"kedrovyy\",\"albertina\",\"asipovichy\",\"lompoc\",\"bani suwayf\",\"guacui\",\"bikenibeu village\",\"greensburg\",\"fort st. john\",\"wainwright\",\"mbanza kongo\",\"sao marcos\",\"belmonte\",\"novyy urengoy\",\"butembo\",\"manado\",\"khovd\",\"puerto maldonado\",\"susuman\",\"college\",\"decorah\",\"sierra vista southeast\",\"kendari\",\"kasongo-lunda\",\"san ignacio\",\"carnarvon\",\"kiruna\",\"kharkhorin\",\"lumberton\",\"buala\",\"itoman\",\"el granada\",\"palmeira\",\"heroica caborca\",\"thompson\",\"zahirabad\",\"pisco\",\"naracoorte\",\"ohara\",\"remire-montjoly\",\"saint-joseph\",\"santander\",\"aoulef\",\"sinabang\",\"el bauga\",\"dunhua\",\"bereznik\",\"hassi messaoud\",\"manokwari\",\"laguna\",\"lebu\",\"usogorsk\",\"trincomalee\",\"itapaci\",\"katabu\",\"cartagena del chaira\",\"kenai\",\"chiredzi\",\"severo-yeniseyskiy\",\"arkhangel'sk\",\"syktyvkar\",\"dudinka\",\"chengzihe\",\"oxapampa\",\"ta`u\",\"kirakira\",\"aasiaat\",\"izluchinsk\",\"charters towers\",\"emkhomazi\",\"aleg\",\"esquina\",\"mungaa\",\"huruta\",\"hoa binh\",\"slavutych\",\"suoyarvi\",\"yuzhno-kurilsk\",\"saint-francois\",\"nouadhibou\",\"hirara\",\"al ghayzah\",\"ghat\",\"mahibadhoo\",\"tralee\",\"semera\",\"ascencion de guarayos\",\"ranau\",\"victoria point\",\"antofagasta\",\"likasi\",\"sungai penuh\",\"afaahiti\",\"olonkinbyen\",\"happy valley-goose bay\",\"orcopampa\",\"willowmore\",\"n'zeto\",\"petawawa\",\"arang\",\"sirre\",\"labrador city\",\"kone\",\"beidao\",\"kipushi\",\"havran\",\"boende\",\"lobujya\",\"tan-tan\",\"vila velha\",\"gidole\",\"goundam\",\"nuku'alofa\",\"camiri\",\"mahina\",\"richards bay\",\"cauquenes\",\"sarangani\",\"fortuna\",\"karasburg\",\"sabang\",\"chibougamau\",\"linxia chengguanzhen\",\"puerto berrio\",\"alpine\",\"bethal\",\"yilan\",\"mejit\",\"ha'il\",\"erenhot\",\"bambous\",\"carroll\",\"kuanda\",\"chu\",\"bismarck\",\"petrolina\",\"korhogo\",\"rada tilly\",\"kuala tungkal\",\"la sierpe\",\"kavaratti\",\"hasaki\",\"lincoln\",\"realico\",\"lionel town\",\"salon\",\"cloverdale\",\"rio verde\",\"buka\",\"yekaterinoslavka\",\"kabinda\",\"itaituba\",\"impfondo\",\"saldanha\",\"la passe\",\"lubang\",\"ginir\",\"evanston\",\"san andres\",\"tazovsky\",\"pukchil-lodongjagu\",\"la ronge\",\"sisimiut\",\"olyokminsk\",\"boca do acre\",\"vernon\",\"sibolga\",\"mollendo\",\"kolonia\",\"abashiri\",\"mezhdurechenskiy\",\"pervomayskiy\",\"chojnice\",\"maracacume\",\"poronaysk\",\"pelotas\",\"taro\",\"ketchikan\",\"xilin hot\",\"kill devil hills\",\"santa cruz\",\"pacocha\",\"cadillac\",\"smithers\",\"mala\",\"waitara\",\"merrimac\",\"santa elena de uairen\",\"sao jose da coroa grande\",\"dawei\",\"san sebastian de la gomera\",\"eyl\",\"ouadda\",\"almenara\",\"grand falls-windsor\",\"kitimat\",\"erdenet\",\"xinzhi\",\"zhaqsy\",\"novodvinsk\",\"christchurch\",\"kencong\",\"tsiombe\",\"labuan\",\"yanaul\",\"makinsk\",\"chashniki\",\"kangding\",\"hotan\",\"roma\",\"fort mcmurray\",\"timbuktu\",\"labytnangi\",\"dingras\",\"peruibe\",\"morant bay\",\"dawson creek\",\"pacific grove\",\"margate\",\"tual\",\"lake city\",\"vladimirovac\",\"swainsboro\",\"laredo\",\"san carlos\",\"santana\",\"ust'-ilimsk\",\"dzhambeyty\",\"ivdel'\",\"tolanaro\",\"tabas\",\"vilyuysk\",\"coruripe\",\"shenjiamen\",\"tondano\",\"caleta de carquin\",\"sechura\",\"kalmunai\",\"saint-gilles-croix-de-vie\",\"la sarre\",\"oranjemund\",\"tanjung selor\",\"juan l. lacaze\",\"ambazac\",\"lashio\",\"mitu\",\"monrovia\",\"nar'yan-mar\",\"madisonville\",\"vargashi\",\"uray\",\"namibe\",\"maebaru-chuo\",\"i-n-salah\",\"la'ie\",\"morehead city\",\"lushun\",\"waynesville\",\"garbahaarrey\",\"nyurba\",\"tselinnoye\",\"toliara\",\"hovd\",\"lent'ekhi\",\"ati\",\"galesong\",\"bhamo\",\"lobito\",\"yatou\",\"saquarema\",\"yinchuan\",\"ceres\",\"yerofey pavlovich\",\"'alaqahdari dishu\",\"santo antonio\",\"kot isa khan\",\"nikki\",\"cavan\",\"port hedland\",\"savanna-la-mar\",\"parang\",\"tete\",\"natal\",\"santa ana\",\"bodaybo\",\"at taraf\",\"skeldon\",\"tindouf\",\"saipan\",\"sumbe\",\"san antonio de pale\",\"tangalle\",\"paimpol\",\"wenchang\",\"wewak\",\"bure\",\"opuwo\",\"kristiansund\",\"cukai\",\"mana\",\"batie\",\"haiku-pauwela\",\"crasna\",\"kapuskasing\",\"ulsteinvik\",\"kuta\",\"tortosa\",\"ocean shores\",\"gadzhiyevo\",\"vendenheim\",\"saint-denis\",\"axim\",\"aral\",\"balcarce\",\"peace river\",\"rakops\",\"azogues\",\"dingwall\",\"vizinga\",\"port macquarie\",\"ust-nera\",\"rodolfo sanchez taboada\",\"bayevo\",\"khorinsk\",\"fort leonard wood\",\"zhigalovo\",\"la libertad\",\"kapit\",\"brisas barra de suchiate\",\"nizhniy kuranakh\",\"punta del este\",\"sheridan\",\"key west\",\"parnu\",\"villa ojo de agua\",\"kidal\",\"almeirim\",\"muli\",\"auki\",\"xiongzhou\",\"marshfield\",\"guarapari\",\"ar rass\",\"kayangel\",\"girov\",\"papao\",\"giyani\"]],[\"Country\",[\"CA\",\"RU\",\"TF\",\"MX\",\"ZA\",\"RO\",\"CL\",\"ID\",\"PH\",\"VN\",\"SD\",\"PG\",\"GS\",\"AU\",\"NZ\",\"SA\",\"TR\",\"YT\",\"NZ\",\"AF\",\"US\",\"BR\",\"IS\",\"PT\",\"CL\",\"CN\",\"AU\",\"NE\",\"US\",\"CL\",\"TK\",\"EC\",\"MY\",\"ZA\",\"US\",\"CN\",\"NZ\",\"US\",\"EC\",\"CN\",\"SH\",\"RU\",\"CV\",\"KZ\",\"US\",\"MU\",\"RU\",\"IS\",\"DE\",\"ID\",\"IN\",\"US\",\"CM\",\"GB\",\"AR\",\"CA\",\"PN\",\"RU\",\"ZW\",\"FM\",\"GH\",\"US\",\"CL\",\"PE\",\"DE\",\"AU\",\"CA\",\"CA\",\"CC\",\"NO\",\"PE\",\"WF\",\"US\",\"BR\",\"WF\",\"SO\",\"RU\",\"JM\",\"MV\",\"ZA\",\"NU\",\"JP\",\"MV\",\"US\",\"RU\",\"AU\",\"CD\",\"RU\",\"PE\",\"US\",\"CU\",\"SE\",\"CL\",\"ZA\",\"SJ\",\"BR\",\"RU\",\"CD\",\"ZA\",\"RU\",\"RU\",\"RU\",\"MH\",\"GL\",\"LR\",\"CA\",\"ID\",\"US\",\"RU\",\"MN\",\"NZ\",\"RU\",\"RU\",\"NZ\",\"RU\",\"US\",\"BR\",\"AF\",\"RU\",\"JP\",\"US\",\"ID\",\"SL\",\"JP\",\"CD\",\"PT\",\"MX\",\"CK\",\"RU\",\"BS\",\"RU\",\"CD\",\"SL\",\"US\",\"VN\",\"IN\",\"VI\",\"NZ\",\"AU\",\"AR\",\"CA\",\"RU\",\"RU\",\"PH\",\"BR\",\"ES\",\"KZ\",\"CN\",\"CO\",\"AR\",\"RO\",\"CN\",\"US\",\"MY\",\"CL\",\"IN\",\"KZ\",\"FM\",\"MX\",\"CN\",\"JP\",\"MH\",\"RU\",\"GR\",\"CA\",\"US\",\"NE\",\"MH\",\"ID\",\"PT\",\"GB\",\"CI\",\"nan\",\"GL\",\"US\",\"CN\",\"RU\",\"BR\",\"BR\",\"MY\",\"ZA\",\"GB\",\"LY\",\"AU\",\"US\",\"nan\",\"RU\",\"PH\",\"US\",\"ZA\",\"TK\",\"LY\",\"CD\",\"MH\",\"PH\",\"BO\",\"JP\",\"RU\",\"CA\",\"RE\",\"PE\",\"KP\",\"RU\",\"CA\",\"IN\",\"MG\",\"EG\",\"CA\",\"DO\",\"US\",\"NO\",\"RU\",\"SD\",\"AU\",\"RU\",\"US\",\"RU\",\"AU\",\"SA\",\"US\",\"IT\",\"KI\",\"PE\",\"LR\",\"US\",\"CA\",\"YE\",\"AU\",\"TC\",\"ZA\",\"NO\",\"BS\",\"IQ\",\"AU\",\"PT\",\"CX\",\"RU\",\"FI\",\"AU\",\"AU\",\"RU\",\"BR\",\"BY\",\"US\",\"EG\",\"BR\",\"KI\",\"US\",\"CA\",\"CA\",\"AO\",\"BR\",\"BR\",\"RU\",\"CD\",\"ID\",\"MN\",\"PE\",\"RU\",\"US\",\"US\",\"US\",\"ID\",\"CD\",\"BZ\",\"AU\",\"SE\",\"MN\",\"US\",\"SB\",\"JP\",\"US\",\"BR\",\"MX\",\"CA\",\"IN\",\"PE\",\"AU\",\"JP\",\"GF\",\"RE\",\"ES\",\"DZ\",\"ID\",\"SD\",\"CN\",\"RU\",\"DZ\",\"ID\",\"US\",\"CL\",\"RU\",\"LK\",\"BR\",\"ID\",\"CO\",\"US\",\"ZW\",\"RU\",\"RU\",\"RU\",\"RU\",\"CN\",\"PE\",\"AS\",\"SB\",\"GL\",\"RU\",\"AU\",\"ZA\",\"MR\",\"AR\",\"TZ\",\"ET\",\"VN\",\"UA\",\"RU\",\"RU\",\"FR\",\"MR\",\"JP\",\"YE\",\"LY\",\"MV\",\"IE\",\"ET\",\"BO\",\"MY\",\"AU\",\"CL\",\"CD\",\"ID\",\"PF\",\"SJ\",\"CA\",\"PE\",\"ZA\",\"AO\",\"CA\",\"IN\",\"ET\",\"CA\",\"NC\",\"CN\",\"CD\",\"TR\",\"CD\",\"NP\",\"MA\",\"BR\",\"ET\",\"ML\",\"TO\",\"BO\",\"PF\",\"ZA\",\"CL\",\"PH\",\"US\",\"nan\",\"ID\",\"CA\",\"CN\",\"CO\",\"US\",\"ZA\",\"TW\",\"MH\",\"SA\",\"CN\",\"MU\",\"US\",\"RU\",\"KZ\",\"US\",\"BR\",\"CI\",\"AR\",\"ID\",\"CU\",\"IN\",\"JP\",\"US\",\"AR\",\"JM\",\"IN\",\"US\",\"MX\",\"UZ\",\"RU\",\"CD\",\"BR\",\"CG\",\"ZA\",\"FR\",\"PH\",\"ET\",\"US\",\"CO\",\"RU\",\"KP\",\"CA\",\"GL\",\"RU\",\"BR\",\"CA\",\"ID\",\"PE\",\"DE\",\"JP\",\"RU\",\"RU\",\"PL\",\"BR\",\"RU\",\"BR\",\"ID\",\"US\",\"CN\",\"US\",\"BO\",\"PE\",\"US\",\"CA\",\"PE\",\"NZ\",\"US\",\"VE\",\"BR\",\"MM\",\"ES\",\"SO\",\"CF\",\"BR\",\"CA\",\"CA\",\"MN\",\"CN\",\"KZ\",\"RU\",\"NZ\",\"ID\",\"MG\",\"MY\",\"RU\",\"KZ\",\"BY\",\"CN\",\"CN\",\"US\",\"CA\",\"ML\",\"RU\",\"PH\",\"BR\",\"JM\",\"CA\",\"US\",\"GB\",\"ID\",\"US\",\"RS\",\"US\",\"US\",\"VE\",\"BR\",\"RU\",\"KZ\",\"RU\",\"MG\",\"IR\",\"RU\",\"BR\",\"CN\",\"ID\",\"PE\",\"PE\",\"LK\",\"FR\",\"CA\",\"nan\",\"ID\",\"UY\",\"FR\",\"MM\",\"CO\",\"LR\",\"RU\",\"US\",\"RU\",\"RU\",\"AO\",\"JP\",\"DZ\",\"US\",\"US\",\"CN\",\"US\",\"SO\",\"RU\",\"RU\",\"MG\",\"MN\",\"GE\",\"TD\",\"ID\",\"MM\",\"AO\",\"CN\",\"BR\",\"CN\",\"US\",\"RU\",\"AF\",\"BR\",\"IN\",\"BJ\",\"IE\",\"AU\",\"JM\",\"PH\",\"MZ\",\"BR\",\"US\",\"RU\",\"SA\",\"GY\",\"DZ\",\"MP\",\"AO\",\"GQ\",\"LK\",\"FR\",\"CN\",\"PG\",\"ET\",\"nan\",\"NO\",\"MY\",\"GF\",\"BF\",\"US\",\"RO\",\"CA\",\"NO\",\"ID\",\"ES\",\"US\",\"RU\",\"FR\",\"FR\",\"GH\",\"CN\",\"AR\",\"CA\",\"BW\",\"EC\",\"GB\",\"RU\",\"AU\",\"RU\",\"MX\",\"RU\",\"RU\",\"US\",\"RU\",\"EC\",\"MY\",\"MX\",\"RU\",\"UY\",\"US\",\"US\",\"EE\",\"AR\",\"ML\",\"BR\",\"MV\",\"SB\",\"CN\",\"US\",\"BR\",\"SA\",\"PW\",\"RO\",\"PF\",\"ZA\"]],[\"color\",[\"#1f77b4\",\"#1f77b4\",\"#1f77b4\",\"#1f77b4\",\"#1f77b4\",\"#1f77b4\",\"#1f77b4\",\"#1f77b4\",\"#1f77b4\",\"#1f77b4\",\"#1f77b4\",\"#1f77b4\",\"#1f77b4\",\"#1f77b4\",\"#1f77b4\",\"#1f77b4\",\"#1f77b4\",\"#1f77b4\",\"#1f77b4\",\"#1f77b4\",\"#1f77b4\",\"#1f77b4\",\"#1f77b4\",\"#1f77b4\",\"#1f77b4\",\"#1f77b4\",\"#1f77b4\",\"#1f77b4\",\"#1f77b4\",\"#1f77b4\",\"#1f77b4\",\"#1f77b4\",\"#1f77b4\",\"#1f77b4\",\"#1f77b4\",\"#1f77b4\",\"#1f77b4\",\"#1f77b4\",\"#1f77b4\",\"#1f77b4\",\"#1f77b4\",\"#1f77b4\",\"#1f77b4\",\"#1f77b4\",\"#1f77b4\",\"#1f77b4\",\"#1f77b4\",\"#1f77b4\",\"#1f77b4\",\"#1f77b4\",\"#1f77b4\",\"#1f77b4\",\"#1f77b4\",\"#1f77b4\",\"#1f77b4\",\"#1f77b4\",\"#1f77b4\",\"#1f77b4\",\"#1f77b4\",\"#ff7f0e\",\"#ff7f0e\",\"#ff7f0e\",\"#ff7f0e\",\"#ff7f0e\",\"#ff7f0e\",\"#ff7f0e\",\"#ff7f0e\",\"#ff7f0e\",\"#ff7f0e\",\"#ff7f0e\",\"#ff7f0e\",\"#ff7f0e\",\"#ff7f0e\",\"#ff7f0e\",\"#ff7f0e\",\"#ff7f0e\",\"#ff7f0e\",\"#ff7f0e\",\"#ff7f0e\",\"#ff7f0e\",\"#ff7f0e\",\"#ff7f0e\",\"#ff7f0e\",\"#ff7f0e\",\"#ff7f0e\",\"#ff7f0e\",\"#ff7f0e\",\"#ff7f0e\",\"#ff7f0e\",\"#ff7f0e\",\"#ff7f0e\",\"#ff7f0e\",\"#ff7f0e\",\"#ff7f0e\",\"#ff7f0e\",\"#ff7f0e\",\"#ff7f0e\",\"#ff7f0e\",\"#ff7f0e\",\"#ff7f0e\",\"#ff7f0e\",\"#ff7f0e\",\"#ff7f0e\",\"#ff7f0e\",\"#ff7f0e\",\"#ff7f0e\",\"#ff7f0e\",\"#ff7f0e\",\"#ff7f0e\",\"#ff7f0e\",\"#ff7f0e\",\"#ff7f0e\",\"#ff7f0e\",\"#ff7f0e\",\"#ff7f0e\",\"#ff7f0e\",\"#ff7f0e\",\"#ff7f0e\",\"#2ca02c\",\"#2ca02c\",\"#2ca02c\",\"#2ca02c\",\"#2ca02c\",\"#2ca02c\",\"#2ca02c\",\"#2ca02c\",\"#2ca02c\",\"#2ca02c\",\"#2ca02c\",\"#2ca02c\",\"#2ca02c\",\"#2ca02c\",\"#2ca02c\",\"#2ca02c\",\"#2ca02c\",\"#2ca02c\",\"#2ca02c\",\"#2ca02c\",\"#2ca02c\",\"#2ca02c\",\"#2ca02c\",\"#2ca02c\",\"#2ca02c\",\"#2ca02c\",\"#2ca02c\",\"#2ca02c\",\"#2ca02c\",\"#2ca02c\",\"#2ca02c\",\"#2ca02c\",\"#2ca02c\",\"#2ca02c\",\"#2ca02c\",\"#2ca02c\",\"#2ca02c\",\"#2ca02c\",\"#2ca02c\",\"#2ca02c\",\"#2ca02c\",\"#2ca02c\",\"#2ca02c\",\"#2ca02c\",\"#2ca02c\",\"#2ca02c\",\"#2ca02c\",\"#2ca02c\",\"#2ca02c\",\"#2ca02c\",\"#2ca02c\",\"#2ca02c\",\"#2ca02c\",\"#2ca02c\",\"#2ca02c\",\"#2ca02c\",\"#2ca02c\",\"#2ca02c\",\"#d62728\",\"#d62728\",\"#d62728\",\"#d62728\",\"#d62728\",\"#d62728\",\"#d62728\",\"#d62728\",\"#d62728\",\"#d62728\",\"#d62728\",\"#d62728\",\"#d62728\",\"#d62728\",\"#d62728\",\"#d62728\",\"#d62728\",\"#d62728\",\"#d62728\",\"#d62728\",\"#d62728\",\"#d62728\",\"#d62728\",\"#d62728\",\"#d62728\",\"#d62728\",\"#d62728\",\"#d62728\",\"#d62728\",\"#d62728\",\"#d62728\",\"#d62728\",\"#d62728\",\"#d62728\",\"#d62728\",\"#d62728\",\"#d62728\",\"#d62728\",\"#d62728\",\"#d62728\",\"#d62728\",\"#d62728\",\"#d62728\",\"#d62728\",\"#d62728\",\"#d62728\",\"#d62728\",\"#d62728\",\"#d62728\",\"#d62728\",\"#d62728\",\"#d62728\",\"#d62728\",\"#d62728\",\"#d62728\",\"#d62728\",\"#d62728\",\"#d62728\",\"#d62728\",\"#9467bd\",\"#9467bd\",\"#9467bd\",\"#9467bd\",\"#9467bd\",\"#9467bd\",\"#9467bd\",\"#9467bd\",\"#9467bd\",\"#9467bd\",\"#9467bd\",\"#9467bd\",\"#9467bd\",\"#9467bd\",\"#9467bd\",\"#9467bd\",\"#9467bd\",\"#9467bd\",\"#9467bd\",\"#9467bd\",\"#9467bd\",\"#9467bd\",\"#9467bd\",\"#9467bd\",\"#9467bd\",\"#9467bd\",\"#9467bd\",\"#9467bd\",\"#9467bd\",\"#9467bd\",\"#9467bd\",\"#9467bd\",\"#9467bd\",\"#9467bd\",\"#9467bd\",\"#9467bd\",\"#9467bd\",\"#9467bd\",\"#9467bd\",\"#9467bd\",\"#9467bd\",\"#9467bd\",\"#9467bd\",\"#9467bd\",\"#9467bd\",\"#9467bd\",\"#9467bd\",\"#9467bd\",\"#9467bd\",\"#9467bd\",\"#9467bd\",\"#9467bd\",\"#9467bd\",\"#9467bd\",\"#9467bd\",\"#9467bd\",\"#9467bd\",\"#9467bd\",\"#8c564b\",\"#8c564b\",\"#8c564b\",\"#8c564b\",\"#8c564b\",\"#8c564b\",\"#8c564b\",\"#8c564b\",\"#8c564b\",\"#8c564b\",\"#8c564b\",\"#8c564b\",\"#8c564b\",\"#8c564b\",\"#8c564b\",\"#8c564b\",\"#8c564b\",\"#8c564b\",\"#8c564b\",\"#8c564b\",\"#8c564b\",\"#8c564b\",\"#8c564b\",\"#8c564b\",\"#8c564b\",\"#8c564b\",\"#8c564b\",\"#8c564b\",\"#8c564b\",\"#8c564b\",\"#8c564b\",\"#8c564b\",\"#8c564b\",\"#8c564b\",\"#8c564b\",\"#8c564b\",\"#8c564b\",\"#8c564b\",\"#8c564b\",\"#8c564b\",\"#8c564b\",\"#8c564b\",\"#8c564b\",\"#8c564b\",\"#8c564b\",\"#8c564b\",\"#8c564b\",\"#8c564b\",\"#8c564b\",\"#8c564b\",\"#8c564b\",\"#8c564b\",\"#8c564b\",\"#8c564b\",\"#8c564b\",\"#8c564b\",\"#8c564b\",\"#8c564b\",\"#8c564b\",\"#e377c2\",\"#e377c2\",\"#e377c2\",\"#e377c2\",\"#e377c2\",\"#e377c2\",\"#e377c2\",\"#e377c2\",\"#e377c2\",\"#e377c2\",\"#e377c2\",\"#e377c2\",\"#e377c2\",\"#e377c2\",\"#e377c2\",\"#e377c2\",\"#e377c2\",\"#e377c2\",\"#e377c2\",\"#e377c2\",\"#e377c2\",\"#e377c2\",\"#e377c2\",\"#e377c2\",\"#e377c2\",\"#e377c2\",\"#e377c2\",\"#e377c2\",\"#e377c2\",\"#e377c2\",\"#e377c2\",\"#e377c2\",\"#e377c2\",\"#e377c2\",\"#e377c2\",\"#e377c2\",\"#e377c2\",\"#e377c2\",\"#e377c2\",\"#e377c2\",\"#e377c2\",\"#e377c2\",\"#e377c2\",\"#e377c2\",\"#e377c2\",\"#e377c2\",\"#e377c2\",\"#e377c2\",\"#e377c2\",\"#e377c2\",\"#e377c2\",\"#e377c2\",\"#e377c2\",\"#e377c2\",\"#e377c2\",\"#e377c2\",\"#e377c2\",\"#e377c2\",\"#e377c2\",\"#7f7f7f\",\"#7f7f7f\",\"#7f7f7f\",\"#7f7f7f\",\"#7f7f7f\",\"#7f7f7f\",\"#7f7f7f\",\"#7f7f7f\",\"#7f7f7f\",\"#7f7f7f\",\"#7f7f7f\",\"#7f7f7f\",\"#7f7f7f\",\"#7f7f7f\",\"#7f7f7f\",\"#7f7f7f\",\"#7f7f7f\",\"#7f7f7f\",\"#7f7f7f\",\"#7f7f7f\",\"#7f7f7f\",\"#7f7f7f\",\"#7f7f7f\",\"#7f7f7f\",\"#7f7f7f\",\"#7f7f7f\",\"#7f7f7f\",\"#7f7f7f\",\"#7f7f7f\",\"#7f7f7f\",\"#7f7f7f\",\"#7f7f7f\",\"#7f7f7f\",\"#7f7f7f\",\"#7f7f7f\",\"#7f7f7f\",\"#7f7f7f\",\"#7f7f7f\",\"#7f7f7f\",\"#7f7f7f\",\"#7f7f7f\",\"#7f7f7f\",\"#7f7f7f\",\"#7f7f7f\",\"#7f7f7f\",\"#7f7f7f\",\"#7f7f7f\",\"#7f7f7f\",\"#7f7f7f\",\"#7f7f7f\",\"#7f7f7f\",\"#7f7f7f\",\"#7f7f7f\",\"#7f7f7f\",\"#7f7f7f\",\"#7f7f7f\",\"#7f7f7f\",\"#7f7f7f\",\"#bcbd22\",\"#bcbd22\",\"#bcbd22\",\"#bcbd22\",\"#bcbd22\",\"#bcbd22\",\"#bcbd22\",\"#bcbd22\",\"#bcbd22\",\"#bcbd22\",\"#bcbd22\",\"#bcbd22\",\"#bcbd22\",\"#bcbd22\",\"#bcbd22\",\"#bcbd22\",\"#bcbd22\",\"#bcbd22\",\"#bcbd22\",\"#bcbd22\",\"#bcbd22\",\"#bcbd22\",\"#bcbd22\",\"#bcbd22\",\"#bcbd22\",\"#bcbd22\",\"#bcbd22\",\"#bcbd22\",\"#bcbd22\",\"#bcbd22\",\"#bcbd22\",\"#bcbd22\",\"#bcbd22\",\"#bcbd22\",\"#bcbd22\",\"#bcbd22\",\"#bcbd22\",\"#bcbd22\",\"#bcbd22\",\"#bcbd22\",\"#bcbd22\",\"#bcbd22\",\"#bcbd22\",\"#bcbd22\",\"#bcbd22\",\"#bcbd22\",\"#bcbd22\",\"#bcbd22\",\"#bcbd22\",\"#bcbd22\",\"#bcbd22\",\"#bcbd22\",\"#bcbd22\",\"#bcbd22\",\"#bcbd22\",\"#bcbd22\",\"#bcbd22\",\"#bcbd22\",\"#bcbd22\",\"#17becf\",\"#17becf\",\"#17becf\",\"#17becf\",\"#17becf\",\"#17becf\",\"#17becf\",\"#17becf\",\"#17becf\",\"#17becf\",\"#17becf\",\"#17becf\",\"#17becf\",\"#17becf\",\"#17becf\",\"#17becf\",\"#17becf\",\"#17becf\",\"#17becf\",\"#17becf\",\"#17becf\",\"#17becf\",\"#17becf\",\"#17becf\",\"#17becf\",\"#17becf\",\"#17becf\",\"#17becf\",\"#17becf\",\"#17becf\",\"#17becf\",\"#17becf\",\"#17becf\",\"#17becf\",\"#17becf\",\"#17becf\",\"#17becf\",\"#17becf\",\"#17becf\",\"#17becf\",\"#17becf\",\"#17becf\",\"#17becf\",\"#17becf\",\"#17becf\",\"#17becf\",\"#17becf\",\"#17becf\",\"#17becf\",\"#17becf\",\"#17becf\",\"#17becf\",\"#17becf\",\"#17becf\",\"#17becf\",\"#17becf\",\"#17becf\",\"#17becf\",\"#17becf\"]],[\"size\",{\"type\":\"ndarray\",\"array\":{\"type\":\"bytes\",\"data\":\"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\"},\"shape\":[587],\"dtype\":\"float64\",\"order\":\"little\"}]]}}},\"view\":{\"type\":\"object\",\"name\":\"CDSView\",\"id\":\"p1129\",\"attributes\":{\"filter\":{\"type\":\"object\",\"name\":\"AllIndices\",\"id\":\"p1130\"}}},\"glyph\":{\"type\":\"object\",\"name\":\"Scatter\",\"id\":\"p1123\",\"attributes\":{\"tags\":[\"apply_ranges\"],\"x\":{\"type\":\"field\",\"field\":\"Lng\"},\"y\":{\"type\":\"field\",\"field\":\"Lat\"},\"size\":{\"type\":\"field\",\"field\":\"size\"},\"line_color\":{\"type\":\"field\",\"field\":\"color\"},\"fill_color\":{\"type\":\"field\",\"field\":\"color\"},\"hatch_color\":{\"type\":\"field\",\"field\":\"color\"}}},\"selection_glyph\":{\"type\":\"object\",\"name\":\"Scatter\",\"id\":\"p1125\",\"attributes\":{\"tags\":[\"apply_ranges\"],\"x\":{\"type\":\"field\",\"field\":\"Lng\"},\"y\":{\"type\":\"field\",\"field\":\"Lat\"},\"size\":{\"type\":\"field\",\"field\":\"size\"},\"line_color\":{\"type\":\"field\",\"field\":\"color\"},\"fill_color\":{\"type\":\"field\",\"field\":\"color\"},\"hatch_color\":{\"type\":\"field\",\"field\":\"color\"}}},\"nonselection_glyph\":{\"type\":\"object\",\"name\":\"Scatter\",\"id\":\"p1124\",\"attributes\":{\"tags\":[\"apply_ranges\"],\"x\":{\"type\":\"field\",\"field\":\"Lng\"},\"y\":{\"type\":\"field\",\"field\":\"Lat\"},\"size\":{\"type\":\"field\",\"field\":\"size\"},\"line_color\":{\"type\":\"field\",\"field\":\"color\"},\"line_alpha\":{\"type\":\"value\",\"value\":0.1},\"fill_color\":{\"type\":\"field\",\"field\":\"color\"},\"fill_alpha\":{\"type\":\"value\",\"value\":0.1},\"hatch_color\":{\"type\":\"field\",\"field\":\"color\"},\"hatch_alpha\":{\"type\":\"value\",\"value\":0.1}}},\"hover_glyph\":{\"type\":\"object\",\"name\":\"Scatter\",\"id\":\"p1126\",\"attributes\":{\"tags\":[\"apply_ranges\"],\"x\":{\"type\":\"field\",\"field\":\"Lng\"},\"y\":{\"type\":\"field\",\"field\":\"Lat\"},\"size\":{\"type\":\"field\",\"field\":\"size\"},\"line_color\":{\"type\":\"field\",\"field\":\"color\"},\"fill_color\":{\"type\":\"field\",\"field\":\"color\"},\"hatch_color\":{\"type\":\"field\",\"field\":\"color\"}}},\"muted_glyph\":{\"type\":\"object\",\"name\":\"Scatter\",\"id\":\"p1127\",\"attributes\":{\"tags\":[\"apply_ranges\"],\"x\":{\"type\":\"field\",\"field\":\"Lng\"},\"y\":{\"type\":\"field\",\"field\":\"Lat\"},\"size\":{\"type\":\"field\",\"field\":\"size\"},\"line_color\":{\"type\":\"field\",\"field\":\"color\"},\"line_alpha\":{\"type\":\"value\",\"value\":0.2},\"fill_color\":{\"type\":\"field\",\"field\":\"color\"},\"fill_alpha\":{\"type\":\"value\",\"value\":0.2},\"hatch_color\":{\"type\":\"field\",\"field\":\"color\"},\"hatch_alpha\":{\"type\":\"value\",\"value\":0.2}}}}}],\"toolbar\":{\"type\":\"object\",\"name\":\"Toolbar\",\"id\":\"p1093\",\"attributes\":{\"tools\":[{\"type\":\"object\",\"name\":\"WheelZoomTool\",\"id\":\"p1082\",\"attributes\":{\"tags\":[\"hv_created\"],\"renderers\":\"auto\",\"zoom_together\":\"none\"}},{\"type\":\"object\",\"name\":\"HoverTool\",\"id\":\"p1083\",\"attributes\":{\"tags\":[\"hv_created\"],\"renderers\":[{\"id\":\"p1128\"}],\"tooltips\":[[\"Lng\",\"@{Lng}\"],[\"Lat\",\"@{Lat}\"],[\"Color\",\"@{Color}\"],[\"Humidity\",\"@{Humidity}\"],[\"City\",\"@{City}\"],[\"Country\",\"@{Country}\"]]}},{\"type\":\"object\",\"name\":\"SaveTool\",\"id\":\"p1106\"},{\"type\":\"object\",\"name\":\"PanTool\",\"id\":\"p1107\"},{\"type\":\"object\",\"name\":\"BoxZoomTool\",\"id\":\"p1108\",\"attributes\":{\"overlay\":{\"type\":\"object\",\"name\":\"BoxAnnotation\",\"id\":\"p1109\",\"attributes\":{\"syncable\":false,\"line_color\":\"black\",\"line_alpha\":1.0,\"line_width\":2,\"line_dash\":[4,4],\"fill_color\":\"lightgrey\",\"fill_alpha\":0.5,\"level\":\"overlay\",\"visible\":false,\"left\":{\"type\":\"number\",\"value\":\"nan\"},\"right\":{\"type\":\"number\",\"value\":\"nan\"},\"top\":{\"type\":\"number\",\"value\":\"nan\"},\"bottom\":{\"type\":\"number\",\"value\":\"nan\"},\"left_units\":\"canvas\",\"right_units\":\"canvas\",\"top_units\":\"canvas\",\"bottom_units\":\"canvas\",\"handles\":{\"type\":\"object\",\"name\":\"BoxInteractionHandles\",\"id\":\"p1115\",\"attributes\":{\"all\":{\"type\":\"object\",\"name\":\"AreaVisuals\",\"id\":\"p1114\",\"attributes\":{\"fill_color\":\"white\",\"hover_fill_color\":\"lightgray\"}}}}}}}},{\"type\":\"object\",\"name\":\"ResetTool\",\"id\":\"p1116\"}],\"active_drag\":{\"id\":\"p1107\"},\"active_scroll\":{\"id\":\"p1082\"}}},\"left\":[{\"type\":\"object\",\"name\":\"LinearAxis\",\"id\":\"p1101\",\"attributes\":{\"ticker\":{\"type\":\"object\",\"name\":\"BasicTicker\",\"id\":\"p1102\",\"attributes\":{\"mantissas\":[1,2,5]}},\"formatter\":{\"type\":\"object\",\"name\":\"BasicTickFormatter\",\"id\":\"p1103\"},\"axis_label\":\"Latitude\",\"major_label_policy\":{\"type\":\"object\",\"name\":\"AllLabels\",\"id\":\"p1104\"}}}],\"below\":[{\"type\":\"object\",\"name\":\"LinearAxis\",\"id\":\"p1096\",\"attributes\":{\"ticker\":{\"type\":\"object\",\"name\":\"BasicTicker\",\"id\":\"p1097\",\"attributes\":{\"mantissas\":[1,2,5]}},\"formatter\":{\"type\":\"object\",\"name\":\"BasicTickFormatter\",\"id\":\"p1098\"},\"axis_label\":\"Longitude\",\"major_label_policy\":{\"type\":\"object\",\"name\":\"AllLabels\",\"id\":\"p1099\"}}}],\"center\":[{\"type\":\"object\",\"name\":\"Grid\",\"id\":\"p1100\",\"attributes\":{\"axis\":{\"id\":\"p1096\"},\"grid_line_color\":null}},{\"type\":\"object\",\"name\":\"Grid\",\"id\":\"p1105\",\"attributes\":{\"dimension\":1,\"axis\":{\"id\":\"p1101\"},\"grid_line_color\":null}}],\"min_border_top\":10,\"min_border_bottom\":10,\"min_border_left\":10,\"min_border_right\":10,\"output_backend\":\"webgl\"}},{\"type\":\"object\",\"name\":\"Spacer\",\"id\":\"p1132\",\"attributes\":{\"name\":\"HSpacer01041\",\"stylesheets\":[\"\\n:host(.pn-loading):before, .pn-loading:before {\\n  background-color: #c3c3c3;\\n  mask-size: auto calc(min(50%, 400px));\\n  -webkit-mask-size: auto calc(min(50%, 400px));\\n}\",{\"id\":\"p1075\"},{\"id\":\"p1073\"},{\"id\":\"p1074\"}],\"margin\":0,\"sizing_mode\":\"stretch_width\",\"align\":\"start\"}}]}}],\"defs\":[{\"type\":\"model\",\"name\":\"ReactiveHTML1\"},{\"type\":\"model\",\"name\":\"FlexBox1\",\"properties\":[{\"name\":\"align_content\",\"kind\":\"Any\",\"default\":\"flex-start\"},{\"name\":\"align_items\",\"kind\":\"Any\",\"default\":\"flex-start\"},{\"name\":\"flex_direction\",\"kind\":\"Any\",\"default\":\"row\"},{\"name\":\"flex_wrap\",\"kind\":\"Any\",\"default\":\"wrap\"},{\"name\":\"gap\",\"kind\":\"Any\",\"default\":\"\"},{\"name\":\"justify_content\",\"kind\":\"Any\",\"default\":\"flex-start\"}]},{\"type\":\"model\",\"name\":\"FloatPanel1\",\"properties\":[{\"name\":\"config\",\"kind\":\"Any\",\"default\":{\"type\":\"map\"}},{\"name\":\"contained\",\"kind\":\"Any\",\"default\":true},{\"name\":\"position\",\"kind\":\"Any\",\"default\":\"right-top\"},{\"name\":\"offsetx\",\"kind\":\"Any\",\"default\":null},{\"name\":\"offsety\",\"kind\":\"Any\",\"default\":null},{\"name\":\"theme\",\"kind\":\"Any\",\"default\":\"primary\"},{\"name\":\"status\",\"kind\":\"Any\",\"default\":\"normalized\"}]},{\"type\":\"model\",\"name\":\"GridStack1\",\"properties\":[{\"name\":\"mode\",\"kind\":\"Any\",\"default\":\"warn\"},{\"name\":\"ncols\",\"kind\":\"Any\",\"default\":null},{\"name\":\"nrows\",\"kind\":\"Any\",\"default\":null},{\"name\":\"allow_resize\",\"kind\":\"Any\",\"default\":true},{\"name\":\"allow_drag\",\"kind\":\"Any\",\"default\":true},{\"name\":\"state\",\"kind\":\"Any\",\"default\":[]}]},{\"type\":\"model\",\"name\":\"drag1\",\"properties\":[{\"name\":\"slider_width\",\"kind\":\"Any\",\"default\":5},{\"name\":\"slider_color\",\"kind\":\"Any\",\"default\":\"black\"},{\"name\":\"value\",\"kind\":\"Any\",\"default\":50}]},{\"type\":\"model\",\"name\":\"click1\",\"properties\":[{\"name\":\"terminal_output\",\"kind\":\"Any\",\"default\":\"\"},{\"name\":\"debug_name\",\"kind\":\"Any\",\"default\":\"\"},{\"name\":\"clears\",\"kind\":\"Any\",\"default\":0}]},{\"type\":\"model\",\"name\":\"FastWrapper1\",\"properties\":[{\"name\":\"object\",\"kind\":\"Any\",\"default\":null},{\"name\":\"style\",\"kind\":\"Any\",\"default\":null}]},{\"type\":\"model\",\"name\":\"NotificationAreaBase1\",\"properties\":[{\"name\":\"js_events\",\"kind\":\"Any\",\"default\":{\"type\":\"map\"}},{\"name\":\"position\",\"kind\":\"Any\",\"default\":\"bottom-right\"},{\"name\":\"_clear\",\"kind\":\"Any\",\"default\":0}]},{\"type\":\"model\",\"name\":\"NotificationArea1\",\"properties\":[{\"name\":\"js_events\",\"kind\":\"Any\",\"default\":{\"type\":\"map\"}},{\"name\":\"notifications\",\"kind\":\"Any\",\"default\":[]},{\"name\":\"position\",\"kind\":\"Any\",\"default\":\"bottom-right\"},{\"name\":\"_clear\",\"kind\":\"Any\",\"default\":0},{\"name\":\"types\",\"kind\":\"Any\",\"default\":[{\"type\":\"map\",\"entries\":[[\"type\",\"warning\"],[\"background\",\"#ffc107\"],[\"icon\",{\"type\":\"map\",\"entries\":[[\"className\",\"fas fa-exclamation-triangle\"],[\"tagName\",\"i\"],[\"color\",\"white\"]]}]]},{\"type\":\"map\",\"entries\":[[\"type\",\"info\"],[\"background\",\"#007bff\"],[\"icon\",{\"type\":\"map\",\"entries\":[[\"className\",\"fas fa-info-circle\"],[\"tagName\",\"i\"],[\"color\",\"white\"]]}]]}]}]},{\"type\":\"model\",\"name\":\"Notification\",\"properties\":[{\"name\":\"background\",\"kind\":\"Any\",\"default\":null},{\"name\":\"duration\",\"kind\":\"Any\",\"default\":3000},{\"name\":\"icon\",\"kind\":\"Any\",\"default\":null},{\"name\":\"message\",\"kind\":\"Any\",\"default\":\"\"},{\"name\":\"notification_type\",\"kind\":\"Any\",\"default\":null},{\"name\":\"_destroyed\",\"kind\":\"Any\",\"default\":false}]},{\"type\":\"model\",\"name\":\"TemplateActions1\",\"properties\":[{\"name\":\"open_modal\",\"kind\":\"Any\",\"default\":0},{\"name\":\"close_modal\",\"kind\":\"Any\",\"default\":0}]},{\"type\":\"model\",\"name\":\"BootstrapTemplateActions1\",\"properties\":[{\"name\":\"open_modal\",\"kind\":\"Any\",\"default\":0},{\"name\":\"close_modal\",\"kind\":\"Any\",\"default\":0}]},{\"type\":\"model\",\"name\":\"TemplateEditor1\",\"properties\":[{\"name\":\"layout\",\"kind\":\"Any\",\"default\":[]}]},{\"type\":\"model\",\"name\":\"MaterialTemplateActions1\",\"properties\":[{\"name\":\"open_modal\",\"kind\":\"Any\",\"default\":0},{\"name\":\"close_modal\",\"kind\":\"Any\",\"default\":0}]},{\"type\":\"model\",\"name\":\"ReactiveESM1\"},{\"type\":\"model\",\"name\":\"JSComponent1\"},{\"type\":\"model\",\"name\":\"ReactComponent1\"},{\"type\":\"model\",\"name\":\"AnyWidgetComponent1\"},{\"type\":\"model\",\"name\":\"request_value1\",\"properties\":[{\"name\":\"fill\",\"kind\":\"Any\",\"default\":\"none\"},{\"name\":\"_synced\",\"kind\":\"Any\",\"default\":null},{\"name\":\"_request_sync\",\"kind\":\"Any\",\"default\":0}]}]}};\n",
       "  var render_items = [{\"docid\":\"a7a0fdaa-9b94-4230-bc79-0f35ee102ba6\",\"roots\":{\"p1072\":\"edede230-9a8c-48cd-aca4-f21159b4a782\"},\"root_ids\":[\"p1072\"]}];\n",
       "  var docs = Object.values(docs_json)\n",
       "  if (!docs) {\n",
       "    return\n",
       "  }\n",
       "  const py_version = docs[0].version.replace('rc', '-rc.').replace('.dev', '-dev.')\n",
       "  async function embed_document(root) {\n",
       "    var Bokeh = get_bokeh(root)\n",
       "    await Bokeh.embed.embed_items_notebook(docs_json, render_items);\n",
       "    for (const render_item of render_items) {\n",
       "      for (const root_id of render_item.root_ids) {\n",
       "\tconst id_el = document.getElementById(root_id)\n",
       "\tif (id_el.children.length && id_el.children[0].hasAttribute('data-root-id')) {\n",
       "\t  const root_el = id_el.children[0]\n",
       "\t  root_el.id = root_el.id + '-rendered'\n",
       "\t  for (const child of root_el.children) {\n",
       "            // Ensure JupyterLab does not capture keyboard shortcuts\n",
       "            // see: https://jupyterlab.readthedocs.io/en/4.1.x/extension/notebook.html#keyboard-interaction-model\n",
       "\t    child.setAttribute('data-lm-suppress-shortcuts', 'true')\n",
       "\t  }\n",
       "\t}\n",
       "      }\n",
       "    }\n",
       "  }\n",
       "  function get_bokeh(root) {\n",
       "    if (root.Bokeh === undefined) {\n",
       "      return null\n",
       "    } else if (root.Bokeh.version !== py_version) {\n",
       "      if (root.Bokeh.versions === undefined || !root.Bokeh.versions.has(py_version)) {\n",
       "\treturn null\n",
       "      }\n",
       "      return root.Bokeh.versions.get(py_version);\n",
       "    } else if (root.Bokeh.version === py_version) {\n",
       "      return root.Bokeh\n",
       "    }\n",
       "    return null\n",
       "  }\n",
       "  function is_loaded(root) {\n",
       "    var Bokeh = get_bokeh(root)\n",
       "    return (Bokeh != null && Bokeh.Panel !== undefined)\n",
       "  }\n",
       "  if (is_loaded(root)) {\n",
       "    embed_document(root);\n",
       "  } else {\n",
       "    var attempts = 0;\n",
       "    var timer = setInterval(function(root) {\n",
       "      if (is_loaded(root)) {\n",
       "        clearInterval(timer);\n",
       "        embed_document(root);\n",
       "      } else if (document.readyState == \"complete\") {\n",
       "        attempts++;\n",
       "        if (attempts > 200) {\n",
       "          clearInterval(timer);\n",
       "\t  var Bokeh = get_bokeh(root)\n",
       "\t  if (Bokeh == null || Bokeh.Panel == null) {\n",
       "            console.warn(\"Panel: ERROR: Unable to run Panel code because Bokeh or Panel library is missing\");\n",
       "\t  } else {\n",
       "\t    console.warn(\"Panel: WARNING: Attempting to render but not all required libraries could be resolved.\")\n",
       "\t    embed_document(root)\n",
       "\t  }\n",
       "        }\n",
       "      }\n",
       "    }, 25, root)\n",
       "  }\n",
       "})(window);</script>"
      ],
      "text/plain": [
       ":Points   [Lng,Lat]   (Color,Humidity,City,Country)"
      ]
     },
     "execution_count": 29,
     "metadata": {
      "application/vnd.holoviews_exec.v0+json": {
       "id": "p1072"
      }
     },
     "output_type": "execute_result"
    }
   ],
   "source": [
    "%%capture --no-display\n",
    "# Create a color mapping for each city\n",
    "unique_cities = city_data_df['City'].unique()\n",
    "colors = plt.cm.get_cmap('tab10', len(unique_cities))  \n",
    "\n",
    "# Create a color mapping dictionary\n",
    "color_mapping = {city: colors(i) for i, city in enumerate(unique_cities)}\n",
    "\n",
    "# Convert RGBA colors to hex format for hvplot\n",
    "color_mapping = {city: mcolors.rgb2hex(colors(i)[:3]) for i, city in enumerate(unique_cities)}\n",
    "\n",
    "# Step 2: Add a new column to the DataFrame for colors\n",
    "city_data_df['Color'] = city_data_df['City'].map(color_mapping)\n",
    "\n",
    "#Configure the map plot with unique colors for each city\n",
    "map_plot = city_data_df.hvplot.points(\n",
    "    'Lng', 'Lat', \n",
    "    size='Humidity', \n",
    "    color='Color',  \n",
    "    title='City Humidity Map',\n",
    "    hover_cols=['City', 'Country'],\n",
    "    legend='top_right',  \n",
    "    xlabel='Longitude',  \n",
    "    ylabel='Latitude'    \n",
    ")\n",
    "\n",
    "\n",
    "\n",
    "# Display the map\n",
    "map_plot"
   ]
  },
  {
   "cell_type": "markdown",
   "metadata": {},
   "source": [
    "### Step 2: Narrow down the `city_data_df` DataFrame to find your ideal weather condition"
   ]
  },
  {
   "cell_type": "code",
   "execution_count": 7,
   "metadata": {},
   "outputs": [
    {
     "data": {
      "text/html": [
       "<div>\n",
       "<style scoped>\n",
       "    .dataframe tbody tr th:only-of-type {\n",
       "        vertical-align: middle;\n",
       "    }\n",
       "\n",
       "    .dataframe tbody tr th {\n",
       "        vertical-align: top;\n",
       "    }\n",
       "\n",
       "    .dataframe thead th {\n",
       "        text-align: right;\n",
       "    }\n",
       "</style>\n",
       "<table border=\"1\" class=\"dataframe\">\n",
       "  <thead>\n",
       "    <tr style=\"text-align: right;\">\n",
       "      <th></th>\n",
       "      <th>City_ID</th>\n",
       "      <th>City_ID</th>\n",
       "      <th>City</th>\n",
       "      <th>Lat</th>\n",
       "      <th>Lng</th>\n",
       "      <th>Max Temp</th>\n",
       "      <th>Humidity</th>\n",
       "      <th>Cloudiness</th>\n",
       "      <th>Wind Speed</th>\n",
       "      <th>Country</th>\n",
       "      <th>Date</th>\n",
       "    </tr>\n",
       "  </thead>\n",
       "  <tbody>\n",
       "    <tr>\n",
       "      <th>17</th>\n",
       "      <td>17</td>\n",
       "      <td>17</td>\n",
       "      <td>pamandzi</td>\n",
       "      <td>-12.7967</td>\n",
       "      <td>45.2794</td>\n",
       "      <td>26.88</td>\n",
       "      <td>78</td>\n",
       "      <td>0</td>\n",
       "      <td>2.06</td>\n",
       "      <td>YT</td>\n",
       "      <td>1734642144</td>\n",
       "    </tr>\n",
       "    <tr>\n",
       "      <th>44</th>\n",
       "      <td>44</td>\n",
       "      <td>44</td>\n",
       "      <td>wailua homesteads</td>\n",
       "      <td>22.0669</td>\n",
       "      <td>-159.3780</td>\n",
       "      <td>26.74</td>\n",
       "      <td>79</td>\n",
       "      <td>0</td>\n",
       "      <td>0.89</td>\n",
       "      <td>US</td>\n",
       "      <td>1734642178</td>\n",
       "    </tr>\n",
       "    <tr>\n",
       "      <th>60</th>\n",
       "      <td>60</td>\n",
       "      <td>60</td>\n",
       "      <td>tamale</td>\n",
       "      <td>9.4008</td>\n",
       "      <td>-0.8393</td>\n",
       "      <td>25.16</td>\n",
       "      <td>16</td>\n",
       "      <td>0</td>\n",
       "      <td>3.65</td>\n",
       "      <td>GH</td>\n",
       "      <td>1734642196</td>\n",
       "    </tr>\n",
       "    <tr>\n",
       "      <th>63</th>\n",
       "      <td>63</td>\n",
       "      <td>63</td>\n",
       "      <td>callao</td>\n",
       "      <td>-12.0667</td>\n",
       "      <td>-77.1500</td>\n",
       "      <td>22.16</td>\n",
       "      <td>73</td>\n",
       "      <td>0</td>\n",
       "      <td>2.06</td>\n",
       "      <td>PE</td>\n",
       "      <td>1734642199</td>\n",
       "    </tr>\n",
       "    <tr>\n",
       "      <th>129</th>\n",
       "      <td>129</td>\n",
       "      <td>129</td>\n",
       "      <td>cooper's town</td>\n",
       "      <td>26.8667</td>\n",
       "      <td>-77.5167</td>\n",
       "      <td>23.41</td>\n",
       "      <td>83</td>\n",
       "      <td>0</td>\n",
       "      <td>2.34</td>\n",
       "      <td>BS</td>\n",
       "      <td>1734642275</td>\n",
       "    </tr>\n",
       "    <tr>\n",
       "      <th>261</th>\n",
       "      <td>261</td>\n",
       "      <td>261</td>\n",
       "      <td>sierra vista southeast</td>\n",
       "      <td>31.4539</td>\n",
       "      <td>-110.2164</td>\n",
       "      <td>22.63</td>\n",
       "      <td>16</td>\n",
       "      <td>0</td>\n",
       "      <td>1.54</td>\n",
       "      <td>US</td>\n",
       "      <td>1734642431</td>\n",
       "    </tr>\n",
       "    <tr>\n",
       "      <th>273</th>\n",
       "      <td>273</td>\n",
       "      <td>273</td>\n",
       "      <td>heroica caborca</td>\n",
       "      <td>30.7167</td>\n",
       "      <td>-112.1500</td>\n",
       "      <td>26.60</td>\n",
       "      <td>10</td>\n",
       "      <td>0</td>\n",
       "      <td>1.40</td>\n",
       "      <td>MX</td>\n",
       "      <td>1734642216</td>\n",
       "    </tr>\n",
       "    <tr>\n",
       "      <th>364</th>\n",
       "      <td>364</td>\n",
       "      <td>364</td>\n",
       "      <td>alpine</td>\n",
       "      <td>32.8350</td>\n",
       "      <td>-116.7664</td>\n",
       "      <td>25.50</td>\n",
       "      <td>19</td>\n",
       "      <td>0</td>\n",
       "      <td>2.57</td>\n",
       "      <td>US</td>\n",
       "      <td>1734642556</td>\n",
       "    </tr>\n",
       "    <tr>\n",
       "      <th>376</th>\n",
       "      <td>376</td>\n",
       "      <td>376</td>\n",
       "      <td>korhogo</td>\n",
       "      <td>9.4500</td>\n",
       "      <td>-5.6333</td>\n",
       "      <td>21.95</td>\n",
       "      <td>19</td>\n",
       "      <td>0</td>\n",
       "      <td>2.62</td>\n",
       "      <td>CI</td>\n",
       "      <td>1734642571</td>\n",
       "    </tr>\n",
       "    <tr>\n",
       "      <th>460</th>\n",
       "      <td>460</td>\n",
       "      <td>460</td>\n",
       "      <td>lake city</td>\n",
       "      <td>30.1897</td>\n",
       "      <td>-82.6393</td>\n",
       "      <td>23.72</td>\n",
       "      <td>49</td>\n",
       "      <td>0</td>\n",
       "      <td>4.12</td>\n",
       "      <td>US</td>\n",
       "      <td>1734642455</td>\n",
       "    </tr>\n",
       "    <tr>\n",
       "      <th>463</th>\n",
       "      <td>463</td>\n",
       "      <td>463</td>\n",
       "      <td>laredo</td>\n",
       "      <td>27.5064</td>\n",
       "      <td>-99.5075</td>\n",
       "      <td>22.16</td>\n",
       "      <td>30</td>\n",
       "      <td>0</td>\n",
       "      <td>2.57</td>\n",
       "      <td>US</td>\n",
       "      <td>1734642671</td>\n",
       "    </tr>\n",
       "    <tr>\n",
       "      <th>540</th>\n",
       "      <td>540</td>\n",
       "      <td>540</td>\n",
       "      <td>batie</td>\n",
       "      <td>9.8833</td>\n",
       "      <td>-2.9167</td>\n",
       "      <td>24.17</td>\n",
       "      <td>17</td>\n",
       "      <td>0</td>\n",
       "      <td>2.59</td>\n",
       "      <td>BF</td>\n",
       "      <td>1734642677</td>\n",
       "    </tr>\n",
       "  </tbody>\n",
       "</table>\n",
       "</div>"
      ],
      "text/plain": [
       "     City_ID  City_ID                    City      Lat       Lng  Max Temp  \\\n",
       "17        17       17                pamandzi -12.7967   45.2794     26.88   \n",
       "44        44       44       wailua homesteads  22.0669 -159.3780     26.74   \n",
       "60        60       60                  tamale   9.4008   -0.8393     25.16   \n",
       "63        63       63                  callao -12.0667  -77.1500     22.16   \n",
       "129      129      129           cooper's town  26.8667  -77.5167     23.41   \n",
       "261      261      261  sierra vista southeast  31.4539 -110.2164     22.63   \n",
       "273      273      273         heroica caborca  30.7167 -112.1500     26.60   \n",
       "364      364      364                  alpine  32.8350 -116.7664     25.50   \n",
       "376      376      376                 korhogo   9.4500   -5.6333     21.95   \n",
       "460      460      460               lake city  30.1897  -82.6393     23.72   \n",
       "463      463      463                  laredo  27.5064  -99.5075     22.16   \n",
       "540      540      540                   batie   9.8833   -2.9167     24.17   \n",
       "\n",
       "     Humidity  Cloudiness  Wind Speed Country        Date  \n",
       "17         78           0        2.06      YT  1734642144  \n",
       "44         79           0        0.89      US  1734642178  \n",
       "60         16           0        3.65      GH  1734642196  \n",
       "63         73           0        2.06      PE  1734642199  \n",
       "129        83           0        2.34      BS  1734642275  \n",
       "261        16           0        1.54      US  1734642431  \n",
       "273        10           0        1.40      MX  1734642216  \n",
       "364        19           0        2.57      US  1734642556  \n",
       "376        19           0        2.62      CI  1734642571  \n",
       "460        49           0        4.12      US  1734642455  \n",
       "463        30           0        2.57      US  1734642671  \n",
       "540        17           0        2.59      BF  1734642677  "
      ]
     },
     "execution_count": 7,
     "metadata": {},
     "output_type": "execute_result"
    }
   ],
   "source": [
    "# Narrow down cities that fit criteria and drop any results with null values\n",
    "# Ideal weather conditions\n",
    "ideal_temp_min = 21  \n",
    "ideal_temp_max = 27  \n",
    "ideal_wind_speed = 4.5  \n",
    "ideal_cloudiness = 0  \n",
    "\n",
    "filtered_city_data_df = city_data_df[\n",
    "    (city_data_df['Max Temp'] > ideal_temp_min) &\n",
    "    (city_data_df['Max Temp'] < ideal_temp_max) &\n",
    "    (city_data_df['Wind Speed'] < ideal_wind_speed) &\n",
    "    (city_data_df['Cloudiness'] == ideal_cloudiness)  \n",
    "]\n",
    "\n",
    "filtered_city_data_df.insert(0, 'Order Number', range(1, len(filtered_city_data_df) + 1))\n",
    "\n",
    "# Drop any rows with null values and column with color \n",
    "filtered_city_data_df = filtered_city_data_df.dropna()\n",
    "filtered_city_data_df = filtered_city_data_df[['City_ID', 'City_ID', 'City', 'Lat', 'Lng', 'Max Temp', 'Humidity', 'Cloudiness', 'Wind Speed', 'Country', 'Date']]\n",
    "\n",
    "# Display sample data\n",
    "filtered_city_data_df"
   ]
  },
  {
   "cell_type": "markdown",
   "metadata": {},
   "source": [
    "### Step 3: Create a new DataFrame called `hotel_df`."
   ]
  },
  {
   "cell_type": "code",
   "execution_count": 9,
   "metadata": {},
   "outputs": [
    {
     "data": {
      "text/html": [
       "<div>\n",
       "<style scoped>\n",
       "    .dataframe tbody tr th:only-of-type {\n",
       "        vertical-align: middle;\n",
       "    }\n",
       "\n",
       "    .dataframe tbody tr th {\n",
       "        vertical-align: top;\n",
       "    }\n",
       "\n",
       "    .dataframe thead th {\n",
       "        text-align: right;\n",
       "    }\n",
       "</style>\n",
       "<table border=\"1\" class=\"dataframe\">\n",
       "  <thead>\n",
       "    <tr style=\"text-align: right;\">\n",
       "      <th></th>\n",
       "      <th>City</th>\n",
       "      <th>Country</th>\n",
       "      <th>Lat</th>\n",
       "      <th>Lng</th>\n",
       "      <th>Humidity</th>\n",
       "      <th>Hotel Name</th>\n",
       "    </tr>\n",
       "  </thead>\n",
       "  <tbody>\n",
       "    <tr>\n",
       "      <th>17</th>\n",
       "      <td>pamandzi</td>\n",
       "      <td>YT</td>\n",
       "      <td>-12.7967</td>\n",
       "      <td>45.2794</td>\n",
       "      <td>78</td>\n",
       "      <td></td>\n",
       "    </tr>\n",
       "    <tr>\n",
       "      <th>44</th>\n",
       "      <td>wailua homesteads</td>\n",
       "      <td>US</td>\n",
       "      <td>22.0669</td>\n",
       "      <td>-159.3780</td>\n",
       "      <td>79</td>\n",
       "      <td></td>\n",
       "    </tr>\n",
       "    <tr>\n",
       "      <th>60</th>\n",
       "      <td>tamale</td>\n",
       "      <td>GH</td>\n",
       "      <td>9.4008</td>\n",
       "      <td>-0.8393</td>\n",
       "      <td>16</td>\n",
       "      <td></td>\n",
       "    </tr>\n",
       "    <tr>\n",
       "      <th>63</th>\n",
       "      <td>callao</td>\n",
       "      <td>PE</td>\n",
       "      <td>-12.0667</td>\n",
       "      <td>-77.1500</td>\n",
       "      <td>73</td>\n",
       "      <td></td>\n",
       "    </tr>\n",
       "    <tr>\n",
       "      <th>129</th>\n",
       "      <td>cooper's town</td>\n",
       "      <td>BS</td>\n",
       "      <td>26.8667</td>\n",
       "      <td>-77.5167</td>\n",
       "      <td>83</td>\n",
       "      <td></td>\n",
       "    </tr>\n",
       "    <tr>\n",
       "      <th>261</th>\n",
       "      <td>sierra vista southeast</td>\n",
       "      <td>US</td>\n",
       "      <td>31.4539</td>\n",
       "      <td>-110.2164</td>\n",
       "      <td>16</td>\n",
       "      <td></td>\n",
       "    </tr>\n",
       "    <tr>\n",
       "      <th>273</th>\n",
       "      <td>heroica caborca</td>\n",
       "      <td>MX</td>\n",
       "      <td>30.7167</td>\n",
       "      <td>-112.1500</td>\n",
       "      <td>10</td>\n",
       "      <td></td>\n",
       "    </tr>\n",
       "    <tr>\n",
       "      <th>364</th>\n",
       "      <td>alpine</td>\n",
       "      <td>US</td>\n",
       "      <td>32.8350</td>\n",
       "      <td>-116.7664</td>\n",
       "      <td>19</td>\n",
       "      <td></td>\n",
       "    </tr>\n",
       "    <tr>\n",
       "      <th>376</th>\n",
       "      <td>korhogo</td>\n",
       "      <td>CI</td>\n",
       "      <td>9.4500</td>\n",
       "      <td>-5.6333</td>\n",
       "      <td>19</td>\n",
       "      <td></td>\n",
       "    </tr>\n",
       "    <tr>\n",
       "      <th>460</th>\n",
       "      <td>lake city</td>\n",
       "      <td>US</td>\n",
       "      <td>30.1897</td>\n",
       "      <td>-82.6393</td>\n",
       "      <td>49</td>\n",
       "      <td></td>\n",
       "    </tr>\n",
       "    <tr>\n",
       "      <th>463</th>\n",
       "      <td>laredo</td>\n",
       "      <td>US</td>\n",
       "      <td>27.5064</td>\n",
       "      <td>-99.5075</td>\n",
       "      <td>30</td>\n",
       "      <td></td>\n",
       "    </tr>\n",
       "    <tr>\n",
       "      <th>540</th>\n",
       "      <td>batie</td>\n",
       "      <td>BF</td>\n",
       "      <td>9.8833</td>\n",
       "      <td>-2.9167</td>\n",
       "      <td>17</td>\n",
       "      <td></td>\n",
       "    </tr>\n",
       "  </tbody>\n",
       "</table>\n",
       "</div>"
      ],
      "text/plain": [
       "                       City Country      Lat       Lng  Humidity Hotel Name\n",
       "17                 pamandzi      YT -12.7967   45.2794        78           \n",
       "44        wailua homesteads      US  22.0669 -159.3780        79           \n",
       "60                   tamale      GH   9.4008   -0.8393        16           \n",
       "63                   callao      PE -12.0667  -77.1500        73           \n",
       "129           cooper's town      BS  26.8667  -77.5167        83           \n",
       "261  sierra vista southeast      US  31.4539 -110.2164        16           \n",
       "273         heroica caborca      MX  30.7167 -112.1500        10           \n",
       "364                  alpine      US  32.8350 -116.7664        19           \n",
       "376                 korhogo      CI   9.4500   -5.6333        19           \n",
       "460               lake city      US  30.1897  -82.6393        49           \n",
       "463                  laredo      US  27.5064  -99.5075        30           \n",
       "540                   batie      BF   9.8833   -2.9167        17           "
      ]
     },
     "execution_count": 9,
     "metadata": {},
     "output_type": "execute_result"
    }
   ],
   "source": [
    "# Use the Pandas copy function to create DataFrame called hotel_df to store the city, country, coordinates, and humidity\n",
    "hotel_df = filtered_city_data_df[['City', 'Country', 'Lat', 'Lng', 'Humidity']].copy()\n",
    "\n",
    "# Add an empty column, \"Hotel Name,\" to the DataFrame so you can store the hotel found using the Geoapify API\n",
    "hotel_df['Hotel Name'] = ''\n",
    "\n",
    "# Display sample data\n",
    "hotel_df"
   ]
  },
  {
   "cell_type": "markdown",
   "metadata": {},
   "source": [
    "### Step 4: For each city, use the Geoapify API to find the first hotel located within 10,000 metres of your coordinates."
   ]
  },
  {
   "cell_type": "code",
   "execution_count": 11,
   "metadata": {
    "scrolled": true
   },
   "outputs": [
    {
     "name": "stdout",
     "output_type": "stream",
     "text": [
      "Starting hotel search using the Geoapify API...\n",
      "pamandzi - nearest hotel: No hotel found\n",
      "wailua homesteads - nearest hotel: No hotel found\n",
      "tamale - nearest hotel: No hotel found\n",
      "callao - nearest hotel: No hotel found\n",
      "cooper's town - nearest hotel: No hotel found\n",
      "sierra vista southeast - nearest hotel: No hotel found\n",
      "heroica caborca - nearest hotel: No hotel found\n",
      "alpine - nearest hotel: No hotel found\n",
      "korhogo - nearest hotel: No hotel found\n",
      "lake city - nearest hotel: No hotel found\n",
      "laredo - nearest hotel: No hotel found\n",
      "batie - nearest hotel: No hotel found\n"
     ]
    },
    {
     "data": {
      "text/html": [
       "<div>\n",
       "<style scoped>\n",
       "    .dataframe tbody tr th:only-of-type {\n",
       "        vertical-align: middle;\n",
       "    }\n",
       "\n",
       "    .dataframe tbody tr th {\n",
       "        vertical-align: top;\n",
       "    }\n",
       "\n",
       "    .dataframe thead th {\n",
       "        text-align: right;\n",
       "    }\n",
       "</style>\n",
       "<table border=\"1\" class=\"dataframe\">\n",
       "  <thead>\n",
       "    <tr style=\"text-align: right;\">\n",
       "      <th></th>\n",
       "      <th>City</th>\n",
       "      <th>Country</th>\n",
       "      <th>Lat</th>\n",
       "      <th>Lng</th>\n",
       "      <th>Humidity</th>\n",
       "      <th>Hotel Name</th>\n",
       "    </tr>\n",
       "  </thead>\n",
       "  <tbody>\n",
       "    <tr>\n",
       "      <th>17</th>\n",
       "      <td>pamandzi</td>\n",
       "      <td>YT</td>\n",
       "      <td>-12.7967</td>\n",
       "      <td>45.2794</td>\n",
       "      <td>78</td>\n",
       "      <td>No hotel found</td>\n",
       "    </tr>\n",
       "    <tr>\n",
       "      <th>44</th>\n",
       "      <td>wailua homesteads</td>\n",
       "      <td>US</td>\n",
       "      <td>22.0669</td>\n",
       "      <td>-159.3780</td>\n",
       "      <td>79</td>\n",
       "      <td>No hotel found</td>\n",
       "    </tr>\n",
       "    <tr>\n",
       "      <th>60</th>\n",
       "      <td>tamale</td>\n",
       "      <td>GH</td>\n",
       "      <td>9.4008</td>\n",
       "      <td>-0.8393</td>\n",
       "      <td>16</td>\n",
       "      <td>No hotel found</td>\n",
       "    </tr>\n",
       "    <tr>\n",
       "      <th>63</th>\n",
       "      <td>callao</td>\n",
       "      <td>PE</td>\n",
       "      <td>-12.0667</td>\n",
       "      <td>-77.1500</td>\n",
       "      <td>73</td>\n",
       "      <td>No hotel found</td>\n",
       "    </tr>\n",
       "    <tr>\n",
       "      <th>129</th>\n",
       "      <td>cooper's town</td>\n",
       "      <td>BS</td>\n",
       "      <td>26.8667</td>\n",
       "      <td>-77.5167</td>\n",
       "      <td>83</td>\n",
       "      <td>No hotel found</td>\n",
       "    </tr>\n",
       "    <tr>\n",
       "      <th>261</th>\n",
       "      <td>sierra vista southeast</td>\n",
       "      <td>US</td>\n",
       "      <td>31.4539</td>\n",
       "      <td>-110.2164</td>\n",
       "      <td>16</td>\n",
       "      <td>No hotel found</td>\n",
       "    </tr>\n",
       "    <tr>\n",
       "      <th>273</th>\n",
       "      <td>heroica caborca</td>\n",
       "      <td>MX</td>\n",
       "      <td>30.7167</td>\n",
       "      <td>-112.1500</td>\n",
       "      <td>10</td>\n",
       "      <td>No hotel found</td>\n",
       "    </tr>\n",
       "    <tr>\n",
       "      <th>364</th>\n",
       "      <td>alpine</td>\n",
       "      <td>US</td>\n",
       "      <td>32.8350</td>\n",
       "      <td>-116.7664</td>\n",
       "      <td>19</td>\n",
       "      <td>No hotel found</td>\n",
       "    </tr>\n",
       "    <tr>\n",
       "      <th>376</th>\n",
       "      <td>korhogo</td>\n",
       "      <td>CI</td>\n",
       "      <td>9.4500</td>\n",
       "      <td>-5.6333</td>\n",
       "      <td>19</td>\n",
       "      <td>No hotel found</td>\n",
       "    </tr>\n",
       "    <tr>\n",
       "      <th>460</th>\n",
       "      <td>lake city</td>\n",
       "      <td>US</td>\n",
       "      <td>30.1897</td>\n",
       "      <td>-82.6393</td>\n",
       "      <td>49</td>\n",
       "      <td>No hotel found</td>\n",
       "    </tr>\n",
       "    <tr>\n",
       "      <th>463</th>\n",
       "      <td>laredo</td>\n",
       "      <td>US</td>\n",
       "      <td>27.5064</td>\n",
       "      <td>-99.5075</td>\n",
       "      <td>30</td>\n",
       "      <td>No hotel found</td>\n",
       "    </tr>\n",
       "    <tr>\n",
       "      <th>540</th>\n",
       "      <td>batie</td>\n",
       "      <td>BF</td>\n",
       "      <td>9.8833</td>\n",
       "      <td>-2.9167</td>\n",
       "      <td>17</td>\n",
       "      <td>No hotel found</td>\n",
       "    </tr>\n",
       "  </tbody>\n",
       "</table>\n",
       "</div>"
      ],
      "text/plain": [
       "                       City Country      Lat       Lng  Humidity  \\\n",
       "17                 pamandzi      YT -12.7967   45.2794        78   \n",
       "44        wailua homesteads      US  22.0669 -159.3780        79   \n",
       "60                   tamale      GH   9.4008   -0.8393        16   \n",
       "63                   callao      PE -12.0667  -77.1500        73   \n",
       "129           cooper's town      BS  26.8667  -77.5167        83   \n",
       "261  sierra vista southeast      US  31.4539 -110.2164        16   \n",
       "273         heroica caborca      MX  30.7167 -112.1500        10   \n",
       "364                  alpine      US  32.8350 -116.7664        19   \n",
       "376                 korhogo      CI   9.4500   -5.6333        19   \n",
       "460               lake city      US  30.1897  -82.6393        49   \n",
       "463                  laredo      US  27.5064  -99.5075        30   \n",
       "540                   batie      BF   9.8833   -2.9167        17   \n",
       "\n",
       "         Hotel Name  \n",
       "17   No hotel found  \n",
       "44   No hotel found  \n",
       "60   No hotel found  \n",
       "63   No hotel found  \n",
       "129  No hotel found  \n",
       "261  No hotel found  \n",
       "273  No hotel found  \n",
       "364  No hotel found  \n",
       "376  No hotel found  \n",
       "460  No hotel found  \n",
       "463  No hotel found  \n",
       "540  No hotel found  "
      ]
     },
     "execution_count": 11,
     "metadata": {},
     "output_type": "execute_result"
    }
   ],
   "source": [
    "# Set parameters to search for a hotel\n",
    "radius = 10000\n",
    "params = {\n",
    "    \"categories\": \"hotel,motel,inn\",\n",
    "    \"apiKey\": geoapify_key,  \n",
    "    \"limit\": 1, \n",
    "}\n",
    "\n",
    "#  Print a message to follow up the hotel search\n",
    "print(\"Starting hotel search using the Geoapify API...\")\n",
    "\n",
    "# Iterate through the hotel_df DataFrame\n",
    "for index, row in hotel_df.iterrows():\n",
    "    # Get latitude and longitude from the DataFrame\n",
    "    latitude = row['Lat']\n",
    "    longitude = row['Lng']\n",
    "    \n",
    "    # Add the current city's latitude and longitude to the params dictionary\n",
    "    params[\"filter\"] = f\"circle:{longitude},{latitude},{radius}\"  \n",
    "    params[\"bias\"] = f\"proximity:{longitude},{latitude}\"\n",
    "\n",
    "    # Set base URL\n",
    "    base_url = \"https://maps.geoapify.com/v1/tile/carto/{z}/{x}/{y}.png?&apiKey=8d01bd6a9acd4b36ad6cdb254587d94d\"\n",
    "\n",
    "    # Make and API request using the params dictionary\n",
    "    name_address_response = requests.get(base_url, params=params)\n",
    "\n",
    "    # Convert the API response to JSON format\n",
    "    name_address = name_address_response.json()\n",
    "\n",
    "    # Grab the first hotel from the results and store the name in the hotel_df DataFrame\n",
    "    try:\n",
    "        hotel_df.loc[index, \"Hotel Name\"] = name_address[\"features\"][0][\"properties\"][\"name\"]\n",
    "    except (KeyError, IndexError):\n",
    "        # If no hotel is found, set the hotel name as \"No hotel found\".\n",
    "        hotel_df.loc[index, \"Hotel Name\"] = \"No hotel found\"\n",
    "    \n",
    "    # Log the search results\n",
    "    print(f\"{hotel_df.loc[index, 'City']} - nearest hotel: {hotel_df.loc[index, 'Hotel Name']}\")\n",
    "\n",
    "# Display sample data\n",
    "hotel_df\n"
   ]
  },
  {
   "cell_type": "markdown",
   "metadata": {},
   "source": [
    "### Step 5: Add the hotel name and the country as additional information in the hover message for each city in the map."
   ]
  },
  {
   "cell_type": "code",
   "execution_count": 27,
   "metadata": {},
   "outputs": [
    {
     "data": {
      "application/vnd.plotly.v1+json": {
       "config": {
        "plotlyServerURL": "https://plot.ly"
       },
       "data": [
        {
         "customdata": [
          [
           "YT",
           "No hotel found",
           26.88,
           78
          ],
          [
           "US",
           "No hotel found",
           26.74,
           79
          ],
          [
           "GH",
           "No hotel found",
           25.16,
           16
          ],
          [
           "PE",
           "No hotel found",
           22.16,
           73
          ],
          [
           "BS",
           "No hotel found",
           23.41,
           83
          ],
          [
           "US",
           "No hotel found",
           22.63,
           16
          ],
          [
           "MX",
           "No hotel found",
           26.6,
           10
          ],
          [
           "US",
           "No hotel found",
           25.5,
           19
          ],
          [
           "CI",
           "No hotel found",
           21.95,
           19
          ],
          [
           "US",
           "No hotel found",
           23.72,
           49
          ],
          [
           "US",
           "No hotel found",
           22.16,
           30
          ],
          [
           "BF",
           "No hotel found",
           24.17,
           17
          ]
         ],
         "geo": "geo",
         "hovertemplate": "<b>%{hovertext}</b><br><br>Lat=%{lat}<br>Lng=%{lon}<br>Country=%{customdata[0]}<br>Hotel Name=%{customdata[1]}<br>Max Temp=%{customdata[2]}<br>Humidity=%{customdata[3]}<extra></extra>",
         "hovertext": [
          "pamandzi",
          "wailua homesteads",
          "tamale",
          "callao",
          "cooper's town",
          "sierra vista southeast",
          "heroica caborca",
          "alpine",
          "korhogo",
          "lake city",
          "laredo",
          "batie"
         ],
         "lat": [
          -12.7967,
          22.0669,
          9.4008,
          -12.0667,
          26.8667,
          31.4539,
          30.7167,
          32.835,
          9.45,
          30.1897,
          27.5064,
          9.8833
         ],
         "legendgroup": "",
         "lon": [
          45.2794,
          -159.378,
          -0.8393,
          -77.15,
          -77.5167,
          -110.2164,
          -112.15,
          -116.7664,
          -5.6333,
          -82.6393,
          -99.5075,
          -2.9167
         ],
         "marker": {
          "color": "#636efa",
          "symbol": "circle"
         },
         "mode": "markers",
         "name": "",
         "showlegend": false,
         "type": "scattergeo"
        }
       ],
       "layout": {
        "autosize": true,
        "geo": {
         "center": {},
         "domain": {
          "x": [
           0,
           1
          ],
          "y": [
           0,
           1
          ]
         }
        },
        "legend": {
         "tracegroupgap": 0
        },
        "template": {
         "data": {
          "bar": [
           {
            "error_x": {
             "color": "#2a3f5f"
            },
            "error_y": {
             "color": "#2a3f5f"
            },
            "marker": {
             "line": {
              "color": "#E5ECF6",
              "width": 0.5
             },
             "pattern": {
              "fillmode": "overlay",
              "size": 10,
              "solidity": 0.2
             }
            },
            "type": "bar"
           }
          ],
          "barpolar": [
           {
            "marker": {
             "line": {
              "color": "#E5ECF6",
              "width": 0.5
             },
             "pattern": {
              "fillmode": "overlay",
              "size": 10,
              "solidity": 0.2
             }
            },
            "type": "barpolar"
           }
          ],
          "carpet": [
           {
            "aaxis": {
             "endlinecolor": "#2a3f5f",
             "gridcolor": "white",
             "linecolor": "white",
             "minorgridcolor": "white",
             "startlinecolor": "#2a3f5f"
            },
            "baxis": {
             "endlinecolor": "#2a3f5f",
             "gridcolor": "white",
             "linecolor": "white",
             "minorgridcolor": "white",
             "startlinecolor": "#2a3f5f"
            },
            "type": "carpet"
           }
          ],
          "choropleth": [
           {
            "colorbar": {
             "outlinewidth": 0,
             "ticks": ""
            },
            "type": "choropleth"
           }
          ],
          "contour": [
           {
            "colorbar": {
             "outlinewidth": 0,
             "ticks": ""
            },
            "colorscale": [
             [
              0,
              "#0d0887"
             ],
             [
              0.1111111111111111,
              "#46039f"
             ],
             [
              0.2222222222222222,
              "#7201a8"
             ],
             [
              0.3333333333333333,
              "#9c179e"
             ],
             [
              0.4444444444444444,
              "#bd3786"
             ],
             [
              0.5555555555555556,
              "#d8576b"
             ],
             [
              0.6666666666666666,
              "#ed7953"
             ],
             [
              0.7777777777777778,
              "#fb9f3a"
             ],
             [
              0.8888888888888888,
              "#fdca26"
             ],
             [
              1,
              "#f0f921"
             ]
            ],
            "type": "contour"
           }
          ],
          "contourcarpet": [
           {
            "colorbar": {
             "outlinewidth": 0,
             "ticks": ""
            },
            "type": "contourcarpet"
           }
          ],
          "heatmap": [
           {
            "colorbar": {
             "outlinewidth": 0,
             "ticks": ""
            },
            "colorscale": [
             [
              0,
              "#0d0887"
             ],
             [
              0.1111111111111111,
              "#46039f"
             ],
             [
              0.2222222222222222,
              "#7201a8"
             ],
             [
              0.3333333333333333,
              "#9c179e"
             ],
             [
              0.4444444444444444,
              "#bd3786"
             ],
             [
              0.5555555555555556,
              "#d8576b"
             ],
             [
              0.6666666666666666,
              "#ed7953"
             ],
             [
              0.7777777777777778,
              "#fb9f3a"
             ],
             [
              0.8888888888888888,
              "#fdca26"
             ],
             [
              1,
              "#f0f921"
             ]
            ],
            "type": "heatmap"
           }
          ],
          "heatmapgl": [
           {
            "colorbar": {
             "outlinewidth": 0,
             "ticks": ""
            },
            "colorscale": [
             [
              0,
              "#0d0887"
             ],
             [
              0.1111111111111111,
              "#46039f"
             ],
             [
              0.2222222222222222,
              "#7201a8"
             ],
             [
              0.3333333333333333,
              "#9c179e"
             ],
             [
              0.4444444444444444,
              "#bd3786"
             ],
             [
              0.5555555555555556,
              "#d8576b"
             ],
             [
              0.6666666666666666,
              "#ed7953"
             ],
             [
              0.7777777777777778,
              "#fb9f3a"
             ],
             [
              0.8888888888888888,
              "#fdca26"
             ],
             [
              1,
              "#f0f921"
             ]
            ],
            "type": "heatmapgl"
           }
          ],
          "histogram": [
           {
            "marker": {
             "pattern": {
              "fillmode": "overlay",
              "size": 10,
              "solidity": 0.2
             }
            },
            "type": "histogram"
           }
          ],
          "histogram2d": [
           {
            "colorbar": {
             "outlinewidth": 0,
             "ticks": ""
            },
            "colorscale": [
             [
              0,
              "#0d0887"
             ],
             [
              0.1111111111111111,
              "#46039f"
             ],
             [
              0.2222222222222222,
              "#7201a8"
             ],
             [
              0.3333333333333333,
              "#9c179e"
             ],
             [
              0.4444444444444444,
              "#bd3786"
             ],
             [
              0.5555555555555556,
              "#d8576b"
             ],
             [
              0.6666666666666666,
              "#ed7953"
             ],
             [
              0.7777777777777778,
              "#fb9f3a"
             ],
             [
              0.8888888888888888,
              "#fdca26"
             ],
             [
              1,
              "#f0f921"
             ]
            ],
            "type": "histogram2d"
           }
          ],
          "histogram2dcontour": [
           {
            "colorbar": {
             "outlinewidth": 0,
             "ticks": ""
            },
            "colorscale": [
             [
              0,
              "#0d0887"
             ],
             [
              0.1111111111111111,
              "#46039f"
             ],
             [
              0.2222222222222222,
              "#7201a8"
             ],
             [
              0.3333333333333333,
              "#9c179e"
             ],
             [
              0.4444444444444444,
              "#bd3786"
             ],
             [
              0.5555555555555556,
              "#d8576b"
             ],
             [
              0.6666666666666666,
              "#ed7953"
             ],
             [
              0.7777777777777778,
              "#fb9f3a"
             ],
             [
              0.8888888888888888,
              "#fdca26"
             ],
             [
              1,
              "#f0f921"
             ]
            ],
            "type": "histogram2dcontour"
           }
          ],
          "mesh3d": [
           {
            "colorbar": {
             "outlinewidth": 0,
             "ticks": ""
            },
            "type": "mesh3d"
           }
          ],
          "parcoords": [
           {
            "line": {
             "colorbar": {
              "outlinewidth": 0,
              "ticks": ""
             }
            },
            "type": "parcoords"
           }
          ],
          "pie": [
           {
            "automargin": true,
            "type": "pie"
           }
          ],
          "scatter": [
           {
            "fillpattern": {
             "fillmode": "overlay",
             "size": 10,
             "solidity": 0.2
            },
            "type": "scatter"
           }
          ],
          "scatter3d": [
           {
            "line": {
             "colorbar": {
              "outlinewidth": 0,
              "ticks": ""
             }
            },
            "marker": {
             "colorbar": {
              "outlinewidth": 0,
              "ticks": ""
             }
            },
            "type": "scatter3d"
           }
          ],
          "scattercarpet": [
           {
            "marker": {
             "colorbar": {
              "outlinewidth": 0,
              "ticks": ""
             }
            },
            "type": "scattercarpet"
           }
          ],
          "scattergeo": [
           {
            "marker": {
             "colorbar": {
              "outlinewidth": 0,
              "ticks": ""
             }
            },
            "type": "scattergeo"
           }
          ],
          "scattergl": [
           {
            "marker": {
             "colorbar": {
              "outlinewidth": 0,
              "ticks": ""
             }
            },
            "type": "scattergl"
           }
          ],
          "scattermapbox": [
           {
            "marker": {
             "colorbar": {
              "outlinewidth": 0,
              "ticks": ""
             }
            },
            "type": "scattermapbox"
           }
          ],
          "scatterpolar": [
           {
            "marker": {
             "colorbar": {
              "outlinewidth": 0,
              "ticks": ""
             }
            },
            "type": "scatterpolar"
           }
          ],
          "scatterpolargl": [
           {
            "marker": {
             "colorbar": {
              "outlinewidth": 0,
              "ticks": ""
             }
            },
            "type": "scatterpolargl"
           }
          ],
          "scatterternary": [
           {
            "marker": {
             "colorbar": {
              "outlinewidth": 0,
              "ticks": ""
             }
            },
            "type": "scatterternary"
           }
          ],
          "surface": [
           {
            "colorbar": {
             "outlinewidth": 0,
             "ticks": ""
            },
            "colorscale": [
             [
              0,
              "#0d0887"
             ],
             [
              0.1111111111111111,
              "#46039f"
             ],
             [
              0.2222222222222222,
              "#7201a8"
             ],
             [
              0.3333333333333333,
              "#9c179e"
             ],
             [
              0.4444444444444444,
              "#bd3786"
             ],
             [
              0.5555555555555556,
              "#d8576b"
             ],
             [
              0.6666666666666666,
              "#ed7953"
             ],
             [
              0.7777777777777778,
              "#fb9f3a"
             ],
             [
              0.8888888888888888,
              "#fdca26"
             ],
             [
              1,
              "#f0f921"
             ]
            ],
            "type": "surface"
           }
          ],
          "table": [
           {
            "cells": {
             "fill": {
              "color": "#EBF0F8"
             },
             "line": {
              "color": "white"
             }
            },
            "header": {
             "fill": {
              "color": "#C8D4E3"
             },
             "line": {
              "color": "white"
             }
            },
            "type": "table"
           }
          ]
         },
         "layout": {
          "annotationdefaults": {
           "arrowcolor": "#2a3f5f",
           "arrowhead": 0,
           "arrowwidth": 1
          },
          "autotypenumbers": "strict",
          "coloraxis": {
           "colorbar": {
            "outlinewidth": 0,
            "ticks": ""
           }
          },
          "colorscale": {
           "diverging": [
            [
             0,
             "#8e0152"
            ],
            [
             0.1,
             "#c51b7d"
            ],
            [
             0.2,
             "#de77ae"
            ],
            [
             0.3,
             "#f1b6da"
            ],
            [
             0.4,
             "#fde0ef"
            ],
            [
             0.5,
             "#f7f7f7"
            ],
            [
             0.6,
             "#e6f5d0"
            ],
            [
             0.7,
             "#b8e186"
            ],
            [
             0.8,
             "#7fbc41"
            ],
            [
             0.9,
             "#4d9221"
            ],
            [
             1,
             "#276419"
            ]
           ],
           "sequential": [
            [
             0,
             "#0d0887"
            ],
            [
             0.1111111111111111,
             "#46039f"
            ],
            [
             0.2222222222222222,
             "#7201a8"
            ],
            [
             0.3333333333333333,
             "#9c179e"
            ],
            [
             0.4444444444444444,
             "#bd3786"
            ],
            [
             0.5555555555555556,
             "#d8576b"
            ],
            [
             0.6666666666666666,
             "#ed7953"
            ],
            [
             0.7777777777777778,
             "#fb9f3a"
            ],
            [
             0.8888888888888888,
             "#fdca26"
            ],
            [
             1,
             "#f0f921"
            ]
           ],
           "sequentialminus": [
            [
             0,
             "#0d0887"
            ],
            [
             0.1111111111111111,
             "#46039f"
            ],
            [
             0.2222222222222222,
             "#7201a8"
            ],
            [
             0.3333333333333333,
             "#9c179e"
            ],
            [
             0.4444444444444444,
             "#bd3786"
            ],
            [
             0.5555555555555556,
             "#d8576b"
            ],
            [
             0.6666666666666666,
             "#ed7953"
            ],
            [
             0.7777777777777778,
             "#fb9f3a"
            ],
            [
             0.8888888888888888,
             "#fdca26"
            ],
            [
             1,
             "#f0f921"
            ]
           ]
          },
          "colorway": [
           "#636efa",
           "#EF553B",
           "#00cc96",
           "#ab63fa",
           "#FFA15A",
           "#19d3f3",
           "#FF6692",
           "#B6E880",
           "#FF97FF",
           "#FECB52"
          ],
          "font": {
           "color": "#2a3f5f"
          },
          "geo": {
           "bgcolor": "white",
           "lakecolor": "white",
           "landcolor": "#E5ECF6",
           "showlakes": true,
           "showland": true,
           "subunitcolor": "white"
          },
          "hoverlabel": {
           "align": "left"
          },
          "hovermode": "closest",
          "mapbox": {
           "style": "light"
          },
          "paper_bgcolor": "white",
          "plot_bgcolor": "#E5ECF6",
          "polar": {
           "angularaxis": {
            "gridcolor": "white",
            "linecolor": "white",
            "ticks": ""
           },
           "bgcolor": "#E5ECF6",
           "radialaxis": {
            "gridcolor": "white",
            "linecolor": "white",
            "ticks": ""
           }
          },
          "scene": {
           "xaxis": {
            "backgroundcolor": "#E5ECF6",
            "gridcolor": "white",
            "gridwidth": 2,
            "linecolor": "white",
            "showbackground": true,
            "ticks": "",
            "zerolinecolor": "white"
           },
           "yaxis": {
            "backgroundcolor": "#E5ECF6",
            "gridcolor": "white",
            "gridwidth": 2,
            "linecolor": "white",
            "showbackground": true,
            "ticks": "",
            "zerolinecolor": "white"
           },
           "zaxis": {
            "backgroundcolor": "#E5ECF6",
            "gridcolor": "white",
            "gridwidth": 2,
            "linecolor": "white",
            "showbackground": true,
            "ticks": "",
            "zerolinecolor": "white"
           }
          },
          "shapedefaults": {
           "line": {
            "color": "#2a3f5f"
           }
          },
          "ternary": {
           "aaxis": {
            "gridcolor": "white",
            "linecolor": "white",
            "ticks": ""
           },
           "baxis": {
            "gridcolor": "white",
            "linecolor": "white",
            "ticks": ""
           },
           "bgcolor": "#E5ECF6",
           "caxis": {
            "gridcolor": "white",
            "linecolor": "white",
            "ticks": ""
           }
          },
          "title": {
           "x": 0.05
          },
          "xaxis": {
           "automargin": true,
           "gridcolor": "white",
           "linecolor": "white",
           "ticks": "",
           "title": {
            "standoff": 15
           },
           "zerolinecolor": "white",
           "zerolinewidth": 2
          },
          "yaxis": {
           "automargin": true,
           "gridcolor": "white",
           "linecolor": "white",
           "ticks": "",
           "title": {
            "standoff": 15
           },
           "zerolinecolor": "white",
           "zerolinewidth": 2
          }
         }
        },
        "title": {
         "text": "City Locations with Nearest Hotels"
        }
       }
      },
      "image/png": "[encoded data removed]",
      "text/html": [
       "<div>                            <div id=\"a0eb9abc-8bd6-4066-91aa-5a3d9418cf53\" class=\"plotly-graph-div\" style=\"height:525px; width:100%;\"></div>            <script type=\"text/javascript\">                require([\"plotly\"], function(Plotly) {                    window.PLOTLYENV=window.PLOTLYENV || {};                                    if (document.getElementById(\"a0eb9abc-8bd6-4066-91aa-5a3d9418cf53\")) {                    Plotly.newPlot(                        \"a0eb9abc-8bd6-4066-91aa-5a3d9418cf53\",                        [{\"customdata\":[[\"YT\",\"No hotel found\",26.88,78],[\"US\",\"No hotel found\",26.74,79],[\"GH\",\"No hotel found\",25.16,16],[\"PE\",\"No hotel found\",22.16,73],[\"BS\",\"No hotel found\",23.41,83],[\"US\",\"No hotel found\",22.63,16],[\"MX\",\"No hotel found\",26.6,10],[\"US\",\"No hotel found\",25.5,19],[\"CI\",\"No hotel found\",21.95,19],[\"US\",\"No hotel found\",23.72,49],[\"US\",\"No hotel found\",22.16,30],[\"BF\",\"No hotel found\",24.17,17]],\"geo\":\"geo\",\"hovertemplate\":\"\\u003cb\\u003e%{hovertext}\\u003c\\u002fb\\u003e\\u003cbr\\u003e\\u003cbr\\u003eLat=%{lat}\\u003cbr\\u003eLng=%{lon}\\u003cbr\\u003eCountry=%{customdata[0]}\\u003cbr\\u003eHotel Name=%{customdata[1]}\\u003cbr\\u003eMax Temp=%{customdata[2]}\\u003cbr\\u003eHumidity=%{customdata[3]}\\u003cextra\\u003e\\u003c\\u002fextra\\u003e\",\"hovertext\":[\"pamandzi\",\"wailua homesteads\",\"tamale\",\"callao\",\"cooper's town\",\"sierra vista southeast\",\"heroica caborca\",\"alpine\",\"korhogo\",\"lake city\",\"laredo\",\"batie\"],\"lat\":[-12.7967,22.0669,9.4008,-12.0667,26.8667,31.4539,30.7167,32.835,9.45,30.1897,27.5064,9.8833],\"legendgroup\":\"\",\"lon\":[45.2794,-159.378,-0.8393,-77.15,-77.5167,-110.2164,-112.15,-116.7664,-5.6333,-82.6393,-99.5075,-2.9167],\"marker\":{\"color\":\"#636efa\",\"symbol\":\"circle\"},\"mode\":\"markers\",\"name\":\"\",\"showlegend\":false,\"type\":\"scattergeo\"}],                        {\"template\":{\"data\":{\"histogram2dcontour\":[{\"type\":\"histogram2dcontour\",\"colorbar\":{\"outlinewidth\":0,\"ticks\":\"\"},\"colorscale\":[[0.0,\"#0d0887\"],[0.1111111111111111,\"#46039f\"],[0.2222222222222222,\"#7201a8\"],[0.3333333333333333,\"#9c179e\"],[0.4444444444444444,\"#bd3786\"],[0.5555555555555556,\"#d8576b\"],[0.6666666666666666,\"#ed7953\"],[0.7777777777777778,\"#fb9f3a\"],[0.8888888888888888,\"#fdca26\"],[1.0,\"#f0f921\"]]}],\"choropleth\":[{\"type\":\"choropleth\",\"colorbar\":{\"outlinewidth\":0,\"ticks\":\"\"}}],\"histogram2d\":[{\"type\":\"histogram2d\",\"colorbar\":{\"outlinewidth\":0,\"ticks\":\"\"},\"colorscale\":[[0.0,\"#0d0887\"],[0.1111111111111111,\"#46039f\"],[0.2222222222222222,\"#7201a8\"],[0.3333333333333333,\"#9c179e\"],[0.4444444444444444,\"#bd3786\"],[0.5555555555555556,\"#d8576b\"],[0.6666666666666666,\"#ed7953\"],[0.7777777777777778,\"#fb9f3a\"],[0.8888888888888888,\"#fdca26\"],[1.0,\"#f0f921\"]]}],\"heatmap\":[{\"type\":\"heatmap\",\"colorbar\":{\"outlinewidth\":0,\"ticks\":\"\"},\"colorscale\":[[0.0,\"#0d0887\"],[0.1111111111111111,\"#46039f\"],[0.2222222222222222,\"#7201a8\"],[0.3333333333333333,\"#9c179e\"],[0.4444444444444444,\"#bd3786\"],[0.5555555555555556,\"#d8576b\"],[0.6666666666666666,\"#ed7953\"],[0.7777777777777778,\"#fb9f3a\"],[0.8888888888888888,\"#fdca26\"],[1.0,\"#f0f921\"]]}],\"heatmapgl\":[{\"type\":\"heatmapgl\",\"colorbar\":{\"outlinewidth\":0,\"ticks\":\"\"},\"colorscale\":[[0.0,\"#0d0887\"],[0.1111111111111111,\"#46039f\"],[0.2222222222222222,\"#7201a8\"],[0.3333333333333333,\"#9c179e\"],[0.4444444444444444,\"#bd3786\"],[0.5555555555555556,\"#d8576b\"],[0.6666666666666666,\"#ed7953\"],[0.7777777777777778,\"#fb9f3a\"],[0.8888888888888888,\"#fdca26\"],[1.0,\"#f0f921\"]]}],\"contourcarpet\":[{\"type\":\"contourcarpet\",\"colorbar\":{\"outlinewidth\":0,\"ticks\":\"\"}}],\"contour\":[{\"type\":\"contour\",\"colorbar\":{\"outlinewidth\":0,\"ticks\":\"\"},\"colorscale\":[[0.0,\"#0d0887\"],[0.1111111111111111,\"#46039f\"],[0.2222222222222222,\"#7201a8\"],[0.3333333333333333,\"#9c179e\"],[0.4444444444444444,\"#bd3786\"],[0.5555555555555556,\"#d8576b\"],[0.6666666666666666,\"#ed7953\"],[0.7777777777777778,\"#fb9f3a\"],[0.8888888888888888,\"#fdca26\"],[1.0,\"#f0f921\"]]}],\"surface\":[{\"type\":\"surface\",\"colorbar\":{\"outlinewidth\":0,\"ticks\":\"\"},\"colorscale\":[[0.0,\"#0d0887\"],[0.1111111111111111,\"#46039f\"],[0.2222222222222222,\"#7201a8\"],[0.3333333333333333,\"#9c179e\"],[0.4444444444444444,\"#bd3786\"],[0.5555555555555556,\"#d8576b\"],[0.6666666666666666,\"#ed7953\"],[0.7777777777777778,\"#fb9f3a\"],[0.8888888888888888,\"#fdca26\"],[1.0,\"#f0f921\"]]}],\"mesh3d\":[{\"type\":\"mesh3d\",\"colorbar\":{\"outlinewidth\":0,\"ticks\":\"\"}}],\"scatter\":[{\"fillpattern\":{\"fillmode\":\"overlay\",\"size\":10,\"solidity\":0.2},\"type\":\"scatter\"}],\"parcoords\":[{\"type\":\"parcoords\",\"line\":{\"colorbar\":{\"outlinewidth\":0,\"ticks\":\"\"}}}],\"scatterpolargl\":[{\"type\":\"scatterpolargl\",\"marker\":{\"colorbar\":{\"outlinewidth\":0,\"ticks\":\"\"}}}],\"bar\":[{\"error_x\":{\"color\":\"#2a3f5f\"},\"error_y\":{\"color\":\"#2a3f5f\"},\"marker\":{\"line\":{\"color\":\"#E5ECF6\",\"width\":0.5},\"pattern\":{\"fillmode\":\"overlay\",\"size\":10,\"solidity\":0.2}},\"type\":\"bar\"}],\"scattergeo\":[{\"type\":\"scattergeo\",\"marker\":{\"colorbar\":{\"outlinewidth\":0,\"ticks\":\"\"}}}],\"scatterpolar\":[{\"type\":\"scatterpolar\",\"marker\":{\"colorbar\":{\"outlinewidth\":0,\"ticks\":\"\"}}}],\"histogram\":[{\"marker\":{\"pattern\":{\"fillmode\":\"overlay\",\"size\":10,\"solidity\":0.2}},\"type\":\"histogram\"}],\"scattergl\":[{\"type\":\"scattergl\",\"marker\":{\"colorbar\":{\"outlinewidth\":0,\"ticks\":\"\"}}}],\"scatter3d\":[{\"type\":\"scatter3d\",\"line\":{\"colorbar\":{\"outlinewidth\":0,\"ticks\":\"\"}},\"marker\":{\"colorbar\":{\"outlinewidth\":0,\"ticks\":\"\"}}}],\"scattermapbox\":[{\"type\":\"scattermapbox\",\"marker\":{\"colorbar\":{\"outlinewidth\":0,\"ticks\":\"\"}}}],\"scatterternary\":[{\"type\":\"scatterternary\",\"marker\":{\"colorbar\":{\"outlinewidth\":0,\"ticks\":\"\"}}}],\"scattercarpet\":[{\"type\":\"scattercarpet\",\"marker\":{\"colorbar\":{\"outlinewidth\":0,\"ticks\":\"\"}}}],\"carpet\":[{\"aaxis\":{\"endlinecolor\":\"#2a3f5f\",\"gridcolor\":\"white\",\"linecolor\":\"white\",\"minorgridcolor\":\"white\",\"startlinecolor\":\"#2a3f5f\"},\"baxis\":{\"endlinecolor\":\"#2a3f5f\",\"gridcolor\":\"white\",\"linecolor\":\"white\",\"minorgridcolor\":\"white\",\"startlinecolor\":\"#2a3f5f\"},\"type\":\"carpet\"}],\"table\":[{\"cells\":{\"fill\":{\"color\":\"#EBF0F8\"},\"line\":{\"color\":\"white\"}},\"header\":{\"fill\":{\"color\":\"#C8D4E3\"},\"line\":{\"color\":\"white\"}},\"type\":\"table\"}],\"barpolar\":[{\"marker\":{\"line\":{\"color\":\"#E5ECF6\",\"width\":0.5},\"pattern\":{\"fillmode\":\"overlay\",\"size\":10,\"solidity\":0.2}},\"type\":\"barpolar\"}],\"pie\":[{\"automargin\":true,\"type\":\"pie\"}]},\"layout\":{\"autotypenumbers\":\"strict\",\"colorway\":[\"#636efa\",\"#EF553B\",\"#00cc96\",\"#ab63fa\",\"#FFA15A\",\"#19d3f3\",\"#FF6692\",\"#B6E880\",\"#FF97FF\",\"#FECB52\"],\"font\":{\"color\":\"#2a3f5f\"},\"hovermode\":\"closest\",\"hoverlabel\":{\"align\":\"left\"},\"paper_bgcolor\":\"white\",\"plot_bgcolor\":\"#E5ECF6\",\"polar\":{\"bgcolor\":\"#E5ECF6\",\"angularaxis\":{\"gridcolor\":\"white\",\"linecolor\":\"white\",\"ticks\":\"\"},\"radialaxis\":{\"gridcolor\":\"white\",\"linecolor\":\"white\",\"ticks\":\"\"}},\"ternary\":{\"bgcolor\":\"#E5ECF6\",\"aaxis\":{\"gridcolor\":\"white\",\"linecolor\":\"white\",\"ticks\":\"\"},\"baxis\":{\"gridcolor\":\"white\",\"linecolor\":\"white\",\"ticks\":\"\"},\"caxis\":{\"gridcolor\":\"white\",\"linecolor\":\"white\",\"ticks\":\"\"}},\"coloraxis\":{\"colorbar\":{\"outlinewidth\":0,\"ticks\":\"\"}},\"colorscale\":{\"sequential\":[[0.0,\"#0d0887\"],[0.1111111111111111,\"#46039f\"],[0.2222222222222222,\"#7201a8\"],[0.3333333333333333,\"#9c179e\"],[0.4444444444444444,\"#bd3786\"],[0.5555555555555556,\"#d8576b\"],[0.6666666666666666,\"#ed7953\"],[0.7777777777777778,\"#fb9f3a\"],[0.8888888888888888,\"#fdca26\"],[1.0,\"#f0f921\"]],\"sequentialminus\":[[0.0,\"#0d0887\"],[0.1111111111111111,\"#46039f\"],[0.2222222222222222,\"#7201a8\"],[0.3333333333333333,\"#9c179e\"],[0.4444444444444444,\"#bd3786\"],[0.5555555555555556,\"#d8576b\"],[0.6666666666666666,\"#ed7953\"],[0.7777777777777778,\"#fb9f3a\"],[0.8888888888888888,\"#fdca26\"],[1.0,\"#f0f921\"]],\"diverging\":[[0,\"#8e0152\"],[0.1,\"#c51b7d\"],[0.2,\"#de77ae\"],[0.3,\"#f1b6da\"],[0.4,\"#fde0ef\"],[0.5,\"#f7f7f7\"],[0.6,\"#e6f5d0\"],[0.7,\"#b8e186\"],[0.8,\"#7fbc41\"],[0.9,\"#4d9221\"],[1,\"#276419\"]]},\"xaxis\":{\"gridcolor\":\"white\",\"linecolor\":\"white\",\"ticks\":\"\",\"title\":{\"standoff\":15},\"zerolinecolor\":\"white\",\"automargin\":true,\"zerolinewidth\":2},\"yaxis\":{\"gridcolor\":\"white\",\"linecolor\":\"white\",\"ticks\":\"\",\"title\":{\"standoff\":15},\"zerolinecolor\":\"white\",\"automargin\":true,\"zerolinewidth\":2},\"scene\":{\"xaxis\":{\"backgroundcolor\":\"#E5ECF6\",\"gridcolor\":\"white\",\"linecolor\":\"white\",\"showbackground\":true,\"ticks\":\"\",\"zerolinecolor\":\"white\",\"gridwidth\":2},\"yaxis\":{\"backgroundcolor\":\"#E5ECF6\",\"gridcolor\":\"white\",\"linecolor\":\"white\",\"showbackground\":true,\"ticks\":\"\",\"zerolinecolor\":\"white\",\"gridwidth\":2},\"zaxis\":{\"backgroundcolor\":\"#E5ECF6\",\"gridcolor\":\"white\",\"linecolor\":\"white\",\"showbackground\":true,\"ticks\":\"\",\"zerolinecolor\":\"white\",\"gridwidth\":2}},\"shapedefaults\":{\"line\":{\"color\":\"#2a3f5f\"}},\"annotationdefaults\":{\"arrowcolor\":\"#2a3f5f\",\"arrowhead\":0,\"arrowwidth\":1},\"geo\":{\"bgcolor\":\"white\",\"landcolor\":\"#E5ECF6\",\"subunitcolor\":\"white\",\"showland\":true,\"showlakes\":true,\"lakecolor\":\"white\"},\"title\":{\"x\":0.05},\"mapbox\":{\"style\":\"light\"}}},\"geo\":{\"domain\":{\"x\":[0.0,1.0],\"y\":[0.0,1.0]},\"center\":{}},\"legend\":{\"tracegroupgap\":0},\"title\":{\"text\":\"City Locations with Nearest Hotels\"}},                        {\"responsive\": true}                    ).then(function(){\n",
       "                            \n",
       "var gd = document.getElementById('a0eb9abc-8bd6-4066-91aa-5a3d9418cf53');\n",
       "var x = new MutationObserver(function (mutations, observer) {{\n",
       "        var display = window.getComputedStyle(gd).display;\n",
       "        if (!display || display === 'none') {{\n",
       "            console.log([gd, 'removed!']);\n",
       "            Plotly.purge(gd);\n",
       "            observer.disconnect();\n",
       "        }}\n",
       "}});\n",
       "\n",
       "// Listen for the removal of the full notebook cells\n",
       "var notebookContainer = gd.closest('#notebook-container');\n",
       "if (notebookContainer) {{\n",
       "    x.observe(notebookContainer, {childList: true});\n",
       "}}\n",
       "\n",
       "// Listen for the clearing of the current output cell\n",
       "var outputEl = gd.closest('.output');\n",
       "if (outputEl) {{\n",
       "    x.observe(outputEl, {childList: true});\n",
       "}}\n",
       "\n",
       "                        })                };                });            </script>        </div>"
      ]
     },
     "metadata": {},
     "output_type": "display_data"
    }
   ],
   "source": [
    "%%capture --no-display\n",
    "\n",
    "# Configure the map plot\n",
    "fig = px.scatter_geo(\n",
    "    filtered_city_data_df,\n",
    "    lat='Lat',\n",
    "    lon='Lng',\n",
    "    hover_name='City',\n",
    "    hover_data={\n",
    "        'Country': True,  \n",
    "        'Hotel Name': hotel_df['Hotel Name'], \n",
    "        'Max Temp': True,  \n",
    "        'Humidity': True,   \n",
    "    },\n",
    "    title='City Locations with Nearest Hotels',\n",
    "    template='plotly',\n",
    ")\n",
    "\n",
    "\n",
    "# Display the map\n",
    "fig.show()"
   ]
  },
  {
   "cell_type": "code",
   "execution_count": null,
   "metadata": {},
   "outputs": [],
   "source": []
  },
  {
   "cell_type": "code",
   "execution_count": null,
   "metadata": {},
   "outputs": [],
   "source": []
  },
  {
   "cell_type": "code",
   "execution_count": null,
   "metadata": {},
   "outputs": [],
   "source": []
  },
  {
   "cell_type": "code",
   "execution_count": null,
   "metadata": {},
   "outputs": [],
   "source": []
  }
 ],
 "metadata": {
  "kernelspec": {
   "display_name": "Python 3 (ipykernel)",
   "language": "python",
   "name": "python3"
  },
  "language_info": {
   "codemirror_mode": {
    "name": "ipython",
    "version": 3
   },
   "file_extension": ".py",
   "mimetype": "text/x-python",
   "name": "python",
   "nbconvert_exporter": "python",
   "pygments_lexer": "ipython3",
   "version": "3.12.2"
  },
  "latex_envs": {
   "LaTeX_envs_menu_present": true,
   "autoclose": false,
   "autocomplete": true,
   "bibliofile": "biblio.bib",
   "cite_by": "apalike",
   "current_citInitial": 1,
   "eqLabelWithNumbers": true,
   "eqNumInitial": 1,
   "hotkeys": {
    "equation": "Ctrl-E",
    "itemize": "Ctrl-I"
   },
   "labels_anchors": false,
   "latex_user_defs": false,
   "report_style_numbering": false,
   "user_envs_cfg": false
  }
 },
 "nbformat": 4,
 "nbformat_minor": 4
}
